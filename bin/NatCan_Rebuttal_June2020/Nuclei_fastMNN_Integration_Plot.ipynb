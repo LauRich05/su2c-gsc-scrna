{
 "cells": [
  {
   "cell_type": "markdown",
   "metadata": {},
   "source": [
    "----\n",
    "# Nuclei Integration with fastMNN\n",
    "----\n",
    "\n",
    "Ran fastMNN on nuclei and live cell cohorts using live/nuclei as batches to correct for. "
   ]
  },
  {
   "cell_type": "code",
   "execution_count": 5,
   "metadata": {
    "collapsed": true
   },
   "outputs": [],
   "source": [
    "library(ggplot2)\n",
    "library(ggpubr)\n",
    "library(gridExtra)"
   ]
  },
  {
   "cell_type": "markdown",
   "metadata": {},
   "source": [
    "---\n",
    "## 1.0 Plot Gradient with fastMNN correction \n",
    "---\n",
    "\n",
    "Do we see Developmental-Injury Response transcriptional gradient?"
   ]
  },
  {
   "cell_type": "code",
   "execution_count": null,
   "metadata": {
    "collapsed": true
   },
   "outputs": [],
   "source": [
    "mnn <- readRDS(\"~/Desktop/H4H/pughlab/projects/BTSCs_scRNAseq/Manuscript_G607removed/NatCan_Rebuttal/Nuclei_integration/fastmnn/GSCs_Tumour_LiveNuclei_fastMNN_meta.rds\")"
   ]
  },
  {
   "cell_type": "code",
   "execution_count": null,
   "metadata": {
    "collapsed": true
   },
   "outputs": [],
   "source": [
    "mnn$SampleTech <- paste(mnn$SampleType, mnn$Technology, sep = \"_\")"
   ]
  },
  {
   "cell_type": "code",
   "execution_count": null,
   "metadata": {},
   "outputs": [],
   "source": [
    "ggscatterhist(mnn, \n",
    "              x = \"Developmental_GSC_AUC\", \n",
    "              y = \"InjuryResponse_GSC_AUC\",\n",
    "              palette = c(\"#225ea8\", \"black\", \"darkred\"), \n",
    "              color = \"SampleTech\",\n",
    "              size = 0.5,\n",
    "              alpha = 0.1,\n",
    "              #ellipse = TRUE, \n",
    "              #ellipse.type = \"confidence\",\n",
    "              margin.params = list(fill = \"SampleTech\", color = \"black\", size = 0.2),\n",
    "              ggtheme = theme_classic(),\n",
    "              #ellipse.alpha = 0\n",
    "              #ylim = c(0.1,0.45),\n",
    "              #xlim = c(0.05,0.4)\n",
    "             ) "
   ]
  },
  {
   "cell_type": "markdown",
   "metadata": {},
   "source": [
    "### Scale the scores within each cohort (GSCs, tumour, nuclei)"
   ]
  },
  {
   "cell_type": "code",
   "execution_count": null,
   "metadata": {
    "collapsed": true
   },
   "outputs": [],
   "source": [
    "GSCs <- scale(mnn[mnn$SampleTech == \"GSC_LiveCell\", ]$Developmental_GSC_AUC)\n",
    "Tumours <- scale(mnn[mnn$SampleTech == \"Tumour_LiveCell\", ]$Developmental_GSC_AUC)\n",
    "Nuclei <- scale(mnn[mnn$SampleTech == \"Tumour_Nuclei\", ]$Developmental_GSC_AUC)\n",
    "mnn$Developmental_cohort_z <- c(GSCs, Tumours, Nuclei)"
   ]
  },
  {
   "cell_type": "code",
   "execution_count": null,
   "metadata": {
    "collapsed": true
   },
   "outputs": [],
   "source": [
    "GSCs <- scale(mnn[mnn$SampleTech == \"GSC_LiveCell\", ]$InjuryResponse_GSC_AUC)\n",
    "Tumours <- scale(mnn[mnn$SampleTech == \"Tumour_LiveCell\", ]$InjuryResponse_GSC_AUC)\n",
    "Nuclei <- scale(mnn[mnn$SampleTech == \"Tumour_Nuclei\", ]$InjuryResponse_GSC_AUC)\n",
    "mnn$InjuryResponse_cohort_z <- c(GSCs, Tumours, Nuclei)"
   ]
  },
  {
   "cell_type": "code",
   "execution_count": null,
   "metadata": {},
   "outputs": [],
   "source": [
    "ggscatterhist(mnn, \n",
    "              x = \"Developmental_cohort_z\", \n",
    "              y = \"InjuryResponse_cohort_z\",\n",
    "              palette = c(\"#225ea8\", \"black\", \"darkred\"), \n",
    "              color = \"SampleTech\",\n",
    "              size = 0.5,\n",
    "              alpha = 0.1,\n",
    "              #ellipse = TRUE, \n",
    "              #ellipse.type = \"confidence\",\n",
    "              margin.params = list(fill = \"SampleTech\", color = \"black\", size = 0.2),\n",
    "              ggtheme = theme_classic(),\n",
    "              #ellipse.alpha = 0\n",
    "              #ylim = c(0.1,0.45),\n",
    "              #xlim = c(0.05,0.4)\n",
    "             ) "
   ]
  },
  {
   "cell_type": "code",
   "execution_count": null,
   "metadata": {
    "collapsed": true
   },
   "outputs": [],
   "source": []
  },
  {
   "cell_type": "code",
   "execution_count": null,
   "metadata": {
    "collapsed": true
   },
   "outputs": [],
   "source": []
  },
  {
   "cell_type": "code",
   "execution_count": null,
   "metadata": {
    "collapsed": true
   },
   "outputs": [],
   "source": []
  },
  {
   "cell_type": "markdown",
   "metadata": {
    "collapsed": true
   },
   "source": [
    "---\n",
    "## 2.0 Plot PCA (but really mnn components)\n",
    "---\n",
    "\n",
    "Do we see better overlap between samples"
   ]
  },
  {
   "cell_type": "code",
   "execution_count": null,
   "metadata": {},
   "outputs": [],
   "source": [
    "ggscatterhist(mnn, \n",
    "              x = \"mnn_1\", \n",
    "              y = \"mnn_2\",\n",
    "              palette = c(\"#225ea8\", \"black\", \"darkred\"), \n",
    "              color = \"SampleTech\",\n",
    "              size = 0.5,\n",
    "              alpha = 0.1,\n",
    "              #ellipse = TRUE, \n",
    "              #ellipse.type = \"confidence\",\n",
    "              margin.params = list(fill = \"SampleTech\", color = \"black\", size = 0.2),\n",
    "              ggtheme = theme_classic(),\n",
    "              #ellipse.alpha = 0\n",
    "              #ylim = c(0.1,0.45),\n",
    "              #xlim = c(0.05,0.4)\n",
    "             ) \n",
    "\n",
    "\n",
    "ggscatterhist(mnn, \n",
    "              x = \"mnn_2\", \n",
    "              y = \"mnn_3\",\n",
    "              palette = c(\"#225ea8\", \"black\", \"darkred\"), \n",
    "              color = \"SampleTech\",\n",
    "              size = 0.5,\n",
    "              alpha = 0.1,\n",
    "              #ellipse = TRUE, \n",
    "              #ellipse.type = \"confidence\",\n",
    "              margin.params = list(fill = \"SampleTech\", color = \"black\", size = 0.2),\n",
    "              ggtheme = theme_classic(),\n",
    "              #ellipse.alpha = 0\n",
    "              #ylim = c(0.1,0.45),\n",
    "              #xlim = c(0.05,0.4)\n",
    "             ) "
   ]
  },
  {
   "cell_type": "code",
   "execution_count": null,
   "metadata": {},
   "outputs": [],
   "source": [
    "ggscatterhist(mnn, \n",
    "              x = \"mnn_2\", \n",
    "              y = \"mnn_3\",\n",
    "              #palette = \"RdBu\", \n",
    "              color = \"Developmental_GSC_AUC\",\n",
    "              size = 0.5,\n",
    "              alpha = 0.1,\n",
    "              #ellipse = TRUE, \n",
    "              #ellipse.type = \"confidence\",\n",
    "              margin.params = list(fill = \"SampleTech\", color = \"black\", palette =c(\"#225ea8\", \"black\", \"darkred\"), size = 0.2),\n",
    "              ggtheme = theme_classic(),\n",
    "              #ellipse.alpha = 0\n",
    "              #ylim = c(0.1,0.45),\n",
    "              #xlim = c(0.05,0.4)\n",
    "             ) "
   ]
  },
  {
   "cell_type": "markdown",
   "metadata": {
    "collapsed": true
   },
   "source": [
    "---\n",
    "## 4.0 Plot gradient WITH scaled but WITHOUT fastMNN correction\n",
    "---"
   ]
  },
  {
   "cell_type": "code",
   "execution_count": null,
   "metadata": {
    "collapsed": true
   },
   "outputs": [],
   "source": [
    "mnn <- readRDS(\"~/Desktop/H4H/pughlab/projects/BTSCs_scRNAseq/Manuscript_G607removed/NatCan_Rebuttal/Nuclei_integration/fastmnn/GSCs_Tumour_LiveNuclei_fastMNN_meta.rds\")\n",
    "mnn$SampleTech <- paste(mnn$SampleType, mnn$Technology, sep = \"_\")"
   ]
  },
  {
   "cell_type": "code",
   "execution_count": null,
   "metadata": {
    "collapsed": true
   },
   "outputs": [],
   "source": [
    "##scale scores within cohorts\n",
    "GSCs <- scale(mnn[mnn$SampleTech == \"GSC_LiveCell\", ]$Developmental_AUC)\n",
    "Tumours <- scale(mnn[mnn$SampleTech == \"Tumour_LiveCell\", ]$Developmental_AUC)\n",
    "Nuclei <- scale(mnn[mnn$SampleTech == \"Tumour_Nuclei\", ]$Developmental_AUC)\n",
    "mnn$Developmental_cohort_z <- c(GSCs, Tumours, Nuclei)\n",
    "\n",
    "GSCs <- scale(mnn[mnn$SampleTech == \"GSC_LiveCell\", ]$InjuryResponse_AUC)\n",
    "Tumours <- scale(mnn[mnn$SampleTech == \"Tumour_LiveCell\", ]$InjuryResponse_AUC)\n",
    "Nuclei <- scale(mnn[mnn$SampleTech == \"Tumour_Nuclei\", ]$InjuryResponse_AUC)\n",
    "mnn$InjuryResponse_cohort_z <- c(GSCs, Tumours, Nuclei)"
   ]
  },
  {
   "cell_type": "code",
   "execution_count": null,
   "metadata": {},
   "outputs": [],
   "source": [
    "gsc <- mnn[mnn$SampleTech == \"GSC_LiveCell\", ]\n",
    "tum <- mnn[mnn$SampleTech == \"Tumour_LiveCell\", ]\n",
    "nuc <- mnn[mnn$SampleTech == \"Tumour_Nuclei\", ]\n",
    "\n",
    "## all samples\n",
    "a <- ggscatterhist(mnn, \n",
    "              x = \"Developmental_cohort_z\", \n",
    "              y = \"InjuryResponse_cohort_z\",\n",
    "              palette = c(\"#225ea8\", \"black\", \"darkred\"), \n",
    "              color = \"SampleTech\",\n",
    "              xlab = \"Scaled Developmental Program Score (AUC; z-score)\",\n",
    "              ylab = \"Scaled Injury Response Program Score (AUC; z-score)\",\n",
    "              size = 0.5,\n",
    "              alpha = 0.1,\n",
    "              margin.params = list(fill = \"SampleTech\", color = \"black\", size = 0.2),\n",
    "              ggtheme = theme_classic(),\n",
    "              legend = \"none\",\n",
    "              xlim = c(-5,5),\n",
    "              ylim = c(-2.5,6)\n",
    "             ) \n",
    "\n",
    "## GSCs\n",
    "b <- ggscatterhist(gsc, \n",
    "              x = \"Developmental_cohort_z\", \n",
    "              y = \"InjuryResponse_cohort_z\",\n",
    "              palette = c(\"#225ea8\"), \n",
    "              color = \"SampleTech\",\n",
    "              xlab = \"Scaled Developmental Program Score (AUC; z-score)\",\n",
    "              ylab = \"Scaled Injury Response Program Score (AUC; z-score)\",\n",
    "              size = 0.5,\n",
    "              alpha = 0.2,\n",
    "              margin.params = list(fill = \"SampleTech\", color = \"black\", size = 0.2),\n",
    "              ggtheme = theme_classic(),\n",
    "              legend = \"none\",\n",
    "              #font.label = c(14, \"bold\", \"black\"),\n",
    "              xlim = c(-5,5),\n",
    "              ylim = c(-2.5,6)\n",
    "             ) \n",
    "\n",
    "c <- ggscatterhist(tum, \n",
    "              x = \"Developmental_cohort_z\", \n",
    "              y = \"InjuryResponse_cohort_z\",\n",
    "              palette = c(\"black\"), \n",
    "              color = \"SampleTech\",\n",
    "              xlab = \"Scaled Developmental Program Score (AUC; z-score)\",\n",
    "              ylab = \"Scaled Injury Response Program Score (AUC; z-score)\",\n",
    "              size = 0.5,\n",
    "              alpha = 0.2,\n",
    "              margin.params = list(fill = \"SampleTech\", color = \"black\", size = 0.2),\n",
    "              ggtheme = theme_classic(),\n",
    "              legend = \"none\",\n",
    "              font.label = c(14, \"bold\", \"black\"),\n",
    "              xlim = c(-5,5),\n",
    "              ylim = c(-2.5,6)\n",
    "             ) \n",
    "\n",
    "d <- ggscatterhist(nuc, \n",
    "              x = \"Developmental_cohort_z\", \n",
    "              y = \"InjuryResponse_cohort_z\",\n",
    "              palette = c(\"darkred\"), \n",
    "              color = \"SampleTech\",\n",
    "              xlab = \"Scaled Developmental Program Score (AUC; z-score)\",\n",
    "              ylab = \"Scaled Injury Response Program Score (AUC; z-score)\",\n",
    "              size = 0.5,\n",
    "              alpha = 0.2,\n",
    "              margin.params = list(fill = \"SampleTech\", color = \"black\", size = 0.2),\n",
    "              ggtheme = theme_classic(),\n",
    "              legend = \"none\",\n",
    "              xlim = c(-5,5),\n",
    "              ylim = c(-2.5,6)\n",
    "             ) "
   ]
  },
  {
   "cell_type": "code",
   "execution_count": null,
   "metadata": {},
   "outputs": [],
   "source": [
    "pdf(file = \"~/Desktop/Nuclei_Gradient_Scaled.pdf\", width = 5, height = 5)\n",
    "a\n",
    "b\n",
    "c\n",
    "d\n",
    "dev.off()"
   ]
  },
  {
   "cell_type": "markdown",
   "metadata": {
    "collapsed": true
   },
   "source": [
    "---\n",
    "## 5.0 Correlate rank between z-score and unscaled\n",
    "---"
   ]
  },
  {
   "cell_type": "code",
   "execution_count": null,
   "metadata": {},
   "outputs": [],
   "source": [
    "cor(gsc$Developmental_AUC, gsc$Developmental_cohort_z, method = \"pearson\")"
   ]
  },
  {
   "cell_type": "code",
   "execution_count": null,
   "metadata": {},
   "outputs": [],
   "source": [
    "cor(mnn$Developmental_AUC, mnn$Developmental_cohort_z)"
   ]
  },
  {
   "cell_type": "markdown",
   "metadata": {
    "collapsed": true
   },
   "source": [
    "---\n",
    "## 6.0 Plot each tumour on own\n",
    "---"
   ]
  },
  {
   "cell_type": "code",
   "execution_count": 1,
   "metadata": {
    "collapsed": true
   },
   "outputs": [],
   "source": [
    "mnn <- readRDS(\"~/Desktop/H4H/pughlab/projects/BTSCs_scRNAseq/Manuscript_G607removed/NatCan_Rebuttal/Nuclei_integration/fastmnn/GSCs_Tumour_LiveNuclei_fastMNN_meta.rds\")\n",
    "mnn$SampleTech <- paste(mnn$SampleType, mnn$Technology, sep = \"_\")"
   ]
  },
  {
   "cell_type": "code",
   "execution_count": 2,
   "metadata": {
    "collapsed": true
   },
   "outputs": [],
   "source": [
    "##scale scores within cohorts\n",
    "GSCs <- scale(mnn[mnn$SampleTech == \"GSC_LiveCell\", ]$Developmental_AUC)\n",
    "Tumours <- scale(mnn[mnn$SampleTech == \"Tumour_LiveCell\", ]$Developmental_AUC)\n",
    "Nuclei <- scale(mnn[mnn$SampleTech == \"Tumour_Nuclei\", ]$Developmental_AUC)\n",
    "mnn$Developmental_cohort_z <- c(GSCs, Tumours, Nuclei)\n",
    "\n",
    "GSCs <- scale(mnn[mnn$SampleTech == \"GSC_LiveCell\", ]$InjuryResponse_AUC)\n",
    "Tumours <- scale(mnn[mnn$SampleTech == \"Tumour_LiveCell\", ]$InjuryResponse_AUC)\n",
    "Nuclei <- scale(mnn[mnn$SampleTech == \"Tumour_Nuclei\", ]$InjuryResponse_AUC)\n",
    "mnn$InjuryResponse_cohort_z <- c(GSCs, Tumours, Nuclei)"
   ]
  },
  {
   "cell_type": "code",
   "execution_count": 3,
   "metadata": {},
   "outputs": [
    {
     "data": {
      "text/plain": [
       "\n",
       "#225ea8   black darkred \n",
       "  65655   14207   42334 "
      ]
     },
     "metadata": {},
     "output_type": "display_data"
    }
   ],
   "source": [
    "mnn$Color <- gsub(\"GSC_LiveCell\",\"#225ea8\",  mnn$SampleTech)\n",
    "mnn$Color <- gsub(\"Tumour_LiveCell\",\"black\",  mnn$Color)\n",
    "mnn$Color <- gsub(\"Tumour_Nuclei\", \"darkred\", mnn$Color)\n",
    "table(mnn$Color)"
   ]
  },
  {
   "cell_type": "code",
   "execution_count": 8,
   "metadata": {},
   "outputs": [
    {
     "name": "stdout",
     "output_type": "stream",
     "text": [
      "[1] \"BT127_L\"\n",
      "[1] \"BT147_L\"\n",
      "[1] \"BT48_L\"\n",
      "[1] \"BT67_L\"\n",
      "[1] \"BT73_L\"\n",
      "[1] \"BT84_L\"\n",
      "[1] \"BT89_L\"\n",
      "[1] \"BT94_L\"\n",
      "[1] \"G523_L\"\n",
      "[1] \"G549_L\"\n",
      "[1] \"G564_L\"\n",
      "[1] \"G566_L\"\n",
      "[1] \"G583_L\"\n",
      "[1] \"G620_L\"\n",
      "[1] \"G637_L\"\n",
      "[1] \"G729_L\"\n",
      "[1] \"G797_L\"\n",
      "[1] \"G799_L\"\n",
      "[1] \"G837_L\"\n",
      "[1] \"G851_L\"\n",
      "[1] \"G876_L\"\n",
      "[1] \"G885_L\"\n",
      "[1] \"G895_L\"\n",
      "[1] \"G945-I_L\"\n",
      "[1] \"G945-J_L\"\n",
      "[1] \"G945-K_L\"\n",
      "[1] \"G946-J_L\"\n",
      "[1] \"G946-K_L\"\n",
      "[1] \"G1003-A_T\"\n",
      "[1] \"G1003-B_T\"\n",
      "[1] \"G1003-C_T\"\n",
      "[1] \"G1003-D_T\"\n",
      "[1] \"G620_T\"\n",
      "[1] \"G910-A_T\"\n",
      "[1] \"G910-B_T\"\n",
      "[1] \"G910-C_T\"\n",
      "[1] \"G910-D_T\"\n",
      "[1] \"G910-E_T\"\n",
      "[1] \"G945-I_T\"\n",
      "[1] \"G945-J_T\"\n",
      "[1] \"G945-K_T\"\n",
      "[1] \"G946-I_T\"\n",
      "[1] \"G946-J_T\"\n",
      "[1] \"G946-K_T\"\n",
      "[1] \"G967-A_T\"\n",
      "[1] \"G967-B_T\"\n",
      "[1] \"G967-C_T\"\n",
      "[1] \"G967-D_T\"\n",
      "[1] \"G983-A_T\"\n",
      "[1] \"G983-B_T\"\n",
      "[1] \"G983-C_T\"\n",
      "[1] \"G523_T\"\n",
      "[1] \"G549_T\"\n",
      "[1] \"G566_T\"\n",
      "[1] \"G583_T\"\n",
      "[1] \"G637_T\"\n",
      "[1] \"G729_T\"\n",
      "[1] \"G797_T\"\n",
      "[1] \"G799_T\"\n",
      "[1] \"G837_T\"\n",
      "[1] \"G851_T\"\n"
     ]
    },
    {
     "data": {
      "text/html": [
       "<strong>pdf:</strong> 2"
      ],
      "text/latex": [
       "\\textbf{pdf:} 2"
      ],
      "text/markdown": [
       "**pdf:** 2"
      ],
      "text/plain": [
       "pdf \n",
       "  2 "
      ]
     },
     "metadata": {},
     "output_type": "display_data"
    }
   ],
   "source": [
    "plots <- list()\n",
    "samples <- unique(mnn$SampleID)\n",
    "\n",
    "#par(mfrow=c(2,2))\n",
    "pdf(\"~/Desktop/Gradient_BySample.pdf\", width = 5, height = 5)\n",
    "\n",
    "for (i in 1:length(samples)){\n",
    "    \n",
    "    print(samples[i])\n",
    "    sub <- mnn[mnn$SampleID == samples[i], ]\n",
    "    main <- paste0(samples[i], \"   (\", unique(sub$SampleTech), \")\") \n",
    "    \n",
    "    plots[[samples[i]]] <- ggscatterhist(sub, \n",
    "                      x = \"Developmental_cohort_z\", \n",
    "                      y = \"InjuryResponse_cohort_z\",\n",
    "                      #palette = c(\"#225ea8\", \"black\", \"darkred\"), \n",
    "                       palette = unique(sub$Color),\n",
    "                      color = \"SampleTech\",\n",
    "                      xlab = \"Developmental Program Score (AUC; z-score)\",\n",
    "                      ylab = \"Injury Response Program Score (AUC; z-score)\",\n",
    "                      size = 1,\n",
    "                      alpha = 0.5,\n",
    "                      margin.params = list(fill = unique(sub$Color), color = \"black\", size = 0.2),\n",
    "                      ggtheme = theme_classic(),\n",
    "                      title = main,\n",
    "                      legend = \"none\",\n",
    "                      xlim = c(-5,5),\n",
    "                      ylim = c(-2.5,6)\n",
    "                     )\n",
    "}\n",
    "\n",
    "dev.off()"
   ]
  },
  {
   "cell_type": "code",
   "execution_count": null,
   "metadata": {},
   "outputs": [],
   "source": [
    "grid.arrange(grobs=plots, ncol=4)"
   ]
  },
  {
   "cell_type": "code",
   "execution_count": null,
   "metadata": {
    "collapsed": true
   },
   "outputs": [],
   "source": [
    "do.call(\"grid.arrange\", c(plots, ncol=5))"
   ]
  },
  {
   "cell_type": "code",
   "execution_count": null,
   "metadata": {
    "collapsed": true
   },
   "outputs": [],
   "source": []
  }
 ],
 "metadata": {
  "kernelspec": {
   "display_name": "R",
   "language": "R",
   "name": "ir"
  },
  "language_info": {
   "codemirror_mode": "r",
   "file_extension": ".r",
   "mimetype": "text/x-r-source",
   "name": "R",
   "pygments_lexer": "r",
   "version": "3.6.3"
  }
 },
 "nbformat": 4,
 "nbformat_minor": 2
}
