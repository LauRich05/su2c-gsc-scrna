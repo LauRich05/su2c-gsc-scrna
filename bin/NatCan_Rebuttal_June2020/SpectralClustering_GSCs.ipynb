{
 "cells": [
  {
   "cell_type": "markdown",
   "metadata": {},
   "source": [
    "----\n",
    "# Spectral clustering of GSCs\n",
    "----\n",
    "/cluster/projects/pughlab/projects/BTSCs_scRNAseq/Manuscript_G607removed/NatCan_Rebuttal/spectral_clustering"
   ]
  },
  {
   "cell_type": "code",
   "execution_count": null,
   "metadata": {
    "collapsed": true
   },
   "outputs": [],
   "source": [
    "setwd(\"~/Desktop/H4H/pughlab/projects/BTSCs_scRNAseq/Manuscript_G607removed/NatCan_Rebuttal/spectral_clustering/\")"
   ]
  },
  {
   "cell_type": "code",
   "execution_count": null,
   "metadata": {
    "collapsed": true
   },
   "outputs": [],
   "source": [
    "###reformat DE markers\n",
    "DE <- list.files(pattern=\"_DE_M\")\n",
    "\n",
    "markers <- list()\n",
    "\n",
    "for (i in 1:length(DE)){\n",
    "    \n",
    "    print(DE[i])\n",
    "    dat <- readRDS(DE[i])\n",
    "    \n",
    "    sample.markers <- list()\n",
    "    \n",
    "    for (j in 1:length(dat)){\n",
    "    \n",
    "    j <- as.numeric(j)\n",
    "    print(j)\n",
    "    dat[[j]]$Method <- as.character(names(dat)[j])\n",
    "    dat[[j]] <- dat[[j]][dat[[j]]$p_val_adj < 0.01, ]\n",
    "    aa <- data.frame((table(dat[[j]]$cluster)))\n",
    "    colnames(aa) <- c(\"ClusterID\", \"NumMarkers\")\n",
    "    aa$Sample <- strsplit(names(dat[j]), split=\"[.]\")[[1]][1]\n",
    "    aa$Method <- strsplit(names(dat[j]), split=\"[.]\")[[1]][2]\n",
    "    sample.markers[[unique(aa$Method)]] <- aa\n",
    "        \n",
    "}\n",
    " \n",
    "    markers[[unique(aa$Sample)]] <- do.call(rbind, sample.markers)\n",
    "}\n",
    "\n",
    "merge <- do.call(rbind, markers)\n",
    "saveRDS(merge, file = \"Combined_DE_markers.rds\")"
   ]
  },
  {
   "cell_type": "code",
   "execution_count": null,
   "metadata": {},
   "outputs": [],
   "source": [
    "###reformat sil widths\n",
    "sil.files <- list.files(pattern=\"sil\")\n",
    "\n",
    "sils <- list()\n",
    "\n",
    "for (i in 1:length(sil.files)){\n",
    "    \n",
    "    print(sil.files[i])\n",
    "    dat <- readRDS(sil.files[i])\n",
    "    \n",
    "    sample.sils <- list()\n",
    "    \n",
    "    for (j in 1:length(dat)){\n",
    "    \n",
    "    aa <- data.frame(dat[[j]])\n",
    "    colnames(aa) <- c(\"Avg.SilWidth\")\n",
    "    aa$Cluster <- names(dat[[j]])\n",
    "    aa$Sample <- strsplit(names(dat[j]), split=\"[.]\")[[1]][1]\n",
    "    aa$Method <- strsplit(names(dat[j]), split=\"[.]\")[[1]][2]\n",
    "    sample.sils[[unique(aa$Method)]] <- aa\n",
    "        \n",
    "}\n",
    " \n",
    "    sils[[unique(aa$Sample)]] <- do.call(rbind, sample.sils)\n",
    "}\n",
    "\n",
    "merge <- do.call(rbind, sils)\n",
    "saveRDS(merge, file = \"Combined_SilAvg.rds\")"
   ]
  },
  {
   "cell_type": "markdown",
   "metadata": {},
   "source": [
    "---\n",
    "## 1.0 Pick optimal spectral clustering solution\n",
    "---\n",
    "\n",
    "Use silhouette width and marker genes"
   ]
  },
  {
   "cell_type": "code",
   "execution_count": null,
   "metadata": {
    "collapsed": true
   },
   "outputs": [],
   "source": [
    "DE <- readRDS(\"Combined_DE_markers.rds\")\n",
    "sil <- readRDS(\"Combined_SilAvg.rds\")\n",
    "samples <- unique(sil$Sample)\n",
    "optimal.k <- c()\n",
    "keep <- list()\n",
    "\n",
    "for (i in 1:length(samples)){\n",
    "    \n",
    "    markers <- c()\n",
    "    avg.sil <- c()\n",
    "    k <- c()\n",
    "    \n",
    "    sample <- samples[i]\n",
    "    print(sample)\n",
    "    DE_sub <- DE[DE$Sample == sample, ]\n",
    "    DE_sub <- DE_sub[grep(\"pectral\", DE_sub$Method), ]\n",
    "    \n",
    "    ks <- unique(DE_sub$Method)\n",
    "    for (j in 1:length(ks)){\n",
    "        k[j] <- j+1\n",
    "        markers[j] <- mean(DE_sub[DE_sub$Method==ks[j], ]$NumMarkers)\n",
    "    }\n",
    "    \n",
    "    sil_sub <- sil[sil$Sample == sample, ]\n",
    "    sil_sub <- sil_sub[grep(\"ectral\", sil_sub$Method), ]\n",
    "    methods <- unique(sil_sub$Method)\n",
    "    for (x in 1:length(methods)){\n",
    "        avg.sil[x] <- mean(sil_sub[sil_sub$Method==methods[x], ]$Avg.SilWidth)\n",
    "    }\n",
    "    \n",
    "    b <- data.frame(k, markers, avg.sil)\n",
    "    b <- b[b$markers > 20, ]\n",
    "    keep[[sample]] <- b\n",
    "    keep[[sample]]$sample <- sample\n",
    "    optimal.k[i] <- b[b$avg.sil == max(b$avg.sil), ]$k\n",
    "}\n",
    "\n",
    "\n",
    "test <- do.call(rbind, keep)\n"
   ]
  },
  {
   "cell_type": "code",
   "execution_count": null,
   "metadata": {
    "collapsed": true
   },
   "outputs": [],
   "source": []
  },
  {
   "cell_type": "code",
   "execution_count": null,
   "metadata": {
    "collapsed": true
   },
   "outputs": [],
   "source": []
  },
  {
   "cell_type": "code",
   "execution_count": null,
   "metadata": {
    "collapsed": true
   },
   "outputs": [],
   "source": []
  },
  {
   "cell_type": "code",
   "execution_count": null,
   "metadata": {
    "collapsed": true
   },
   "outputs": [],
   "source": []
  },
  {
   "cell_type": "markdown",
   "metadata": {},
   "source": [
    "---\n",
    "## 2.0 Compare cluster number across methods\n",
    "---"
   ]
  },
  {
   "cell_type": "code",
   "execution_count": null,
   "metadata": {
    "collapsed": true
   },
   "outputs": [],
   "source": [
    "### combine meta files across samples\n",
    "meta.files <- list.files(pattern = \"metadata\")\n",
    "meta <- list()\n",
    "for (i in 1:length(meta.files)){\n",
    "    \n",
    "    meta[[meta.files[i]]] <- readRDS(meta.files[i])\n",
    "    \n",
    "}\n",
    "meta <- do.call(rbind, meta)"
   ]
  },
  {
   "cell_type": "code",
   "execution_count": null,
   "metadata": {
    "collapsed": true
   },
   "outputs": [],
   "source": [
    "### combine sil width across samples\n",
    "sil.files <- list.files(pattern = \"silWidths\")\n",
    "sil <- list()\n",
    "for (i in 1:length(sil.files)){\n",
    "    \n",
    "    sil[[sil.files[i]]] <- readRDS(sil.files[i])\n",
    "    \n",
    "}\n",
    "#sil <- do.call(rbind, sil)"
   ]
  },
  {
   "cell_type": "code",
   "execution_count": null,
   "metadata": {},
   "outputs": [],
   "source": [
    "test <- data.frame(sil[[1]][1])\n"
   ]
  },
  {
   "cell_type": "code",
   "execution_count": null,
   "metadata": {},
   "outputs": [],
   "source": [
    "length(meta.files)"
   ]
  },
  {
   "cell_type": "code",
   "execution_count": null,
   "metadata": {
    "collapsed": true
   },
   "outputs": [],
   "source": []
  }
 ],
 "metadata": {
  "kernelspec": {
   "display_name": "R",
   "language": "R",
   "name": "ir"
  },
  "language_info": {
   "codemirror_mode": "r",
   "file_extension": ".r",
   "mimetype": "text/x-r-source",
   "name": "R",
   "pygments_lexer": "r",
   "version": "3.6.3"
  }
 },
 "nbformat": 4,
 "nbformat_minor": 2
}
