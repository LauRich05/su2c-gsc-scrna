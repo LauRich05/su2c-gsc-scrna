{
 "cells": [
  {
   "cell_type": "markdown",
   "metadata": {},
   "source": [
    "----\n",
    "# Visualize results from batch correction bake off\n",
    "---"
   ]
  },
  {
   "cell_type": "code",
   "execution_count": 4,
   "metadata": {},
   "outputs": [],
   "source": [
    "options(repos='http://cran.rstudio.com/')\n",
    "#install.packages(\"ggExtra\")\n",
    "library(Seurat)\n",
    "library(ggplot2)\n",
    "library(ggpubr)\n",
    "library(ggExtra)\n",
    "library(ggrepel)\n",
    "library(dplyr)"
   ]
  },
  {
   "cell_type": "code",
   "execution_count": 5,
   "metadata": {},
   "outputs": [],
   "source": [
    "setwd(\"~/Desktop/H4H/pughlab/projects/BTSCs_scRNAseq/Manuscript_G607removed/NatCan_Rebuttal/BatchCorrection/\")"
   ]
  },
  {
   "cell_type": "markdown",
   "metadata": {},
   "source": [
    "----\n",
    "## 1.0 Plot UMAPs\n",
    "----"
   ]
  },
  {
   "cell_type": "code",
   "execution_count": 4,
   "metadata": {
    "collapsed": true
   },
   "outputs": [],
   "source": [
    "#load data\n",
    "meta <- readRDS(\"Global_GSC_BatchCorrection_metadata.rds\")"
   ]
  },
  {
   "cell_type": "code",
   "execution_count": 7,
   "metadata": {},
   "outputs": [
    {
     "data": {
      "text/html": [
       "<style>\n",
       ".list-inline {list-style: none; margin:0; padding: 0}\n",
       ".list-inline>li {display: inline-block}\n",
       ".list-inline>li:not(:last-child)::after {content: \"\\00b7\"; padding: 0 .5ex}\n",
       "</style>\n",
       "<ol class=list-inline><li>'nGene'</li><li>'nUMI'</li><li>'percent.mito'</li><li>'PatientID'</li><li>'SampleID'</li><li>'Passage'</li><li>'CultureMethod'</li><li>'Pathology'</li><li>'Stage'</li><li>'Age'</li><li>'Sex'</li><li>'IDH12_Status'</li><li>'SphereFormation_Percent'</li><li>'DoublingTime_Hrs'</li><li>'OrthotopicXenoSurvival_Days'</li><li>'BulkRNA_Cluster'</li><li>'S.Score'</li><li>'G2M.Score'</li><li>'Phase'</li><li>'CC.Difference'</li><li>'Cluster.ID'</li><li>'Opt.Resolution'</li><li>'IntraBTSC.ID'</li><li>'Original_clusters'</li><li>'Original_UMAP1'</li><li>'Original_UMAP2'</li><li>'Conos_clusters'</li><li>'Conos_UMAP1'</li><li>'Conos_UMAP2'</li><li>'Liger_clusters'</li><li>'Liger_quantNorm_clusters'</li><li>'Liger_UMAP1'</li><li>'Liger_UMAP2'</li><li>'fastMNN_clusters'</li><li>'fastMNN_UMAP1'</li><li>'fastMNN_UMAP2'</li></ol>\n"
      ],
      "text/latex": [
       "\\begin{enumerate*}\n",
       "\\item 'nGene'\n",
       "\\item 'nUMI'\n",
       "\\item 'percent.mito'\n",
       "\\item 'PatientID'\n",
       "\\item 'SampleID'\n",
       "\\item 'Passage'\n",
       "\\item 'CultureMethod'\n",
       "\\item 'Pathology'\n",
       "\\item 'Stage'\n",
       "\\item 'Age'\n",
       "\\item 'Sex'\n",
       "\\item 'IDH12\\_Status'\n",
       "\\item 'SphereFormation\\_Percent'\n",
       "\\item 'DoublingTime\\_Hrs'\n",
       "\\item 'OrthotopicXenoSurvival\\_Days'\n",
       "\\item 'BulkRNA\\_Cluster'\n",
       "\\item 'S.Score'\n",
       "\\item 'G2M.Score'\n",
       "\\item 'Phase'\n",
       "\\item 'CC.Difference'\n",
       "\\item 'Cluster.ID'\n",
       "\\item 'Opt.Resolution'\n",
       "\\item 'IntraBTSC.ID'\n",
       "\\item 'Original\\_clusters'\n",
       "\\item 'Original\\_UMAP1'\n",
       "\\item 'Original\\_UMAP2'\n",
       "\\item 'Conos\\_clusters'\n",
       "\\item 'Conos\\_UMAP1'\n",
       "\\item 'Conos\\_UMAP2'\n",
       "\\item 'Liger\\_clusters'\n",
       "\\item 'Liger\\_quantNorm\\_clusters'\n",
       "\\item 'Liger\\_UMAP1'\n",
       "\\item 'Liger\\_UMAP2'\n",
       "\\item 'fastMNN\\_clusters'\n",
       "\\item 'fastMNN\\_UMAP1'\n",
       "\\item 'fastMNN\\_UMAP2'\n",
       "\\end{enumerate*}\n"
      ],
      "text/markdown": [
       "1. 'nGene'\n",
       "2. 'nUMI'\n",
       "3. 'percent.mito'\n",
       "4. 'PatientID'\n",
       "5. 'SampleID'\n",
       "6. 'Passage'\n",
       "7. 'CultureMethod'\n",
       "8. 'Pathology'\n",
       "9. 'Stage'\n",
       "10. 'Age'\n",
       "11. 'Sex'\n",
       "12. 'IDH12_Status'\n",
       "13. 'SphereFormation_Percent'\n",
       "14. 'DoublingTime_Hrs'\n",
       "15. 'OrthotopicXenoSurvival_Days'\n",
       "16. 'BulkRNA_Cluster'\n",
       "17. 'S.Score'\n",
       "18. 'G2M.Score'\n",
       "19. 'Phase'\n",
       "20. 'CC.Difference'\n",
       "21. 'Cluster.ID'\n",
       "22. 'Opt.Resolution'\n",
       "23. 'IntraBTSC.ID'\n",
       "24. 'Original_clusters'\n",
       "25. 'Original_UMAP1'\n",
       "26. 'Original_UMAP2'\n",
       "27. 'Conos_clusters'\n",
       "28. 'Conos_UMAP1'\n",
       "29. 'Conos_UMAP2'\n",
       "30. 'Liger_clusters'\n",
       "31. 'Liger_quantNorm_clusters'\n",
       "32. 'Liger_UMAP1'\n",
       "33. 'Liger_UMAP2'\n",
       "34. 'fastMNN_clusters'\n",
       "35. 'fastMNN_UMAP1'\n",
       "36. 'fastMNN_UMAP2'\n",
       "\n",
       "\n"
      ],
      "text/plain": [
       " [1] \"nGene\"                       \"nUMI\"                       \n",
       " [3] \"percent.mito\"                \"PatientID\"                  \n",
       " [5] \"SampleID\"                    \"Passage\"                    \n",
       " [7] \"CultureMethod\"               \"Pathology\"                  \n",
       " [9] \"Stage\"                       \"Age\"                        \n",
       "[11] \"Sex\"                         \"IDH12_Status\"               \n",
       "[13] \"SphereFormation_Percent\"     \"DoublingTime_Hrs\"           \n",
       "[15] \"OrthotopicXenoSurvival_Days\" \"BulkRNA_Cluster\"            \n",
       "[17] \"S.Score\"                     \"G2M.Score\"                  \n",
       "[19] \"Phase\"                       \"CC.Difference\"              \n",
       "[21] \"Cluster.ID\"                  \"Opt.Resolution\"             \n",
       "[23] \"IntraBTSC.ID\"                \"Original_clusters\"          \n",
       "[25] \"Original_UMAP1\"              \"Original_UMAP2\"             \n",
       "[27] \"Conos_clusters\"              \"Conos_UMAP1\"                \n",
       "[29] \"Conos_UMAP2\"                 \"Liger_clusters\"             \n",
       "[31] \"Liger_quantNorm_clusters\"    \"Liger_UMAP1\"                \n",
       "[33] \"Liger_UMAP2\"                 \"fastMNN_clusters\"           \n",
       "[35] \"fastMNN_UMAP1\"               \"fastMNN_UMAP2\"              "
      ]
     },
     "metadata": {},
     "output_type": "display_data"
    }
   ],
   "source": [
    "colnames(meta)"
   ]
  },
  {
   "cell_type": "code",
   "execution_count": 122,
   "metadata": {},
   "outputs": [
    {
     "data": {
      "text/html": [
       "29"
      ],
      "text/latex": [
       "29"
      ],
      "text/markdown": [
       "29"
      ],
      "text/plain": [
       "[1] 29"
      ]
     },
     "metadata": {},
     "output_type": "display_data"
    }
   ],
   "source": [
    "## Define sample color palette\n",
    "\n",
    "colfunc <- colorRampPalette(c(\"#54278f\", \"#bcbddc\", \"#084081\", \"#4eb3d3\", \"#238b45\", \"#ccebc5\"))\n",
    "dirks <- colfunc(21)\n",
    "colfunc <- colorRampPalette(c(\"#800026\", \"#fc4e2a\", \"#feb24c\", \"#ffeda0\"))\n",
    "weiss <- colfunc(8)\n",
    "cols <- c(weiss, dirks)\n",
    "length(cols)"
   ]
  },
  {
   "cell_type": "code",
   "execution_count": 43,
   "metadata": {},
   "outputs": [
    {
     "name": "stderr",
     "output_type": "stream",
     "text": [
      "Adding missing grouping variables: `Original_clusters`\n",
      "\n"
     ]
    },
    {
     "data": {
      "text/html": [
       "<strong>pdf:</strong> 2"
      ],
      "text/latex": [
       "\\textbf{pdf:} 2"
      ],
      "text/markdown": [
       "**pdf:** 2"
      ],
      "text/plain": [
       "pdf \n",
       "  2 "
      ]
     },
     "metadata": {},
     "output_type": "display_data"
    },
    {
     "data": {
      "text/html": [
       "<strong>pdf:</strong> 2"
      ],
      "text/latex": [
       "\\textbf{pdf:} 2"
      ],
      "text/markdown": [
       "**pdf:** 2"
      ],
      "text/plain": [
       "pdf \n",
       "  2 "
      ]
     },
     "metadata": {},
     "output_type": "display_data"
    }
   ],
   "source": [
    "#### ORIGINAL CLUSTERING\n",
    "\n",
    "\n",
    "#calculate centroids \n",
    "hc.norm.cent <- meta %>% group_by(Original_clusters) %>% select(Original_UMAP1, \n",
    "    Original_UMAP2) %>% summarize_all(median)\n",
    "#hc.norm.cent\n",
    "\n",
    "\n",
    "\n",
    "original_sample <- ggplot(meta, aes(x=Original_UMAP1, y=Original_UMAP2, color=SampleID)) + \n",
    "                   geom_point(alpha = 0.3, size = 0.8, pch = 16) +  \n",
    "                   labs(x = \"UMAP 1\", y = \"UMAP 2\") +\n",
    "                   scale_colour_manual(values = cols) + \n",
    "                   theme_bw() + \n",
    "                   theme(axis.text.x = element_blank(), axis.text.y = element_blank(), \n",
    "                         axis.ticks = element_blank(),\n",
    "                        panel.border = element_rect(linetype = \"solid\", fill = NA, size = 1),\n",
    "                        panel.grid.major = element_blank(), panel.grid.minor = element_blank(),\n",
    "                        panel.background = element_blank())  +\n",
    "                    guides(colour = guide_legend(override.aes = list(size=4, alpha = 1))) +\n",
    "                    theme(legend.position=\"none\") \n",
    "\n",
    "original_clusters <- ggplot(meta, aes(x=Original_UMAP1, y=Original_UMAP2, color=Original_clusters)) + \n",
    "                   geom_point(alpha = 0.3, size = 0.8, pch = 16) +  \n",
    "                   labs(x = \"UMAP 1\", y = \"UMAP 2\") +\n",
    "                   #scale_colour_manual(values = cols) + \n",
    "                   theme_bw() + \n",
    "                   theme(axis.text.x = element_blank(), axis.text.y = element_blank(), \n",
    "                         axis.ticks = element_blank(),\n",
    "                        panel.border = element_rect(linetype = \"solid\", fill = NA, size = 1),\n",
    "                        panel.grid.major = element_blank(), panel.grid.minor = element_blank(),\n",
    "                        panel.background = element_blank())  +\n",
    "                    guides(colour = guide_legend(override.aes = list(size=4, alpha = 1))) +\n",
    "                    theme(legend.position=\"none\") +\n",
    "                    geom_label_repel(aes(label = Original_clusters), \n",
    "                                     data = hc.norm.cent, \n",
    "                                     label.size = 0.05, \n",
    "                                     parse = T, \n",
    "                                     size = 3)\n",
    "\n",
    "pdf(\"~/Desktop/OriginalClustering_NatCan_Cluster.pdf\", width = 8, height= 8)\n",
    "original_clusters\n",
    "dev.off()\n",
    "\n",
    "pdf(\"~/Desktop/OriginalClustering_NatCan_Sample.pdf\", width = 8, height= 8)\n",
    "original_sample\n",
    "dev.off()"
   ]
  },
  {
   "cell_type": "code",
   "execution_count": 40,
   "metadata": {},
   "outputs": [
    {
     "name": "stderr",
     "output_type": "stream",
     "text": [
      "Adding missing grouping variables: `Conos_clusters`\n",
      "\n"
     ]
    },
    {
     "data": {
      "text/html": [
       "<strong>pdf:</strong> 2"
      ],
      "text/latex": [
       "\\textbf{pdf:} 2"
      ],
      "text/markdown": [
       "**pdf:** 2"
      ],
      "text/plain": [
       "pdf \n",
       "  2 "
      ]
     },
     "metadata": {},
     "output_type": "display_data"
    },
    {
     "data": {
      "text/html": [
       "<strong>pdf:</strong> 2"
      ],
      "text/latex": [
       "\\textbf{pdf:} 2"
      ],
      "text/markdown": [
       "**pdf:** 2"
      ],
      "text/plain": [
       "pdf \n",
       "  2 "
      ]
     },
     "metadata": {},
     "output_type": "display_data"
    }
   ],
   "source": [
    "#### CONOS Clustering\n",
    "\n",
    "\n",
    "#calculate centroids \n",
    "hc.norm.cent <- meta %>% group_by(Conos_clusters) %>% select(Conos_UMAP1, \n",
    "    Conos_UMAP2) %>% summarize_all(median)\n",
    "#hc.norm.cent\n",
    "\n",
    "\n",
    "\n",
    "Conos_sample <- ggplot(meta, aes(x=Conos_UMAP1, y=Conos_UMAP2, color=SampleID)) + \n",
    "                   geom_point(alpha = 0.3, size = 0.8, pch = 16) +  \n",
    "                   labs(x = \"UMAP 1\", y = \"UMAP 2\") +\n",
    "                   scale_colour_manual(values = cols) + \n",
    "                   theme_bw() + \n",
    "                   theme(axis.text.x = element_blank(), axis.text.y = element_blank(), \n",
    "                         axis.ticks = element_blank(),\n",
    "                        panel.border = element_rect(linetype = \"solid\", fill = NA, size = 1),\n",
    "                        panel.grid.major = element_blank(), panel.grid.minor = element_blank(),\n",
    "                        panel.background = element_blank())  +\n",
    "                    guides(colour = guide_legend(override.aes = list(size=4, alpha = 1))) +\n",
    "                    theme(legend.position=\"bottom\") + theme(legend.position=\"none\")\n",
    "\n",
    "Conos_clusters <- ggplot(meta, aes(x=Conos_UMAP1, y=Conos_UMAP2, color=Conos_clusters)) + \n",
    "                   geom_point(alpha = 0.3, size = 0.8, pch = 16) +  \n",
    "                   labs(x = \"UMAP 1\", y = \"UMAP 2\") +\n",
    "                   #scale_colour_manual(values = cols) + \n",
    "                   theme_bw() + \n",
    "                   theme(axis.text.x = element_blank(), axis.text.y = element_blank(), \n",
    "                         axis.ticks = element_blank(),\n",
    "                        panel.border = element_rect(linetype = \"solid\", fill = NA, size = 1),\n",
    "                        panel.grid.major = element_blank(), panel.grid.minor = element_blank(),\n",
    "                        panel.background = element_blank())  +\n",
    "                    guides(colour = guide_legend(override.aes = list(size=4, alpha = 1))) +\n",
    "                    theme(legend.position=\"none\") +\n",
    "                    geom_label_repel(aes(label = Conos_clusters), \n",
    "                                     data = hc.norm.cent, \n",
    "                                     label.size = 0.05, \n",
    "                                     parse = T, \n",
    "                                     size = 3)\n",
    "\n",
    "pdf(\"~/Desktop/ConosClustering_NatCan_Cluster.pdf\", width = 8, height= 8)\n",
    "Conos_clusters\n",
    "dev.off()\n",
    "\n",
    "pdf(\"~/Desktop/ConosClustering_NatCan_Sample.pdf\", width = 8, height= 8)\n",
    "Conos_sample\n",
    "dev.off()"
   ]
  },
  {
   "cell_type": "code",
   "execution_count": 41,
   "metadata": {},
   "outputs": [
    {
     "name": "stderr",
     "output_type": "stream",
     "text": [
      "Adding missing grouping variables: `Liger_clusters`\n",
      "\n"
     ]
    },
    {
     "data": {
      "text/html": [
       "<strong>pdf:</strong> 2"
      ],
      "text/latex": [
       "\\textbf{pdf:} 2"
      ],
      "text/markdown": [
       "**pdf:** 2"
      ],
      "text/plain": [
       "pdf \n",
       "  2 "
      ]
     },
     "metadata": {},
     "output_type": "display_data"
    },
    {
     "data": {
      "text/html": [
       "<strong>pdf:</strong> 2"
      ],
      "text/latex": [
       "\\textbf{pdf:} 2"
      ],
      "text/markdown": [
       "**pdf:** 2"
      ],
      "text/plain": [
       "pdf \n",
       "  2 "
      ]
     },
     "metadata": {},
     "output_type": "display_data"
    }
   ],
   "source": [
    "#### Liger Clustering\n",
    "\n",
    "\n",
    "#calculate centroids \n",
    "hc.norm.cent <- meta %>% group_by(Liger_clusters) %>% select(Liger_UMAP1, \n",
    "    Liger_UMAP2) %>% summarize_all(median)\n",
    "#hc.norm.cent\n",
    "\n",
    "\n",
    "\n",
    "Liger_sample <- ggplot(meta, aes(x=Liger_UMAP1, y=Liger_UMAP2, color=SampleID)) + \n",
    "                   geom_point(alpha = 0.3, size = 0.8, pch = 16) +  \n",
    "                   labs(x = \"UMAP 1\", y = \"UMAP 2\") +\n",
    "                   scale_colour_manual(values = cols) + \n",
    "                   theme_bw() + \n",
    "                   theme(axis.text.x = element_blank(), axis.text.y = element_blank(), \n",
    "                         axis.ticks = element_blank(),\n",
    "                        panel.border = element_rect(linetype = \"solid\", fill = NA, size = 1),\n",
    "                        panel.grid.major = element_blank(), panel.grid.minor = element_blank(),\n",
    "                        panel.background = element_blank())  +\n",
    "                    guides(colour = guide_legend(override.aes = list(size=4, alpha = 1))) +\n",
    "                    theme(legend.position=\"bottom\") + theme(legend.position=\"none\")\n",
    "\n",
    "Liger_clusters <- ggplot(meta, aes(x=Liger_UMAP1, y=Liger_UMAP2, color=Liger_clusters)) + \n",
    "                   geom_point(alpha = 0.3, size = 0.8, pch = 16) +  \n",
    "                   labs(x = \"UMAP 1\", y = \"UMAP 2\") +\n",
    "                   #scale_colour_manual(values = cols) + \n",
    "                   theme_bw() + \n",
    "                   theme(axis.text.x = element_blank(), axis.text.y = element_blank(), \n",
    "                         axis.ticks = element_blank(),\n",
    "                        panel.border = element_rect(linetype = \"solid\", fill = NA, size = 1),\n",
    "                        panel.grid.major = element_blank(), panel.grid.minor = element_blank(),\n",
    "                        panel.background = element_blank())  +\n",
    "                    guides(colour = guide_legend(override.aes = list(size=4, alpha = 1))) +\n",
    "                    theme(legend.position=\"none\") +\n",
    "                    geom_label_repel(aes(label = Liger_clusters), \n",
    "                                     data = hc.norm.cent, \n",
    "                                     label.size = 0.05, \n",
    "                                     parse = T, \n",
    "                                     size = 3)\n",
    "\n",
    "pdf(\"~/Desktop/LigerClustering_NatCan_Cluster.pdf\", width = 8, height= 8)\n",
    "Liger_clusters\n",
    "dev.off()\n",
    "\n",
    "pdf(\"~/Desktop/LigerClustering_NatCan_Sample.pdf\", width = 8, height= 8)\n",
    "Liger_sample\n",
    "dev.off()"
   ]
  },
  {
   "cell_type": "code",
   "execution_count": 44,
   "metadata": {},
   "outputs": [
    {
     "name": "stderr",
     "output_type": "stream",
     "text": [
      "Adding missing grouping variables: `fastMNN_clusters`\n",
      "\n"
     ]
    },
    {
     "data": {
      "text/html": [
       "<strong>pdf:</strong> 2"
      ],
      "text/latex": [
       "\\textbf{pdf:} 2"
      ],
      "text/markdown": [
       "**pdf:** 2"
      ],
      "text/plain": [
       "pdf \n",
       "  2 "
      ]
     },
     "metadata": {},
     "output_type": "display_data"
    },
    {
     "data": {
      "text/html": [
       "<strong>pdf:</strong> 2"
      ],
      "text/latex": [
       "\\textbf{pdf:} 2"
      ],
      "text/markdown": [
       "**pdf:** 2"
      ],
      "text/plain": [
       "pdf \n",
       "  2 "
      ]
     },
     "metadata": {},
     "output_type": "display_data"
    }
   ],
   "source": [
    "#### fastMNN Clustering\n",
    "\n",
    "\n",
    "#calculate centroids \n",
    "hc.norm.cent <- meta %>% group_by(fastMNN_clusters) %>% select(fastMNN_UMAP1, \n",
    "    fastMNN_UMAP2) %>% summarize_all(median)\n",
    "#hc.norm.cent\n",
    "\n",
    "\n",
    "\n",
    "fastMNN_sample <- ggplot(meta, aes(x=fastMNN_UMAP1, y=fastMNN_UMAP2, color=SampleID)) + \n",
    "                   geom_point(alpha = 0.3, size = 0.8, pch = 16) +  \n",
    "                   labs(x = \"UMAP 1\", y = \"UMAP 2\") +\n",
    "                   scale_colour_manual(values = cols) + \n",
    "                   theme_bw() + \n",
    "                   theme(axis.text.x = element_blank(), axis.text.y = element_blank(), \n",
    "                         axis.ticks = element_blank(),\n",
    "                        panel.border = element_rect(linetype = \"solid\", fill = NA, size = 1),\n",
    "                        panel.grid.major = element_blank(), panel.grid.minor = element_blank(),\n",
    "                        panel.background = element_blank())  +\n",
    "                    guides(colour = guide_legend(override.aes = list(size=4, alpha = 1))) +\n",
    "                    theme(legend.position=\"bottom\") + theme(legend.position=\"none\")\n",
    "\n",
    "fastMNN_clusters <- ggplot(meta, aes(x=fastMNN_UMAP1, y=fastMNN_UMAP2, color=fastMNN_clusters)) + \n",
    "                   geom_point(alpha = 0.3, size = 0.8, pch = 16) +  \n",
    "                   labs(x = \"UMAP 1\", y = \"UMAP 2\") +\n",
    "                   #scale_colour_manual(values = cols) + \n",
    "                   theme_bw() + \n",
    "                   theme(axis.text.x = element_blank(), axis.text.y = element_blank(), \n",
    "                         axis.ticks = element_blank(),\n",
    "                        panel.border = element_rect(linetype = \"solid\", fill = NA, size = 1),\n",
    "                        panel.grid.major = element_blank(), panel.grid.minor = element_blank(),\n",
    "                        panel.background = element_blank())  +\n",
    "                    guides(colour = guide_legend(override.aes = list(size=4, alpha = 1))) +\n",
    "                    theme(legend.position=\"none\") +\n",
    "                    geom_label_repel(aes(label = fastMNN_clusters), \n",
    "                                     data = hc.norm.cent, \n",
    "                                     label.size = 0.05, \n",
    "                                     parse = T, \n",
    "                                     size = 3)\n",
    "\n",
    "pdf(\"~/Desktop/fastMNNClustering_NatCan_Cluster.pdf\", width = 8, height= 8)\n",
    "fastMNN_clusters\n",
    "dev.off()\n",
    "\n",
    "pdf(\"~/Desktop/fastMNNClustering_NatCan_Sample.pdf\", width = 8, height= 8)\n",
    "fastMNN_sample\n",
    "dev.off()"
   ]
  },
  {
   "cell_type": "markdown",
   "metadata": {
    "collapsed": true
   },
   "source": [
    "----\n",
    "## 2.0 Plot cluster properties\n",
    "----"
   ]
  },
  {
   "cell_type": "code",
   "execution_count": 39,
   "metadata": {
    "collapsed": true
   },
   "outputs": [],
   "source": [
    "setwd(\"./Comparison/\")"
   ]
  },
  {
   "cell_type": "code",
   "execution_count": 8,
   "metadata": {},
   "outputs": [
    {
     "data": {
      "text/html": [
       "<table>\n",
       "<caption>A data.frame: 6 × 36</caption>\n",
       "<thead>\n",
       "\t<tr><th></th><th scope=col>nGene</th><th scope=col>nUMI</th><th scope=col>percent.mito</th><th scope=col>PatientID</th><th scope=col>SampleID</th><th scope=col>Passage</th><th scope=col>CultureMethod</th><th scope=col>Pathology</th><th scope=col>Stage</th><th scope=col>Age</th><th scope=col>⋯</th><th scope=col>Conos_clusters</th><th scope=col>Conos_UMAP1</th><th scope=col>Conos_UMAP2</th><th scope=col>Liger_clusters</th><th scope=col>Liger_quantNorm_clusters</th><th scope=col>Liger_UMAP1</th><th scope=col>Liger_UMAP2</th><th scope=col>fastMNN_clusters</th><th scope=col>fastMNN_UMAP1</th><th scope=col>fastMNN_UMAP2</th></tr>\n",
       "\t<tr><th></th><th scope=col>&lt;dbl&gt;</th><th scope=col>&lt;dbl&gt;</th><th scope=col>&lt;dbl&gt;</th><th scope=col>&lt;fct&gt;</th><th scope=col>&lt;chr&gt;</th><th scope=col>&lt;int&gt;</th><th scope=col>&lt;fct&gt;</th><th scope=col>&lt;fct&gt;</th><th scope=col>&lt;fct&gt;</th><th scope=col>&lt;int&gt;</th><th scope=col>⋯</th><th scope=col>&lt;chr&gt;</th><th scope=col>&lt;dbl&gt;</th><th scope=col>&lt;dbl&gt;</th><th scope=col>&lt;chr&gt;</th><th scope=col>&lt;chr&gt;</th><th scope=col>&lt;dbl&gt;</th><th scope=col>&lt;dbl&gt;</th><th scope=col>&lt;chr&gt;</th><th scope=col>&lt;dbl&gt;</th><th scope=col>&lt;dbl&gt;</th></tr>\n",
       "</thead>\n",
       "<tbody>\n",
       "\t<tr><th scope=row>BT127_L_AAACCTGCACGGACAA</th><td> 640</td><td>  875</td><td>0.043428571</td><td>BT127</td><td>BT127_L</td><td>NA</td><td>Sphere</td><td>GLIOBLASTOMA (GRADE IV)</td><td>PRIMARY</td><td>55</td><td>⋯</td><td>C11</td><td> 3.91472455</td><td>-2.492949</td><td>C67</td><td>C13</td><td>-0.4835586</td><td> 2.379755</td><td>C37</td><td>6.7959390</td><td> 4.973665</td></tr>\n",
       "\t<tr><th scope=row>BT127_L_AAACCTGCATCCGGGT</th><td>1036</td><td> 2408</td><td>0.002076412</td><td>BT127</td><td>BT127_L</td><td>NA</td><td>Sphere</td><td>GLIOBLASTOMA (GRADE IV)</td><td>PRIMARY</td><td>55</td><td>⋯</td><td>C2 </td><td>-2.32181506</td><td> 1.148725</td><td>C14</td><td>C21</td><td> 0.9863441</td><td> 5.408310</td><td>C14</td><td>1.2473862</td><td>-1.664298</td></tr>\n",
       "\t<tr><th scope=row>BT127_L_AAACCTGGTACAGTTC</th><td>3240</td><td>10058</td><td>0.078047326</td><td>BT127</td><td>BT127_L</td><td>NA</td><td>Sphere</td><td>GLIOBLASTOMA (GRADE IV)</td><td>PRIMARY</td><td>55</td><td>⋯</td><td>C1 </td><td>-0.07283644</td><td>-2.741365</td><td>C56</td><td>C10</td><td> 8.9876844</td><td> 1.797849</td><td>C10</td><td>2.2776213</td><td> 1.684389</td></tr>\n",
       "\t<tr><th scope=row>BT127_L_AAACCTGTCTACGAGT</th><td>3337</td><td>10798</td><td>0.061863308</td><td>BT127</td><td>BT127_L</td><td>NA</td><td>Sphere</td><td>GLIOBLASTOMA (GRADE IV)</td><td>PRIMARY</td><td>55</td><td>⋯</td><td>C1 </td><td> 2.88304897</td><td>-4.185107</td><td>C28</td><td>C7 </td><td>-3.7655035</td><td>-4.287652</td><td>C21</td><td>0.3696045</td><td> 4.849369</td></tr>\n",
       "\t<tr><th scope=row>BT127_L_AAACGGGAGTGGTAAT</th><td>4140</td><td>14601</td><td>0.081501267</td><td>BT127</td><td>BT127_L</td><td>NA</td><td>Sphere</td><td>GLIOBLASTOMA (GRADE IV)</td><td>PRIMARY</td><td>55</td><td>⋯</td><td>C4 </td><td>-3.40395693</td><td>-1.246072</td><td>C8 </td><td>C6 </td><td>-2.0646044</td><td> 5.311308</td><td>C3 </td><td>3.0244613</td><td>-2.603526</td></tr>\n",
       "\t<tr><th scope=row>BT127_L_AAACGGGCAGGACGTA</th><td> 543</td><td>  820</td><td>0.108536585</td><td>BT127</td><td>BT127_L</td><td>NA</td><td>Sphere</td><td>GLIOBLASTOMA (GRADE IV)</td><td>PRIMARY</td><td>55</td><td>⋯</td><td>C6 </td><td> 3.92768212</td><td>-2.285280</td><td>C7 </td><td>C17</td><td> 4.2134230</td><td>-1.124725</td><td>C20</td><td>6.4704309</td><td> 4.624188</td></tr>\n",
       "</tbody>\n",
       "</table>\n"
      ],
      "text/latex": [
       "A data.frame: 6 × 36\n",
       "\\begin{tabular}{r|lllllllllllllllllllll}\n",
       "  & nGene & nUMI & percent.mito & PatientID & SampleID & Passage & CultureMethod & Pathology & Stage & Age & ⋯ & Conos\\_clusters & Conos\\_UMAP1 & Conos\\_UMAP2 & Liger\\_clusters & Liger\\_quantNorm\\_clusters & Liger\\_UMAP1 & Liger\\_UMAP2 & fastMNN\\_clusters & fastMNN\\_UMAP1 & fastMNN\\_UMAP2\\\\\n",
       "  & <dbl> & <dbl> & <dbl> & <fct> & <chr> & <int> & <fct> & <fct> & <fct> & <int> & ⋯ & <chr> & <dbl> & <dbl> & <chr> & <chr> & <dbl> & <dbl> & <chr> & <dbl> & <dbl>\\\\\n",
       "\\hline\n",
       "\tBT127\\_L\\_AAACCTGCACGGACAA &  640 &   875 & 0.043428571 & BT127 & BT127\\_L & NA & Sphere & GLIOBLASTOMA (GRADE IV) & PRIMARY & 55 & ⋯ & C11 &  3.91472455 & -2.492949 & C67 & C13 & -0.4835586 &  2.379755 & C37 & 6.7959390 &  4.973665\\\\\n",
       "\tBT127\\_L\\_AAACCTGCATCCGGGT & 1036 &  2408 & 0.002076412 & BT127 & BT127\\_L & NA & Sphere & GLIOBLASTOMA (GRADE IV) & PRIMARY & 55 & ⋯ & C2  & -2.32181506 &  1.148725 & C14 & C21 &  0.9863441 &  5.408310 & C14 & 1.2473862 & -1.664298\\\\\n",
       "\tBT127\\_L\\_AAACCTGGTACAGTTC & 3240 & 10058 & 0.078047326 & BT127 & BT127\\_L & NA & Sphere & GLIOBLASTOMA (GRADE IV) & PRIMARY & 55 & ⋯ & C1  & -0.07283644 & -2.741365 & C56 & C10 &  8.9876844 &  1.797849 & C10 & 2.2776213 &  1.684389\\\\\n",
       "\tBT127\\_L\\_AAACCTGTCTACGAGT & 3337 & 10798 & 0.061863308 & BT127 & BT127\\_L & NA & Sphere & GLIOBLASTOMA (GRADE IV) & PRIMARY & 55 & ⋯ & C1  &  2.88304897 & -4.185107 & C28 & C7  & -3.7655035 & -4.287652 & C21 & 0.3696045 &  4.849369\\\\\n",
       "\tBT127\\_L\\_AAACGGGAGTGGTAAT & 4140 & 14601 & 0.081501267 & BT127 & BT127\\_L & NA & Sphere & GLIOBLASTOMA (GRADE IV) & PRIMARY & 55 & ⋯ & C4  & -3.40395693 & -1.246072 & C8  & C6  & -2.0646044 &  5.311308 & C3  & 3.0244613 & -2.603526\\\\\n",
       "\tBT127\\_L\\_AAACGGGCAGGACGTA &  543 &   820 & 0.108536585 & BT127 & BT127\\_L & NA & Sphere & GLIOBLASTOMA (GRADE IV) & PRIMARY & 55 & ⋯ & C6  &  3.92768212 & -2.285280 & C7  & C17 &  4.2134230 & -1.124725 & C20 & 6.4704309 &  4.624188\\\\\n",
       "\\end{tabular}\n"
      ],
      "text/markdown": [
       "\n",
       "A data.frame: 6 × 36\n",
       "\n",
       "| <!--/--> | nGene &lt;dbl&gt; | nUMI &lt;dbl&gt; | percent.mito &lt;dbl&gt; | PatientID &lt;fct&gt; | SampleID &lt;chr&gt; | Passage &lt;int&gt; | CultureMethod &lt;fct&gt; | Pathology &lt;fct&gt; | Stage &lt;fct&gt; | Age &lt;int&gt; | ⋯ ⋯ | Conos_clusters &lt;chr&gt; | Conos_UMAP1 &lt;dbl&gt; | Conos_UMAP2 &lt;dbl&gt; | Liger_clusters &lt;chr&gt; | Liger_quantNorm_clusters &lt;chr&gt; | Liger_UMAP1 &lt;dbl&gt; | Liger_UMAP2 &lt;dbl&gt; | fastMNN_clusters &lt;chr&gt; | fastMNN_UMAP1 &lt;dbl&gt; | fastMNN_UMAP2 &lt;dbl&gt; |\n",
       "|---|---|---|---|---|---|---|---|---|---|---|---|---|---|---|---|---|---|---|---|---|---|\n",
       "| BT127_L_AAACCTGCACGGACAA |  640 |   875 | 0.043428571 | BT127 | BT127_L | NA | Sphere | GLIOBLASTOMA (GRADE IV) | PRIMARY | 55 | ⋯ | C11 |  3.91472455 | -2.492949 | C67 | C13 | -0.4835586 |  2.379755 | C37 | 6.7959390 |  4.973665 |\n",
       "| BT127_L_AAACCTGCATCCGGGT | 1036 |  2408 | 0.002076412 | BT127 | BT127_L | NA | Sphere | GLIOBLASTOMA (GRADE IV) | PRIMARY | 55 | ⋯ | C2  | -2.32181506 |  1.148725 | C14 | C21 |  0.9863441 |  5.408310 | C14 | 1.2473862 | -1.664298 |\n",
       "| BT127_L_AAACCTGGTACAGTTC | 3240 | 10058 | 0.078047326 | BT127 | BT127_L | NA | Sphere | GLIOBLASTOMA (GRADE IV) | PRIMARY | 55 | ⋯ | C1  | -0.07283644 | -2.741365 | C56 | C10 |  8.9876844 |  1.797849 | C10 | 2.2776213 |  1.684389 |\n",
       "| BT127_L_AAACCTGTCTACGAGT | 3337 | 10798 | 0.061863308 | BT127 | BT127_L | NA | Sphere | GLIOBLASTOMA (GRADE IV) | PRIMARY | 55 | ⋯ | C1  |  2.88304897 | -4.185107 | C28 | C7  | -3.7655035 | -4.287652 | C21 | 0.3696045 |  4.849369 |\n",
       "| BT127_L_AAACGGGAGTGGTAAT | 4140 | 14601 | 0.081501267 | BT127 | BT127_L | NA | Sphere | GLIOBLASTOMA (GRADE IV) | PRIMARY | 55 | ⋯ | C4  | -3.40395693 | -1.246072 | C8  | C6  | -2.0646044 |  5.311308 | C3  | 3.0244613 | -2.603526 |\n",
       "| BT127_L_AAACGGGCAGGACGTA |  543 |   820 | 0.108536585 | BT127 | BT127_L | NA | Sphere | GLIOBLASTOMA (GRADE IV) | PRIMARY | 55 | ⋯ | C6  |  3.92768212 | -2.285280 | C7  | C17 |  4.2134230 | -1.124725 | C20 | 6.4704309 |  4.624188 |\n",
       "\n"
      ],
      "text/plain": [
       "                         nGene nUMI  percent.mito PatientID SampleID Passage\n",
       "BT127_L_AAACCTGCACGGACAA  640    875 0.043428571  BT127     BT127_L  NA     \n",
       "BT127_L_AAACCTGCATCCGGGT 1036   2408 0.002076412  BT127     BT127_L  NA     \n",
       "BT127_L_AAACCTGGTACAGTTC 3240  10058 0.078047326  BT127     BT127_L  NA     \n",
       "BT127_L_AAACCTGTCTACGAGT 3337  10798 0.061863308  BT127     BT127_L  NA     \n",
       "BT127_L_AAACGGGAGTGGTAAT 4140  14601 0.081501267  BT127     BT127_L  NA     \n",
       "BT127_L_AAACGGGCAGGACGTA  543    820 0.108536585  BT127     BT127_L  NA     \n",
       "                         CultureMethod Pathology               Stage   Age ⋯\n",
       "BT127_L_AAACCTGCACGGACAA Sphere        GLIOBLASTOMA (GRADE IV) PRIMARY 55  ⋯\n",
       "BT127_L_AAACCTGCATCCGGGT Sphere        GLIOBLASTOMA (GRADE IV) PRIMARY 55  ⋯\n",
       "BT127_L_AAACCTGGTACAGTTC Sphere        GLIOBLASTOMA (GRADE IV) PRIMARY 55  ⋯\n",
       "BT127_L_AAACCTGTCTACGAGT Sphere        GLIOBLASTOMA (GRADE IV) PRIMARY 55  ⋯\n",
       "BT127_L_AAACGGGAGTGGTAAT Sphere        GLIOBLASTOMA (GRADE IV) PRIMARY 55  ⋯\n",
       "BT127_L_AAACGGGCAGGACGTA Sphere        GLIOBLASTOMA (GRADE IV) PRIMARY 55  ⋯\n",
       "                         Conos_clusters Conos_UMAP1 Conos_UMAP2 Liger_clusters\n",
       "BT127_L_AAACCTGCACGGACAA C11             3.91472455 -2.492949   C67           \n",
       "BT127_L_AAACCTGCATCCGGGT C2             -2.32181506  1.148725   C14           \n",
       "BT127_L_AAACCTGGTACAGTTC C1             -0.07283644 -2.741365   C56           \n",
       "BT127_L_AAACCTGTCTACGAGT C1              2.88304897 -4.185107   C28           \n",
       "BT127_L_AAACGGGAGTGGTAAT C4             -3.40395693 -1.246072   C8            \n",
       "BT127_L_AAACGGGCAGGACGTA C6              3.92768212 -2.285280   C7            \n",
       "                         Liger_quantNorm_clusters Liger_UMAP1 Liger_UMAP2\n",
       "BT127_L_AAACCTGCACGGACAA C13                      -0.4835586   2.379755  \n",
       "BT127_L_AAACCTGCATCCGGGT C21                       0.9863441   5.408310  \n",
       "BT127_L_AAACCTGGTACAGTTC C10                       8.9876844   1.797849  \n",
       "BT127_L_AAACCTGTCTACGAGT C7                       -3.7655035  -4.287652  \n",
       "BT127_L_AAACGGGAGTGGTAAT C6                       -2.0646044   5.311308  \n",
       "BT127_L_AAACGGGCAGGACGTA C17                       4.2134230  -1.124725  \n",
       "                         fastMNN_clusters fastMNN_UMAP1 fastMNN_UMAP2\n",
       "BT127_L_AAACCTGCACGGACAA C37              6.7959390      4.973665    \n",
       "BT127_L_AAACCTGCATCCGGGT C14              1.2473862     -1.664298    \n",
       "BT127_L_AAACCTGGTACAGTTC C10              2.2776213      1.684389    \n",
       "BT127_L_AAACCTGTCTACGAGT C21              0.3696045      4.849369    \n",
       "BT127_L_AAACGGGAGTGGTAAT C3               3.0244613     -2.603526    \n",
       "BT127_L_AAACGGGCAGGACGTA C20              6.4704309      4.624188    "
      ]
     },
     "metadata": {},
     "output_type": "display_data"
    }
   ],
   "source": [
    "#### load data\n",
    "meta <- readRDS(\"./Comparison/Global_GSC_BatchCorrection_metadata.rds\")\n",
    "head(meta)"
   ]
  },
  {
   "cell_type": "markdown",
   "metadata": {},
   "source": [
    "---\n",
    "### Number clusters"
   ]
  },
  {
   "cell_type": "code",
   "execution_count": 139,
   "metadata": {},
   "outputs": [
    {
     "data": {
      "text/html": [
       "<strong>pdf:</strong> 2"
      ],
      "text/latex": [
       "\\textbf{pdf:} 2"
      ],
      "text/markdown": [
       "**pdf:** 2"
      ],
      "text/plain": [
       "pdf \n",
       "  2 "
      ]
     },
     "metadata": {},
     "output_type": "display_data"
    }
   ],
   "source": [
    "##### NUMBER CLUSTERS\n",
    "##### HISTOGRAM\n",
    "\n",
    "clusters <- c(61, 12, 78, 39)\n",
    "method <- c(\"Original\", \"Conos\", \"Liger\", \"fastMNN\")\n",
    "clust.hist <- cbind(method, clusters)\n",
    "colnames(clust.hist) <- c(\"method\", \"clusters\")\n",
    "clust.hist <- data.frame(clust.hist)\n",
    "clust.hist$method <- factor(clust.hist$method, \n",
    "                               levels = c(\"Original\", \"Conos\", \"Liger\", \"fastMNN\")\n",
    "                              )\n",
    "\n",
    "pdf(\"ClusterCounts.pdf\", width = 5, height = 5)\n",
    "cluster.plot <- ggplot(clust.hist, aes(y=clusters, x=method, fill = method)) +\n",
    "                geom_bar(stat=\"identity\") + theme_classic() +\n",
    "                ylab(\"Number of Clusters\") + xlab(\"\") +\n",
    "                theme(legend.position=\"none\") +\n",
    "                theme(text = element_text(size=20))\n",
    "\n",
    "cluster.plot\n",
    "dev.off()"
   ]
  },
  {
   "cell_type": "markdown",
   "metadata": {},
   "source": [
    "---\n",
    "### Number samples per cluster"
   ]
  },
  {
   "cell_type": "code",
   "execution_count": 140,
   "metadata": {},
   "outputs": [
    {
     "name": "stdout",
     "output_type": "stream",
     "text": [
      "[1] 1.229508\n",
      "[1] 17.41667\n",
      "[1] 19.78205\n",
      "[1] 9.769231\n"
     ]
    },
    {
     "data": {
      "text/html": [
       "<table>\n",
       "<caption>A data.frame: 6 × 3</caption>\n",
       "<thead>\n",
       "\t<tr><th></th><th scope=col>Samples</th><th scope=col>method</th><th scope=col>ClusterID</th></tr>\n",
       "\t<tr><th></th><th scope=col>&lt;dbl&gt;</th><th scope=col>&lt;fct&gt;</th><th scope=col>&lt;chr&gt;</th></tr>\n",
       "</thead>\n",
       "<tbody>\n",
       "\t<tr><th scope=row>C1</th><td>1</td><td>Original</td><td>C1 </td></tr>\n",
       "\t<tr><th scope=row>C10</th><td>1</td><td>Original</td><td>C10</td></tr>\n",
       "\t<tr><th scope=row>C11</th><td>1</td><td>Original</td><td>C11</td></tr>\n",
       "\t<tr><th scope=row>C12</th><td>1</td><td>Original</td><td>C12</td></tr>\n",
       "\t<tr><th scope=row>C13</th><td>2</td><td>Original</td><td>C13</td></tr>\n",
       "\t<tr><th scope=row>C14</th><td>1</td><td>Original</td><td>C14</td></tr>\n",
       "</tbody>\n",
       "</table>\n"
      ],
      "text/latex": [
       "A data.frame: 6 × 3\n",
       "\\begin{tabular}{r|lll}\n",
       "  & Samples & method & ClusterID\\\\\n",
       "  & <dbl> & <fct> & <chr>\\\\\n",
       "\\hline\n",
       "\tC1 & 1 & Original & C1 \\\\\n",
       "\tC10 & 1 & Original & C10\\\\\n",
       "\tC11 & 1 & Original & C11\\\\\n",
       "\tC12 & 1 & Original & C12\\\\\n",
       "\tC13 & 2 & Original & C13\\\\\n",
       "\tC14 & 1 & Original & C14\\\\\n",
       "\\end{tabular}\n"
      ],
      "text/markdown": [
       "\n",
       "A data.frame: 6 × 3\n",
       "\n",
       "| <!--/--> | Samples &lt;dbl&gt; | method &lt;fct&gt; | ClusterID &lt;chr&gt; |\n",
       "|---|---|---|---|\n",
       "| C1 | 1 | Original | C1  |\n",
       "| C10 | 1 | Original | C10 |\n",
       "| C11 | 1 | Original | C11 |\n",
       "| C12 | 1 | Original | C12 |\n",
       "| C13 | 2 | Original | C13 |\n",
       "| C14 | 1 | Original | C14 |\n",
       "\n"
      ],
      "text/plain": [
       "    Samples method   ClusterID\n",
       "C1  1       Original C1       \n",
       "C10 1       Original C10      \n",
       "C11 1       Original C11      \n",
       "C12 1       Original C12      \n",
       "C13 2       Original C13      \n",
       "C14 1       Original C14      "
      ]
     },
     "metadata": {},
     "output_type": "display_data"
    }
   ],
   "source": [
    "#### NUMBER SAMPLES / CLUSTER (>10 cells) \n",
    "#### BOXPLOT WITH POINTS\n",
    "\n",
    "original <- table(meta$Original_clusters, meta$SampleID)\n",
    "original <- original > 10\n",
    "original <- rowSums(original)\n",
    "original <- data.frame(original)\n",
    "colnames(original) <- \"Samples\"\n",
    "original$method <- \"Original\"\n",
    "original$ClusterID <- rownames(original)\n",
    "print(mean(original$Samples))\n",
    "\n",
    "conos <- table(meta$Conos_clusters, meta$SampleID)\n",
    "conos <- conos > 10\n",
    "conos <- rowSums(conos)\n",
    "conos <- data.frame(conos)\n",
    "colnames(conos) <- \"Samples\"\n",
    "conos$method <- \"Conos\"\n",
    "conos$ClusterID <- rownames(conos)\n",
    "print(mean(conos$Samples))\n",
    "\n",
    "liger <- table(meta$Liger_clusters, meta$SampleID)\n",
    "liger <- liger > 10\n",
    "liger <- rowSums(liger)\n",
    "liger <- data.frame(liger)\n",
    "colnames(liger) <- \"Samples\"\n",
    "liger$method <- \"Liger\"\n",
    "liger$ClusterID <- rownames(liger)\n",
    "print(mean(liger$Samples))\n",
    "\n",
    "\n",
    "fastmnn <- table(meta$fastMNN_clusters, meta$SampleID)\n",
    "fastmnn <- fastmnn > 10\n",
    "fastmnn <- rowSums(fastmnn)\n",
    "fastmnn<- data.frame(fastmnn)\n",
    "colnames(fastmnn) <- \"Samples\"\n",
    "fastmnn$method <- \"fastMNN\"\n",
    "fastmnn$ClusterID <- rownames(fastmnn)\n",
    "print(mean(fastmnn$Samples))\n",
    "\n",
    "plot.dat <- rbind(original, conos, liger, fastmnn)\n",
    "plot.dat$method <- factor(plot.dat$method, \n",
    "                               levels = c(\"Original\", \"Conos\", \"Liger\", \"fastMNN\")\n",
    "                              )\n",
    "head(plot.dat)"
   ]
  },
  {
   "cell_type": "code",
   "execution_count": 141,
   "metadata": {},
   "outputs": [
    {
     "data": {
      "text/html": [
       "<strong>pdf:</strong> 2"
      ],
      "text/latex": [
       "\\textbf{pdf:} 2"
      ],
      "text/markdown": [
       "**pdf:** 2"
      ],
      "text/plain": [
       "pdf \n",
       "  2 "
      ]
     },
     "metadata": {},
     "output_type": "display_data"
    }
   ],
   "source": [
    "pdf(\"ClusterSampleBoxplot.pdf\", width = 5, height = 5)\n",
    "p <- ggplot(plot.dat, aes(x=method, y=Samples, fill = method)) + \n",
    "      geom_boxplot() + theme_classic() + geom_jitter(shape=16, position=position_jitter(0.2)) +\n",
    "      ylab(\"Samples with > 10 cells / cluster\") + xlab(\"\") + \n",
    "        theme(legend.position=\"none\") + theme(text = element_text(size=20))\n",
    "p\n",
    "dev.off()"
   ]
  },
  {
   "cell_type": "markdown",
   "metadata": {},
   "source": [
    "---\n",
    "### Proportion samples per cluster"
   ]
  },
  {
   "cell_type": "code",
   "execution_count": null,
   "metadata": {
    "collapsed": true
   },
   "outputs": [],
   "source": [
    "colfunc <- colorRampPalette(c(\"#54278f\", \"#bcbddc\", \"#084081\", \"#4eb3d3\", \"#238b45\", \"#ccebc5\"))\n",
    "dirks <- colfunc(21)\n",
    "colfunc <- colorRampPalette(c(\"#800026\", \"#fc4e2a\", \"#feb24c\", \"#ffeda0\"))\n",
    "weiss <- colfunc(8)\n",
    "cols <- c(weiss, dirks)\n",
    "length(cols)"
   ]
  },
  {
   "cell_type": "code",
   "execution_count": 135,
   "metadata": {},
   "outputs": [
    {
     "data": {
      "text/html": [
       "<strong>pdf:</strong> 2"
      ],
      "text/latex": [
       "\\textbf{pdf:} 2"
      ],
      "text/markdown": [
       "**pdf:** 2"
      ],
      "text/plain": [
       "pdf \n",
       "  2 "
      ]
     },
     "metadata": {},
     "output_type": "display_data"
    }
   ],
   "source": [
    "original <- prop.table(table(meta$SampleID, meta$Original_clusters), margin = 2)\n",
    "original <- data.matrix(original)\n",
    "original <- data.frame(original)\n",
    "colnames(original) <- c(\"Sample\", \"Cluster\", \"Prop\")\n",
    "\n",
    "pdf(\"Original_ClusterProportions.pdf\", height = 8, width = 23)\n",
    "p1 <- ggplot() + geom_bar(aes(y=Prop, x=Cluster, fill = Sample), data = original, stat = \"identity\") +\n",
    "     scale_fill_manual(values = cols) + theme_classic() + ggtitle(\"Original\") + \n",
    "     xlab(\"\") + ylab(\"Proportion Cluster\")+ \n",
    "     theme(text = element_text(size=20), axis.text.x = element_text(angle=90, hjust=1))\n",
    "p1\n",
    "dev.off()"
   ]
  },
  {
   "cell_type": "code",
   "execution_count": 136,
   "metadata": {},
   "outputs": [
    {
     "data": {
      "text/html": [
       "<strong>pdf:</strong> 2"
      ],
      "text/latex": [
       "\\textbf{pdf:} 2"
      ],
      "text/markdown": [
       "**pdf:** 2"
      ],
      "text/plain": [
       "pdf \n",
       "  2 "
      ]
     },
     "metadata": {},
     "output_type": "display_data"
    }
   ],
   "source": [
    "conos <- prop.table(table(meta$SampleID, meta$Conos_clusters), margin = 2)\n",
    "conos <- data.matrix(conos)\n",
    "conos <- data.frame(conos)\n",
    "colnames(conos) <- c(\"Sample\", \"Cluster\", \"Prop\")\n",
    "\n",
    "pdf(\"Conos_ClusterProportions.pdf\", height = 8, width = 23)\n",
    "p1 <- ggplot() + geom_bar(aes(y=Prop, x=Cluster, fill = Sample), data = conos, stat = \"identity\") +\n",
    "     scale_fill_manual(values = cols) + theme_classic() + ggtitle(\"Conos\") + \n",
    "     xlab(\"\") + ylab(\"Proportion Cluster\") + \n",
    "     theme(text = element_text(size=20), axis.text.x = element_text(angle=90, hjust=1))\n",
    "p1\n",
    "dev.off()"
   ]
  },
  {
   "cell_type": "code",
   "execution_count": 137,
   "metadata": {},
   "outputs": [
    {
     "data": {
      "text/html": [
       "<strong>pdf:</strong> 2"
      ],
      "text/latex": [
       "\\textbf{pdf:} 2"
      ],
      "text/markdown": [
       "**pdf:** 2"
      ],
      "text/plain": [
       "pdf \n",
       "  2 "
      ]
     },
     "metadata": {},
     "output_type": "display_data"
    }
   ],
   "source": [
    "liger <- prop.table(table(meta$SampleID, meta$Liger_clusters), margin = 2)\n",
    "liger<- data.matrix(liger)\n",
    "liger <- data.frame(liger)\n",
    "colnames(liger) <- c(\"Sample\", \"Cluster\", \"Prop\")\n",
    "\n",
    "pdf(\"Liger_ClusterProportions.pdf\", height = 8, width = 23)\n",
    "p1 <- ggplot() + geom_bar(aes(y=Prop, x=Cluster, fill = Sample), data = liger, stat = \"identity\") +\n",
    "     scale_fill_manual(values = cols) + theme_classic() + ggtitle(\"Liger\") + \n",
    "     xlab(\"\") + ylab(\"Proportion Cluster\") + \n",
    "     theme(text = element_text(size=20), axis.text.x = element_text(angle=90, hjust=1))\n",
    "p1\n",
    "dev.off()\n"
   ]
  },
  {
   "cell_type": "code",
   "execution_count": 138,
   "metadata": {},
   "outputs": [
    {
     "data": {
      "text/html": [
       "<strong>pdf:</strong> 2"
      ],
      "text/latex": [
       "\\textbf{pdf:} 2"
      ],
      "text/markdown": [
       "**pdf:** 2"
      ],
      "text/plain": [
       "pdf \n",
       "  2 "
      ]
     },
     "metadata": {},
     "output_type": "display_data"
    }
   ],
   "source": [
    "fastmnn <- prop.table(table(meta$SampleID, meta$fastMNN_clusters), margin = 2)\n",
    "fastmnn<- data.matrix(fastmnn)\n",
    "fastmnn <- data.frame(fastmnn)\n",
    "colnames(fastmnn) <- c(\"Sample\", \"Cluster\", \"Prop\")\n",
    "\n",
    "pdf(\"fastMNN_ClusterProportions.pdf\", height = 8, width = 23)\n",
    "p1 <- ggplot() + geom_bar(aes(y=Prop, x=Cluster, fill = Sample), data = fastmnn, stat = \"identity\") +\n",
    "     scale_fill_manual(values = cols) + theme_classic() + ggtitle(\"fastMNN\") + \n",
    "     xlab(\"\") + ylab(\"Proportion Cluster\") + \n",
    "     theme(text = element_text(size=20), axis.text.x = element_text(angle=90, hjust=1))\n",
    "p1\n",
    "dev.off()"
   ]
  },
  {
   "cell_type": "code",
   "execution_count": null,
   "metadata": {
    "collapsed": true
   },
   "outputs": [],
   "source": []
  }
 ],
 "metadata": {
  "kernelspec": {
   "display_name": "R",
   "language": "R",
   "name": "ir"
  },
  "language_info": {
   "codemirror_mode": "r",
   "file_extension": ".r",
   "mimetype": "text/x-r-source",
   "name": "R",
   "pygments_lexer": "r",
   "version": "3.6.3"
  }
 },
 "nbformat": 4,
 "nbformat_minor": 2
}
