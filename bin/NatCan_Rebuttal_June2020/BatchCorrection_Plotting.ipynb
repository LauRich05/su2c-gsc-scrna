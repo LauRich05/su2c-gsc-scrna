{
 "cells": [
  {
   "cell_type": "markdown",
   "metadata": {},
   "source": [
    "----\n",
    "# Visualize results from batch correction bake off\n",
    "---"
   ]
  },
  {
   "cell_type": "code",
   "execution_count": 21,
   "metadata": {},
   "outputs": [
    {
     "name": "stderr",
     "output_type": "stream",
     "text": [
      "\n",
      "Attaching package: ‘dplyr’\n",
      "\n",
      "\n",
      "The following objects are masked from ‘package:stats’:\n",
      "\n",
      "    filter, lag\n",
      "\n",
      "\n",
      "The following objects are masked from ‘package:base’:\n",
      "\n",
      "    intersect, setdiff, setequal, union\n",
      "\n",
      "\n"
     ]
    }
   ],
   "source": [
    "options(repos='http://cran.rstudio.com/')\n",
    "#install.packages(\"ggExtra\")\n",
    "library(Seurat)\n",
    "library(ggplot2)\n",
    "library(ggpubr)\n",
    "library(ggExtra)\n",
    "library(ggrepel)\n",
    "library(dplyr)"
   ]
  },
  {
   "cell_type": "code",
   "execution_count": 3,
   "metadata": {
    "collapsed": true
   },
   "outputs": [],
   "source": [
    "setwd(\"~/Desktop/H4H/pughlab/projects/BTSCs_scRNAseq/Manuscript_G607removed/NatCan_Rebuttal/BatchCorrection/\")"
   ]
  },
  {
   "cell_type": "markdown",
   "metadata": {},
   "source": [
    "----\n",
    "## 1.0 Plot UMAPs\n",
    "----"
   ]
  },
  {
   "cell_type": "code",
   "execution_count": 4,
   "metadata": {
    "collapsed": true
   },
   "outputs": [],
   "source": [
    "#load data\n",
    "meta <- readRDS(\"Global_GSC_BatchCorrection_metadata.rds\")"
   ]
  },
  {
   "cell_type": "code",
   "execution_count": 7,
   "metadata": {},
   "outputs": [
    {
     "data": {
      "text/html": [
       "<style>\n",
       ".list-inline {list-style: none; margin:0; padding: 0}\n",
       ".list-inline>li {display: inline-block}\n",
       ".list-inline>li:not(:last-child)::after {content: \"\\00b7\"; padding: 0 .5ex}\n",
       "</style>\n",
       "<ol class=list-inline><li>'nGene'</li><li>'nUMI'</li><li>'percent.mito'</li><li>'PatientID'</li><li>'SampleID'</li><li>'Passage'</li><li>'CultureMethod'</li><li>'Pathology'</li><li>'Stage'</li><li>'Age'</li><li>'Sex'</li><li>'IDH12_Status'</li><li>'SphereFormation_Percent'</li><li>'DoublingTime_Hrs'</li><li>'OrthotopicXenoSurvival_Days'</li><li>'BulkRNA_Cluster'</li><li>'S.Score'</li><li>'G2M.Score'</li><li>'Phase'</li><li>'CC.Difference'</li><li>'Cluster.ID'</li><li>'Opt.Resolution'</li><li>'IntraBTSC.ID'</li><li>'Original_clusters'</li><li>'Original_UMAP1'</li><li>'Original_UMAP2'</li><li>'Conos_clusters'</li><li>'Conos_UMAP1'</li><li>'Conos_UMAP2'</li><li>'Liger_clusters'</li><li>'Liger_quantNorm_clusters'</li><li>'Liger_UMAP1'</li><li>'Liger_UMAP2'</li><li>'fastMNN_clusters'</li><li>'fastMNN_UMAP1'</li><li>'fastMNN_UMAP2'</li></ol>\n"
      ],
      "text/latex": [
       "\\begin{enumerate*}\n",
       "\\item 'nGene'\n",
       "\\item 'nUMI'\n",
       "\\item 'percent.mito'\n",
       "\\item 'PatientID'\n",
       "\\item 'SampleID'\n",
       "\\item 'Passage'\n",
       "\\item 'CultureMethod'\n",
       "\\item 'Pathology'\n",
       "\\item 'Stage'\n",
       "\\item 'Age'\n",
       "\\item 'Sex'\n",
       "\\item 'IDH12\\_Status'\n",
       "\\item 'SphereFormation\\_Percent'\n",
       "\\item 'DoublingTime\\_Hrs'\n",
       "\\item 'OrthotopicXenoSurvival\\_Days'\n",
       "\\item 'BulkRNA\\_Cluster'\n",
       "\\item 'S.Score'\n",
       "\\item 'G2M.Score'\n",
       "\\item 'Phase'\n",
       "\\item 'CC.Difference'\n",
       "\\item 'Cluster.ID'\n",
       "\\item 'Opt.Resolution'\n",
       "\\item 'IntraBTSC.ID'\n",
       "\\item 'Original\\_clusters'\n",
       "\\item 'Original\\_UMAP1'\n",
       "\\item 'Original\\_UMAP2'\n",
       "\\item 'Conos\\_clusters'\n",
       "\\item 'Conos\\_UMAP1'\n",
       "\\item 'Conos\\_UMAP2'\n",
       "\\item 'Liger\\_clusters'\n",
       "\\item 'Liger\\_quantNorm\\_clusters'\n",
       "\\item 'Liger\\_UMAP1'\n",
       "\\item 'Liger\\_UMAP2'\n",
       "\\item 'fastMNN\\_clusters'\n",
       "\\item 'fastMNN\\_UMAP1'\n",
       "\\item 'fastMNN\\_UMAP2'\n",
       "\\end{enumerate*}\n"
      ],
      "text/markdown": [
       "1. 'nGene'\n",
       "2. 'nUMI'\n",
       "3. 'percent.mito'\n",
       "4. 'PatientID'\n",
       "5. 'SampleID'\n",
       "6. 'Passage'\n",
       "7. 'CultureMethod'\n",
       "8. 'Pathology'\n",
       "9. 'Stage'\n",
       "10. 'Age'\n",
       "11. 'Sex'\n",
       "12. 'IDH12_Status'\n",
       "13. 'SphereFormation_Percent'\n",
       "14. 'DoublingTime_Hrs'\n",
       "15. 'OrthotopicXenoSurvival_Days'\n",
       "16. 'BulkRNA_Cluster'\n",
       "17. 'S.Score'\n",
       "18. 'G2M.Score'\n",
       "19. 'Phase'\n",
       "20. 'CC.Difference'\n",
       "21. 'Cluster.ID'\n",
       "22. 'Opt.Resolution'\n",
       "23. 'IntraBTSC.ID'\n",
       "24. 'Original_clusters'\n",
       "25. 'Original_UMAP1'\n",
       "26. 'Original_UMAP2'\n",
       "27. 'Conos_clusters'\n",
       "28. 'Conos_UMAP1'\n",
       "29. 'Conos_UMAP2'\n",
       "30. 'Liger_clusters'\n",
       "31. 'Liger_quantNorm_clusters'\n",
       "32. 'Liger_UMAP1'\n",
       "33. 'Liger_UMAP2'\n",
       "34. 'fastMNN_clusters'\n",
       "35. 'fastMNN_UMAP1'\n",
       "36. 'fastMNN_UMAP2'\n",
       "\n",
       "\n"
      ],
      "text/plain": [
       " [1] \"nGene\"                       \"nUMI\"                       \n",
       " [3] \"percent.mito\"                \"PatientID\"                  \n",
       " [5] \"SampleID\"                    \"Passage\"                    \n",
       " [7] \"CultureMethod\"               \"Pathology\"                  \n",
       " [9] \"Stage\"                       \"Age\"                        \n",
       "[11] \"Sex\"                         \"IDH12_Status\"               \n",
       "[13] \"SphereFormation_Percent\"     \"DoublingTime_Hrs\"           \n",
       "[15] \"OrthotopicXenoSurvival_Days\" \"BulkRNA_Cluster\"            \n",
       "[17] \"S.Score\"                     \"G2M.Score\"                  \n",
       "[19] \"Phase\"                       \"CC.Difference\"              \n",
       "[21] \"Cluster.ID\"                  \"Opt.Resolution\"             \n",
       "[23] \"IntraBTSC.ID\"                \"Original_clusters\"          \n",
       "[25] \"Original_UMAP1\"              \"Original_UMAP2\"             \n",
       "[27] \"Conos_clusters\"              \"Conos_UMAP1\"                \n",
       "[29] \"Conos_UMAP2\"                 \"Liger_clusters\"             \n",
       "[31] \"Liger_quantNorm_clusters\"    \"Liger_UMAP1\"                \n",
       "[33] \"Liger_UMAP2\"                 \"fastMNN_clusters\"           \n",
       "[35] \"fastMNN_UMAP1\"               \"fastMNN_UMAP2\"              "
      ]
     },
     "metadata": {},
     "output_type": "display_data"
    }
   ],
   "source": [
    "colnames(meta)"
   ]
  },
  {
   "cell_type": "code",
   "execution_count": 8,
   "metadata": {},
   "outputs": [
    {
     "data": {
      "text/html": [
       "29"
      ],
      "text/latex": [
       "29"
      ],
      "text/markdown": [
       "29"
      ],
      "text/plain": [
       "[1] 29"
      ]
     },
     "metadata": {},
     "output_type": "display_data"
    }
   ],
   "source": [
    "## Define sample color palette\n",
    "\n",
    "colfunc <- colorRampPalette(c(\"#54278f\", \"#bcbddc\", \"#084081\", \"#4eb3d3\", \"#238b45\", \"#ccebc5\"))\n",
    "dirks <- colfunc(21)\n",
    "colfunc <- colorRampPalette(c(\"#800026\", \"#fc4e2a\", \"#feb24c\", \"#ffeda0\"))\n",
    "weiss <- colfunc(8)\n",
    "cols <- c(weiss, dirks)\n",
    "length(cols)"
   ]
  },
  {
   "cell_type": "code",
   "execution_count": 43,
   "metadata": {},
   "outputs": [
    {
     "name": "stderr",
     "output_type": "stream",
     "text": [
      "Adding missing grouping variables: `Original_clusters`\n",
      "\n"
     ]
    },
    {
     "data": {
      "text/html": [
       "<strong>pdf:</strong> 2"
      ],
      "text/latex": [
       "\\textbf{pdf:} 2"
      ],
      "text/markdown": [
       "**pdf:** 2"
      ],
      "text/plain": [
       "pdf \n",
       "  2 "
      ]
     },
     "metadata": {},
     "output_type": "display_data"
    },
    {
     "data": {
      "text/html": [
       "<strong>pdf:</strong> 2"
      ],
      "text/latex": [
       "\\textbf{pdf:} 2"
      ],
      "text/markdown": [
       "**pdf:** 2"
      ],
      "text/plain": [
       "pdf \n",
       "  2 "
      ]
     },
     "metadata": {},
     "output_type": "display_data"
    }
   ],
   "source": [
    "#### ORIGINAL CLUSTERING\n",
    "\n",
    "\n",
    "#calculate centroids \n",
    "hc.norm.cent <- meta %>% group_by(Original_clusters) %>% select(Original_UMAP1, \n",
    "    Original_UMAP2) %>% summarize_all(median)\n",
    "#hc.norm.cent\n",
    "\n",
    "\n",
    "\n",
    "original_sample <- ggplot(meta, aes(x=Original_UMAP1, y=Original_UMAP2, color=SampleID)) + \n",
    "                   geom_point(alpha = 0.3, size = 0.8, pch = 16) +  \n",
    "                   labs(x = \"UMAP 1\", y = \"UMAP 2\") +\n",
    "                   scale_colour_manual(values = cols) + \n",
    "                   theme_bw() + \n",
    "                   theme(axis.text.x = element_blank(), axis.text.y = element_blank(), \n",
    "                         axis.ticks = element_blank(),\n",
    "                        panel.border = element_rect(linetype = \"solid\", fill = NA, size = 1),\n",
    "                        panel.grid.major = element_blank(), panel.grid.minor = element_blank(),\n",
    "                        panel.background = element_blank())  +\n",
    "                    guides(colour = guide_legend(override.aes = list(size=4, alpha = 1))) +\n",
    "                    theme(legend.position=\"none\") \n",
    "\n",
    "original_clusters <- ggplot(meta, aes(x=Original_UMAP1, y=Original_UMAP2, color=Original_clusters)) + \n",
    "                   geom_point(alpha = 0.3, size = 0.8, pch = 16) +  \n",
    "                   labs(x = \"UMAP 1\", y = \"UMAP 2\") +\n",
    "                   #scale_colour_manual(values = cols) + \n",
    "                   theme_bw() + \n",
    "                   theme(axis.text.x = element_blank(), axis.text.y = element_blank(), \n",
    "                         axis.ticks = element_blank(),\n",
    "                        panel.border = element_rect(linetype = \"solid\", fill = NA, size = 1),\n",
    "                        panel.grid.major = element_blank(), panel.grid.minor = element_blank(),\n",
    "                        panel.background = element_blank())  +\n",
    "                    guides(colour = guide_legend(override.aes = list(size=4, alpha = 1))) +\n",
    "                    theme(legend.position=\"none\") +\n",
    "                    geom_label_repel(aes(label = Original_clusters), \n",
    "                                     data = hc.norm.cent, \n",
    "                                     label.size = 0.05, \n",
    "                                     parse = T, \n",
    "                                     size = 3)\n",
    "\n",
    "pdf(\"~/Desktop/OriginalClustering_NatCan_Cluster.pdf\", width = 8, height= 8)\n",
    "original_clusters\n",
    "dev.off()\n",
    "\n",
    "pdf(\"~/Desktop/OriginalClustering_NatCan_Sample.pdf\", width = 8, height= 8)\n",
    "original_sample\n",
    "dev.off()"
   ]
  },
  {
   "cell_type": "code",
   "execution_count": 40,
   "metadata": {},
   "outputs": [
    {
     "name": "stderr",
     "output_type": "stream",
     "text": [
      "Adding missing grouping variables: `Conos_clusters`\n",
      "\n"
     ]
    },
    {
     "data": {
      "text/html": [
       "<strong>pdf:</strong> 2"
      ],
      "text/latex": [
       "\\textbf{pdf:} 2"
      ],
      "text/markdown": [
       "**pdf:** 2"
      ],
      "text/plain": [
       "pdf \n",
       "  2 "
      ]
     },
     "metadata": {},
     "output_type": "display_data"
    },
    {
     "data": {
      "text/html": [
       "<strong>pdf:</strong> 2"
      ],
      "text/latex": [
       "\\textbf{pdf:} 2"
      ],
      "text/markdown": [
       "**pdf:** 2"
      ],
      "text/plain": [
       "pdf \n",
       "  2 "
      ]
     },
     "metadata": {},
     "output_type": "display_data"
    }
   ],
   "source": [
    "#### CONOS Clustering\n",
    "\n",
    "\n",
    "#calculate centroids \n",
    "hc.norm.cent <- meta %>% group_by(Conos_clusters) %>% select(Conos_UMAP1, \n",
    "    Conos_UMAP2) %>% summarize_all(median)\n",
    "#hc.norm.cent\n",
    "\n",
    "\n",
    "\n",
    "Conos_sample <- ggplot(meta, aes(x=Conos_UMAP1, y=Conos_UMAP2, color=SampleID)) + \n",
    "                   geom_point(alpha = 0.3, size = 0.8, pch = 16) +  \n",
    "                   labs(x = \"UMAP 1\", y = \"UMAP 2\") +\n",
    "                   scale_colour_manual(values = cols) + \n",
    "                   theme_bw() + \n",
    "                   theme(axis.text.x = element_blank(), axis.text.y = element_blank(), \n",
    "                         axis.ticks = element_blank(),\n",
    "                        panel.border = element_rect(linetype = \"solid\", fill = NA, size = 1),\n",
    "                        panel.grid.major = element_blank(), panel.grid.minor = element_blank(),\n",
    "                        panel.background = element_blank())  +\n",
    "                    guides(colour = guide_legend(override.aes = list(size=4, alpha = 1))) +\n",
    "                    theme(legend.position=\"bottom\") + theme(legend.position=\"none\")\n",
    "\n",
    "Conos_clusters <- ggplot(meta, aes(x=Conos_UMAP1, y=Conos_UMAP2, color=Conos_clusters)) + \n",
    "                   geom_point(alpha = 0.3, size = 0.8, pch = 16) +  \n",
    "                   labs(x = \"UMAP 1\", y = \"UMAP 2\") +\n",
    "                   #scale_colour_manual(values = cols) + \n",
    "                   theme_bw() + \n",
    "                   theme(axis.text.x = element_blank(), axis.text.y = element_blank(), \n",
    "                         axis.ticks = element_blank(),\n",
    "                        panel.border = element_rect(linetype = \"solid\", fill = NA, size = 1),\n",
    "                        panel.grid.major = element_blank(), panel.grid.minor = element_blank(),\n",
    "                        panel.background = element_blank())  +\n",
    "                    guides(colour = guide_legend(override.aes = list(size=4, alpha = 1))) +\n",
    "                    theme(legend.position=\"none\") +\n",
    "                    geom_label_repel(aes(label = Conos_clusters), \n",
    "                                     data = hc.norm.cent, \n",
    "                                     label.size = 0.05, \n",
    "                                     parse = T, \n",
    "                                     size = 3)\n",
    "\n",
    "pdf(\"~/Desktop/ConosClustering_NatCan_Cluster.pdf\", width = 8, height= 8)\n",
    "Conos_clusters\n",
    "dev.off()\n",
    "\n",
    "pdf(\"~/Desktop/ConosClustering_NatCan_Sample.pdf\", width = 8, height= 8)\n",
    "Conos_sample\n",
    "dev.off()"
   ]
  },
  {
   "cell_type": "code",
   "execution_count": 41,
   "metadata": {},
   "outputs": [
    {
     "name": "stderr",
     "output_type": "stream",
     "text": [
      "Adding missing grouping variables: `Liger_clusters`\n",
      "\n"
     ]
    },
    {
     "data": {
      "text/html": [
       "<strong>pdf:</strong> 2"
      ],
      "text/latex": [
       "\\textbf{pdf:} 2"
      ],
      "text/markdown": [
       "**pdf:** 2"
      ],
      "text/plain": [
       "pdf \n",
       "  2 "
      ]
     },
     "metadata": {},
     "output_type": "display_data"
    },
    {
     "data": {
      "text/html": [
       "<strong>pdf:</strong> 2"
      ],
      "text/latex": [
       "\\textbf{pdf:} 2"
      ],
      "text/markdown": [
       "**pdf:** 2"
      ],
      "text/plain": [
       "pdf \n",
       "  2 "
      ]
     },
     "metadata": {},
     "output_type": "display_data"
    }
   ],
   "source": [
    "#### Liger Clustering\n",
    "\n",
    "\n",
    "#calculate centroids \n",
    "hc.norm.cent <- meta %>% group_by(Liger_clusters) %>% select(Liger_UMAP1, \n",
    "    Liger_UMAP2) %>% summarize_all(median)\n",
    "#hc.norm.cent\n",
    "\n",
    "\n",
    "\n",
    "Liger_sample <- ggplot(meta, aes(x=Liger_UMAP1, y=Liger_UMAP2, color=SampleID)) + \n",
    "                   geom_point(alpha = 0.3, size = 0.8, pch = 16) +  \n",
    "                   labs(x = \"UMAP 1\", y = \"UMAP 2\") +\n",
    "                   scale_colour_manual(values = cols) + \n",
    "                   theme_bw() + \n",
    "                   theme(axis.text.x = element_blank(), axis.text.y = element_blank(), \n",
    "                         axis.ticks = element_blank(),\n",
    "                        panel.border = element_rect(linetype = \"solid\", fill = NA, size = 1),\n",
    "                        panel.grid.major = element_blank(), panel.grid.minor = element_blank(),\n",
    "                        panel.background = element_blank())  +\n",
    "                    guides(colour = guide_legend(override.aes = list(size=4, alpha = 1))) +\n",
    "                    theme(legend.position=\"bottom\") + theme(legend.position=\"none\")\n",
    "\n",
    "Liger_clusters <- ggplot(meta, aes(x=Liger_UMAP1, y=Liger_UMAP2, color=Liger_clusters)) + \n",
    "                   geom_point(alpha = 0.3, size = 0.8, pch = 16) +  \n",
    "                   labs(x = \"UMAP 1\", y = \"UMAP 2\") +\n",
    "                   #scale_colour_manual(values = cols) + \n",
    "                   theme_bw() + \n",
    "                   theme(axis.text.x = element_blank(), axis.text.y = element_blank(), \n",
    "                         axis.ticks = element_blank(),\n",
    "                        panel.border = element_rect(linetype = \"solid\", fill = NA, size = 1),\n",
    "                        panel.grid.major = element_blank(), panel.grid.minor = element_blank(),\n",
    "                        panel.background = element_blank())  +\n",
    "                    guides(colour = guide_legend(override.aes = list(size=4, alpha = 1))) +\n",
    "                    theme(legend.position=\"none\") +\n",
    "                    geom_label_repel(aes(label = Liger_clusters), \n",
    "                                     data = hc.norm.cent, \n",
    "                                     label.size = 0.05, \n",
    "                                     parse = T, \n",
    "                                     size = 3)\n",
    "\n",
    "pdf(\"~/Desktop/LigerClustering_NatCan_Cluster.pdf\", width = 8, height= 8)\n",
    "Liger_clusters\n",
    "dev.off()\n",
    "\n",
    "pdf(\"~/Desktop/LigerClustering_NatCan_Sample.pdf\", width = 8, height= 8)\n",
    "Liger_sample\n",
    "dev.off()"
   ]
  },
  {
   "cell_type": "code",
   "execution_count": 44,
   "metadata": {},
   "outputs": [
    {
     "name": "stderr",
     "output_type": "stream",
     "text": [
      "Adding missing grouping variables: `fastMNN_clusters`\n",
      "\n"
     ]
    },
    {
     "data": {
      "text/html": [
       "<strong>pdf:</strong> 2"
      ],
      "text/latex": [
       "\\textbf{pdf:} 2"
      ],
      "text/markdown": [
       "**pdf:** 2"
      ],
      "text/plain": [
       "pdf \n",
       "  2 "
      ]
     },
     "metadata": {},
     "output_type": "display_data"
    },
    {
     "data": {
      "text/html": [
       "<strong>pdf:</strong> 2"
      ],
      "text/latex": [
       "\\textbf{pdf:} 2"
      ],
      "text/markdown": [
       "**pdf:** 2"
      ],
      "text/plain": [
       "pdf \n",
       "  2 "
      ]
     },
     "metadata": {},
     "output_type": "display_data"
    }
   ],
   "source": [
    "#### fastMNN Clustering\n",
    "\n",
    "\n",
    "#calculate centroids \n",
    "hc.norm.cent <- meta %>% group_by(fastMNN_clusters) %>% select(fastMNN_UMAP1, \n",
    "    fastMNN_UMAP2) %>% summarize_all(median)\n",
    "#hc.norm.cent\n",
    "\n",
    "\n",
    "\n",
    "fastMNN_sample <- ggplot(meta, aes(x=fastMNN_UMAP1, y=fastMNN_UMAP2, color=SampleID)) + \n",
    "                   geom_point(alpha = 0.3, size = 0.8, pch = 16) +  \n",
    "                   labs(x = \"UMAP 1\", y = \"UMAP 2\") +\n",
    "                   scale_colour_manual(values = cols) + \n",
    "                   theme_bw() + \n",
    "                   theme(axis.text.x = element_blank(), axis.text.y = element_blank(), \n",
    "                         axis.ticks = element_blank(),\n",
    "                        panel.border = element_rect(linetype = \"solid\", fill = NA, size = 1),\n",
    "                        panel.grid.major = element_blank(), panel.grid.minor = element_blank(),\n",
    "                        panel.background = element_blank())  +\n",
    "                    guides(colour = guide_legend(override.aes = list(size=4, alpha = 1))) +\n",
    "                    theme(legend.position=\"bottom\") + theme(legend.position=\"none\")\n",
    "\n",
    "fastMNN_clusters <- ggplot(meta, aes(x=fastMNN_UMAP1, y=fastMNN_UMAP2, color=fastMNN_clusters)) + \n",
    "                   geom_point(alpha = 0.3, size = 0.8, pch = 16) +  \n",
    "                   labs(x = \"UMAP 1\", y = \"UMAP 2\") +\n",
    "                   #scale_colour_manual(values = cols) + \n",
    "                   theme_bw() + \n",
    "                   theme(axis.text.x = element_blank(), axis.text.y = element_blank(), \n",
    "                         axis.ticks = element_blank(),\n",
    "                        panel.border = element_rect(linetype = \"solid\", fill = NA, size = 1),\n",
    "                        panel.grid.major = element_blank(), panel.grid.minor = element_blank(),\n",
    "                        panel.background = element_blank())  +\n",
    "                    guides(colour = guide_legend(override.aes = list(size=4, alpha = 1))) +\n",
    "                    theme(legend.position=\"none\") +\n",
    "                    geom_label_repel(aes(label = fastMNN_clusters), \n",
    "                                     data = hc.norm.cent, \n",
    "                                     label.size = 0.05, \n",
    "                                     parse = T, \n",
    "                                     size = 3)\n",
    "\n",
    "pdf(\"~/Desktop/fastMNNClustering_NatCan_Cluster.pdf\", width = 8, height= 8)\n",
    "fastMNN_clusters\n",
    "dev.off()\n",
    "\n",
    "pdf(\"~/Desktop/fastMNNClustering_NatCan_Sample.pdf\", width = 8, height= 8)\n",
    "fastMNN_sample\n",
    "dev.off()"
   ]
  },
  {
   "cell_type": "code",
   "execution_count": null,
   "metadata": {
    "collapsed": true
   },
   "outputs": [],
   "source": []
  }
 ],
 "metadata": {
  "kernelspec": {
   "display_name": "R",
   "language": "R",
   "name": "ir"
  },
  "language_info": {
   "codemirror_mode": "r",
   "file_extension": ".r",
   "mimetype": "text/x-r-source",
   "name": "R",
   "pygments_lexer": "r",
   "version": "3.6.3"
  }
 },
 "nbformat": 4,
 "nbformat_minor": 2
}
