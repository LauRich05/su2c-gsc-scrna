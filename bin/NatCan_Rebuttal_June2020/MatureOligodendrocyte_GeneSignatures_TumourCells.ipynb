{
 "cells": [
  {
   "cell_type": "markdown",
   "metadata": {},
   "source": [
    "----\n",
    "# Plot Oligodendrocyte Gene Signature Heatmap in Tumor Cells\n",
    "----\n",
    "\n",
    "We want to show which cell types are most similar to Tumour cells across patients\n",
    "\n",
    "/cluster/projects/pughlab/projects/BTSCs_scRNAseq/Manuscript_G607removed/NatCan_Rebuttal/MatureOligodendrocytes"
   ]
  },
  {
   "cell_type": "code",
   "execution_count": 2,
   "metadata": {},
   "outputs": [],
   "source": [
    "library(pheatmap)\n",
    "setwd(\"~/Desktop/H4H/pughlab/projects/BTSCs_scRNAseq/Manuscript_G607removed/NatCan_Rebuttal/MatureOligodendrocytes\")"
   ]
  },
  {
   "cell_type": "code",
   "execution_count": null,
   "metadata": {},
   "outputs": [],
   "source": [
    "meta <- readRDS(\"~/Desktop/H4H/pughlab/projects/BTSCs_scRNAseq/Manuscript_G607removed/NatCan_Rebuttal/AstrocyteScoring/GSC_Tumours/Astrocyte_AUCell_meta_GSC_T.rds\")\n",
    "colnames(meta) <- gsub(\"Population\", \"AstrocytePopulation\", colnames(meta))\n",
    "head(meta)"
   ]
  },
  {
   "cell_type": "code",
   "execution_count": null,
   "metadata": {
    "collapsed": true
   },
   "outputs": [],
   "source": []
  },
  {
   "cell_type": "code",
   "execution_count": null,
   "metadata": {
    "collapsed": true
   },
   "outputs": [],
   "source": []
  },
  {
   "cell_type": "code",
   "execution_count": null,
   "metadata": {
    "collapsed": true
   },
   "outputs": [],
   "source": []
  },
  {
   "cell_type": "code",
   "execution_count": null,
   "metadata": {
    "collapsed": true
   },
   "outputs": [],
   "source": [
    "col<- colorRampPalette(c(\"blue\", \"white\", \"red\"))(20)\n",
    "pheatmap(corr.mat, \n",
    "          col = col,\n",
    "         cutree_cols = 3,\n",
    "         cutree_rows = 3,\n",
    "         angle_col = 270,\n",
    "         filename = \"TumourCells_AllGeneSigs_DevIR.pdf\",\n",
    "         height = 8,\n",
    "         width = 8\n",
    "         )\n"
   ]
  }
 ],
 "metadata": {
  "kernelspec": {
   "display_name": "R",
   "language": "R",
   "name": "ir"
  },
  "language_info": {
   "codemirror_mode": "r",
   "file_extension": ".r",
   "mimetype": "text/x-r-source",
   "name": "R",
   "pygments_lexer": "r",
   "version": "3.6.3"
  }
 },
 "nbformat": 4,
 "nbformat_minor": 2
}
