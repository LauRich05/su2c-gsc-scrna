{
 "cells": [
  {
   "cell_type": "markdown",
   "metadata": {},
   "source": [
    "---\n",
    "# Plot effect of CNVs on marker genes\n",
    "---\n",
    "\n",
    "/cluster/projects/pughlab/projects/BTSCs_scRNAseq/Manuscript_G607removed/NatCan_Rebuttal/MarkerGenes_CNVs\n",
    "\n",
    "Reference notebook: Visualize_CNVs_Cluster_June2019"
   ]
  },
  {
   "cell_type": "code",
   "execution_count": 2,
   "metadata": {
    "collapsed": true
   },
   "outputs": [],
   "source": [
    "setwd(\"~/Desktop/H4H/pughlab/projects/BTSCs_scRNAseq/Manuscript_G607removed/NatCan_Rebuttal/MarkerGenes_CNVs\")"
   ]
  },
  {
   "cell_type": "markdown",
   "metadata": {},
   "source": [
    "----\n",
    "## 1.0 Data cleaning\n",
    "----"
   ]
  },
  {
   "cell_type": "markdown",
   "metadata": {},
   "source": [
    "#### 1.1 Format marker gene file"
   ]
  },
  {
   "cell_type": "raw",
   "metadata": {},
   "source": [
    "library(Seurat)\n",
    "\n",
    "### load marker genes\n",
    "#markergenes <- read.csv(\"TableS3_GSC_cluster_markers.csv\") ### this was only top 50 fml....\n",
    "markergenes <- readRDS(\"AllMarkers_IntraGSC.rds\")\n",
    "head(markergenes)\n",
    "genes <- markergenes$Gene\n",
    "\n",
    "### add cluster average expression column\n",
    "load(\"/cluster/projects/pughlab/projects/BTSCs_scRNAseq/Manuscript_G607removed/Broad_Portal/seuratObjs/Global_SU2C_BTSCs_CCregressed_noRibo.Rdata\")\n",
    "head(BTSC@meta.data)\n",
    "BTSC <- UpdateSeuratObject(BTSC)\n",
    "Idents(BTSC) <- \"IntraBTSC.ID\"\n",
    "cluster.averages <- AverageExpression(object = BTSC)\n",
    "cluster.averages <- cluster.averages$RNA\n",
    "saveRDS(cluster.averages, file = \"IntraGSC_ClusterAvg.rds\")\n",
    "\n",
    "avg.exp <- c()\n",
    "for (i in 1:nrow(markergenes)){\n",
    "    avg.exp[i] <- cluster.averages[as.character(markergenes$Gene[i]),\n",
    "                                   as.character(markergenes$Cluster[i])\n",
    "                                  ]\n",
    "}\n",
    "markergenes$AverageExpression <- avg.exp\n",
    "head(markergenes)\n",
    "\n",
    "### add cluster avergae inferCNV score column\n",
    "load(\"GlobalBTSC_CNVs_averge.RData\")\n",
    "head(avg.cnv.df)\n",
    "\n",
    "avg.cnv <- c()\n",
    "for (i in 1:nrow(markergenes)){\n",
    "    avg.cnv[i] <- avg.cnv.df[as.character(markergenes$Gene[i]),\n",
    "                                   as.character(markergenes$Cluster[i])\n",
    "                                  ]\n",
    "}\n",
    "markergenes$AverageCNV <- avg.cnv\n",
    "head(markergenes)\n",
    "\n",
    "### add chr arm position to marker genes\n",
    "gene.pos <- readRDS(\"GenePosition_Chrarm.rds\")\n",
    "chr.arm <- c()\n",
    "for (i in 1:nrow(markergenes)){\n",
    "    chr.arm[i] <- gene.pos[as.character(markergenes$Gene[i]), ]$arm\n",
    "}\n",
    "markergenes$ChromosomeArm <- chr.arm\n",
    "head(markergenes)\n",
    "\n",
    "saveRDS(markergenes, file = \"Markers_Exp_CNVs.rds\")"
   ]
  },
  {
   "cell_type": "markdown",
   "metadata": {},
   "source": [
    "#### 1.2 Make gene position file with chromosome arm"
   ]
  },
  {
   "cell_type": "raw",
   "metadata": {},
   "source": [
    "### make a matrix of average chr arm expression across clusters\n",
    "chrarms <- read.table(\"~/pughlab/projects/BTSCs_scRNAseq/Manuscript_G607removed/NatCan_Rebuttal/CNV_TCGA/data/chr_arms.txt\", header = T)\n",
    "head(chrarms)\n",
    "\n",
    "### load start and end positions for all genes\n",
    "gene.pos <- read.table(\"~/pughlab/projects/OICR_Brain_NucSeq/GBM/analysis/inferCNV/input/GRCh38-1.2.0_premrna_genomicPositions.txt\")\n",
    "colnames(gene.pos) <- c(\"Gene\", \"Chromosome\", \"Start\", \"End\")\n",
    "rownames(gene.pos) <- gene.pos$Gene\n",
    "head(gene.pos)\n",
    "\n",
    "### match genes to chromsome arm\n",
    "gene.arm <- c()\n",
    "\n",
    "for (i in 1:nrow(gene.pos)){\n",
    "\n",
    "     arm.subset <- chrarms[chrarms$Chrom == gene.pos$Chromosome[i] ,]\n",
    "     gene.arm[i] <- ifelse(gene.pos$End[i] > arm.subset[1 ,\"End\"],\n",
    "           as.character(arm.subset$Idf[2]), #greater than p arm end = q\n",
    "           as.character(arm.subset$Idf[1]) #NOT greater than p arm end = p\n",
    "         )\n",
    "}\n",
    "gene.pos$arm <- gene.arm\n",
    "#head(gene.pos)\n",
    "\n",
    "saveRDS(gene.pos, file = \"GenePosition_Chrarm.rds\")"
   ]
  },
  {
   "cell_type": "markdown",
   "metadata": {},
   "source": [
    "#### 1.3 Matrix of clusters x chr arm\n",
    "\n",
    "Use cutoffs from Extended Data Figure 3"
   ]
  },
  {
   "cell_type": "code",
   "execution_count": null,
   "metadata": {
    "collapsed": true
   },
   "outputs": [],
   "source": [
    "head(gene.pos)\n",
    "head(avg(avg.cnv.df))\n",
    "\n",
    "dat <- list()\n",
    "arms <- unique(gene.pos$arm)\n",
    "\n",
    "for (i in 1:length(arms)){\n",
    "    \n",
    "    print(arms[i])\n",
    "    genes <- rownames(gene.pos[as.character(gene.pos$arm) == arms[i], ])\n",
    "    sub <- avg.cnv.df[rownames(avg.cnv.df) %in% genes, ]\n",
    "    dat[[arms[i]]] <- colMeans(sub)\n",
    "}\n",
    "\n",
    "dat <- do.call(rbind, dat)\n",
    "dat2 <- dat\n",
    "dat[dat >= 0.17] <- 1\n",
    "dat[dat <= -0.15] <- -1\n",
    "dat[dat > -0.2 & dat < 1] <- 0\n",
    "dat <- dat[!rownames(dat) == \"NA\", ]\n",
    "dat[is.na(dat)] <- 0\n",
    "\n",
    "saveRDS(dat, file = \"IntraGSCcluster_chrarm_binned.rds\")"
   ]
  },
  {
   "cell_type": "markdown",
   "metadata": {},
   "source": [
    "----\n",
    "## 2.0 Re-plot binary CNV heatmap\n",
    "---\n",
    "\n",
    "Use Cutoffs from WGS benchmarking to "
   ]
  },
  {
   "cell_type": "code",
   "execution_count": 3,
   "metadata": {
    "collapsed": true
   },
   "outputs": [],
   "source": [
    "library(pheatmap)"
   ]
  },
  {
   "cell_type": "code",
   "execution_count": 4,
   "metadata": {
    "collapsed": true
   },
   "outputs": [],
   "source": [
    "dat <- readRDS(\"IntraGSCcluster_chrarm_binned.rds\")"
   ]
  },
  {
   "cell_type": "code",
   "execution_count": 48,
   "metadata": {
    "collapsed": true
   },
   "outputs": [],
   "source": [
    "pheatmap(t(dat),\n",
    "         color = colorRampPalette(c(\"blue\", \"white\", \"red\"))(50),\n",
    "         cluster_cols = FALSE,\n",
    "         cluster_rows = FALSE,\n",
    "         file = \"BinnedChrarms_heatmap.jpeg\",\n",
    "         width = 6,\n",
    "         height = 11.5\n",
    "         )"
   ]
  },
  {
   "cell_type": "markdown",
   "metadata": {},
   "source": [
    "----\n",
    "## 3.0 Proportion marker genes in CNVs\n",
    "---"
   ]
  },
  {
   "cell_type": "code",
   "execution_count": 5,
   "metadata": {
    "collapsed": true
   },
   "outputs": [],
   "source": [
    "AllEqual <- structure(function(\n",
    "\t##title<< \n",
    "\t## Check if all values in a vector are the same\n",
    "\t##description<<\n",
    "\t## This function is used to check if all values in a vector are equal. It can be used for example to check if a time series contains only 0 or NA values.\n",
    "\t\n",
    "\tx\n",
    "\t### numeric, character vector, or time series of type ts\n",
    ") {\n",
    "\tres <- FALSE\n",
    "\tx <- na.omit(as.vector(x))\n",
    "\tif (length(unique(x)) == 1 | length(x) == 0) res <- TRUE\n",
    "\treturn(res)\n",
    "\t### The function returns TRUE if all values are equal and FALSE if it contains different values.\n",
    "},ex=function(){\n",
    "# check if all values are equal in the following vectors:\n",
    "AllEqual(1:10)\n",
    "AllEqual(rep(0, 10))\n",
    "AllEqual(letters)\n",
    "AllEqual(rep(NA, 10))\n",
    "})"
   ]
  },
  {
   "cell_type": "code",
   "execution_count": 177,
   "metadata": {},
   "outputs": [],
   "source": [
    "### read in marker genes\n",
    "markergenes <- readRDS(\"Markers_Exp_CNVs.rds\")\n",
    "dat <- readRDS(\"IntraGSCcluster_chrarm_binned.rds\")\n",
    "genepos <- readRDS(\"GenePosition_Chrarm.rds\")\n",
    "genepos <- genepos[!is.na(genepos$arm), ]\n",
    "\n",
    "##remove marker genes not in CNV analysis\n",
    "markergenes <- markergenes[!is.na(markergenes$ChromosomeArm), ]\n",
    "#head(markergenes)"
   ]
  },
  {
   "cell_type": "markdown",
   "metadata": {},
   "source": [
    "### Figure out which regions are variable across clusters"
   ]
  },
  {
   "cell_type": "code",
   "execution_count": 180,
   "metadata": {},
   "outputs": [
    {
     "data": {
      "text/html": [
       "<style>\n",
       ".list-inline {list-style: none; margin:0; padding: 0}\n",
       ".list-inline>li {display: inline-block}\n",
       ".list-inline>li:not(:last-child)::after {content: \"\\00b7\"; padding: 0 .5ex}\n",
       "</style>\n",
       "<ol class=list-inline><li>'BT127_L'</li><li>'BT48_L'</li><li>'BT73_L'</li><li>'BT94_L'</li><li>'G523_L'</li><li>'G549_L'</li><li>'G564_L'</li><li>'G583_L'</li><li>'G620_L'</li><li>'G637_L'</li><li>'G729_L'</li><li>'G797_L'</li><li>'G800_L'</li><li>'G837_L'</li><li>'G851_L'</li><li>'G876_L'</li><li>'G885_L'</li><li>'G895_L'</li><li>'G945-I_L'</li><li>'G945-J_L'</li><li>'G945-K_L'</li><li>'G946-J_L'</li></ol>\n"
      ],
      "text/latex": [
       "\\begin{enumerate*}\n",
       "\\item 'BT127\\_L'\n",
       "\\item 'BT48\\_L'\n",
       "\\item 'BT73\\_L'\n",
       "\\item 'BT94\\_L'\n",
       "\\item 'G523\\_L'\n",
       "\\item 'G549\\_L'\n",
       "\\item 'G564\\_L'\n",
       "\\item 'G583\\_L'\n",
       "\\item 'G620\\_L'\n",
       "\\item 'G637\\_L'\n",
       "\\item 'G729\\_L'\n",
       "\\item 'G797\\_L'\n",
       "\\item 'G800\\_L'\n",
       "\\item 'G837\\_L'\n",
       "\\item 'G851\\_L'\n",
       "\\item 'G876\\_L'\n",
       "\\item 'G885\\_L'\n",
       "\\item 'G895\\_L'\n",
       "\\item 'G945-I\\_L'\n",
       "\\item 'G945-J\\_L'\n",
       "\\item 'G945-K\\_L'\n",
       "\\item 'G946-J\\_L'\n",
       "\\end{enumerate*}\n"
      ],
      "text/markdown": [
       "1. 'BT127_L'\n",
       "2. 'BT48_L'\n",
       "3. 'BT73_L'\n",
       "4. 'BT94_L'\n",
       "5. 'G523_L'\n",
       "6. 'G549_L'\n",
       "7. 'G564_L'\n",
       "8. 'G583_L'\n",
       "9. 'G620_L'\n",
       "10. 'G637_L'\n",
       "11. 'G729_L'\n",
       "12. 'G797_L'\n",
       "13. 'G800_L'\n",
       "14. 'G837_L'\n",
       "15. 'G851_L'\n",
       "16. 'G876_L'\n",
       "17. 'G885_L'\n",
       "18. 'G895_L'\n",
       "19. 'G945-I_L'\n",
       "20. 'G945-J_L'\n",
       "21. 'G945-K_L'\n",
       "22. 'G946-J_L'\n",
       "\n",
       "\n"
      ],
      "text/plain": [
       " [1] \"BT127_L\"  \"BT48_L\"   \"BT73_L\"   \"BT94_L\"   \"G523_L\"   \"G549_L\"  \n",
       " [7] \"G564_L\"   \"G583_L\"   \"G620_L\"   \"G637_L\"   \"G729_L\"   \"G797_L\"  \n",
       "[13] \"G800_L\"   \"G837_L\"   \"G851_L\"   \"G876_L\"   \"G885_L\"   \"G895_L\"  \n",
       "[19] \"G945-I_L\" \"G945-J_L\" \"G945-K_L\" \"G946-J_L\""
      ]
     },
     "metadata": {},
     "output_type": "display_data"
    }
   ],
   "source": [
    "samples <- as.character(unique(markergenes$Sample))\n",
    "samples"
   ]
  },
  {
   "cell_type": "code",
   "execution_count": 189,
   "metadata": {},
   "outputs": [
    {
     "name": "stdout",
     "output_type": "stream",
     "text": [
      "[1] \"7p\" \"8q\" \"9p\" \"9q\"\n",
      "[1] \"9p\"  \"20p\" \"19p\"\n",
      "[1] \"7p\"  \"9p\"  \"19p\" \"22q\"\n",
      "[1] \"6p\"  \"6q\"  \"7p\"  \"18q\"\n",
      "[1] \"7p\"  \"17q\" \"20q\"\n",
      "[1] \"6q\"  \"17p\" \"17q\" \"19q\"\n",
      "[1] \"8q\"  \"19p\"\n",
      "[1] \"4p\"  \"7p\"  \"10p\" \"10q\" \"12q\" \"13q\" \"19p\" \"19q\"\n",
      " [1] \"1q\"  \"6p\"  \"6q\"  \"7p\"  \"9q\"  \"10p\" \"10q\" \"13q\" \"16q\" \"20p\" \"19p\" \"19q\"\n",
      "[13] \"21q\"\n",
      "[1] \"7q\"  \"10p\" \"10q\" \"13q\" \"20p\" \"20q\" \"19p\" \"19q\"\n",
      "[1] \"7p\"  \"7q\"  \"18q\" \"19q\"\n",
      " [1] \"3p\"  \"4p\"  \"4q\"  \"7p\"  \"7q\"  \"8q\"  \"9p\"  \"14q\" \"20p\" \"20q\" \"19p\" \"19q\"\n",
      "[1] \"7q\"  \"9q\"  \"13q\" \"19p\" \"19q\"\n",
      " [1] \"1q\"  \"2p\"  \"2q\"  \"4p\"  \"4q\"  \"7p\"  \"9q\"  \"11p\" \"13q\" \"16q\" \"18q\" \"20p\"\n",
      "[13] \"20q\" \"19p\" \"19q\" \"21q\"\n",
      "[1] \"2p\"  \"10p\" \"19q\"\n",
      "[1] \"7p\"  \"9q\"  \"12p\" \"12q\" \"13q\" \"18q\" \"19q\" \"21q\"\n",
      "[1] \"6p\"  \"6q\"  \"9p\"  \"10p\" \"10q\" \"12q\"\n",
      "[1] \"9q\"  \"18q\" \"19p\"\n",
      "[1] \"7q\"  \"10p\" \"18q\"\n",
      "[1] \"7q\"  \"17p\" \"19q\"\n",
      "[1] \"5p\"  \"6q\"  \"10p\" \"10q\" \"15q\" \"17p\" \"17q\" \"22q\"\n",
      " [1] \"4p\"  \"4q\"  \"7p\"  \"7q\"  \"9p\"  \"10q\" \"16q\" \"17p\" \"20p\" \"20q\" \"19p\" \"22q\"\n"
     ]
    }
   ],
   "source": [
    "samples <- as.character(unique(markergenes$Sample))\n",
    "\n",
    "clusters <- c()\n",
    "numMarkers <- c()\n",
    "numRegions <- c()\n",
    "numCNV <- c()\n",
    "fishers <- c()\n",
    "\n",
    "for (i in 1:length(samples)){\n",
    "    \n",
    "    sub <- dat[ ,grep(samples[i], colnames(dat))]\n",
    "\n",
    "    ### define variable regions\n",
    "    var.reg <- c()\n",
    "    for (j in 1:nrow(sub)){\n",
    "        var.reg[j] <- AllEqual(sub[j, ])\n",
    "    }\n",
    "    sub <- sub[!var.reg, ]\n",
    "    var.reg <- rownames(sub)\n",
    "    numRegions <- append(numRegions, length(var.reg))\n",
    "    if(length(var.reg) == 0){print(samples[i])} else {print(var.reg)}\n",
    "    \n",
    "    ### subset marker gene matrix to sample\n",
    "    marker.sub <- markergenes[markergenes$Sample == samples[i], ]\n",
    "    #marker.sub\n",
    "\n",
    "    clust <- as.character(unique(marker.sub$Cluster))\n",
    "    ### how many in variable regions with marker genes per cluster\n",
    "    for (x in 1:length(clust)){\n",
    "    \n",
    "        clusters <- append(clusters, clust[x])\n",
    "        d <- marker.sub[marker.sub$Cluster == clust[x], ]\n",
    "        numCNV <- append(numCNV, sum(d$ChromosomeArm %in% var.reg == TRUE))\n",
    "        #no <- sum(d$ChromosomeArm %in% var.reg == FALSE)\n",
    "        numMarkers <- append(numMarkers, nrow(d))\n",
    "        \n",
    "         ### do fishers exact test\n",
    "        topleft <- sum(d$ChromosomeArm %in% var.reg == TRUE)\n",
    "        bottomleft <- nrow(d) - topleft\n",
    "        genes.in.var <- genepos[as.character(genepos$arm) %in% var.reg, ]\n",
    "        topright <- as.numeric(table(genes.in.var$Gene %in% d$Gene)[\"FALSE\"]) \n",
    "\n",
    "        #not marker gene and not in var region\n",
    "        genes.NOT.in.var <- genepos[!as.character(genepos$arm) %in% var.reg, ]\n",
    "        bottomright <- as.numeric(table(genes.NOT.in.var$Gene %in% d$Gene)[\"FALSE\"]) \n",
    "    \n",
    "        con <- matrix(c(topleft, bottomleft, topright, bottomright), ncol = 2)\n",
    "        fishers <- append(fishers, fisher.test(con, alternative = \"greater\")$p)\n",
    "        #fishers <- append(fishers, chisq.test(con, alternative = \"greater\")$p)\n",
    "    }\n",
    "\n",
    "    ## calculate fishers p\n",
    "    \n",
    "}"
   ]
  },
  {
   "cell_type": "code",
   "execution_count": 190,
   "metadata": {},
   "outputs": [
    {
     "data": {
      "text/html": [
       "<table>\n",
       "<caption>A data.frame: 6 × 5</caption>\n",
       "<thead>\n",
       "\t<tr><th></th><th scope=col>clusters</th><th scope=col>numMarkers</th><th scope=col>numCNV</th><th scope=col>fishers</th><th scope=col>propCNV</th></tr>\n",
       "\t<tr><th></th><th scope=col>&lt;fct&gt;</th><th scope=col>&lt;int&gt;</th><th scope=col>&lt;int&gt;</th><th scope=col>&lt;dbl&gt;</th><th scope=col>&lt;dbl&gt;</th></tr>\n",
       "</thead>\n",
       "<tbody>\n",
       "\t<tr><th scope=row>1</th><td>BT127_L_C1</td><td>3307</td><td>339</td><td>3.155183e-06</td><td>0.10250983</td></tr>\n",
       "\t<tr><th scope=row>2</th><td>BT127_L_C2</td><td> 727</td><td> 84</td><td>7.349326e-04</td><td>0.11554333</td></tr>\n",
       "\t<tr><th scope=row>3</th><td>BT48_L_C1 </td><td> 668</td><td> 49</td><td>2.141111e-03</td><td>0.07335329</td></tr>\n",
       "\t<tr><th scope=row>4</th><td>BT48_L_C2 </td><td> 581</td><td> 18</td><td>9.832090e-01</td><td>0.03098107</td></tr>\n",
       "\t<tr><th scope=row>5</th><td>BT73_L_C1 </td><td>3226</td><td>319</td><td>3.919370e-05</td><td>0.09888407</td></tr>\n",
       "\t<tr><th scope=row>6</th><td>BT73_L_C2 </td><td> 264</td><td> 35</td><td>2.374066e-03</td><td>0.13257576</td></tr>\n",
       "</tbody>\n",
       "</table>\n"
      ],
      "text/latex": [
       "A data.frame: 6 × 5\n",
       "\\begin{tabular}{r|lllll}\n",
       "  & clusters & numMarkers & numCNV & fishers & propCNV\\\\\n",
       "  & <fct> & <int> & <int> & <dbl> & <dbl>\\\\\n",
       "\\hline\n",
       "\t1 & BT127\\_L\\_C1 & 3307 & 339 & 3.155183e-06 & 0.10250983\\\\\n",
       "\t2 & BT127\\_L\\_C2 &  727 &  84 & 7.349326e-04 & 0.11554333\\\\\n",
       "\t3 & BT48\\_L\\_C1  &  668 &  49 & 2.141111e-03 & 0.07335329\\\\\n",
       "\t4 & BT48\\_L\\_C2  &  581 &  18 & 9.832090e-01 & 0.03098107\\\\\n",
       "\t5 & BT73\\_L\\_C1  & 3226 & 319 & 3.919370e-05 & 0.09888407\\\\\n",
       "\t6 & BT73\\_L\\_C2  &  264 &  35 & 2.374066e-03 & 0.13257576\\\\\n",
       "\\end{tabular}\n"
      ],
      "text/markdown": [
       "\n",
       "A data.frame: 6 × 5\n",
       "\n",
       "| <!--/--> | clusters &lt;fct&gt; | numMarkers &lt;int&gt; | numCNV &lt;int&gt; | fishers &lt;dbl&gt; | propCNV &lt;dbl&gt; |\n",
       "|---|---|---|---|---|---|\n",
       "| 1 | BT127_L_C1 | 3307 | 339 | 3.155183e-06 | 0.10250983 |\n",
       "| 2 | BT127_L_C2 |  727 |  84 | 7.349326e-04 | 0.11554333 |\n",
       "| 3 | BT48_L_C1  |  668 |  49 | 2.141111e-03 | 0.07335329 |\n",
       "| 4 | BT48_L_C2  |  581 |  18 | 9.832090e-01 | 0.03098107 |\n",
       "| 5 | BT73_L_C1  | 3226 | 319 | 3.919370e-05 | 0.09888407 |\n",
       "| 6 | BT73_L_C2  |  264 |  35 | 2.374066e-03 | 0.13257576 |\n",
       "\n"
      ],
      "text/plain": [
       "  clusters   numMarkers numCNV fishers      propCNV   \n",
       "1 BT127_L_C1 3307       339    3.155183e-06 0.10250983\n",
       "2 BT127_L_C2  727        84    7.349326e-04 0.11554333\n",
       "3 BT48_L_C1   668        49    2.141111e-03 0.07335329\n",
       "4 BT48_L_C2   581        18    9.832090e-01 0.03098107\n",
       "5 BT73_L_C1  3226       319    3.919370e-05 0.09888407\n",
       "6 BT73_L_C2   264        35    2.374066e-03 0.13257576"
      ]
     },
     "metadata": {},
     "output_type": "display_data"
    }
   ],
   "source": [
    "plot.dat <- data.frame(clusters, numMarkers, numCNV, fishers)\n",
    "#remove <- c(\"BT147_L\", \n",
    "#            \"BT67_L\",\n",
    "#            \"BT84_L\", \n",
    "#            \"BT89_L\", \n",
    "#            \"G566_L\", \n",
    "#            \"G799_L\", \n",
    "#            \"G946-K_L\"\n",
    "#           ) #samples with no variable regions\n",
    "#plot.dat$Sample <- gsub('.{0,3}$', '', plot.dat$clusters)\n",
    "#plot.dat <- plot.dat[!plot.dat$Sample %in% remove, ]\n",
    "\n",
    "plot.dat$propCNV <- plot.dat$numCNV / plot.dat$numMarkers\n",
    "head(plot.dat)\n"
   ]
  },
  {
   "cell_type": "code",
   "execution_count": 202,
   "metadata": {},
   "outputs": [
    {
     "data": {
      "text/html": [
       "<strong>pdf:</strong> 2"
      ],
      "text/latex": [
       "\\textbf{pdf:} 2"
      ],
      "text/markdown": [
       "**pdf:** 2"
      ],
      "text/plain": [
       "pdf \n",
       "  2 "
      ]
     },
     "metadata": {},
     "output_type": "display_data"
    }
   ],
   "source": [
    "cols <- ifelse(fishers < 0.05, \"darkblue\", \"grey\")\n",
    "pdf(\"~/Desktop/propMarkersCNV.pdf\", height = 22, width = 5)\n",
    "par(oma=c(4,4,0,0))\n",
    "barplot(plot.dat$propCNV, \n",
    "        names = plot.dat$clusters, \n",
    "        las = 2, \n",
    "        col=cols,\n",
    "        horiz = T,\n",
    "        cex.names = 1,\n",
    "        xlim = c(0,0.6),\n",
    "        xlab = \"Proportion Marker Genes\",\n",
    "        #ylab = \"Cluster\",\n",
    "        xpd = F\n",
    "       )\n",
    "dev.off()"
   ]
  },
  {
   "cell_type": "raw",
   "metadata": {},
   "source": [
    "#marker gene and in var region\n",
    "topleft <- plot.dat$numCNV[1] \n",
    "\n",
    "#marker gene and NOT in var region\n",
    "bottomleft <- plot.dat$numMarkers[1] - topleft \n",
    "\n",
    "#not marker gene but in var region\n",
    "genes.in.var <- genepos[as.character(genepos$arm) %in% var.reg, ]\n",
    "topright <- as.numeric(table(genes.in.var$Gene %in% d$Gene)[\"FALSE\"]) \n",
    "\n",
    "#not marker gene and not in var region\n",
    "genes.NOT.in.var <- genepos[!as.character(genepos$arm) %in% var.reg, ]\n",
    "bottomright <- as.numeric(table(genes.NOT.in.var$Gene %in% d$Gene)[\"FALSE\"]) \n",
    "\n",
    "con <- matrix(c(topleft, bottomleft, topright, bottomright), ncol = 2)\n",
    "\n",
    "fishers <- append(fishers, fisher.test(con, alternative = \"greater\")$p)"
   ]
  }
 ],
 "metadata": {
  "kernelspec": {
   "display_name": "R",
   "language": "R",
   "name": "ir"
  },
  "language_info": {
   "codemirror_mode": "r",
   "file_extension": ".r",
   "mimetype": "text/x-r-source",
   "name": "R",
   "pygments_lexer": "r",
   "version": "3.6.3"
  }
 },
 "nbformat": 4,
 "nbformat_minor": 2
}
