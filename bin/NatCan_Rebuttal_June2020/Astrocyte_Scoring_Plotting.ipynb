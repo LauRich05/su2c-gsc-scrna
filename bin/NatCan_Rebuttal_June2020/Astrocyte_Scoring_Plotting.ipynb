{
 "cells": [
  {
   "cell_type": "markdown",
   "metadata": {},
   "source": [
    "----\n",
    "# PART I: Plot astrocyte gene signature scores in relation to GSCs\n",
    "----"
   ]
  },
  {
   "cell_type": "code",
   "execution_count": 28,
   "metadata": {},
   "outputs": [
    {
     "name": "stderr",
     "output_type": "stream",
     "text": [
      "\n",
      "Attaching package: ‘gplots’\n",
      "\n",
      "\n",
      "The following object is masked from ‘package:stats’:\n",
      "\n",
      "    lowess\n",
      "\n",
      "\n"
     ]
    }
   ],
   "source": [
    "#options(repos='http://cran.rstudio.com/')\n",
    "#install.packages(\"ComplexHeatmap\")\n",
    "library(gplots)"
   ]
  },
  {
   "cell_type": "code",
   "execution_count": 1,
   "metadata": {
    "collapsed": true
   },
   "outputs": [],
   "source": [
    "setwd(\"~/Desktop/H4H/pughlab/projects/BTSCs_scRNAseq/Manuscript_G607removed/NatCan_Rebuttal/AstrocyteScoring/\")"
   ]
  },
  {
   "cell_type": "code",
   "execution_count": 2,
   "metadata": {
    "collapsed": true
   },
   "outputs": [],
   "source": [
    "meta <- readRDS(\"./GSCs/Astrocyte_AUCell_meta_GSCs.rds\")\n",
    "colnames(meta) <- gsub(\"Population\", \"AstrocytePopulation\", colnames(meta))"
   ]
  },
  {
   "cell_type": "markdown",
   "metadata": {},
   "source": [
    "---\n",
    "## 1.0 Correlate astrocyte gene signature scores to IR and Dev in GSCs\n",
    "---\n",
    "\n",
    "Use spearman, similar to Extended Data Figure 5 in the manuscript"
   ]
  },
  {
   "cell_type": "code",
   "execution_count": 42,
   "metadata": {},
   "outputs": [
    {
     "data": {
      "text/html": [
       "<style>\n",
       ".list-inline {list-style: none; margin:0; padding: 0}\n",
       ".list-inline>li {display: inline-block}\n",
       ".list-inline>li:not(:last-child)::after {content: \"\\00b7\"; padding: 0 .5ex}\n",
       "</style>\n",
       "<ol class=list-inline><li>69393</li><li>22</li></ol>\n"
      ],
      "text/latex": [
       "\\begin{enumerate*}\n",
       "\\item 69393\n",
       "\\item 22\n",
       "\\end{enumerate*}\n"
      ],
      "text/markdown": [
       "1. 69393\n",
       "2. 22\n",
       "\n",
       "\n"
      ],
      "text/plain": [
       "[1] 69393    22"
      ]
     },
     "metadata": {},
     "output_type": "display_data"
    }
   ],
   "source": [
    "subset <- c(colnames(meta)[grep(\"strocyt\", colnames(meta))], \n",
    "            \"Developmental_GSC_AUC\",\n",
    "            \"InjuryResponse_GSC_AUC\"\n",
    "            )\n",
    "mat <- meta[ ,subset]\n",
    "colnames(mat) <- gsub(\"_AUC\", \"\", colnames(mat))\n",
    "dim(mat)\n",
    "corr.mat <- cor(mat, method = \"spearman\")"
   ]
  },
  {
   "cell_type": "code",
   "execution_count": 43,
   "metadata": {},
   "outputs": [
    {
     "data": {
      "text/html": [
       "<table>\n",
       "<caption>A matrix: 6 × 22 of type dbl</caption>\n",
       "<thead>\n",
       "\t<tr><th></th><th scope=col>Zhong_Astrocytes</th><th scope=col>Nowakowski_Astrocyte</th><th scope=col>Cahoy_astrocyte</th><th scope=col>Liddelow_A1_ReactiveAstrocytes</th><th scope=col>Liddelow_A2_ReactiveAstrocytes</th><th scope=col>Mizrak_septal_astrocytes_M</th><th scope=col>Mizrak_septal_astrocytes_F</th><th scope=col>Lin_NatNeurosci_2017_AstrocytePopulationA</th><th scope=col>Lin_NatNeurosci_2017_AstrocytePopulationB</th><th scope=col>Lin_NatNeurosci_2017_AstrocytePopulationC</th><th scope=col>⋯</th><th scope=col>Morel_JNeurosci_2017_CortexAstrocytes</th><th scope=col>Morel_JNeurosci_2017_HippocampusAstrocytes</th><th scope=col>Morel_JNeurosci_2017_NaccRegionAstrocytes</th><th scope=col>Morel_JNeurosci_2017_CpuRegionAstrocytes</th><th scope=col>Morel_JNeurosci_2017_ThalamusAstrocytes</th><th scope=col>Morel_JNeurosci_2017_HypothalamusAstrocytes</th><th scope=col>Chai_Neuron_2017_AdultHippocampalAstrocytes</th><th scope=col>Chai_Neuron_2017_AdultStriatumAstrocytes</th><th scope=col>Developmental_GSC</th><th scope=col>InjuryResponse_GSC</th></tr>\n",
       "</thead>\n",
       "<tbody>\n",
       "\t<tr><th scope=row>Zhong_Astrocytes</th><td> 1.00000000</td><td> 0.9434161</td><td>0.7946072</td><td>0.4291860</td><td>-0.04791496</td><td>0.2857263</td><td> 0.326034521</td><td>0.15247564</td><td>0.7209662</td><td> 0.77440939</td><td>⋯</td><td> 0.04916513</td><td> 0.29874642</td><td>-0.008322003</td><td>-0.09426951</td><td>-0.01126488</td><td>0.10665008</td><td>-0.09627103</td><td>0.77271290</td><td> 0.64010832</td><td>-0.334939623</td></tr>\n",
       "\t<tr><th scope=row>Nowakowski_Astrocyte</th><td> 0.94341610</td><td> 1.0000000</td><td>0.7565099</td><td>0.2978999</td><td>-0.15122703</td><td>0.2649379</td><td> 0.359561569</td><td>0.14011008</td><td>0.6935834</td><td> 0.78041406</td><td>⋯</td><td> 0.06780110</td><td> 0.31628979</td><td>-0.007426926</td><td>-0.10492056</td><td>-0.01126118</td><td>0.02076596</td><td>-0.08862166</td><td>0.75609292</td><td> 0.71945913</td><td>-0.417702709</td></tr>\n",
       "\t<tr><th scope=row>Cahoy_astrocyte</th><td> 0.79460720</td><td> 0.7565099</td><td>1.0000000</td><td>0.5833369</td><td> 0.13414048</td><td>0.2749503</td><td> 0.500539237</td><td>0.01264760</td><td>0.7956746</td><td> 0.66408743</td><td>⋯</td><td> 0.07076668</td><td> 0.12583841</td><td> 0.018886253</td><td>-0.09565804</td><td> 0.01504673</td><td>0.20724528</td><td> 0.09746468</td><td>0.78182067</td><td> 0.39253397</td><td> 0.009296329</td></tr>\n",
       "\t<tr><th scope=row>Liddelow_A1_ReactiveAstrocytes</th><td> 0.42918602</td><td> 0.2978999</td><td>0.5833369</td><td>1.0000000</td><td> 0.57301658</td><td>0.3674892</td><td> 0.180812432</td><td>0.09201611</td><td>0.6181289</td><td> 0.39499642</td><td>⋯</td><td>-0.03972424</td><td> 0.02903994</td><td>-0.009215049</td><td>-0.03433598</td><td>-0.01117148</td><td>0.43680447</td><td>-0.07446568</td><td>0.44457314</td><td>-0.16883657</td><td> 0.435426727</td></tr>\n",
       "\t<tr><th scope=row>Liddelow_A2_ReactiveAstrocytes</th><td>-0.04791496</td><td>-0.1512270</td><td>0.1341405</td><td>0.5730166</td><td> 1.00000000</td><td>0.1749233</td><td> 0.002428346</td><td>0.05838573</td><td>0.2236377</td><td>-0.01642065</td><td>⋯</td><td>-0.12049980</td><td>-0.13445430</td><td>-0.016646752</td><td> 0.02298089</td><td>-0.02152035</td><td>0.18160901</td><td>-0.03670018</td><td>0.09061024</td><td>-0.57612001</td><td> 0.699632156</td></tr>\n",
       "\t<tr><th scope=row>Mizrak_septal_astrocytes_M</th><td> 0.28572634</td><td> 0.2649379</td><td>0.2749503</td><td>0.3674892</td><td> 0.17492327</td><td>1.0000000</td><td>-0.122171838</td><td>0.07621678</td><td>0.3939072</td><td> 0.48652996</td><td>⋯</td><td>-0.07267750</td><td> 0.22632180</td><td>-0.026651676</td><td> 0.06623325</td><td>-0.03221302</td><td>0.15238489</td><td>-0.11534008</td><td>0.16506622</td><td> 0.04555336</td><td> 0.019726745</td></tr>\n",
       "</tbody>\n",
       "</table>\n"
      ],
      "text/latex": [
       "A matrix: 6 × 22 of type dbl\n",
       "\\begin{tabular}{r|lllllllllllllllllllll}\n",
       "  & Zhong\\_Astrocytes & Nowakowski\\_Astrocyte & Cahoy\\_astrocyte & Liddelow\\_A1\\_ReactiveAstrocytes & Liddelow\\_A2\\_ReactiveAstrocytes & Mizrak\\_septal\\_astrocytes\\_M & Mizrak\\_septal\\_astrocytes\\_F & Lin\\_NatNeurosci\\_2017\\_AstrocytePopulationA & Lin\\_NatNeurosci\\_2017\\_AstrocytePopulationB & Lin\\_NatNeurosci\\_2017\\_AstrocytePopulationC & ⋯ & Morel\\_JNeurosci\\_2017\\_CortexAstrocytes & Morel\\_JNeurosci\\_2017\\_HippocampusAstrocytes & Morel\\_JNeurosci\\_2017\\_NaccRegionAstrocytes & Morel\\_JNeurosci\\_2017\\_CpuRegionAstrocytes & Morel\\_JNeurosci\\_2017\\_ThalamusAstrocytes & Morel\\_JNeurosci\\_2017\\_HypothalamusAstrocytes & Chai\\_Neuron\\_2017\\_AdultHippocampalAstrocytes & Chai\\_Neuron\\_2017\\_AdultStriatumAstrocytes & Developmental\\_GSC & InjuryResponse\\_GSC\\\\\n",
       "\\hline\n",
       "\tZhong\\_Astrocytes &  1.00000000 &  0.9434161 & 0.7946072 & 0.4291860 & -0.04791496 & 0.2857263 &  0.326034521 & 0.15247564 & 0.7209662 &  0.77440939 & ⋯ &  0.04916513 &  0.29874642 & -0.008322003 & -0.09426951 & -0.01126488 & 0.10665008 & -0.09627103 & 0.77271290 &  0.64010832 & -0.334939623\\\\\n",
       "\tNowakowski\\_Astrocyte &  0.94341610 &  1.0000000 & 0.7565099 & 0.2978999 & -0.15122703 & 0.2649379 &  0.359561569 & 0.14011008 & 0.6935834 &  0.78041406 & ⋯ &  0.06780110 &  0.31628979 & -0.007426926 & -0.10492056 & -0.01126118 & 0.02076596 & -0.08862166 & 0.75609292 &  0.71945913 & -0.417702709\\\\\n",
       "\tCahoy\\_astrocyte &  0.79460720 &  0.7565099 & 1.0000000 & 0.5833369 &  0.13414048 & 0.2749503 &  0.500539237 & 0.01264760 & 0.7956746 &  0.66408743 & ⋯ &  0.07076668 &  0.12583841 &  0.018886253 & -0.09565804 &  0.01504673 & 0.20724528 &  0.09746468 & 0.78182067 &  0.39253397 &  0.009296329\\\\\n",
       "\tLiddelow\\_A1\\_ReactiveAstrocytes &  0.42918602 &  0.2978999 & 0.5833369 & 1.0000000 &  0.57301658 & 0.3674892 &  0.180812432 & 0.09201611 & 0.6181289 &  0.39499642 & ⋯ & -0.03972424 &  0.02903994 & -0.009215049 & -0.03433598 & -0.01117148 & 0.43680447 & -0.07446568 & 0.44457314 & -0.16883657 &  0.435426727\\\\\n",
       "\tLiddelow\\_A2\\_ReactiveAstrocytes & -0.04791496 & -0.1512270 & 0.1341405 & 0.5730166 &  1.00000000 & 0.1749233 &  0.002428346 & 0.05838573 & 0.2236377 & -0.01642065 & ⋯ & -0.12049980 & -0.13445430 & -0.016646752 &  0.02298089 & -0.02152035 & 0.18160901 & -0.03670018 & 0.09061024 & -0.57612001 &  0.699632156\\\\\n",
       "\tMizrak\\_septal\\_astrocytes\\_M &  0.28572634 &  0.2649379 & 0.2749503 & 0.3674892 &  0.17492327 & 1.0000000 & -0.122171838 & 0.07621678 & 0.3939072 &  0.48652996 & ⋯ & -0.07267750 &  0.22632180 & -0.026651676 &  0.06623325 & -0.03221302 & 0.15238489 & -0.11534008 & 0.16506622 &  0.04555336 &  0.019726745\\\\\n",
       "\\end{tabular}\n"
      ],
      "text/markdown": [
       "\n",
       "A matrix: 6 × 22 of type dbl\n",
       "\n",
       "| <!--/--> | Zhong_Astrocytes | Nowakowski_Astrocyte | Cahoy_astrocyte | Liddelow_A1_ReactiveAstrocytes | Liddelow_A2_ReactiveAstrocytes | Mizrak_septal_astrocytes_M | Mizrak_septal_astrocytes_F | Lin_NatNeurosci_2017_AstrocytePopulationA | Lin_NatNeurosci_2017_AstrocytePopulationB | Lin_NatNeurosci_2017_AstrocytePopulationC | ⋯ | Morel_JNeurosci_2017_CortexAstrocytes | Morel_JNeurosci_2017_HippocampusAstrocytes | Morel_JNeurosci_2017_NaccRegionAstrocytes | Morel_JNeurosci_2017_CpuRegionAstrocytes | Morel_JNeurosci_2017_ThalamusAstrocytes | Morel_JNeurosci_2017_HypothalamusAstrocytes | Chai_Neuron_2017_AdultHippocampalAstrocytes | Chai_Neuron_2017_AdultStriatumAstrocytes | Developmental_GSC | InjuryResponse_GSC |\n",
       "|---|---|---|---|---|---|---|---|---|---|---|---|---|---|---|---|---|---|---|---|---|---|\n",
       "| Zhong_Astrocytes |  1.00000000 |  0.9434161 | 0.7946072 | 0.4291860 | -0.04791496 | 0.2857263 |  0.326034521 | 0.15247564 | 0.7209662 |  0.77440939 | ⋯ |  0.04916513 |  0.29874642 | -0.008322003 | -0.09426951 | -0.01126488 | 0.10665008 | -0.09627103 | 0.77271290 |  0.64010832 | -0.334939623 |\n",
       "| Nowakowski_Astrocyte |  0.94341610 |  1.0000000 | 0.7565099 | 0.2978999 | -0.15122703 | 0.2649379 |  0.359561569 | 0.14011008 | 0.6935834 |  0.78041406 | ⋯ |  0.06780110 |  0.31628979 | -0.007426926 | -0.10492056 | -0.01126118 | 0.02076596 | -0.08862166 | 0.75609292 |  0.71945913 | -0.417702709 |\n",
       "| Cahoy_astrocyte |  0.79460720 |  0.7565099 | 1.0000000 | 0.5833369 |  0.13414048 | 0.2749503 |  0.500539237 | 0.01264760 | 0.7956746 |  0.66408743 | ⋯ |  0.07076668 |  0.12583841 |  0.018886253 | -0.09565804 |  0.01504673 | 0.20724528 |  0.09746468 | 0.78182067 |  0.39253397 |  0.009296329 |\n",
       "| Liddelow_A1_ReactiveAstrocytes |  0.42918602 |  0.2978999 | 0.5833369 | 1.0000000 |  0.57301658 | 0.3674892 |  0.180812432 | 0.09201611 | 0.6181289 |  0.39499642 | ⋯ | -0.03972424 |  0.02903994 | -0.009215049 | -0.03433598 | -0.01117148 | 0.43680447 | -0.07446568 | 0.44457314 | -0.16883657 |  0.435426727 |\n",
       "| Liddelow_A2_ReactiveAstrocytes | -0.04791496 | -0.1512270 | 0.1341405 | 0.5730166 |  1.00000000 | 0.1749233 |  0.002428346 | 0.05838573 | 0.2236377 | -0.01642065 | ⋯ | -0.12049980 | -0.13445430 | -0.016646752 |  0.02298089 | -0.02152035 | 0.18160901 | -0.03670018 | 0.09061024 | -0.57612001 |  0.699632156 |\n",
       "| Mizrak_septal_astrocytes_M |  0.28572634 |  0.2649379 | 0.2749503 | 0.3674892 |  0.17492327 | 1.0000000 | -0.122171838 | 0.07621678 | 0.3939072 |  0.48652996 | ⋯ | -0.07267750 |  0.22632180 | -0.026651676 |  0.06623325 | -0.03221302 | 0.15238489 | -0.11534008 | 0.16506622 |  0.04555336 |  0.019726745 |\n",
       "\n"
      ],
      "text/plain": [
       "                               Zhong_Astrocytes Nowakowski_Astrocyte\n",
       "Zhong_Astrocytes                1.00000000       0.9434161          \n",
       "Nowakowski_Astrocyte            0.94341610       1.0000000          \n",
       "Cahoy_astrocyte                 0.79460720       0.7565099          \n",
       "Liddelow_A1_ReactiveAstrocytes  0.42918602       0.2978999          \n",
       "Liddelow_A2_ReactiveAstrocytes -0.04791496      -0.1512270          \n",
       "Mizrak_septal_astrocytes_M      0.28572634       0.2649379          \n",
       "                               Cahoy_astrocyte Liddelow_A1_ReactiveAstrocytes\n",
       "Zhong_Astrocytes               0.7946072       0.4291860                     \n",
       "Nowakowski_Astrocyte           0.7565099       0.2978999                     \n",
       "Cahoy_astrocyte                1.0000000       0.5833369                     \n",
       "Liddelow_A1_ReactiveAstrocytes 0.5833369       1.0000000                     \n",
       "Liddelow_A2_ReactiveAstrocytes 0.1341405       0.5730166                     \n",
       "Mizrak_septal_astrocytes_M     0.2749503       0.3674892                     \n",
       "                               Liddelow_A2_ReactiveAstrocytes\n",
       "Zhong_Astrocytes               -0.04791496                   \n",
       "Nowakowski_Astrocyte           -0.15122703                   \n",
       "Cahoy_astrocyte                 0.13414048                   \n",
       "Liddelow_A1_ReactiveAstrocytes  0.57301658                   \n",
       "Liddelow_A2_ReactiveAstrocytes  1.00000000                   \n",
       "Mizrak_septal_astrocytes_M      0.17492327                   \n",
       "                               Mizrak_septal_astrocytes_M\n",
       "Zhong_Astrocytes               0.2857263                 \n",
       "Nowakowski_Astrocyte           0.2649379                 \n",
       "Cahoy_astrocyte                0.2749503                 \n",
       "Liddelow_A1_ReactiveAstrocytes 0.3674892                 \n",
       "Liddelow_A2_ReactiveAstrocytes 0.1749233                 \n",
       "Mizrak_septal_astrocytes_M     1.0000000                 \n",
       "                               Mizrak_septal_astrocytes_F\n",
       "Zhong_Astrocytes                0.326034521              \n",
       "Nowakowski_Astrocyte            0.359561569              \n",
       "Cahoy_astrocyte                 0.500539237              \n",
       "Liddelow_A1_ReactiveAstrocytes  0.180812432              \n",
       "Liddelow_A2_ReactiveAstrocytes  0.002428346              \n",
       "Mizrak_septal_astrocytes_M     -0.122171838              \n",
       "                               Lin_NatNeurosci_2017_AstrocytePopulationA\n",
       "Zhong_Astrocytes               0.15247564                               \n",
       "Nowakowski_Astrocyte           0.14011008                               \n",
       "Cahoy_astrocyte                0.01264760                               \n",
       "Liddelow_A1_ReactiveAstrocytes 0.09201611                               \n",
       "Liddelow_A2_ReactiveAstrocytes 0.05838573                               \n",
       "Mizrak_septal_astrocytes_M     0.07621678                               \n",
       "                               Lin_NatNeurosci_2017_AstrocytePopulationB\n",
       "Zhong_Astrocytes               0.7209662                                \n",
       "Nowakowski_Astrocyte           0.6935834                                \n",
       "Cahoy_astrocyte                0.7956746                                \n",
       "Liddelow_A1_ReactiveAstrocytes 0.6181289                                \n",
       "Liddelow_A2_ReactiveAstrocytes 0.2236377                                \n",
       "Mizrak_septal_astrocytes_M     0.3939072                                \n",
       "                               Lin_NatNeurosci_2017_AstrocytePopulationC ⋯\n",
       "Zhong_Astrocytes                0.77440939                               ⋯\n",
       "Nowakowski_Astrocyte            0.78041406                               ⋯\n",
       "Cahoy_astrocyte                 0.66408743                               ⋯\n",
       "Liddelow_A1_ReactiveAstrocytes  0.39499642                               ⋯\n",
       "Liddelow_A2_ReactiveAstrocytes -0.01642065                               ⋯\n",
       "Mizrak_septal_astrocytes_M      0.48652996                               ⋯\n",
       "                               Morel_JNeurosci_2017_CortexAstrocytes\n",
       "Zhong_Astrocytes                0.04916513                          \n",
       "Nowakowski_Astrocyte            0.06780110                          \n",
       "Cahoy_astrocyte                 0.07076668                          \n",
       "Liddelow_A1_ReactiveAstrocytes -0.03972424                          \n",
       "Liddelow_A2_ReactiveAstrocytes -0.12049980                          \n",
       "Mizrak_septal_astrocytes_M     -0.07267750                          \n",
       "                               Morel_JNeurosci_2017_HippocampusAstrocytes\n",
       "Zhong_Astrocytes                0.29874642                               \n",
       "Nowakowski_Astrocyte            0.31628979                               \n",
       "Cahoy_astrocyte                 0.12583841                               \n",
       "Liddelow_A1_ReactiveAstrocytes  0.02903994                               \n",
       "Liddelow_A2_ReactiveAstrocytes -0.13445430                               \n",
       "Mizrak_septal_astrocytes_M      0.22632180                               \n",
       "                               Morel_JNeurosci_2017_NaccRegionAstrocytes\n",
       "Zhong_Astrocytes               -0.008322003                             \n",
       "Nowakowski_Astrocyte           -0.007426926                             \n",
       "Cahoy_astrocyte                 0.018886253                             \n",
       "Liddelow_A1_ReactiveAstrocytes -0.009215049                             \n",
       "Liddelow_A2_ReactiveAstrocytes -0.016646752                             \n",
       "Mizrak_septal_astrocytes_M     -0.026651676                             \n",
       "                               Morel_JNeurosci_2017_CpuRegionAstrocytes\n",
       "Zhong_Astrocytes               -0.09426951                             \n",
       "Nowakowski_Astrocyte           -0.10492056                             \n",
       "Cahoy_astrocyte                -0.09565804                             \n",
       "Liddelow_A1_ReactiveAstrocytes -0.03433598                             \n",
       "Liddelow_A2_ReactiveAstrocytes  0.02298089                             \n",
       "Mizrak_septal_astrocytes_M      0.06623325                             \n",
       "                               Morel_JNeurosci_2017_ThalamusAstrocytes\n",
       "Zhong_Astrocytes               -0.01126488                            \n",
       "Nowakowski_Astrocyte           -0.01126118                            \n",
       "Cahoy_astrocyte                 0.01504673                            \n",
       "Liddelow_A1_ReactiveAstrocytes -0.01117148                            \n",
       "Liddelow_A2_ReactiveAstrocytes -0.02152035                            \n",
       "Mizrak_septal_astrocytes_M     -0.03221302                            \n",
       "                               Morel_JNeurosci_2017_HypothalamusAstrocytes\n",
       "Zhong_Astrocytes               0.10665008                                 \n",
       "Nowakowski_Astrocyte           0.02076596                                 \n",
       "Cahoy_astrocyte                0.20724528                                 \n",
       "Liddelow_A1_ReactiveAstrocytes 0.43680447                                 \n",
       "Liddelow_A2_ReactiveAstrocytes 0.18160901                                 \n",
       "Mizrak_septal_astrocytes_M     0.15238489                                 \n",
       "                               Chai_Neuron_2017_AdultHippocampalAstrocytes\n",
       "Zhong_Astrocytes               -0.09627103                                \n",
       "Nowakowski_Astrocyte           -0.08862166                                \n",
       "Cahoy_astrocyte                 0.09746468                                \n",
       "Liddelow_A1_ReactiveAstrocytes -0.07446568                                \n",
       "Liddelow_A2_ReactiveAstrocytes -0.03670018                                \n",
       "Mizrak_septal_astrocytes_M     -0.11534008                                \n",
       "                               Chai_Neuron_2017_AdultStriatumAstrocytes\n",
       "Zhong_Astrocytes               0.77271290                              \n",
       "Nowakowski_Astrocyte           0.75609292                              \n",
       "Cahoy_astrocyte                0.78182067                              \n",
       "Liddelow_A1_ReactiveAstrocytes 0.44457314                              \n",
       "Liddelow_A2_ReactiveAstrocytes 0.09061024                              \n",
       "Mizrak_septal_astrocytes_M     0.16506622                              \n",
       "                               Developmental_GSC InjuryResponse_GSC\n",
       "Zhong_Astrocytes                0.64010832       -0.334939623      \n",
       "Nowakowski_Astrocyte            0.71945913       -0.417702709      \n",
       "Cahoy_astrocyte                 0.39253397        0.009296329      \n",
       "Liddelow_A1_ReactiveAstrocytes -0.16883657        0.435426727      \n",
       "Liddelow_A2_ReactiveAstrocytes -0.57612001        0.699632156      \n",
       "Mizrak_septal_astrocytes_M      0.04555336        0.019726745      "
      ]
     },
     "metadata": {},
     "output_type": "display_data"
    }
   ],
   "source": [
    "head(corr.mat)"
   ]
  },
  {
   "cell_type": "code",
   "execution_count": 59,
   "metadata": {
    "collapsed": true
   },
   "outputs": [],
   "source": [
    "col<- colorRampPalette(c(\"blue\", \"white\", \"red\"))(20)\n",
    "pheatmap(corr.mat, \n",
    "          col = col,\n",
    "         cutree_cols = 3,\n",
    "         cutree_rows = 3,\n",
    "         angle_col = 270,\n",
    "         filename = \"GSCs_AstrocyteCorrHeatmap_DevIR.pdf\",\n",
    "         height = 8,\n",
    "         width = 8\n",
    "         )\n"
   ]
  },
  {
   "cell_type": "code",
   "execution_count": 68,
   "metadata": {},
   "outputs": [
    {
     "data": {
      "text/html": [
       "<table>\n",
       "<caption>A data.frame: 22 × 2</caption>\n",
       "<thead>\n",
       "\t<tr><th></th><th scope=col>Developmental_GSC</th><th scope=col>InjuryResponse_GSC</th></tr>\n",
       "\t<tr><th></th><th scope=col>&lt;dbl&gt;</th><th scope=col>&lt;dbl&gt;</th></tr>\n",
       "</thead>\n",
       "<tbody>\n",
       "\t<tr><th scope=row>InjuryResponse_GSC</th><td>-0.821165799</td><td> 1.000000000</td></tr>\n",
       "\t<tr><th scope=row>Liddelow_A2_ReactiveAstrocytes</th><td>-0.576120007</td><td> 0.699632156</td></tr>\n",
       "\t<tr><th scope=row>Liddelow_A1_ReactiveAstrocytes</th><td>-0.168836566</td><td> 0.435426727</td></tr>\n",
       "\t<tr><th scope=row>Morel_JNeurosci_2017_HypothalamusAstrocytes</th><td>-0.190490368</td><td> 0.270184728</td></tr>\n",
       "\t<tr><th scope=row>Lin_NatNeurosci_2017_AstrocytePopulationB</th><td> 0.282206345</td><td> 0.087000861</td></tr>\n",
       "\t<tr><th scope=row>Chai_Neuron_2017_AdultHippocampalAstrocytes</th><td> 0.018319904</td><td> 0.055959694</td></tr>\n",
       "\t<tr><th scope=row>Lin_NatNeurosci_2017_AstrocytePopulationE</th><td>-0.181158850</td><td> 0.055325374</td></tr>\n",
       "\t<tr><th scope=row>Mizrak_septal_astrocytes_M</th><td> 0.045553363</td><td> 0.019726745</td></tr>\n",
       "\t<tr><th scope=row>Cahoy_astrocyte</th><td> 0.392533974</td><td> 0.009296329</td></tr>\n",
       "\t<tr><th scope=row>Mizrak_septal_astrocytes_F</th><td> 0.333672982</td><td> 0.007122085</td></tr>\n",
       "\t<tr><th scope=row>Morel_JNeurosci_2017_NaccRegionAstrocytes</th><td> 0.020483297</td><td>-0.006518447</td></tr>\n",
       "\t<tr><th scope=row>Morel_JNeurosci_2017_ThalamusAstrocytes</th><td> 0.032328002</td><td>-0.014287330</td></tr>\n",
       "\t<tr><th scope=row>Morel_JNeurosci_2017_CpuRegionAstrocytes</th><td>-0.084749091</td><td>-0.017357856</td></tr>\n",
       "\t<tr><th scope=row>Lin_NatNeurosci_2017_AstrocytePopulationD</th><td> 0.205921290</td><td>-0.019697784</td></tr>\n",
       "\t<tr><th scope=row>Chai_Neuron_2017_AdultStriatumAstrocytes</th><td> 0.431113685</td><td>-0.023518364</td></tr>\n",
       "\t<tr><th scope=row>Lin_NatNeurosci_2017_AstrocytePopulationA</th><td> 0.006060878</td><td>-0.034974065</td></tr>\n",
       "\t<tr><th scope=row>Morel_JNeurosci_2017_CortexAstrocytes</th><td> 0.159523588</td><td>-0.114568666</td></tr>\n",
       "\t<tr><th scope=row>Lin_NatNeurosci_2017_AstrocytePopulationC</th><td> 0.486855819</td><td>-0.262815967</td></tr>\n",
       "\t<tr><th scope=row>Zhong_Astrocytes</th><td> 0.640108316</td><td>-0.334939623</td></tr>\n",
       "\t<tr><th scope=row>Morel_JNeurosci_2017_HippocampusAstrocytes</th><td> 0.349825716</td><td>-0.377070953</td></tr>\n",
       "\t<tr><th scope=row>Nowakowski_Astrocyte</th><td> 0.719459130</td><td>-0.417702709</td></tr>\n",
       "\t<tr><th scope=row>Developmental_GSC</th><td> 1.000000000</td><td>-0.821165799</td></tr>\n",
       "</tbody>\n",
       "</table>\n"
      ],
      "text/latex": [
       "A data.frame: 22 × 2\n",
       "\\begin{tabular}{r|ll}\n",
       "  & Developmental\\_GSC & InjuryResponse\\_GSC\\\\\n",
       "  & <dbl> & <dbl>\\\\\n",
       "\\hline\n",
       "\tInjuryResponse\\_GSC & -0.821165799 &  1.000000000\\\\\n",
       "\tLiddelow\\_A2\\_ReactiveAstrocytes & -0.576120007 &  0.699632156\\\\\n",
       "\tLiddelow\\_A1\\_ReactiveAstrocytes & -0.168836566 &  0.435426727\\\\\n",
       "\tMorel\\_JNeurosci\\_2017\\_HypothalamusAstrocytes & -0.190490368 &  0.270184728\\\\\n",
       "\tLin\\_NatNeurosci\\_2017\\_AstrocytePopulationB &  0.282206345 &  0.087000861\\\\\n",
       "\tChai\\_Neuron\\_2017\\_AdultHippocampalAstrocytes &  0.018319904 &  0.055959694\\\\\n",
       "\tLin\\_NatNeurosci\\_2017\\_AstrocytePopulationE & -0.181158850 &  0.055325374\\\\\n",
       "\tMizrak\\_septal\\_astrocytes\\_M &  0.045553363 &  0.019726745\\\\\n",
       "\tCahoy\\_astrocyte &  0.392533974 &  0.009296329\\\\\n",
       "\tMizrak\\_septal\\_astrocytes\\_F &  0.333672982 &  0.007122085\\\\\n",
       "\tMorel\\_JNeurosci\\_2017\\_NaccRegionAstrocytes &  0.020483297 & -0.006518447\\\\\n",
       "\tMorel\\_JNeurosci\\_2017\\_ThalamusAstrocytes &  0.032328002 & -0.014287330\\\\\n",
       "\tMorel\\_JNeurosci\\_2017\\_CpuRegionAstrocytes & -0.084749091 & -0.017357856\\\\\n",
       "\tLin\\_NatNeurosci\\_2017\\_AstrocytePopulationD &  0.205921290 & -0.019697784\\\\\n",
       "\tChai\\_Neuron\\_2017\\_AdultStriatumAstrocytes &  0.431113685 & -0.023518364\\\\\n",
       "\tLin\\_NatNeurosci\\_2017\\_AstrocytePopulationA &  0.006060878 & -0.034974065\\\\\n",
       "\tMorel\\_JNeurosci\\_2017\\_CortexAstrocytes &  0.159523588 & -0.114568666\\\\\n",
       "\tLin\\_NatNeurosci\\_2017\\_AstrocytePopulationC &  0.486855819 & -0.262815967\\\\\n",
       "\tZhong\\_Astrocytes &  0.640108316 & -0.334939623\\\\\n",
       "\tMorel\\_JNeurosci\\_2017\\_HippocampusAstrocytes &  0.349825716 & -0.377070953\\\\\n",
       "\tNowakowski\\_Astrocyte &  0.719459130 & -0.417702709\\\\\n",
       "\tDevelopmental\\_GSC &  1.000000000 & -0.821165799\\\\\n",
       "\\end{tabular}\n"
      ],
      "text/markdown": [
       "\n",
       "A data.frame: 22 × 2\n",
       "\n",
       "| <!--/--> | Developmental_GSC &lt;dbl&gt; | InjuryResponse_GSC &lt;dbl&gt; |\n",
       "|---|---|---|\n",
       "| InjuryResponse_GSC | -0.821165799 |  1.000000000 |\n",
       "| Liddelow_A2_ReactiveAstrocytes | -0.576120007 |  0.699632156 |\n",
       "| Liddelow_A1_ReactiveAstrocytes | -0.168836566 |  0.435426727 |\n",
       "| Morel_JNeurosci_2017_HypothalamusAstrocytes | -0.190490368 |  0.270184728 |\n",
       "| Lin_NatNeurosci_2017_AstrocytePopulationB |  0.282206345 |  0.087000861 |\n",
       "| Chai_Neuron_2017_AdultHippocampalAstrocytes |  0.018319904 |  0.055959694 |\n",
       "| Lin_NatNeurosci_2017_AstrocytePopulationE | -0.181158850 |  0.055325374 |\n",
       "| Mizrak_septal_astrocytes_M |  0.045553363 |  0.019726745 |\n",
       "| Cahoy_astrocyte |  0.392533974 |  0.009296329 |\n",
       "| Mizrak_septal_astrocytes_F |  0.333672982 |  0.007122085 |\n",
       "| Morel_JNeurosci_2017_NaccRegionAstrocytes |  0.020483297 | -0.006518447 |\n",
       "| Morel_JNeurosci_2017_ThalamusAstrocytes |  0.032328002 | -0.014287330 |\n",
       "| Morel_JNeurosci_2017_CpuRegionAstrocytes | -0.084749091 | -0.017357856 |\n",
       "| Lin_NatNeurosci_2017_AstrocytePopulationD |  0.205921290 | -0.019697784 |\n",
       "| Chai_Neuron_2017_AdultStriatumAstrocytes |  0.431113685 | -0.023518364 |\n",
       "| Lin_NatNeurosci_2017_AstrocytePopulationA |  0.006060878 | -0.034974065 |\n",
       "| Morel_JNeurosci_2017_CortexAstrocytes |  0.159523588 | -0.114568666 |\n",
       "| Lin_NatNeurosci_2017_AstrocytePopulationC |  0.486855819 | -0.262815967 |\n",
       "| Zhong_Astrocytes |  0.640108316 | -0.334939623 |\n",
       "| Morel_JNeurosci_2017_HippocampusAstrocytes |  0.349825716 | -0.377070953 |\n",
       "| Nowakowski_Astrocyte |  0.719459130 | -0.417702709 |\n",
       "| Developmental_GSC |  1.000000000 | -0.821165799 |\n",
       "\n"
      ],
      "text/plain": [
       "                                            Developmental_GSC\n",
       "InjuryResponse_GSC                          -0.821165799     \n",
       "Liddelow_A2_ReactiveAstrocytes              -0.576120007     \n",
       "Liddelow_A1_ReactiveAstrocytes              -0.168836566     \n",
       "Morel_JNeurosci_2017_HypothalamusAstrocytes -0.190490368     \n",
       "Lin_NatNeurosci_2017_AstrocytePopulationB    0.282206345     \n",
       "Chai_Neuron_2017_AdultHippocampalAstrocytes  0.018319904     \n",
       "Lin_NatNeurosci_2017_AstrocytePopulationE   -0.181158850     \n",
       "Mizrak_septal_astrocytes_M                   0.045553363     \n",
       "Cahoy_astrocyte                              0.392533974     \n",
       "Mizrak_septal_astrocytes_F                   0.333672982     \n",
       "Morel_JNeurosci_2017_NaccRegionAstrocytes    0.020483297     \n",
       "Morel_JNeurosci_2017_ThalamusAstrocytes      0.032328002     \n",
       "Morel_JNeurosci_2017_CpuRegionAstrocytes    -0.084749091     \n",
       "Lin_NatNeurosci_2017_AstrocytePopulationD    0.205921290     \n",
       "Chai_Neuron_2017_AdultStriatumAstrocytes     0.431113685     \n",
       "Lin_NatNeurosci_2017_AstrocytePopulationA    0.006060878     \n",
       "Morel_JNeurosci_2017_CortexAstrocytes        0.159523588     \n",
       "Lin_NatNeurosci_2017_AstrocytePopulationC    0.486855819     \n",
       "Zhong_Astrocytes                             0.640108316     \n",
       "Morel_JNeurosci_2017_HippocampusAstrocytes   0.349825716     \n",
       "Nowakowski_Astrocyte                         0.719459130     \n",
       "Developmental_GSC                            1.000000000     \n",
       "                                            InjuryResponse_GSC\n",
       "InjuryResponse_GSC                           1.000000000      \n",
       "Liddelow_A2_ReactiveAstrocytes               0.699632156      \n",
       "Liddelow_A1_ReactiveAstrocytes               0.435426727      \n",
       "Morel_JNeurosci_2017_HypothalamusAstrocytes  0.270184728      \n",
       "Lin_NatNeurosci_2017_AstrocytePopulationB    0.087000861      \n",
       "Chai_Neuron_2017_AdultHippocampalAstrocytes  0.055959694      \n",
       "Lin_NatNeurosci_2017_AstrocytePopulationE    0.055325374      \n",
       "Mizrak_septal_astrocytes_M                   0.019726745      \n",
       "Cahoy_astrocyte                              0.009296329      \n",
       "Mizrak_septal_astrocytes_F                   0.007122085      \n",
       "Morel_JNeurosci_2017_NaccRegionAstrocytes   -0.006518447      \n",
       "Morel_JNeurosci_2017_ThalamusAstrocytes     -0.014287330      \n",
       "Morel_JNeurosci_2017_CpuRegionAstrocytes    -0.017357856      \n",
       "Lin_NatNeurosci_2017_AstrocytePopulationD   -0.019697784      \n",
       "Chai_Neuron_2017_AdultStriatumAstrocytes    -0.023518364      \n",
       "Lin_NatNeurosci_2017_AstrocytePopulationA   -0.034974065      \n",
       "Morel_JNeurosci_2017_CortexAstrocytes       -0.114568666      \n",
       "Lin_NatNeurosci_2017_AstrocytePopulationC   -0.262815967      \n",
       "Zhong_Astrocytes                            -0.334939623      \n",
       "Morel_JNeurosci_2017_HippocampusAstrocytes  -0.377070953      \n",
       "Nowakowski_Astrocyte                        -0.417702709      \n",
       "Developmental_GSC                           -0.821165799      "
      ]
     },
     "metadata": {},
     "output_type": "display_data"
    }
   ],
   "source": [
    "### what are the top correlations for Dev and GSC\n",
    "corr.mat <- as.data.frame(corr.mat)\n",
    "corr.mat[order(corr.mat$InjuryResponse_GSC, decreasing = T), c(\"Developmental_GSC\", \"InjuryResponse_GSC\")]"
   ]
  },
  {
   "cell_type": "markdown",
   "metadata": {
    "collapsed": true
   },
   "source": [
    "---\n",
    "## 2.0 Plot big correlation heatmap to Dev and IR only\n",
    "---"
   ]
  },
  {
   "cell_type": "code",
   "execution_count": 3,
   "metadata": {
    "collapsed": true
   },
   "outputs": [],
   "source": [
    "library(pheatmap)"
   ]
  },
  {
   "cell_type": "code",
   "execution_count": null,
   "metadata": {
    "collapsed": true
   },
   "outputs": [],
   "source": [
    "meta <- readRDS(\"./GSCs/Astrocyte_AUCell_meta_GSCs.rds\")\n",
    "colnames(meta) <- gsub(\"Population\", \"AstrocytePopulation\", colnames(meta))"
   ]
  },
  {
   "cell_type": "code",
   "execution_count": 4,
   "metadata": {},
   "outputs": [
    {
     "data": {
      "text/html": [
       "<table>\n",
       "<caption>A data.frame: 6 × 153</caption>\n",
       "<thead>\n",
       "\t<tr><th></th><th scope=col>nGene</th><th scope=col>nUMI</th><th scope=col>percent.mito</th><th scope=col>PatientID</th><th scope=col>SampleID</th><th scope=col>Passage</th><th scope=col>CultureMethod</th><th scope=col>Pathology</th><th scope=col>Stage</th><th scope=col>Age</th><th scope=col>⋯</th><th scope=col>Lin_NatNeurosci_2017_AstrocytePopulationD_AUC</th><th scope=col>Lin_NatNeurosci_2017_AstrocytePopulationE_AUC</th><th scope=col>Morel_JNeurosci_2017_CortexAstrocytes_AUC</th><th scope=col>Morel_JNeurosci_2017_HippocampusAstrocytes_AUC</th><th scope=col>Morel_JNeurosci_2017_NaccRegionAstrocytes_AUC</th><th scope=col>Morel_JNeurosci_2017_CpuRegionAstrocytes_AUC</th><th scope=col>Morel_JNeurosci_2017_ThalamusAstrocytes_AUC</th><th scope=col>Morel_JNeurosci_2017_HypothalamusAstrocytes_AUC</th><th scope=col>Chai_Neuron_2017_AdultHippocampalAstrocytes_AUC</th><th scope=col>Chai_Neuron_2017_AdultStriatumAstrocytes_AUC</th></tr>\n",
       "\t<tr><th></th><th scope=col>&lt;dbl&gt;</th><th scope=col>&lt;dbl&gt;</th><th scope=col>&lt;dbl&gt;</th><th scope=col>&lt;fct&gt;</th><th scope=col>&lt;chr&gt;</th><th scope=col>&lt;int&gt;</th><th scope=col>&lt;fct&gt;</th><th scope=col>&lt;fct&gt;</th><th scope=col>&lt;fct&gt;</th><th scope=col>&lt;int&gt;</th><th scope=col>⋯</th><th scope=col>&lt;dbl&gt;</th><th scope=col>&lt;dbl&gt;</th><th scope=col>&lt;dbl&gt;</th><th scope=col>&lt;dbl&gt;</th><th scope=col>&lt;dbl&gt;</th><th scope=col>&lt;dbl&gt;</th><th scope=col>&lt;dbl&gt;</th><th scope=col>&lt;dbl&gt;</th><th scope=col>&lt;dbl&gt;</th><th scope=col>&lt;dbl&gt;</th></tr>\n",
       "</thead>\n",
       "<tbody>\n",
       "\t<tr><th scope=row>BT127_L_AAACCTGCACGGACAA</th><td> 640</td><td>  875</td><td>0.043428571</td><td>BT127</td><td>BT127_L</td><td>NA</td><td>Sphere</td><td>GLIOBLASTOMA (GRADE IV)</td><td>PRIMARY</td><td>55</td><td>⋯</td><td>0.08379636</td><td>0.09032242</td><td>0.008681462</td><td>0.00000000</td><td>0.00000000</td><td>0.002922756</td><td>0.02040111</td><td>0</td><td>0.05649707</td><td>0.06328313</td></tr>\n",
       "\t<tr><th scope=row>BT127_L_AAACCTGCATCCGGGT</th><td>1036</td><td> 2408</td><td>0.002076412</td><td>BT127</td><td>BT127_L</td><td>NA</td><td>Sphere</td><td>GLIOBLASTOMA (GRADE IV)</td><td>PRIMARY</td><td>55</td><td>⋯</td><td>0.07900800</td><td>0.13305100</td><td>0.000000000</td><td>0.13587764</td><td>0.00000000</td><td>0.081071677</td><td>0.00000000</td><td>0</td><td>0.04144863</td><td>0.03161689</td></tr>\n",
       "\t<tr><th scope=row>BT127_L_AAACCTGGTACAGTTC</th><td>3240</td><td>10058</td><td>0.078047326</td><td>BT127</td><td>BT127_L</td><td>NA</td><td>Sphere</td><td>GLIOBLASTOMA (GRADE IV)</td><td>PRIMARY</td><td>55</td><td>⋯</td><td>0.10075891</td><td>0.12916887</td><td>0.000000000</td><td>0.07692308</td><td>0.00000000</td><td>0.000000000</td><td>0.00000000</td><td>0</td><td>0.03223163</td><td>0.05726914</td></tr>\n",
       "\t<tr><th scope=row>BT127_L_AAACCTGTCTACGAGT</th><td>3337</td><td>10798</td><td>0.061863308</td><td>BT127</td><td>BT127_L</td><td>NA</td><td>Sphere</td><td>GLIOBLASTOMA (GRADE IV)</td><td>PRIMARY</td><td>55</td><td>⋯</td><td>0.06385237</td><td>0.13239557</td><td>0.000000000</td><td>0.00000000</td><td>0.00000000</td><td>0.013639527</td><td>0.00000000</td><td>0</td><td>0.03280233</td><td>0.06616032</td></tr>\n",
       "\t<tr><th scope=row>BT127_L_AAACGGGAGTGGTAAT</th><td>4140</td><td>14601</td><td>0.081501267</td><td>BT127</td><td>BT127_L</td><td>NA</td><td>Sphere</td><td>GLIOBLASTOMA (GRADE IV)</td><td>PRIMARY</td><td>55</td><td>⋯</td><td>0.04869675</td><td>0.09654894</td><td>0.000000000</td><td>0.16260766</td><td>0.00000000</td><td>0.047877523</td><td>0.00000000</td><td>0</td><td>0.03767043</td><td>0.05396928</td></tr>\n",
       "\t<tr><th scope=row>BT127_L_AAACGGGCAGGACGTA</th><td> 543</td><td>  820</td><td>0.108536585</td><td>BT127</td><td>BT127_L</td><td>NA</td><td>Sphere</td><td>GLIOBLASTOMA (GRADE IV)</td><td>PRIMARY</td><td>55</td><td>⋯</td><td>0.06283598</td><td>0.05934105</td><td>0.000000000</td><td>0.04677755</td><td>0.05184033</td><td>0.000000000</td><td>0.00000000</td><td>0</td><td>0.04227250</td><td>0.07799305</td></tr>\n",
       "</tbody>\n",
       "</table>\n"
      ],
      "text/latex": [
       "A data.frame: 6 × 153\n",
       "\\begin{tabular}{r|lllllllllllllllllllll}\n",
       "  & nGene & nUMI & percent.mito & PatientID & SampleID & Passage & CultureMethod & Pathology & Stage & Age & ⋯ & Lin\\_NatNeurosci\\_2017\\_AstrocytePopulationD\\_AUC & Lin\\_NatNeurosci\\_2017\\_AstrocytePopulationE\\_AUC & Morel\\_JNeurosci\\_2017\\_CortexAstrocytes\\_AUC & Morel\\_JNeurosci\\_2017\\_HippocampusAstrocytes\\_AUC & Morel\\_JNeurosci\\_2017\\_NaccRegionAstrocytes\\_AUC & Morel\\_JNeurosci\\_2017\\_CpuRegionAstrocytes\\_AUC & Morel\\_JNeurosci\\_2017\\_ThalamusAstrocytes\\_AUC & Morel\\_JNeurosci\\_2017\\_HypothalamusAstrocytes\\_AUC & Chai\\_Neuron\\_2017\\_AdultHippocampalAstrocytes\\_AUC & Chai\\_Neuron\\_2017\\_AdultStriatumAstrocytes\\_AUC\\\\\n",
       "  & <dbl> & <dbl> & <dbl> & <fct> & <chr> & <int> & <fct> & <fct> & <fct> & <int> & ⋯ & <dbl> & <dbl> & <dbl> & <dbl> & <dbl> & <dbl> & <dbl> & <dbl> & <dbl> & <dbl>\\\\\n",
       "\\hline\n",
       "\tBT127\\_L\\_AAACCTGCACGGACAA &  640 &   875 & 0.043428571 & BT127 & BT127\\_L & NA & Sphere & GLIOBLASTOMA (GRADE IV) & PRIMARY & 55 & ⋯ & 0.08379636 & 0.09032242 & 0.008681462 & 0.00000000 & 0.00000000 & 0.002922756 & 0.02040111 & 0 & 0.05649707 & 0.06328313\\\\\n",
       "\tBT127\\_L\\_AAACCTGCATCCGGGT & 1036 &  2408 & 0.002076412 & BT127 & BT127\\_L & NA & Sphere & GLIOBLASTOMA (GRADE IV) & PRIMARY & 55 & ⋯ & 0.07900800 & 0.13305100 & 0.000000000 & 0.13587764 & 0.00000000 & 0.081071677 & 0.00000000 & 0 & 0.04144863 & 0.03161689\\\\\n",
       "\tBT127\\_L\\_AAACCTGGTACAGTTC & 3240 & 10058 & 0.078047326 & BT127 & BT127\\_L & NA & Sphere & GLIOBLASTOMA (GRADE IV) & PRIMARY & 55 & ⋯ & 0.10075891 & 0.12916887 & 0.000000000 & 0.07692308 & 0.00000000 & 0.000000000 & 0.00000000 & 0 & 0.03223163 & 0.05726914\\\\\n",
       "\tBT127\\_L\\_AAACCTGTCTACGAGT & 3337 & 10798 & 0.061863308 & BT127 & BT127\\_L & NA & Sphere & GLIOBLASTOMA (GRADE IV) & PRIMARY & 55 & ⋯ & 0.06385237 & 0.13239557 & 0.000000000 & 0.00000000 & 0.00000000 & 0.013639527 & 0.00000000 & 0 & 0.03280233 & 0.06616032\\\\\n",
       "\tBT127\\_L\\_AAACGGGAGTGGTAAT & 4140 & 14601 & 0.081501267 & BT127 & BT127\\_L & NA & Sphere & GLIOBLASTOMA (GRADE IV) & PRIMARY & 55 & ⋯ & 0.04869675 & 0.09654894 & 0.000000000 & 0.16260766 & 0.00000000 & 0.047877523 & 0.00000000 & 0 & 0.03767043 & 0.05396928\\\\\n",
       "\tBT127\\_L\\_AAACGGGCAGGACGTA &  543 &   820 & 0.108536585 & BT127 & BT127\\_L & NA & Sphere & GLIOBLASTOMA (GRADE IV) & PRIMARY & 55 & ⋯ & 0.06283598 & 0.05934105 & 0.000000000 & 0.04677755 & 0.05184033 & 0.000000000 & 0.00000000 & 0 & 0.04227250 & 0.07799305\\\\\n",
       "\\end{tabular}\n"
      ],
      "text/markdown": [
       "\n",
       "A data.frame: 6 × 153\n",
       "\n",
       "| <!--/--> | nGene &lt;dbl&gt; | nUMI &lt;dbl&gt; | percent.mito &lt;dbl&gt; | PatientID &lt;fct&gt; | SampleID &lt;chr&gt; | Passage &lt;int&gt; | CultureMethod &lt;fct&gt; | Pathology &lt;fct&gt; | Stage &lt;fct&gt; | Age &lt;int&gt; | ⋯ ⋯ | Lin_NatNeurosci_2017_AstrocytePopulationD_AUC &lt;dbl&gt; | Lin_NatNeurosci_2017_AstrocytePopulationE_AUC &lt;dbl&gt; | Morel_JNeurosci_2017_CortexAstrocytes_AUC &lt;dbl&gt; | Morel_JNeurosci_2017_HippocampusAstrocytes_AUC &lt;dbl&gt; | Morel_JNeurosci_2017_NaccRegionAstrocytes_AUC &lt;dbl&gt; | Morel_JNeurosci_2017_CpuRegionAstrocytes_AUC &lt;dbl&gt; | Morel_JNeurosci_2017_ThalamusAstrocytes_AUC &lt;dbl&gt; | Morel_JNeurosci_2017_HypothalamusAstrocytes_AUC &lt;dbl&gt; | Chai_Neuron_2017_AdultHippocampalAstrocytes_AUC &lt;dbl&gt; | Chai_Neuron_2017_AdultStriatumAstrocytes_AUC &lt;dbl&gt; |\n",
       "|---|---|---|---|---|---|---|---|---|---|---|---|---|---|---|---|---|---|---|---|---|---|\n",
       "| BT127_L_AAACCTGCACGGACAA |  640 |   875 | 0.043428571 | BT127 | BT127_L | NA | Sphere | GLIOBLASTOMA (GRADE IV) | PRIMARY | 55 | ⋯ | 0.08379636 | 0.09032242 | 0.008681462 | 0.00000000 | 0.00000000 | 0.002922756 | 0.02040111 | 0 | 0.05649707 | 0.06328313 |\n",
       "| BT127_L_AAACCTGCATCCGGGT | 1036 |  2408 | 0.002076412 | BT127 | BT127_L | NA | Sphere | GLIOBLASTOMA (GRADE IV) | PRIMARY | 55 | ⋯ | 0.07900800 | 0.13305100 | 0.000000000 | 0.13587764 | 0.00000000 | 0.081071677 | 0.00000000 | 0 | 0.04144863 | 0.03161689 |\n",
       "| BT127_L_AAACCTGGTACAGTTC | 3240 | 10058 | 0.078047326 | BT127 | BT127_L | NA | Sphere | GLIOBLASTOMA (GRADE IV) | PRIMARY | 55 | ⋯ | 0.10075891 | 0.12916887 | 0.000000000 | 0.07692308 | 0.00000000 | 0.000000000 | 0.00000000 | 0 | 0.03223163 | 0.05726914 |\n",
       "| BT127_L_AAACCTGTCTACGAGT | 3337 | 10798 | 0.061863308 | BT127 | BT127_L | NA | Sphere | GLIOBLASTOMA (GRADE IV) | PRIMARY | 55 | ⋯ | 0.06385237 | 0.13239557 | 0.000000000 | 0.00000000 | 0.00000000 | 0.013639527 | 0.00000000 | 0 | 0.03280233 | 0.06616032 |\n",
       "| BT127_L_AAACGGGAGTGGTAAT | 4140 | 14601 | 0.081501267 | BT127 | BT127_L | NA | Sphere | GLIOBLASTOMA (GRADE IV) | PRIMARY | 55 | ⋯ | 0.04869675 | 0.09654894 | 0.000000000 | 0.16260766 | 0.00000000 | 0.047877523 | 0.00000000 | 0 | 0.03767043 | 0.05396928 |\n",
       "| BT127_L_AAACGGGCAGGACGTA |  543 |   820 | 0.108536585 | BT127 | BT127_L | NA | Sphere | GLIOBLASTOMA (GRADE IV) | PRIMARY | 55 | ⋯ | 0.06283598 | 0.05934105 | 0.000000000 | 0.04677755 | 0.05184033 | 0.000000000 | 0.00000000 | 0 | 0.04227250 | 0.07799305 |\n",
       "\n"
      ],
      "text/plain": [
       "                         nGene nUMI  percent.mito PatientID SampleID Passage\n",
       "BT127_L_AAACCTGCACGGACAA  640    875 0.043428571  BT127     BT127_L  NA     \n",
       "BT127_L_AAACCTGCATCCGGGT 1036   2408 0.002076412  BT127     BT127_L  NA     \n",
       "BT127_L_AAACCTGGTACAGTTC 3240  10058 0.078047326  BT127     BT127_L  NA     \n",
       "BT127_L_AAACCTGTCTACGAGT 3337  10798 0.061863308  BT127     BT127_L  NA     \n",
       "BT127_L_AAACGGGAGTGGTAAT 4140  14601 0.081501267  BT127     BT127_L  NA     \n",
       "BT127_L_AAACGGGCAGGACGTA  543    820 0.108536585  BT127     BT127_L  NA     \n",
       "                         CultureMethod Pathology               Stage   Age ⋯\n",
       "BT127_L_AAACCTGCACGGACAA Sphere        GLIOBLASTOMA (GRADE IV) PRIMARY 55  ⋯\n",
       "BT127_L_AAACCTGCATCCGGGT Sphere        GLIOBLASTOMA (GRADE IV) PRIMARY 55  ⋯\n",
       "BT127_L_AAACCTGGTACAGTTC Sphere        GLIOBLASTOMA (GRADE IV) PRIMARY 55  ⋯\n",
       "BT127_L_AAACCTGTCTACGAGT Sphere        GLIOBLASTOMA (GRADE IV) PRIMARY 55  ⋯\n",
       "BT127_L_AAACGGGAGTGGTAAT Sphere        GLIOBLASTOMA (GRADE IV) PRIMARY 55  ⋯\n",
       "BT127_L_AAACGGGCAGGACGTA Sphere        GLIOBLASTOMA (GRADE IV) PRIMARY 55  ⋯\n",
       "                         Lin_NatNeurosci_2017_AstrocytePopulationD_AUC\n",
       "BT127_L_AAACCTGCACGGACAA 0.08379636                                   \n",
       "BT127_L_AAACCTGCATCCGGGT 0.07900800                                   \n",
       "BT127_L_AAACCTGGTACAGTTC 0.10075891                                   \n",
       "BT127_L_AAACCTGTCTACGAGT 0.06385237                                   \n",
       "BT127_L_AAACGGGAGTGGTAAT 0.04869675                                   \n",
       "BT127_L_AAACGGGCAGGACGTA 0.06283598                                   \n",
       "                         Lin_NatNeurosci_2017_AstrocytePopulationE_AUC\n",
       "BT127_L_AAACCTGCACGGACAA 0.09032242                                   \n",
       "BT127_L_AAACCTGCATCCGGGT 0.13305100                                   \n",
       "BT127_L_AAACCTGGTACAGTTC 0.12916887                                   \n",
       "BT127_L_AAACCTGTCTACGAGT 0.13239557                                   \n",
       "BT127_L_AAACGGGAGTGGTAAT 0.09654894                                   \n",
       "BT127_L_AAACGGGCAGGACGTA 0.05934105                                   \n",
       "                         Morel_JNeurosci_2017_CortexAstrocytes_AUC\n",
       "BT127_L_AAACCTGCACGGACAA 0.008681462                              \n",
       "BT127_L_AAACCTGCATCCGGGT 0.000000000                              \n",
       "BT127_L_AAACCTGGTACAGTTC 0.000000000                              \n",
       "BT127_L_AAACCTGTCTACGAGT 0.000000000                              \n",
       "BT127_L_AAACGGGAGTGGTAAT 0.000000000                              \n",
       "BT127_L_AAACGGGCAGGACGTA 0.000000000                              \n",
       "                         Morel_JNeurosci_2017_HippocampusAstrocytes_AUC\n",
       "BT127_L_AAACCTGCACGGACAA 0.00000000                                    \n",
       "BT127_L_AAACCTGCATCCGGGT 0.13587764                                    \n",
       "BT127_L_AAACCTGGTACAGTTC 0.07692308                                    \n",
       "BT127_L_AAACCTGTCTACGAGT 0.00000000                                    \n",
       "BT127_L_AAACGGGAGTGGTAAT 0.16260766                                    \n",
       "BT127_L_AAACGGGCAGGACGTA 0.04677755                                    \n",
       "                         Morel_JNeurosci_2017_NaccRegionAstrocytes_AUC\n",
       "BT127_L_AAACCTGCACGGACAA 0.00000000                                   \n",
       "BT127_L_AAACCTGCATCCGGGT 0.00000000                                   \n",
       "BT127_L_AAACCTGGTACAGTTC 0.00000000                                   \n",
       "BT127_L_AAACCTGTCTACGAGT 0.00000000                                   \n",
       "BT127_L_AAACGGGAGTGGTAAT 0.00000000                                   \n",
       "BT127_L_AAACGGGCAGGACGTA 0.05184033                                   \n",
       "                         Morel_JNeurosci_2017_CpuRegionAstrocytes_AUC\n",
       "BT127_L_AAACCTGCACGGACAA 0.002922756                                 \n",
       "BT127_L_AAACCTGCATCCGGGT 0.081071677                                 \n",
       "BT127_L_AAACCTGGTACAGTTC 0.000000000                                 \n",
       "BT127_L_AAACCTGTCTACGAGT 0.013639527                                 \n",
       "BT127_L_AAACGGGAGTGGTAAT 0.047877523                                 \n",
       "BT127_L_AAACGGGCAGGACGTA 0.000000000                                 \n",
       "                         Morel_JNeurosci_2017_ThalamusAstrocytes_AUC\n",
       "BT127_L_AAACCTGCACGGACAA 0.02040111                                 \n",
       "BT127_L_AAACCTGCATCCGGGT 0.00000000                                 \n",
       "BT127_L_AAACCTGGTACAGTTC 0.00000000                                 \n",
       "BT127_L_AAACCTGTCTACGAGT 0.00000000                                 \n",
       "BT127_L_AAACGGGAGTGGTAAT 0.00000000                                 \n",
       "BT127_L_AAACGGGCAGGACGTA 0.00000000                                 \n",
       "                         Morel_JNeurosci_2017_HypothalamusAstrocytes_AUC\n",
       "BT127_L_AAACCTGCACGGACAA 0                                              \n",
       "BT127_L_AAACCTGCATCCGGGT 0                                              \n",
       "BT127_L_AAACCTGGTACAGTTC 0                                              \n",
       "BT127_L_AAACCTGTCTACGAGT 0                                              \n",
       "BT127_L_AAACGGGAGTGGTAAT 0                                              \n",
       "BT127_L_AAACGGGCAGGACGTA 0                                              \n",
       "                         Chai_Neuron_2017_AdultHippocampalAstrocytes_AUC\n",
       "BT127_L_AAACCTGCACGGACAA 0.05649707                                     \n",
       "BT127_L_AAACCTGCATCCGGGT 0.04144863                                     \n",
       "BT127_L_AAACCTGGTACAGTTC 0.03223163                                     \n",
       "BT127_L_AAACCTGTCTACGAGT 0.03280233                                     \n",
       "BT127_L_AAACGGGAGTGGTAAT 0.03767043                                     \n",
       "BT127_L_AAACGGGCAGGACGTA 0.04227250                                     \n",
       "                         Chai_Neuron_2017_AdultStriatumAstrocytes_AUC\n",
       "BT127_L_AAACCTGCACGGACAA 0.06328313                                  \n",
       "BT127_L_AAACCTGCATCCGGGT 0.03161689                                  \n",
       "BT127_L_AAACCTGGTACAGTTC 0.05726914                                  \n",
       "BT127_L_AAACCTGTCTACGAGT 0.06616032                                  \n",
       "BT127_L_AAACGGGAGTGGTAAT 0.05396928                                  \n",
       "BT127_L_AAACGGGCAGGACGTA 0.07799305                                  "
      ]
     },
     "metadata": {},
     "output_type": "display_data"
    }
   ],
   "source": [
    "head(meta)"
   ]
  },
  {
   "cell_type": "code",
   "execution_count": 5,
   "metadata": {},
   "outputs": [
    {
     "data": {
      "text/html": [
       "<style>\n",
       ".list-inline {list-style: none; margin:0; padding: 0}\n",
       ".list-inline>li {display: inline-block}\n",
       ".list-inline>li:not(:last-child)::after {content: \"\\00b7\"; padding: 0 .5ex}\n",
       "</style>\n",
       "<ol class=list-inline><li>69393</li><li>129</li></ol>\n"
      ],
      "text/latex": [
       "\\begin{enumerate*}\n",
       "\\item 69393\n",
       "\\item 129\n",
       "\\end{enumerate*}\n"
      ],
      "text/markdown": [
       "1. 69393\n",
       "2. 129\n",
       "\n",
       "\n"
      ],
      "text/plain": [
       "[1] 69393   129"
      ]
     },
     "metadata": {},
     "output_type": "display_data"
    }
   ],
   "source": [
    "subset <- c(colnames(meta)[grep(\"AUC\", colnames(meta))])\n",
    "mat <- meta[ ,subset]\n",
    "colnames(mat) <- gsub(\"_AUC\", \"\", colnames(mat))\n",
    "dim(mat)\n",
    "corr.mat <- cor(mat, method = \"spearman\")"
   ]
  },
  {
   "cell_type": "code",
   "execution_count": 11,
   "metadata": {},
   "outputs": [
    {
     "data": {
      "text/html": [
       "<table>\n",
       "<caption>A matrix: 6 × 2 of type dbl</caption>\n",
       "<thead>\n",
       "\t<tr><th></th><th scope=col>Developmental_GSC</th><th scope=col>InjuryResponse_GSC</th></tr>\n",
       "</thead>\n",
       "<tbody>\n",
       "\t<tr><th scope=row>Zhong_NPCs</th><td>-0.3022535</td><td> 0.00913502</td></tr>\n",
       "\t<tr><th scope=row>Zhong_Excitatory_neurons</th><td>-0.3228762</td><td> 0.30119776</td></tr>\n",
       "\t<tr><th scope=row>Zhong_Interneurons</th><td> 0.0993965</td><td> 0.11010224</td></tr>\n",
       "\t<tr><th scope=row>Zhong_OPC</th><td> 0.8015879</td><td>-0.57084746</td></tr>\n",
       "\t<tr><th scope=row>Zhong_Astrocytes</th><td> 0.6401083</td><td>-0.33493962</td></tr>\n",
       "\t<tr><th scope=row>Zhong_Microglia</th><td>-0.1572322</td><td> 0.48661543</td></tr>\n",
       "</tbody>\n",
       "</table>\n"
      ],
      "text/latex": [
       "A matrix: 6 × 2 of type dbl\n",
       "\\begin{tabular}{r|ll}\n",
       "  & Developmental\\_GSC & InjuryResponse\\_GSC\\\\\n",
       "\\hline\n",
       "\tZhong\\_NPCs & -0.3022535 &  0.00913502\\\\\n",
       "\tZhong\\_Excitatory\\_neurons & -0.3228762 &  0.30119776\\\\\n",
       "\tZhong\\_Interneurons &  0.0993965 &  0.11010224\\\\\n",
       "\tZhong\\_OPC &  0.8015879 & -0.57084746\\\\\n",
       "\tZhong\\_Astrocytes &  0.6401083 & -0.33493962\\\\\n",
       "\tZhong\\_Microglia & -0.1572322 &  0.48661543\\\\\n",
       "\\end{tabular}\n"
      ],
      "text/markdown": [
       "\n",
       "A matrix: 6 × 2 of type dbl\n",
       "\n",
       "| <!--/--> | Developmental_GSC | InjuryResponse_GSC |\n",
       "|---|---|---|\n",
       "| Zhong_NPCs | -0.3022535 |  0.00913502 |\n",
       "| Zhong_Excitatory_neurons | -0.3228762 |  0.30119776 |\n",
       "| Zhong_Interneurons |  0.0993965 |  0.11010224 |\n",
       "| Zhong_OPC |  0.8015879 | -0.57084746 |\n",
       "| Zhong_Astrocytes |  0.6401083 | -0.33493962 |\n",
       "| Zhong_Microglia | -0.1572322 |  0.48661543 |\n",
       "\n"
      ],
      "text/plain": [
       "                         Developmental_GSC InjuryResponse_GSC\n",
       "Zhong_NPCs               -0.3022535         0.00913502       \n",
       "Zhong_Excitatory_neurons -0.3228762         0.30119776       \n",
       "Zhong_Interneurons        0.0993965         0.11010224       \n",
       "Zhong_OPC                 0.8015879        -0.57084746       \n",
       "Zhong_Astrocytes          0.6401083        -0.33493962       \n",
       "Zhong_Microglia          -0.1572322         0.48661543       "
      ]
     },
     "metadata": {},
     "output_type": "display_data"
    }
   ],
   "source": [
    "corr.mat <- corr.mat[!rownames(corr.mat) %in% c(\"Developmental_GSC\",\"InjuryResponse_GSC\") , c(\"Developmental_GSC\",\"InjuryResponse_GSC\")]\n",
    "head(corr.mat)"
   ]
  },
  {
   "cell_type": "code",
   "execution_count": 20,
   "metadata": {
    "collapsed": true
   },
   "outputs": [],
   "source": [
    "col<- colorRampPalette(c(\"blue\", \"white\", \"red\"))(20)\n",
    "pheatmap(corr.mat, \n",
    "         col = col,\n",
    "         #cellheight = 12,\n",
    "         #cutree_cols = 3,\n",
    "         #cutree_rows = 3,\n",
    "         angle_col = 0,\n",
    "         filename = \"GSCs_AllSigsCorrHeatmap_DevIR.pdf\",\n",
    "         height = 18,\n",
    "         width = 8,\n",
    "         \n",
    "         )\n"
   ]
  },
  {
   "cell_type": "code",
   "execution_count": 15,
   "metadata": {
    "collapsed": true
   },
   "outputs": [],
   "source": [
    "?pheatmap"
   ]
  },
  {
   "cell_type": "code",
   "execution_count": null,
   "metadata": {
    "collapsed": true
   },
   "outputs": [],
   "source": []
  }
 ],
 "metadata": {
  "kernelspec": {
   "display_name": "R",
   "language": "R",
   "name": "ir"
  },
  "language_info": {
   "codemirror_mode": "r",
   "file_extension": ".r",
   "mimetype": "text/x-r-source",
   "name": "R",
   "pygments_lexer": "r",
   "version": "3.6.3"
  }
 },
 "nbformat": 4,
 "nbformat_minor": 2
}
