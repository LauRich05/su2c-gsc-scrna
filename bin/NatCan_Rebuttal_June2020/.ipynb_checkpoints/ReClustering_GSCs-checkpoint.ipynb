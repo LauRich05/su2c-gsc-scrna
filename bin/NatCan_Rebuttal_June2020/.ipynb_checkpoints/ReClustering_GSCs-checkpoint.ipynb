{
 "cells": [
  {
   "cell_type": "markdown",
   "metadata": {},
   "source": [
    "----\n",
    "# Re-clustering of GSCs\n",
    "----\n",
    "/cluster/projects/pughlab/projects/BTSCs_scRNAseq/Manuscript_G607removed/NatCan_Rebuttal/GSC_reclustering\n",
    "/cluster/projects/pughlab/projects/BTSCs_scRNAseq/Manuscript_G607removed/NatCan_Rebuttal/spectral_clustering"
   ]
  },
  {
   "cell_type": "code",
   "execution_count": 3,
   "metadata": {},
   "outputs": [],
   "source": [
    "setwd(\"~/Desktop/H4H/pughlab/projects/BTSCs_scRNAseq/Manuscript_G607removed/NatCan_Rebuttal/GSC_reclustering/spectral_louvain/\")"
   ]
  },
  {
   "cell_type": "raw",
   "metadata": {
    "collapsed": true
   },
   "source": [
    "###reformat DE markers\n",
    "DE <- list.files(pattern=\"_DE_M\")\n",
    "\n",
    "markers <- list()\n",
    "\n",
    "for (i in 1:length(DE)){\n",
    "    \n",
    "    print(DE[i])\n",
    "    dat <- readRDS(DE[i])\n",
    "    \n",
    "    sample.markers <- list()\n",
    "    \n",
    "    for (j in 1:length(dat)){\n",
    "    \n",
    "    j <- as.numeric(j)\n",
    "    print(j)\n",
    "    dat[[j]]$Method <- as.character(names(dat)[j])\n",
    "    dat[[j]] <- dat[[j]][dat[[j]]$p_val_adj < 0.01, ]\n",
    "    aa <- data.frame((table(dat[[j]]$cluster)))\n",
    "    colnames(aa) <- c(\"ClusterID\", \"NumMarkers\")\n",
    "    aa$Sample <- strsplit(names(dat[j]), split=\"[.]\")[[1]][1]\n",
    "    aa$Method <- strsplit(names(dat[j]), split=\"[.]\")[[1]][2]\n",
    "    sample.markers[[unique(aa$Method)]] <- aa\n",
    "        \n",
    "}\n",
    " \n",
    "    markers[[unique(aa$Sample)]] <- do.call(rbind, sample.markers)\n",
    "}\n",
    "\n",
    "merge <- do.call(rbind, markers)\n",
    "saveRDS(merge, file = \"Combined_DE_markers.rds\")"
   ]
  },
  {
   "cell_type": "raw",
   "metadata": {},
   "source": [
    "###reformat sil widths\n",
    "sil.files <- list.files(pattern=\"sil\")\n",
    "\n",
    "sils <- list()\n",
    "\n",
    "for (i in 1:length(sil.files)){\n",
    "    \n",
    "    print(sil.files[i])\n",
    "    dat <- readRDS(sil.files[i])\n",
    "    \n",
    "    sample.sils <- list()\n",
    "    \n",
    "    for (j in 1:length(dat)){\n",
    "    \n",
    "    aa <- data.frame(dat[[j]])\n",
    "    colnames(aa) <- c(\"Avg.SilWidth\")\n",
    "    aa$Cluster <- names(dat[[j]])\n",
    "    aa$Sample <- strsplit(names(dat[j]), split=\"[.]\")[[1]][1]\n",
    "    aa$Method <- strsplit(names(dat[j]), split=\"[.]\")[[1]][2]\n",
    "    sample.sils[[unique(aa$Method)]] <- aa\n",
    "        \n",
    "}\n",
    " \n",
    "    sils[[unique(aa$Sample)]] <- do.call(rbind, sample.sils)\n",
    "}\n",
    "\n",
    "merge <- do.call(rbind, sils)\n",
    "saveRDS(merge, file = \"Combined_SilAvg.rds\")"
   ]
  },
  {
   "cell_type": "markdown",
   "metadata": {},
   "source": [
    "---\n",
    "## 1.0 Format metadata\n",
    "---\n",
    "\n",
    "Use silhouette width and marker genes\n",
    "\n",
    "### 1.1 Pick optimal spectral clustering solution"
   ]
  },
  {
   "cell_type": "code",
   "execution_count": null,
   "metadata": {
    "collapsed": true
   },
   "outputs": [],
   "source": [
    "DE <- readRDS(\"Combined_DE_markers.rds\")\n",
    "sil <- readRDS(\"Combined_SilAvg.rds\")\n",
    "samples <- unique(sil$Sample)\n",
    "optimal.k <- c()\n",
    "keep <- list()\n",
    "\n",
    "for (i in 1:length(samples)){\n",
    "    \n",
    "    markers <- c()\n",
    "    avg.sil <- c()\n",
    "    k <- c()\n",
    "    \n",
    "    sample <- samples[i]\n",
    "    print(sample)\n",
    "    DE_sub <- DE[DE$Sample == sample, ]\n",
    "    DE_sub <- DE_sub[grep(\"pectral\", DE_sub$Method), ]\n",
    "    \n",
    "    ks <- unique(DE_sub$Method)\n",
    "    for (j in 1:length(ks)){\n",
    "        k[j] <- j+1\n",
    "        markers[j] <- mean(DE_sub[DE_sub$Method==ks[j], ]$NumMarkers)\n",
    "    }\n",
    "    \n",
    "    sil_sub <- sil[sil$Sample == sample, ]\n",
    "    sil_sub <- sil_sub[grep(\"ectral\", sil_sub$Method), ]\n",
    "    methods <- unique(sil_sub$Method)\n",
    "    for (x in 1:length(methods)){\n",
    "        avg.sil[x] <- mean(sil_sub[sil_sub$Method==methods[x], ]$Avg.SilWidth)\n",
    "    }\n",
    "    \n",
    "    b <- data.frame(k, markers, avg.sil)\n",
    "    b <- b[b$markers > 20, ]\n",
    "    keep[[sample]] <- b\n",
    "    keep[[sample]]$sample <- sample\n",
    "    optimal.k[i] <- b[b$avg.sil == max(b$avg.sil), ]$k\n",
    "}\n",
    "\n",
    "\n",
    "test <- do.call(rbind, keep)\n",
    "write.csv(test, file = \"Spectral_kcomparison.csv\")\n",
    "\n",
    "names(optimal.k) <- samples\n",
    "optimal.k <- data.frame(optimal.k)\n",
    "optimal.k$sample <- samples\n",
    "write.csv(optimal.k, file = \"Optimalk_spectral.csv\")"
   ]
  },
  {
   "cell_type": "markdown",
   "metadata": {
    "collapsed": true
   },
   "source": [
    "### 1.2 Make metadata with optimal spectral solutions only"
   ]
  },
  {
   "cell_type": "code",
   "execution_count": 9,
   "metadata": {
    "collapsed": true
   },
   "outputs": [],
   "source": [
    "DE <- readRDS(\"Combined_DE_markers.rds\")\n",
    "sil <- readRDS(\"Combined_SilAvg.rds\")\n",
    "opt.k <- read.csv(\"Optimalk_spectral.csv\")\n",
    "samples <- unique(sil$Sample)"
   ]
  },
  {
   "cell_type": "code",
   "execution_count": 89,
   "metadata": {},
   "outputs": [],
   "source": [
    "combined <- list()\n",
    "\n",
    "for (i in 1:length(samples)){\n",
    "    \n",
    "    #print(samples[i])\n",
    "    k1 <- paste0(\"Cluster_Spectral_\", opt.k[opt.k$sample == samples[i], ]$optimal.k)\n",
    "    \n",
    "    ### extract DE stats\n",
    "    DE_sub <- DE[DE$Sample == samples[i], ]\n",
    "    DE_sub$ClusterID <- as.numeric(gsub(\"C\", \"\", DE_sub$ClusterID))\n",
    "    DE_spectral <- DE_sub[DE_sub$Method == k1, ]\n",
    "    DE_spectral <- DE_spectral[order(DE_spectral$ClusterID, decreasing = F), ]\n",
    "    \n",
    "    DE_louvain <- DE_sub[DE_sub$Method == \"Cluster_1_Louvian\", ]\n",
    "    DE_louvain <- DE_louvain[order(DE_louvain$ClusterID, decreasing = F), ]\n",
    "    \n",
    "    DE_louvain_MLR <- DE_sub[DE_sub$Method == \"Cluster_2_LouvianMultiLev\", ]\n",
    "    DE_louvain_MLR <- DE_louvain_MLR[order(DE_louvain_MLR$ClusterID, decreasing = F), ]\n",
    "   \n",
    "    DE_SLM <- DE_sub[DE_sub$Method == \"Cluster_3_SLM\", ]\n",
    "    DE_SLM <- DE_SLM[order(DE_SLM$ClusterID, decreasing = F), ]\n",
    "\n",
    "    DE_sample <- rbind(DE_spectral, DE_louvain, DE_louvain_MLR, DE_SLM)\n",
    "\n",
    "    ### extract sil stats\n",
    "    k2 <- paste0(\"Spectral\", opt.k[opt.k$sample == samples[i], ]$optimal.k)\n",
    "    sil_sub <- sil[sil$Sample == samples[i], ]\n",
    "    sil_spectral <- sil_sub[sil_sub$Method == k2, ]\n",
    "    sil_louvain <- sil_sub[sil_sub$Method == \"Louvain\", ]\n",
    "    sil_louvain_MLR <- sil_sub[sil_sub$Method == \"LouvainMLR\", ]\n",
    "    sil_SLM <- sil_sub[sil_sub$Method == \"SLM\", ]\n",
    "    sil_sample <- rbind(sil_spectral, sil_louvain, sil_louvain_MLR, sil_SLM)\n",
    "\n",
    "    ### combine lists\n",
    "    DE_sample$AvgSil <- sil_sample$Avg.SilWidth\n",
    "    combined[[samples[i]]] <- DE_sample\n",
    "\n",
    "}\n",
    "\n",
    "combined <- do.call(rbind, combined)\n",
    "#head(combined)"
   ]
  },
  {
   "cell_type": "code",
   "execution_count": null,
   "metadata": {
    "collapsed": true
   },
   "outputs": [],
   "source": []
  },
  {
   "cell_type": "markdown",
   "metadata": {},
   "source": [
    "### 1.3 Add k-means clustering to meta.data"
   ]
  },
  {
   "cell_type": "code",
   "execution_count": 92,
   "metadata": {
    "collapsed": true
   },
   "outputs": [],
   "source": [
    "setwd(\"~/Desktop/H4H/pughlab/projects/BTSCs_scRNAseq/Manuscript_G607removed/NatCan_Rebuttal/GSC_reclustering/kmeans/\")"
   ]
  },
  {
   "cell_type": "code",
   "execution_count": 94,
   "metadata": {},
   "outputs": [
    {
     "ename": "ERROR",
     "evalue": "Error in head(kmeans_metadata.rds): object 'kmeans_metadata.rds' not found\n",
     "output_type": "error",
     "traceback": [
      "Error in head(kmeans_metadata.rds): object 'kmeans_metadata.rds' not found\nTraceback:\n",
      "1. head(kmeans_metadata.rds)"
     ]
    }
   ],
   "source": [
    "head(kmeans_metadata.rds)"
   ]
  },
  {
   "cell_type": "code",
   "execution_count": null,
   "metadata": {
    "collapsed": true
   },
   "outputs": [],
   "source": []
  },
  {
   "cell_type": "code",
   "execution_count": null,
   "metadata": {
    "collapsed": true
   },
   "outputs": [],
   "source": []
  },
  {
   "cell_type": "code",
   "execution_count": null,
   "metadata": {
    "collapsed": true
   },
   "outputs": [],
   "source": []
  },
  {
   "cell_type": "code",
   "execution_count": null,
   "metadata": {
    "collapsed": true
   },
   "outputs": [],
   "source": []
  },
  {
   "cell_type": "markdown",
   "metadata": {},
   "source": [
    "---\n",
    "## 2.0 Plot\n",
    "---"
   ]
  },
  {
   "cell_type": "code",
   "execution_count": null,
   "metadata": {
    "collapsed": true
   },
   "outputs": [],
   "source": [
    "### combine meta files across samples\n",
    "meta.files <- list.files(pattern = \"metadata\")\n",
    "meta <- list()\n",
    "for (i in 1:length(meta.files)){\n",
    "    \n",
    "    meta[[meta.files[i]]] <- readRDS(meta.files[i])\n",
    "    \n",
    "}\n",
    "meta <- do.call(rbind, meta)"
   ]
  },
  {
   "cell_type": "code",
   "execution_count": null,
   "metadata": {
    "collapsed": true
   },
   "outputs": [],
   "source": [
    "### combine sil width across samples\n",
    "sil.files <- list.files(pattern = \"silWidths\")\n",
    "sil <- list()\n",
    "for (i in 1:length(sil.files)){\n",
    "    \n",
    "    sil[[sil.files[i]]] <- readRDS(sil.files[i])\n",
    "    \n",
    "}\n",
    "#sil <- do.call(rbind, sil)"
   ]
  },
  {
   "cell_type": "code",
   "execution_count": null,
   "metadata": {
    "collapsed": true
   },
   "outputs": [],
   "source": [
    "test <- data.frame(sil[[1]][1])\n"
   ]
  },
  {
   "cell_type": "code",
   "execution_count": null,
   "metadata": {
    "collapsed": true
   },
   "outputs": [],
   "source": [
    "length(meta.files)"
   ]
  },
  {
   "cell_type": "code",
   "execution_count": null,
   "metadata": {
    "collapsed": true
   },
   "outputs": [],
   "source": []
  }
 ],
 "metadata": {
  "kernelspec": {
   "display_name": "R",
   "language": "R",
   "name": "ir"
  },
  "language_info": {
   "codemirror_mode": "r",
   "file_extension": ".r",
   "mimetype": "text/x-r-source",
   "name": "R",
   "pygments_lexer": "r",
   "version": "3.6.3"
  }
 },
 "nbformat": 4,
 "nbformat_minor": 2
}
