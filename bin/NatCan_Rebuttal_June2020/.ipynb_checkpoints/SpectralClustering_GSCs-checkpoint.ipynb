{
 "cells": [
  {
   "cell_type": "markdown",
   "metadata": {},
   "source": [
    "----\n",
    "# Spectral clustering of GSCs\n",
    "----\n",
    "/cluster/projects/pughlab/projects/BTSCs_scRNAseq/Manuscript_G607removed/NatCan_Rebuttal/spectral_clustering"
   ]
  },
  {
   "cell_type": "code",
   "execution_count": 15,
   "metadata": {
    "collapsed": true
   },
   "outputs": [],
   "source": [
    "setwd(\"~/Desktop/H4H/pughlab/projects/BTSCs_scRNAseq/Manuscript_G607removed/NatCan_Rebuttal/spectral_clustering/\")"
   ]
  },
  {
   "cell_type": "code",
   "execution_count": null,
   "metadata": {
    "collapsed": true
   },
   "outputs": [],
   "source": [
    "###reformat DE markers\n",
    "DE <- list.files(pattern=\"DE\")\n",
    "\n",
    "markers <- list()\n",
    "\n",
    "for (i in 1:length(DE)){\n",
    "    \n",
    "    print(DE[i])\n",
    "    dat <- readRDS(DE[i])\n",
    "    \n",
    "    sample.markers <- list()\n",
    "    \n",
    "    for (j in 1:length(dat)){\n",
    "    \n",
    "    j <- as.numeric(j)\n",
    "    print(j)\n",
    "    dat[[j]]$Method <- as.character(names(dat)[j])\n",
    "    dat[[j]] <- dat[[j]][dat[[j]]$p_val_adj < 0.05, ]\n",
    "    aa <- data.frame((table(dat[[j]]$cluster)))\n",
    "    colnames(aa) <- c(\"ClusterID\", \"NumMarkers\")\n",
    "    aa$Sample <- strsplit(names(dat[j]), split=\"[.]\")[[1]][1]\n",
    "    aa$Method <- strsplit(names(dat[j]), split=\"[.]\")[[1]][2]\n",
    "    sample.markers[[unique(aa$Method)]] <- aa\n",
    "        \n",
    "}\n",
    " \n",
    "    markers[[unique(aa$Sample)]] <- do.call(rbind, sample.markers)\n",
    "}\n",
    "\n",
    "merge <- do.call(rbind, markers)\n",
    "saveRDS(merge, file = \"Combined_DE_markers.rds\")"
   ]
  },
  {
   "cell_type": "code",
   "execution_count": 1,
   "metadata": {},
   "outputs": [
    {
     "ename": "ERROR",
     "evalue": "Error in parse(text = x, srcfile = src): <text>:18:5: unexpected symbol\n17:     aa$Cluster <- paste0(names(dat[[j]])\n18:     aa\n        ^\n",
     "output_type": "error",
     "traceback": [
      "Error in parse(text = x, srcfile = src): <text>:18:5: unexpected symbol\n17:     aa$Cluster <- paste0(names(dat[[j]])\n18:     aa\n        ^\nTraceback:\n"
     ]
    }
   ],
   "source": [
    "###reformat sil widths\n",
    "sil.files <- list.files(pattern=\"sil\")\n",
    "\n",
    "sils <- list()\n",
    "\n",
    "for (i in 1:length(sil.files)){\n",
    "    \n",
    "    print(sil.files[i])\n",
    "    dat <- readRDS(sil.files[i])\n",
    "    \n",
    "    sample.sils <- list()\n",
    "    \n",
    "    for (j in 1:length(dat)){\n",
    "    \n",
    "    aa <- data.frame(dat[[j]])\n",
    "    colnames(aa) <- c(\"Avg.SilWidth\")\n",
    "    aa$Cluster <- names(dat[[j]])\n",
    "    aa$Sample <- strsplit(names(dat[j]), split=\"[.]\")[[1]][1]\n",
    "    aa$Method <- strsplit(names(dat[j]), split=\"[.]\")[[1]][2]\n",
    "    sample.sils[[unique(aa$Method)]] <- aa\n",
    "        \n",
    "}\n",
    " \n",
    "    sils[[unique(aa$Sample)]] <- do.call(rbind, sample.sils)\n",
    "}\n",
    "\n",
    "merge <- do.call(rbind, sils)\n",
    "saveRDS(merge, file = \"Combined_SilAvg.rds\")"
   ]
  },
  {
   "cell_type": "markdown",
   "metadata": {},
   "source": [
    "---\n",
    "## 1.0 Pick optimal spectral clustering solution\n",
    "---\n",
    "\n",
    "Use silhouette width and marker genes"
   ]
  },
  {
   "cell_type": "code",
   "execution_count": null,
   "metadata": {
    "collapsed": true
   },
   "outputs": [],
   "source": []
  },
  {
   "cell_type": "code",
   "execution_count": null,
   "metadata": {
    "collapsed": true
   },
   "outputs": [],
   "source": []
  },
  {
   "cell_type": "code",
   "execution_count": null,
   "metadata": {
    "collapsed": true
   },
   "outputs": [],
   "source": []
  },
  {
   "cell_type": "code",
   "execution_count": null,
   "metadata": {
    "collapsed": true
   },
   "outputs": [],
   "source": []
  },
  {
   "cell_type": "code",
   "execution_count": null,
   "metadata": {
    "collapsed": true
   },
   "outputs": [],
   "source": []
  },
  {
   "cell_type": "markdown",
   "metadata": {},
   "source": [
    "---\n",
    "## 2.0 Compare cluster number across methods\n",
    "---"
   ]
  },
  {
   "cell_type": "code",
   "execution_count": 16,
   "metadata": {
    "collapsed": true
   },
   "outputs": [],
   "source": [
    "### combine meta files across samples\n",
    "meta.files <- list.files(pattern = \"metadata\")\n",
    "meta <- list()\n",
    "for (i in 1:length(meta.files)){\n",
    "    \n",
    "    meta[[meta.files[i]]] <- readRDS(meta.files[i])\n",
    "    \n",
    "}\n",
    "meta <- do.call(rbind, meta)"
   ]
  },
  {
   "cell_type": "code",
   "execution_count": 17,
   "metadata": {
    "collapsed": true
   },
   "outputs": [],
   "source": [
    "### combine sil width across samples\n",
    "sil.files <- list.files(pattern = \"silWidths\")\n",
    "sil <- list()\n",
    "for (i in 1:length(sil.files)){\n",
    "    \n",
    "    sil[[sil.files[i]]] <- readRDS(sil.files[i])\n",
    "    \n",
    "}\n",
    "#sil <- do.call(rbind, sil)"
   ]
  },
  {
   "cell_type": "code",
   "execution_count": 25,
   "metadata": {},
   "outputs": [
    {
     "data": {
      "text/html": [
       "<table>\n",
       "<caption>A data.frame: 2 × 1</caption>\n",
       "<thead>\n",
       "\t<tr><th></th><th scope=col>BT127_L.SLM</th></tr>\n",
       "\t<tr><th></th><th scope=col>&lt;dbl&gt;</th></tr>\n",
       "</thead>\n",
       "<tbody>\n",
       "\t<tr><th scope=row>1</th><td>0.2166866</td></tr>\n",
       "\t<tr><th scope=row>2</th><td>0.2725401</td></tr>\n",
       "</tbody>\n",
       "</table>\n"
      ],
      "text/latex": [
       "A data.frame: 2 × 1\n",
       "\\begin{tabular}{r|l}\n",
       "  & BT127\\_L.SLM\\\\\n",
       "  & <dbl>\\\\\n",
       "\\hline\n",
       "\t1 & 0.2166866\\\\\n",
       "\t2 & 0.2725401\\\\\n",
       "\\end{tabular}\n"
      ],
      "text/markdown": [
       "\n",
       "A data.frame: 2 × 1\n",
       "\n",
       "| <!--/--> | BT127_L.SLM &lt;dbl&gt; |\n",
       "|---|---|\n",
       "| 1 | 0.2166866 |\n",
       "| 2 | 0.2725401 |\n",
       "\n"
      ],
      "text/plain": [
       "  BT127_L.SLM\n",
       "1 0.2166866  \n",
       "2 0.2725401  "
      ]
     },
     "metadata": {},
     "output_type": "display_data"
    }
   ],
   "source": [
    "test <- data.frame(sil[[1]][1])\n"
   ]
  },
  {
   "cell_type": "code",
   "execution_count": 7,
   "metadata": {},
   "outputs": [
    {
     "data": {
      "text/html": [
       "27"
      ],
      "text/latex": [
       "27"
      ],
      "text/markdown": [
       "27"
      ],
      "text/plain": [
       "[1] 27"
      ]
     },
     "metadata": {},
     "output_type": "display_data"
    }
   ],
   "source": [
    "length(meta.files)"
   ]
  },
  {
   "cell_type": "code",
   "execution_count": null,
   "metadata": {
    "collapsed": true
   },
   "outputs": [],
   "source": []
  }
 ],
 "metadata": {
  "kernelspec": {
   "display_name": "R",
   "language": "R",
   "name": "ir"
  },
  "language_info": {
   "codemirror_mode": "r",
   "file_extension": ".r",
   "mimetype": "text/x-r-source",
   "name": "R",
   "pygments_lexer": "r",
   "version": "3.6.3"
  }
 },
 "nbformat": 4,
 "nbformat_minor": 2
}
