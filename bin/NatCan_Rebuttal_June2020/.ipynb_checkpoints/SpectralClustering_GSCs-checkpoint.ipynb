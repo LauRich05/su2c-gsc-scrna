{
 "cells": [
  {
   "cell_type": "markdown",
   "metadata": {},
   "source": [
    "----\n",
    "# Spectral clustering of GSCs\n",
    "----\n",
    "/cluster/projects/pughlab/projects/BTSCs_scRNAseq/Manuscript_G607removed/NatCan_Rebuttal/spectral_clustering"
   ]
  },
  {
   "cell_type": "code",
   "execution_count": 1,
   "metadata": {
    "collapsed": true
   },
   "outputs": [],
   "source": [
    "setwd(\"~/Desktop/H4H/pughlab/projects/BTSCs_scRNAseq/Manuscript_G607removed/NatCan_Rebuttal/spectral_clustering/\")"
   ]
  },
  {
   "cell_type": "markdown",
   "metadata": {},
   "source": [
    "---\n",
    "## 1.0 Compare cluster number across methods\n",
    "---"
   ]
  },
  {
   "cell_type": "code",
   "execution_count": 3,
   "metadata": {},
   "outputs": [
    {
     "data": {
      "text/html": [
       "<style>\n",
       ".list-inline {list-style: none; margin:0; padding: 0}\n",
       ".list-inline>li {display: inline-block}\n",
       ".list-inline>li:not(:last-child)::after {content: \"\\00b7\"; padding: 0 .5ex}\n",
       "</style>\n",
       "<ol class=list-inline><li>'BT127_L_Louvain_Spectral_metadata.rds'</li><li>'BT147_L_Louvain_Spectral_metadata.rds'</li><li>'BT48_L_Louvain_Spectral_metadata.rds'</li><li>'BT67_L_Louvain_Spectral_metadata.rds'</li><li>'BT73_L_Louvain_Spectral_metadata.rds'</li><li>'BT84_L_Louvain_Spectral_metadata.rds'</li><li>'BT89_L_Louvain_Spectral_metadata.rds'</li><li>'BT94_L_Louvain_Spectral_metadata.rds'</li><li>'G523_L_Louvain_Spectral_metadata.rds'</li><li>'G549_L_Louvain_Spectral_metadata.rds'</li><li>'G564_L_Louvain_Spectral_metadata.rds'</li><li>'G566_L_Louvain_Spectral_metadata.rds'</li><li>'G583_L_Louvain_Spectral_metadata.rds'</li><li>'G620_L_Louvain_Spectral_metadata.rds'</li><li>'G637_L_Louvain_Spectral_metadata.rds'</li><li>'G729_L_Louvain_Spectral_metadata.rds'</li><li>'G797_L_Louvain_Spectral_metadata.rds'</li><li>'G799_L_Louvain_Spectral_metadata.rds'</li><li>'G800_L_Louvain_Spectral_metadata.rds'</li><li>'G837_L_Louvain_Spectral_metadata.rds'</li><li>'G851_L_Louvain_Spectral_metadata.rds'</li><li>'G876_L_Louvain_Spectral_metadata.rds'</li><li>'G885_L_Louvain_Spectral_metadata.rds'</li><li>'G895_L_Louvain_Spectral_metadata.rds'</li><li>'G945-K_L_Louvain_Spectral_metadata.rds'</li><li>'G946-J_L_Louvain_Spectral_metadata.rds'</li><li>'G946-K_L_Louvain_Spectral_metadata.rds'</li></ol>\n"
      ],
      "text/latex": [
       "\\begin{enumerate*}\n",
       "\\item 'BT127\\_L\\_Louvain\\_Spectral\\_metadata.rds'\n",
       "\\item 'BT147\\_L\\_Louvain\\_Spectral\\_metadata.rds'\n",
       "\\item 'BT48\\_L\\_Louvain\\_Spectral\\_metadata.rds'\n",
       "\\item 'BT67\\_L\\_Louvain\\_Spectral\\_metadata.rds'\n",
       "\\item 'BT73\\_L\\_Louvain\\_Spectral\\_metadata.rds'\n",
       "\\item 'BT84\\_L\\_Louvain\\_Spectral\\_metadata.rds'\n",
       "\\item 'BT89\\_L\\_Louvain\\_Spectral\\_metadata.rds'\n",
       "\\item 'BT94\\_L\\_Louvain\\_Spectral\\_metadata.rds'\n",
       "\\item 'G523\\_L\\_Louvain\\_Spectral\\_metadata.rds'\n",
       "\\item 'G549\\_L\\_Louvain\\_Spectral\\_metadata.rds'\n",
       "\\item 'G564\\_L\\_Louvain\\_Spectral\\_metadata.rds'\n",
       "\\item 'G566\\_L\\_Louvain\\_Spectral\\_metadata.rds'\n",
       "\\item 'G583\\_L\\_Louvain\\_Spectral\\_metadata.rds'\n",
       "\\item 'G620\\_L\\_Louvain\\_Spectral\\_metadata.rds'\n",
       "\\item 'G637\\_L\\_Louvain\\_Spectral\\_metadata.rds'\n",
       "\\item 'G729\\_L\\_Louvain\\_Spectral\\_metadata.rds'\n",
       "\\item 'G797\\_L\\_Louvain\\_Spectral\\_metadata.rds'\n",
       "\\item 'G799\\_L\\_Louvain\\_Spectral\\_metadata.rds'\n",
       "\\item 'G800\\_L\\_Louvain\\_Spectral\\_metadata.rds'\n",
       "\\item 'G837\\_L\\_Louvain\\_Spectral\\_metadata.rds'\n",
       "\\item 'G851\\_L\\_Louvain\\_Spectral\\_metadata.rds'\n",
       "\\item 'G876\\_L\\_Louvain\\_Spectral\\_metadata.rds'\n",
       "\\item 'G885\\_L\\_Louvain\\_Spectral\\_metadata.rds'\n",
       "\\item 'G895\\_L\\_Louvain\\_Spectral\\_metadata.rds'\n",
       "\\item 'G945-K\\_L\\_Louvain\\_Spectral\\_metadata.rds'\n",
       "\\item 'G946-J\\_L\\_Louvain\\_Spectral\\_metadata.rds'\n",
       "\\item 'G946-K\\_L\\_Louvain\\_Spectral\\_metadata.rds'\n",
       "\\end{enumerate*}\n"
      ],
      "text/markdown": [
       "1. 'BT127_L_Louvain_Spectral_metadata.rds'\n",
       "2. 'BT147_L_Louvain_Spectral_metadata.rds'\n",
       "3. 'BT48_L_Louvain_Spectral_metadata.rds'\n",
       "4. 'BT67_L_Louvain_Spectral_metadata.rds'\n",
       "5. 'BT73_L_Louvain_Spectral_metadata.rds'\n",
       "6. 'BT84_L_Louvain_Spectral_metadata.rds'\n",
       "7. 'BT89_L_Louvain_Spectral_metadata.rds'\n",
       "8. 'BT94_L_Louvain_Spectral_metadata.rds'\n",
       "9. 'G523_L_Louvain_Spectral_metadata.rds'\n",
       "10. 'G549_L_Louvain_Spectral_metadata.rds'\n",
       "11. 'G564_L_Louvain_Spectral_metadata.rds'\n",
       "12. 'G566_L_Louvain_Spectral_metadata.rds'\n",
       "13. 'G583_L_Louvain_Spectral_metadata.rds'\n",
       "14. 'G620_L_Louvain_Spectral_metadata.rds'\n",
       "15. 'G637_L_Louvain_Spectral_metadata.rds'\n",
       "16. 'G729_L_Louvain_Spectral_metadata.rds'\n",
       "17. 'G797_L_Louvain_Spectral_metadata.rds'\n",
       "18. 'G799_L_Louvain_Spectral_metadata.rds'\n",
       "19. 'G800_L_Louvain_Spectral_metadata.rds'\n",
       "20. 'G837_L_Louvain_Spectral_metadata.rds'\n",
       "21. 'G851_L_Louvain_Spectral_metadata.rds'\n",
       "22. 'G876_L_Louvain_Spectral_metadata.rds'\n",
       "23. 'G885_L_Louvain_Spectral_metadata.rds'\n",
       "24. 'G895_L_Louvain_Spectral_metadata.rds'\n",
       "25. 'G945-K_L_Louvain_Spectral_metadata.rds'\n",
       "26. 'G946-J_L_Louvain_Spectral_metadata.rds'\n",
       "27. 'G946-K_L_Louvain_Spectral_metadata.rds'\n",
       "\n",
       "\n"
      ],
      "text/plain": [
       " [1] \"BT127_L_Louvain_Spectral_metadata.rds\" \n",
       " [2] \"BT147_L_Louvain_Spectral_metadata.rds\" \n",
       " [3] \"BT48_L_Louvain_Spectral_metadata.rds\"  \n",
       " [4] \"BT67_L_Louvain_Spectral_metadata.rds\"  \n",
       " [5] \"BT73_L_Louvain_Spectral_metadata.rds\"  \n",
       " [6] \"BT84_L_Louvain_Spectral_metadata.rds\"  \n",
       " [7] \"BT89_L_Louvain_Spectral_metadata.rds\"  \n",
       " [8] \"BT94_L_Louvain_Spectral_metadata.rds\"  \n",
       " [9] \"G523_L_Louvain_Spectral_metadata.rds\"  \n",
       "[10] \"G549_L_Louvain_Spectral_metadata.rds\"  \n",
       "[11] \"G564_L_Louvain_Spectral_metadata.rds\"  \n",
       "[12] \"G566_L_Louvain_Spectral_metadata.rds\"  \n",
       "[13] \"G583_L_Louvain_Spectral_metadata.rds\"  \n",
       "[14] \"G620_L_Louvain_Spectral_metadata.rds\"  \n",
       "[15] \"G637_L_Louvain_Spectral_metadata.rds\"  \n",
       "[16] \"G729_L_Louvain_Spectral_metadata.rds\"  \n",
       "[17] \"G797_L_Louvain_Spectral_metadata.rds\"  \n",
       "[18] \"G799_L_Louvain_Spectral_metadata.rds\"  \n",
       "[19] \"G800_L_Louvain_Spectral_metadata.rds\"  \n",
       "[20] \"G837_L_Louvain_Spectral_metadata.rds\"  \n",
       "[21] \"G851_L_Louvain_Spectral_metadata.rds\"  \n",
       "[22] \"G876_L_Louvain_Spectral_metadata.rds\"  \n",
       "[23] \"G885_L_Louvain_Spectral_metadata.rds\"  \n",
       "[24] \"G895_L_Louvain_Spectral_metadata.rds\"  \n",
       "[25] \"G945-K_L_Louvain_Spectral_metadata.rds\"\n",
       "[26] \"G946-J_L_Louvain_Spectral_metadata.rds\"\n",
       "[27] \"G946-K_L_Louvain_Spectral_metadata.rds\""
      ]
     },
     "metadata": {},
     "output_type": "display_data"
    }
   ],
   "source": [
    "### combine meta files across samples\n",
    "meta.files <- list.files(pattern = \"metadata\")\n",
    "meta <- list()\n",
    "for (i in 1:length(meta.files)){\n",
    "    \n",
    "    meta[[meta.files[i]]] <- readRDS(meta.files[i])\n",
    "    \n",
    "}\n",
    "meta <- do.call(rbind, meta)"
   ]
  },
  {
   "cell_type": "code",
   "execution_count": 12,
   "metadata": {
    "collapsed": true
   },
   "outputs": [],
   "source": [
    "### combine sil width across samples\n",
    "sil.files <- list.files(pattern = \"silWidths\")\n",
    "sil <- list()\n",
    "for (i in 1:length(sil.files)){\n",
    "    \n",
    "    sil[[sil.files[i]]] <- readRDS(sil.files[i])\n",
    "    \n",
    "}\n",
    "#sil <- do.call(rbind, sil)"
   ]
  },
  {
   "cell_type": "code",
   "execution_count": 14,
   "metadata": {},
   "outputs": [
    {
     "name": "stdout",
     "output_type": "stream",
     "text": [
      "List of 12\n",
      " $ BT127_L.SLM       : num [1:2(1d)] 0.217 0.273\n",
      "  ..- attr(*, \"dimnames\")=List of 1\n",
      "  .. ..$ : chr [1:2] \"1\" \"2\"\n",
      " $ BT127_L.Louvain   : num [1:2(1d)] 0.217 0.273\n",
      "  ..- attr(*, \"dimnames\")=List of 1\n",
      "  .. ..$ : chr [1:2] \"1\" \"2\"\n",
      " $ BT127_L.LouvainMLR: num [1:2(1d)] 0.217 0.273\n",
      "  ..- attr(*, \"dimnames\")=List of 1\n",
      "  .. ..$ : chr [1:2] \"1\" \"2\"\n",
      " $ BT127_L.Spectral2 : num [1:2(1d)] 0.421 0.254\n",
      "  ..- attr(*, \"dimnames\")=List of 1\n",
      "  .. ..$ : chr [1:2] \"1\" \"2\"\n",
      " $ BT127_L.Spectral3 : num [1:3(1d)] 0.229 0.1 0.156\n",
      "  ..- attr(*, \"dimnames\")=List of 1\n",
      "  .. ..$ : chr [1:3] \"1\" \"2\" \"3\"\n",
      " $ BT127_L.Spectral4 : num [1:4(1d)] 0.0753 0.2451 0.1206 0.1193\n",
      "  ..- attr(*, \"dimnames\")=List of 1\n",
      "  .. ..$ : chr [1:4] \"1\" \"2\" \"3\" \"4\"\n",
      " $ BT127_L.Spectral5 : num [1:5(1d)] 0.0515 0.0894 0.2138 0.08 0.1071\n",
      "  ..- attr(*, \"dimnames\")=List of 1\n",
      "  .. ..$ : chr [1:5] \"1\" \"2\" \"3\" \"4\" ...\n",
      " $ BT127_L.Spectral6 : num [1:6(1d)] 0.0828 0.0638 0.1336 0.2477 0.0844 ...\n",
      "  ..- attr(*, \"dimnames\")=List of 1\n",
      "  .. ..$ : chr [1:6] \"1\" \"2\" \"3\" \"4\" ...\n",
      " $ BT127_L.Spectral7 : num [1:7(1d)] 0.23026 0.13669 0.00436 0.07092 0.14262 ...\n",
      "  ..- attr(*, \"dimnames\")=List of 1\n",
      "  .. ..$ : chr [1:7] \"1\" \"2\" \"3\" \"4\" ...\n",
      " $ BT127_L.Spectral8 : num [1:8(1d)] 0.0015 0.0579 0.1312 0.1209 0.2405 ...\n",
      "  ..- attr(*, \"dimnames\")=List of 1\n",
      "  .. ..$ : chr [1:8] \"1\" \"2\" \"3\" \"4\" ...\n",
      " $ BT127_L.Spectral9 : num [1:9(1d)] 0.1151 0.0939 0.1287 0.0424 0.2216 ...\n",
      "  ..- attr(*, \"dimnames\")=List of 1\n",
      "  .. ..$ : chr [1:9] \"1\" \"2\" \"3\" \"4\" ...\n",
      " $ BT127_L.Spectral10: num [1:10(1d)] 0.138 0.122 -0.036 0.126 0.079 ...\n",
      "  ..- attr(*, \"dimnames\")=List of 1\n",
      "  .. ..$ : chr [1:10] \"1\" \"2\" \"3\" \"4\" ...\n"
     ]
    }
   ],
   "source": [
    "str(sil[[1]])"
   ]
  },
  {
   "cell_type": "code",
   "execution_count": 7,
   "metadata": {},
   "outputs": [
    {
     "data": {
      "text/html": [
       "27"
      ],
      "text/latex": [
       "27"
      ],
      "text/markdown": [
       "27"
      ],
      "text/plain": [
       "[1] 27"
      ]
     },
     "metadata": {},
     "output_type": "display_data"
    }
   ],
   "source": [
    "length(meta.files)"
   ]
  },
  {
   "cell_type": "code",
   "execution_count": null,
   "metadata": {
    "collapsed": true
   },
   "outputs": [],
   "source": []
  }
 ],
 "metadata": {
  "kernelspec": {
   "display_name": "R",
   "language": "R",
   "name": "ir"
  },
  "language_info": {
   "codemirror_mode": "r",
   "file_extension": ".r",
   "mimetype": "text/x-r-source",
   "name": "R",
   "pygments_lexer": "r",
   "version": "3.6.3"
  }
 },
 "nbformat": 4,
 "nbformat_minor": 2
}
