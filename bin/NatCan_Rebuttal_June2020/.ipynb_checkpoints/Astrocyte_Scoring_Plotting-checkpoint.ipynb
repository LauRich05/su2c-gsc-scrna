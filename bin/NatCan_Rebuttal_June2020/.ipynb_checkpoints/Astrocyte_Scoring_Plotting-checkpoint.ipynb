{
 "cells": [
  {
   "cell_type": "markdown",
   "metadata": {},
   "source": [
    "----\n",
    "# PART I: Plot astrocyte gene signature scores in relation to GSCs\n",
    "----"
   ]
  },
  {
   "cell_type": "code",
   "execution_count": null,
   "metadata": {},
   "outputs": [],
   "source": [
    "#options(repos='http://cran.rstudio.com/')\n",
    "#install.packages(\"ComplexHeatmap\")\n",
    "library(gplots)"
   ]
  },
  {
   "cell_type": "code",
   "execution_count": null,
   "metadata": {
    "collapsed": true
   },
   "outputs": [],
   "source": [
    "setwd(\"~/Desktop/H4H/pughlab/projects/BTSCs_scRNAseq/Manuscript_G607removed/NatCan_Rebuttal/AstrocyteScoring/\")"
   ]
  },
  {
   "cell_type": "code",
   "execution_count": null,
   "metadata": {
    "collapsed": true
   },
   "outputs": [],
   "source": [
    "meta <- readRDS(\"./GSCs/Astrocyte_AUCell_meta_GSCs.rds\")\n",
    "colnames(meta) <- gsub(\"Population\", \"AstrocytePopulation\", colnames(meta))"
   ]
  },
  {
   "cell_type": "markdown",
   "metadata": {},
   "source": [
    "---\n",
    "## 1.0 Correlate astrocyte gene signature scores to IR and Dev in GSCs\n",
    "---\n",
    "\n",
    "Use spearman, similar to Extended Data Figure 5 in the manuscript"
   ]
  },
  {
   "cell_type": "code",
   "execution_count": null,
   "metadata": {},
   "outputs": [],
   "source": [
    "subset <- c(colnames(meta)[grep(\"strocyt\", colnames(meta))], \n",
    "            \"Developmental_GSC_AUC\",\n",
    "            \"InjuryResponse_GSC_AUC\"\n",
    "            )\n",
    "mat <- meta[ ,subset]\n",
    "colnames(mat) <- gsub(\"_AUC\", \"\", colnames(mat))\n",
    "dim(mat)\n",
    "corr.mat <- cor(mat, method = \"spearman\")"
   ]
  },
  {
   "cell_type": "code",
   "execution_count": null,
   "metadata": {},
   "outputs": [],
   "source": [
    "head(corr.mat)"
   ]
  },
  {
   "cell_type": "code",
   "execution_count": null,
   "metadata": {
    "collapsed": true
   },
   "outputs": [],
   "source": [
    "col<- colorRampPalette(c(\"blue\", \"white\", \"red\"))(20)\n",
    "pheatmap(corr.mat, \n",
    "          col = col,\n",
    "         cutree_cols = 3,\n",
    "         cutree_rows = 3,\n",
    "         angle_col = 270,\n",
    "         filename = \"GSCs_AstrocyteCorrHeatmap_DevIR.pdf\",\n",
    "         height = 8,\n",
    "         width = 8\n",
    "         )\n"
   ]
  },
  {
   "cell_type": "code",
   "execution_count": null,
   "metadata": {},
   "outputs": [],
   "source": [
    "### what are the top correlations for Dev and GSC\n",
    "corr.mat <- as.data.frame(corr.mat)\n",
    "corr.mat[order(corr.mat$InjuryResponse_GSC, decreasing = T), c(\"Developmental_GSC\", \"InjuryResponse_GSC\")]"
   ]
  },
  {
   "cell_type": "markdown",
   "metadata": {
    "collapsed": true
   },
   "source": [
    "---\n",
    "## 2.0 Plot big correlation heatmap to Dev and IR only in GSCs\n",
    "---"
   ]
  },
  {
   "cell_type": "code",
   "execution_count": null,
   "metadata": {
    "collapsed": true
   },
   "outputs": [],
   "source": [
    "library(pheatmap)"
   ]
  },
  {
   "cell_type": "code",
   "execution_count": null,
   "metadata": {
    "collapsed": true
   },
   "outputs": [],
   "source": [
    "meta <- readRDS(\"./GSCs/Astrocyte_AUCell_meta_GSCs.rds\")\n",
    "colnames(meta) <- gsub(\"Population\", \"AstrocytePopulation\", colnames(meta))"
   ]
  },
  {
   "cell_type": "code",
   "execution_count": null,
   "metadata": {},
   "outputs": [],
   "source": [
    "head(meta)"
   ]
  },
  {
   "cell_type": "code",
   "execution_count": null,
   "metadata": {},
   "outputs": [],
   "source": [
    "subset <- c(colnames(meta)[grep(\"AUC\", colnames(meta))])\n",
    "mat <- meta[ ,subset]\n",
    "colnames(mat) <- gsub(\"_AUC\", \"\", colnames(mat))\n",
    "dim(mat)\n",
    "corr.mat <- cor(mat, method = \"spearman\")"
   ]
  },
  {
   "cell_type": "code",
   "execution_count": null,
   "metadata": {},
   "outputs": [],
   "source": [
    "corr.mat <- corr.mat[!rownames(corr.mat) %in% c(\"Developmental_GSC\",\"InjuryResponse_GSC\") , c(\"Developmental_GSC\",\"InjuryResponse_GSC\")]\n",
    "head(corr.mat)"
   ]
  },
  {
   "cell_type": "code",
   "execution_count": null,
   "metadata": {
    "collapsed": true
   },
   "outputs": [],
   "source": [
    "col<- colorRampPalette(c(\"blue\", \"white\", \"red\"))(20)\n",
    "pheatmap(corr.mat, \n",
    "         col = col,\n",
    "         #cellheight = 12,\n",
    "         #cutree_cols = 3,\n",
    "         #cutree_rows = 3,\n",
    "         angle_col = 0,\n",
    "         filename = \"GSCs_AllSigsCorrHeatmap_DevIR.pdf\",\n",
    "         height = 18,\n",
    "         width = 8,\n",
    "         \n",
    "         )\n"
   ]
  },
  {
   "cell_type": "markdown",
   "metadata": {
    "collapsed": true
   },
   "source": [
    "---\n",
    "## 3.0 Plot Dev and IR correlation in TUMOUR cells\n",
    "---"
   ]
  },
  {
   "cell_type": "code",
   "execution_count": 8,
   "metadata": {
    "collapsed": true
   },
   "outputs": [],
   "source": [
    "library(pheatmap)\n",
    "setwd(\"~/Desktop/H4H/pughlab/projects/BTSCs_scRNAseq/Manuscript_G607removed/NatCan_Rebuttal/AstrocyteScoring/\")"
   ]
  },
  {
   "cell_type": "code",
   "execution_count": 2,
   "metadata": {
    "collapsed": true
   },
   "outputs": [],
   "source": [
    "meta <- readRDS(\"./GSC_Tumours/Astrocyte_AUCell_meta_GSC_T.rds\")"
   ]
  },
  {
   "cell_type": "code",
   "execution_count": 4,
   "metadata": {
    "collapsed": true
   },
   "outputs": [],
   "source": [
    "##extract only astrocyte sigs\n",
    "colnames(meta) <- gsub(\"Population\", \"AstrocytePopulation\", colnames(meta))\n",
    "subset <- c(colnames(meta)[grep(\"strocyt\", colnames(meta))], \n",
    "            \"Developmental_GSC_AUC\",\n",
    "            \"InjuryResponse_GSC_AUC\"\n",
    "            )\n",
    "## extract only tumours\n",
    "samples <- rownames(meta)[grep(\"_T_\", rownames(meta))]\n",
    "length(samples)"
   ]
  },
  {
   "cell_type": "code",
   "execution_count": 6,
   "metadata": {},
   "outputs": [
    {
     "data": {
      "text/html": [
       "<style>\n",
       ".list-inline {list-style: none; margin:0; padding: 0}\n",
       ".list-inline>li {display: inline-block}\n",
       ".list-inline>li:not(:last-child)::after {content: \"\\00b7\"; padding: 0 .5ex}\n",
       "</style>\n",
       "<ol class=list-inline><li>14207</li><li>27</li></ol>\n"
      ],
      "text/latex": [
       "\\begin{enumerate*}\n",
       "\\item 14207\n",
       "\\item 27\n",
       "\\end{enumerate*}\n"
      ],
      "text/markdown": [
       "1. 14207\n",
       "2. 27\n",
       "\n",
       "\n"
      ],
      "text/plain": [
       "[1] 14207    27"
      ]
     },
     "metadata": {},
     "output_type": "display_data"
    },
    {
     "data": {
      "text/html": [
       "<style>\n",
       ".list-inline {list-style: none; margin:0; padding: 0}\n",
       ".list-inline>li {display: inline-block}\n",
       ".list-inline>li:not(:last-child)::after {content: \"\\00b7\"; padding: 0 .5ex}\n",
       "</style>\n",
       "<ol class=list-inline><li>14207</li><li>27</li></ol>\n"
      ],
      "text/latex": [
       "\\begin{enumerate*}\n",
       "\\item 14207\n",
       "\\item 27\n",
       "\\end{enumerate*}\n"
      ],
      "text/markdown": [
       "1. 14207\n",
       "2. 27\n",
       "\n",
       "\n"
      ],
      "text/plain": [
       "[1] 14207    27"
      ]
     },
     "metadata": {},
     "output_type": "display_data"
    }
   ],
   "source": [
    "mat <- meta[samples ,subset]\n",
    "colnames(mat) <- gsub(\"_AUC\", \"\", colnames(mat))\n",
    "dim(mat)\n",
    "corr.mat <- cor(mat, method = \"spearman\")"
   ]
  },
  {
   "cell_type": "code",
   "execution_count": 9,
   "metadata": {},
   "outputs": [],
   "source": [
    "col<- colorRampPalette(c(\"blue\", \"white\", \"red\"))(20)\n",
    "pheatmap(corr.mat, \n",
    "          col = col,\n",
    "         cutree_cols = 3,\n",
    "         cutree_rows = 3,\n",
    "         angle_col = 270,\n",
    "         filename = \"./GSC_Tumours/TumourCells_AstrocyteCorrHeatmap_DevIR.pdf\",\n",
    "         height = 8,\n",
    "         width = 8\n",
    "         )\n"
   ]
  },
  {
   "cell_type": "code",
   "execution_count": 12,
   "metadata": {},
   "outputs": [
    {
     "data": {
      "text/html": [
       "<table>\n",
       "<caption>A data.frame: 27 × 2</caption>\n",
       "<thead>\n",
       "\t<tr><th></th><th scope=col>Developmental_GSC</th><th scope=col>InjuryResponse_GSC</th></tr>\n",
       "\t<tr><th></th><th scope=col>&lt;dbl&gt;</th><th scope=col>&lt;dbl&gt;</th></tr>\n",
       "</thead>\n",
       "<tbody>\n",
       "\t<tr><th scope=row>Developmental_GSC</th><td> 1.000000000</td><td>-0.463327206</td></tr>\n",
       "\t<tr><th scope=row>Mizrak_septal_astrocytes_F</th><td> 0.436336357</td><td> 0.159614188</td></tr>\n",
       "\t<tr><th scope=row>mizrak_septal_astrocytes_F_upreg</th><td> 0.431906647</td><td> 0.158769663</td></tr>\n",
       "\t<tr><th scope=row>Chai_Neuron_2017_AdultHippocampalAstrocytes</th><td> 0.351578689</td><td> 0.012692196</td></tr>\n",
       "\t<tr><th scope=row>Chai_Neuron_2017_AdultStriatumAstrocytes</th><td> 0.292609814</td><td> 0.216660118</td></tr>\n",
       "\t<tr><th scope=row>Cahoy_astrocyte</th><td> 0.190653057</td><td> 0.273779390</td></tr>\n",
       "\t<tr><th scope=row>cahoy_astrocyte</th><td> 0.188985118</td><td> 0.273830100</td></tr>\n",
       "\t<tr><th scope=row>Nowakowski_Astrocyte</th><td> 0.146139261</td><td>-0.041553040</td></tr>\n",
       "\t<tr><th scope=row>nowakowski_Astrocyte_upreg</th><td> 0.143949971</td><td>-0.041688955</td></tr>\n",
       "\t<tr><th scope=row>Morel_JNeurosci_2017_CortexAstrocytes</th><td> 0.139911858</td><td> 0.012465764</td></tr>\n",
       "\t<tr><th scope=row>Morel_JNeurosci_2017_HippocampusAstrocytes</th><td> 0.098698770</td><td>-0.061132848</td></tr>\n",
       "\t<tr><th scope=row>Morel_JNeurosci_2017_NaccRegionAstrocytes</th><td> 0.060880555</td><td> 0.007148738</td></tr>\n",
       "\t<tr><th scope=row>Zhong_Astrocytes</th><td> 0.058469014</td><td> 0.011130823</td></tr>\n",
       "\t<tr><th scope=row>Zhong_Astrocytes_upreg</th><td> 0.056807876</td><td> 0.010820445</td></tr>\n",
       "\t<tr><th scope=row>Morel_JNeurosci_2017_ThalamusAstrocytes</th><td> 0.055523136</td><td> 0.032784464</td></tr>\n",
       "\t<tr><th scope=row>Morel_JNeurosci_2017_CpuRegionAstrocytes</th><td> 0.016583179</td><td> 0.044310270</td></tr>\n",
       "\t<tr><th scope=row>Lin_NatNeurosci_2017_AstrocytePopulationC</th><td>-0.009431395</td><td>-0.052451476</td></tr>\n",
       "\t<tr><th scope=row>Lin_NatNeurosci_2017_AstrocytePopulationB</th><td>-0.094079976</td><td> 0.165080876</td></tr>\n",
       "\t<tr><th scope=row>Morel_JNeurosci_2017_HypothalamusAstrocytes</th><td>-0.100009519</td><td> 0.205102415</td></tr>\n",
       "\t<tr><th scope=row>Lin_NatNeurosci_2017_AstrocytePopulationD</th><td>-0.129906564</td><td> 0.139391535</td></tr>\n",
       "\t<tr><th scope=row>Mizrak_septal_astrocytes_M</th><td>-0.309990274</td><td> 0.063113163</td></tr>\n",
       "\t<tr><th scope=row>mizrak_septal_astrocytes_M_upreg</th><td>-0.314040514</td><td> 0.065368742</td></tr>\n",
       "\t<tr><th scope=row>Liddelow_A1_ReactiveAstrocytes</th><td>-0.341458252</td><td> 0.432244682</td></tr>\n",
       "\t<tr><th scope=row>Lin_NatNeurosci_2017_AstrocytePopulationA</th><td>-0.379262818</td><td> 0.158425228</td></tr>\n",
       "\t<tr><th scope=row>Lin_NatNeurosci_2017_AstrocytePopulationE</th><td>-0.418900401</td><td> 0.022494152</td></tr>\n",
       "\t<tr><th scope=row>InjuryResponse_GSC</th><td>-0.463327206</td><td> 1.000000000</td></tr>\n",
       "\t<tr><th scope=row>Liddelow_A2_ReactiveAstrocytes</th><td>-0.551285490</td><td> 0.516393941</td></tr>\n",
       "</tbody>\n",
       "</table>\n"
      ],
      "text/latex": [
       "A data.frame: 27 × 2\n",
       "\\begin{tabular}{r|ll}\n",
       "  & Developmental\\_GSC & InjuryResponse\\_GSC\\\\\n",
       "  & <dbl> & <dbl>\\\\\n",
       "\\hline\n",
       "\tDevelopmental\\_GSC &  1.000000000 & -0.463327206\\\\\n",
       "\tMizrak\\_septal\\_astrocytes\\_F &  0.436336357 &  0.159614188\\\\\n",
       "\tmizrak\\_septal\\_astrocytes\\_F\\_upreg &  0.431906647 &  0.158769663\\\\\n",
       "\tChai\\_Neuron\\_2017\\_AdultHippocampalAstrocytes &  0.351578689 &  0.012692196\\\\\n",
       "\tChai\\_Neuron\\_2017\\_AdultStriatumAstrocytes &  0.292609814 &  0.216660118\\\\\n",
       "\tCahoy\\_astrocyte &  0.190653057 &  0.273779390\\\\\n",
       "\tcahoy\\_astrocyte &  0.188985118 &  0.273830100\\\\\n",
       "\tNowakowski\\_Astrocyte &  0.146139261 & -0.041553040\\\\\n",
       "\tnowakowski\\_Astrocyte\\_upreg &  0.143949971 & -0.041688955\\\\\n",
       "\tMorel\\_JNeurosci\\_2017\\_CortexAstrocytes &  0.139911858 &  0.012465764\\\\\n",
       "\tMorel\\_JNeurosci\\_2017\\_HippocampusAstrocytes &  0.098698770 & -0.061132848\\\\\n",
       "\tMorel\\_JNeurosci\\_2017\\_NaccRegionAstrocytes &  0.060880555 &  0.007148738\\\\\n",
       "\tZhong\\_Astrocytes &  0.058469014 &  0.011130823\\\\\n",
       "\tZhong\\_Astrocytes\\_upreg &  0.056807876 &  0.010820445\\\\\n",
       "\tMorel\\_JNeurosci\\_2017\\_ThalamusAstrocytes &  0.055523136 &  0.032784464\\\\\n",
       "\tMorel\\_JNeurosci\\_2017\\_CpuRegionAstrocytes &  0.016583179 &  0.044310270\\\\\n",
       "\tLin\\_NatNeurosci\\_2017\\_AstrocytePopulationC & -0.009431395 & -0.052451476\\\\\n",
       "\tLin\\_NatNeurosci\\_2017\\_AstrocytePopulationB & -0.094079976 &  0.165080876\\\\\n",
       "\tMorel\\_JNeurosci\\_2017\\_HypothalamusAstrocytes & -0.100009519 &  0.205102415\\\\\n",
       "\tLin\\_NatNeurosci\\_2017\\_AstrocytePopulationD & -0.129906564 &  0.139391535\\\\\n",
       "\tMizrak\\_septal\\_astrocytes\\_M & -0.309990274 &  0.063113163\\\\\n",
       "\tmizrak\\_septal\\_astrocytes\\_M\\_upreg & -0.314040514 &  0.065368742\\\\\n",
       "\tLiddelow\\_A1\\_ReactiveAstrocytes & -0.341458252 &  0.432244682\\\\\n",
       "\tLin\\_NatNeurosci\\_2017\\_AstrocytePopulationA & -0.379262818 &  0.158425228\\\\\n",
       "\tLin\\_NatNeurosci\\_2017\\_AstrocytePopulationE & -0.418900401 &  0.022494152\\\\\n",
       "\tInjuryResponse\\_GSC & -0.463327206 &  1.000000000\\\\\n",
       "\tLiddelow\\_A2\\_ReactiveAstrocytes & -0.551285490 &  0.516393941\\\\\n",
       "\\end{tabular}\n"
      ],
      "text/markdown": [
       "\n",
       "A data.frame: 27 × 2\n",
       "\n",
       "| <!--/--> | Developmental_GSC &lt;dbl&gt; | InjuryResponse_GSC &lt;dbl&gt; |\n",
       "|---|---|---|\n",
       "| Developmental_GSC |  1.000000000 | -0.463327206 |\n",
       "| Mizrak_septal_astrocytes_F |  0.436336357 |  0.159614188 |\n",
       "| mizrak_septal_astrocytes_F_upreg |  0.431906647 |  0.158769663 |\n",
       "| Chai_Neuron_2017_AdultHippocampalAstrocytes |  0.351578689 |  0.012692196 |\n",
       "| Chai_Neuron_2017_AdultStriatumAstrocytes |  0.292609814 |  0.216660118 |\n",
       "| Cahoy_astrocyte |  0.190653057 |  0.273779390 |\n",
       "| cahoy_astrocyte |  0.188985118 |  0.273830100 |\n",
       "| Nowakowski_Astrocyte |  0.146139261 | -0.041553040 |\n",
       "| nowakowski_Astrocyte_upreg |  0.143949971 | -0.041688955 |\n",
       "| Morel_JNeurosci_2017_CortexAstrocytes |  0.139911858 |  0.012465764 |\n",
       "| Morel_JNeurosci_2017_HippocampusAstrocytes |  0.098698770 | -0.061132848 |\n",
       "| Morel_JNeurosci_2017_NaccRegionAstrocytes |  0.060880555 |  0.007148738 |\n",
       "| Zhong_Astrocytes |  0.058469014 |  0.011130823 |\n",
       "| Zhong_Astrocytes_upreg |  0.056807876 |  0.010820445 |\n",
       "| Morel_JNeurosci_2017_ThalamusAstrocytes |  0.055523136 |  0.032784464 |\n",
       "| Morel_JNeurosci_2017_CpuRegionAstrocytes |  0.016583179 |  0.044310270 |\n",
       "| Lin_NatNeurosci_2017_AstrocytePopulationC | -0.009431395 | -0.052451476 |\n",
       "| Lin_NatNeurosci_2017_AstrocytePopulationB | -0.094079976 |  0.165080876 |\n",
       "| Morel_JNeurosci_2017_HypothalamusAstrocytes | -0.100009519 |  0.205102415 |\n",
       "| Lin_NatNeurosci_2017_AstrocytePopulationD | -0.129906564 |  0.139391535 |\n",
       "| Mizrak_septal_astrocytes_M | -0.309990274 |  0.063113163 |\n",
       "| mizrak_septal_astrocytes_M_upreg | -0.314040514 |  0.065368742 |\n",
       "| Liddelow_A1_ReactiveAstrocytes | -0.341458252 |  0.432244682 |\n",
       "| Lin_NatNeurosci_2017_AstrocytePopulationA | -0.379262818 |  0.158425228 |\n",
       "| Lin_NatNeurosci_2017_AstrocytePopulationE | -0.418900401 |  0.022494152 |\n",
       "| InjuryResponse_GSC | -0.463327206 |  1.000000000 |\n",
       "| Liddelow_A2_ReactiveAstrocytes | -0.551285490 |  0.516393941 |\n",
       "\n"
      ],
      "text/plain": [
       "                                            Developmental_GSC\n",
       "Developmental_GSC                            1.000000000     \n",
       "Mizrak_septal_astrocytes_F                   0.436336357     \n",
       "mizrak_septal_astrocytes_F_upreg             0.431906647     \n",
       "Chai_Neuron_2017_AdultHippocampalAstrocytes  0.351578689     \n",
       "Chai_Neuron_2017_AdultStriatumAstrocytes     0.292609814     \n",
       "Cahoy_astrocyte                              0.190653057     \n",
       "cahoy_astrocyte                              0.188985118     \n",
       "Nowakowski_Astrocyte                         0.146139261     \n",
       "nowakowski_Astrocyte_upreg                   0.143949971     \n",
       "Morel_JNeurosci_2017_CortexAstrocytes        0.139911858     \n",
       "Morel_JNeurosci_2017_HippocampusAstrocytes   0.098698770     \n",
       "Morel_JNeurosci_2017_NaccRegionAstrocytes    0.060880555     \n",
       "Zhong_Astrocytes                             0.058469014     \n",
       "Zhong_Astrocytes_upreg                       0.056807876     \n",
       "Morel_JNeurosci_2017_ThalamusAstrocytes      0.055523136     \n",
       "Morel_JNeurosci_2017_CpuRegionAstrocytes     0.016583179     \n",
       "Lin_NatNeurosci_2017_AstrocytePopulationC   -0.009431395     \n",
       "Lin_NatNeurosci_2017_AstrocytePopulationB   -0.094079976     \n",
       "Morel_JNeurosci_2017_HypothalamusAstrocytes -0.100009519     \n",
       "Lin_NatNeurosci_2017_AstrocytePopulationD   -0.129906564     \n",
       "Mizrak_septal_astrocytes_M                  -0.309990274     \n",
       "mizrak_septal_astrocytes_M_upreg            -0.314040514     \n",
       "Liddelow_A1_ReactiveAstrocytes              -0.341458252     \n",
       "Lin_NatNeurosci_2017_AstrocytePopulationA   -0.379262818     \n",
       "Lin_NatNeurosci_2017_AstrocytePopulationE   -0.418900401     \n",
       "InjuryResponse_GSC                          -0.463327206     \n",
       "Liddelow_A2_ReactiveAstrocytes              -0.551285490     \n",
       "                                            InjuryResponse_GSC\n",
       "Developmental_GSC                           -0.463327206      \n",
       "Mizrak_septal_astrocytes_F                   0.159614188      \n",
       "mizrak_septal_astrocytes_F_upreg             0.158769663      \n",
       "Chai_Neuron_2017_AdultHippocampalAstrocytes  0.012692196      \n",
       "Chai_Neuron_2017_AdultStriatumAstrocytes     0.216660118      \n",
       "Cahoy_astrocyte                              0.273779390      \n",
       "cahoy_astrocyte                              0.273830100      \n",
       "Nowakowski_Astrocyte                        -0.041553040      \n",
       "nowakowski_Astrocyte_upreg                  -0.041688955      \n",
       "Morel_JNeurosci_2017_CortexAstrocytes        0.012465764      \n",
       "Morel_JNeurosci_2017_HippocampusAstrocytes  -0.061132848      \n",
       "Morel_JNeurosci_2017_NaccRegionAstrocytes    0.007148738      \n",
       "Zhong_Astrocytes                             0.011130823      \n",
       "Zhong_Astrocytes_upreg                       0.010820445      \n",
       "Morel_JNeurosci_2017_ThalamusAstrocytes      0.032784464      \n",
       "Morel_JNeurosci_2017_CpuRegionAstrocytes     0.044310270      \n",
       "Lin_NatNeurosci_2017_AstrocytePopulationC   -0.052451476      \n",
       "Lin_NatNeurosci_2017_AstrocytePopulationB    0.165080876      \n",
       "Morel_JNeurosci_2017_HypothalamusAstrocytes  0.205102415      \n",
       "Lin_NatNeurosci_2017_AstrocytePopulationD    0.139391535      \n",
       "Mizrak_septal_astrocytes_M                   0.063113163      \n",
       "mizrak_septal_astrocytes_M_upreg             0.065368742      \n",
       "Liddelow_A1_ReactiveAstrocytes               0.432244682      \n",
       "Lin_NatNeurosci_2017_AstrocytePopulationA    0.158425228      \n",
       "Lin_NatNeurosci_2017_AstrocytePopulationE    0.022494152      \n",
       "InjuryResponse_GSC                           1.000000000      \n",
       "Liddelow_A2_ReactiveAstrocytes               0.516393941      "
      ]
     },
     "metadata": {},
     "output_type": "display_data"
    }
   ],
   "source": [
    "### what are the top correlations for Dev and GSC\n",
    "corr.mat <- as.data.frame(corr.mat)\n",
    "corr.mat[order(corr.mat$Developmental_GSC, decreasing = T), \n",
    "         c(\"Developmental_GSC\", \"InjuryResponse_GSC\")]"
   ]
  },
  {
   "cell_type": "code",
   "execution_count": null,
   "metadata": {
    "collapsed": true
   },
   "outputs": [],
   "source": []
  }
 ],
 "metadata": {
  "kernelspec": {
   "display_name": "R",
   "language": "R",
   "name": "ir"
  },
  "language_info": {
   "codemirror_mode": "r",
   "file_extension": ".r",
   "mimetype": "text/x-r-source",
   "name": "R",
   "pygments_lexer": "r",
   "version": "3.6.3"
  }
 },
 "nbformat": 4,
 "nbformat_minor": 2
}
