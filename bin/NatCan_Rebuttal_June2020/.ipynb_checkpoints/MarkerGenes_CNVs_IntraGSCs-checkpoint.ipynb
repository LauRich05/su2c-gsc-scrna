{
 "cells": [
  {
   "cell_type": "markdown",
   "metadata": {},
   "source": [
    "---\n",
    "# Plot effect of CNVs on marker genes\n",
    "---\n",
    "\n",
    "/cluster/projects/pughlab/projects/BTSCs_scRNAseq/Manuscript_G607removed/NatCan_Rebuttal/MarkerGenes_CNVs\n",
    "\n",
    "Reference notebook: Visualize_CNVs_Cluster_June2019"
   ]
  },
  {
   "cell_type": "code",
   "execution_count": 3,
   "metadata": {
    "collapsed": true
   },
   "outputs": [],
   "source": [
    "setwd(\"~/Desktop/H4H/pughlab/projects/BTSCs_scRNAseq/Manuscript_G607removed/NatCan_Rebuttal/MarkerGenes_CNVs\")"
   ]
  },
  {
   "cell_type": "markdown",
   "metadata": {},
   "source": [
    "----\n",
    "## 1.0 Data cleaning\n",
    "----"
   ]
  },
  {
   "cell_type": "markdown",
   "metadata": {},
   "source": [
    "#### 1.1 Format marker gene file"
   ]
  },
  {
   "cell_type": "raw",
   "metadata": {},
   "source": [
    "library(Seurat)\n",
    "\n",
    "### load marker genes\n",
    "markergenes <- read.csv(\"TableS3_GSC_cluster_markers.csv\")\n",
    "head(markergenes)\n",
    "genes <- markergenes$Gene\n",
    "\n",
    "### add cluster average expression column\n",
    "load(\"/cluster/projects/pughlab/projects/BTSCs_scRNAseq/Manuscript_G607removed/Broad_Portal/seuratObjs/Global_SU2C_BTSCs_CCregressed_noRibo.Rdata\")\n",
    "head(BTSC@meta.data)\n",
    "BTSC <- UpdateSeuratObject(BTSC)\n",
    "Idents(BTSC) <- \"IntraBTSC.ID\"\n",
    "cluster.averages <- AverageExpression(object = BTSC)\n",
    "cluster.averages <- cluster.averages$RNA\n",
    "saveRDS(cluster.averages, file = \"IntraGSC_ClusterAvg.rds\")\n",
    "\n",
    "avg.exp <- c()\n",
    "for (i in 1:nrow(markergenes)){\n",
    "    avg.exp[i] <- cluster.averages[as.character(markergenes$Gene[i]),\n",
    "                                   as.character(markergenes$Cluster[i])\n",
    "                                  ]\n",
    "}\n",
    "markergenes$AverageExpression <- avg.exp\n",
    "head(markergenes)\n",
    "\n",
    "### add cluster avergae inferCNV score column\n",
    "load(\"GlobalBTSC_CNVs_averge.RData\")\n",
    "head(avg.cnv.df)\n",
    "\n",
    "avg.cnv <- c()\n",
    "for (i in 1:nrow(markergenes)){\n",
    "    avg.cnv[i] <- avg.cnv.df[as.character(markergenes$Gene[i]),\n",
    "                                   as.character(markergenes$Cluster[i])\n",
    "                                  ]\n",
    "}\n",
    "markergenes$AverageCNV <- avg.cnv\n",
    "head(markergenes)\n",
    "\n",
    "### add chr arm position to marker genes\n",
    "gene.pos <- readRDS(\"GenePosition_Chrarm.rds\")\n",
    "chr.arm <- c()\n",
    "for (i in 1:nrow(markergenes)){\n",
    "    chr.arm[i] <- gene.pos[as.character(markergenes$Gene[i]), ]$arm\n",
    "}\n",
    "markergenes$ChromosomeArm <- chr.arm\n",
    "head(markergenes)\n",
    "\n",
    "saveRDS(markergenes, file = \"Markers_Exp_CNVs.rds\")"
   ]
  },
  {
   "cell_type": "markdown",
   "metadata": {},
   "source": [
    "#### 1.2 Make gene position file with chromosome arm"
   ]
  },
  {
   "cell_type": "raw",
   "metadata": {},
   "source": [
    "### make a matrix of average chr arm expression across clusters\n",
    "chrarms <- read.table(\"~/pughlab/projects/BTSCs_scRNAseq/Manuscript_G607removed/NatCan_Rebuttal/CNV_TCGA/data/chr_arms.txt\", header = T)\n",
    "head(chrarms)\n",
    "\n",
    "### load start and end positions for all genes\n",
    "gene.pos <- read.table(\"~/pughlab/projects/OICR_Brain_NucSeq/GBM/analysis/inferCNV/input/GRCh38-1.2.0_premrna_genomicPositions.txt\")\n",
    "colnames(gene.pos) <- c(\"Gene\", \"Chromosome\", \"Start\", \"End\")\n",
    "rownames(gene.pos) <- gene.pos$Gene\n",
    "head(gene.pos)\n",
    "\n",
    "### match genes to chromsome arm\n",
    "gene.arm <- c()\n",
    "\n",
    "for (i in 1:nrow(gene.pos)){\n",
    "\n",
    "     arm.subset <- chrarms[chrarms$Chrom == gene.pos$Chromosome[i] ,]\n",
    "     gene.arm[i] <- ifelse(gene.pos$End[i] > arm.subset[1 ,\"End\"],\n",
    "           as.character(arm.subset$Idf[2]), #greater than p arm end = q\n",
    "           as.character(arm.subset$Idf[1]) #NOT greater than p arm end = p\n",
    "         )\n",
    "}\n",
    "gene.pos$arm <- gene.arm\n",
    "#head(gene.pos)\n",
    "\n",
    "saveRDS(gene.pos, file = \"GenePosition_Chrarm.rds\")"
   ]
  },
  {
   "cell_type": "markdown",
   "metadata": {},
   "source": [
    "#### 1.3 Matrix of clusters x chr arm\n",
    "\n",
    "Use cutoffs from Extended Data Figure 3"
   ]
  },
  {
   "cell_type": "code",
   "execution_count": null,
   "metadata": {
    "collapsed": true
   },
   "outputs": [],
   "source": [
    "head(gene.pos)\n",
    "head(avg(avg.cnv.df))\n",
    "\n",
    "dat <- list()\n",
    "arms <- unique(gene.pos$arm)\n",
    "\n",
    "for (i in 1:length(arms)){\n",
    "    \n",
    "    print(arms[i])\n",
    "    genes <- rownames(gene.pos[as.character(gene.pos$arm) == arms[i], ])\n",
    "    sub <- avg.cnv.df[rownames(avg.cnv.df) %in% genes, ]\n",
    "    dat[[arms[i]]] <- colMeans(sub)\n",
    "}\n",
    "\n",
    "dat <- do.call(rbind, dat)\n",
    "dat2 <- dat\n",
    "dat[dat >= 0.17] <- 1\n",
    "dat[dat <= -0.15] <- -1\n",
    "dat[dat > -0.2 & dat < 1] <- 0\n",
    "dat <- dat[!rownames(dat) == \"NA\", ]\n",
    "dat[is.na(dat)] <- 0\n",
    "\n",
    "saveRDS(dat, file = \"IntraGSCcluster_chrarm_binned.rds\")"
   ]
  },
  {
   "cell_type": "markdown",
   "metadata": {},
   "source": [
    "----\n",
    "## 2.0 Re-plot binary CNV heatmap\n",
    "---\n",
    "\n",
    "Use Cutoffs from WGS benchmarking to "
   ]
  },
  {
   "cell_type": "code",
   "execution_count": 22,
   "metadata": {
    "collapsed": true
   },
   "outputs": [],
   "source": [
    "library(pheatmap)"
   ]
  },
  {
   "cell_type": "code",
   "execution_count": 47,
   "metadata": {},
   "outputs": [],
   "source": [
    "dat <- readRDS(\"IntraGSCcluster_chrarm_binned.rds\")"
   ]
  },
  {
   "cell_type": "code",
   "execution_count": 48,
   "metadata": {},
   "outputs": [],
   "source": [
    "pheatmap(t(dat),\n",
    "         color = colorRampPalette(c(\"blue\", \"white\", \"red\"))(50),\n",
    "         cluster_cols = FALSE,\n",
    "         cluster_rows = FALSE,\n",
    "         file = \"BinnedChrarms_heatmap.jpeg\",\n",
    "         width = 6,\n",
    "         height = 11.5\n",
    "         )"
   ]
  },
  {
   "cell_type": "markdown",
   "metadata": {},
   "source": [
    "----\n",
    "## 3.0 Proportion marker genes in CNVs\n",
    "---"
   ]
  },
  {
   "cell_type": "code",
   "execution_count": 65,
   "metadata": {},
   "outputs": [],
   "source": [
    "AllEqual <- structure(function(\n",
    "\t##title<< \n",
    "\t## Check if all values in a vector are the same\n",
    "\t##description<<\n",
    "\t## This function is used to check if all values in a vector are equal. It can be used for example to check if a time series contains only 0 or NA values.\n",
    "\t\n",
    "\tx\n",
    "\t### numeric, character vector, or time series of type ts\n",
    ") {\n",
    "\tres <- FALSE\n",
    "\tx <- na.omit(as.vector(x))\n",
    "\tif (length(unique(x)) == 1 | length(x) == 0) res <- TRUE\n",
    "\treturn(res)\n",
    "\t### The function returns TRUE if all values are equal and FALSE if it contains different values.\n",
    "},ex=function(){\n",
    "# check if all values are equal in the following vectors:\n",
    "AllEqual(1:10)\n",
    "AllEqual(rep(0, 10))\n",
    "AllEqual(letters)\n",
    "AllEqual(rep(NA, 10))\n",
    "})"
   ]
  },
  {
   "cell_type": "code",
   "execution_count": 102,
   "metadata": {},
   "outputs": [
    {
     "data": {
      "text/html": [],
      "text/latex": [],
      "text/markdown": [],
      "text/plain": [
       "character(0)"
      ]
     },
     "metadata": {},
     "output_type": "display_data"
    }
   ],
   "source": [
    "list.files()\n"
   ]
  },
  {
   "cell_type": "code",
   "execution_count": 51,
   "metadata": {},
   "outputs": [
    {
     "data": {
      "text/html": [
       "<table>\n",
       "<caption>A data.frame: 6 × 9</caption>\n",
       "<thead>\n",
       "\t<tr><th></th><th scope=col>Sample</th><th scope=col>Cluster</th><th scope=col>Gene</th><th scope=col>pValue</th><th scope=col>FDR</th><th scope=col>logFC</th><th scope=col>AverageExpression</th><th scope=col>AverageCNV</th><th scope=col>ChromosomeArm</th></tr>\n",
       "\t<tr><th></th><th scope=col>&lt;fct&gt;</th><th scope=col>&lt;fct&gt;</th><th scope=col>&lt;fct&gt;</th><th scope=col>&lt;dbl&gt;</th><th scope=col>&lt;dbl&gt;</th><th scope=col>&lt;dbl&gt;</th><th scope=col>&lt;dbl&gt;</th><th scope=col>&lt;dbl&gt;</th><th scope=col>&lt;chr&gt;</th></tr>\n",
       "</thead>\n",
       "<tbody>\n",
       "\t<tr><th scope=row>1</th><td>BT127_L</td><td>BT127_L_C1</td><td>RRN3      </td><td>1.141980e-04</td><td>2.089783e-04</td><td>2.663890</td><td>0.1500973</td><td>-0.03147051</td><td>16p</td></tr>\n",
       "\t<tr><th scope=row>2</th><td>BT127_L</td><td>BT127_L_C1</td><td>AC018647.3</td><td>1.634589e-05</td><td>3.445490e-05</td><td>2.621798</td><td>0.1284946</td><td>         NA</td><td>7p </td></tr>\n",
       "\t<tr><th scope=row>3</th><td>BT127_L</td><td>BT127_L_C1</td><td>URB1-AS1  </td><td>3.916856e-06</td><td>9.095238e-06</td><td>2.496798</td><td>0.1441513</td><td>         NA</td><td>21q</td></tr>\n",
       "\t<tr><th scope=row>4</th><td>BT127_L</td><td>BT127_L_C1</td><td>CHRDL1    </td><td>2.031436e-04</td><td>3.555372e-04</td><td>2.451286</td><td>0.1632105</td><td>         NA</td><td>NA </td></tr>\n",
       "\t<tr><th scope=row>5</th><td>BT127_L</td><td>BT127_L_C1</td><td>AC093323.3</td><td>1.283159e-05</td><td>2.742872e-05</td><td>2.313600</td><td>0.1389256</td><td>         NA</td><td>4p </td></tr>\n",
       "\t<tr><th scope=row>6</th><td>BT127_L</td><td>BT127_L_C1</td><td>CHST8     </td><td>8.040535e-05</td><td>1.510856e-04</td><td>2.291269</td><td>0.1695806</td><td>-0.15921131</td><td>19q</td></tr>\n",
       "</tbody>\n",
       "</table>\n"
      ],
      "text/latex": [
       "A data.frame: 6 × 9\n",
       "\\begin{tabular}{r|lllllllll}\n",
       "  & Sample & Cluster & Gene & pValue & FDR & logFC & AverageExpression & AverageCNV & ChromosomeArm\\\\\n",
       "  & <fct> & <fct> & <fct> & <dbl> & <dbl> & <dbl> & <dbl> & <dbl> & <chr>\\\\\n",
       "\\hline\n",
       "\t1 & BT127\\_L & BT127\\_L\\_C1 & RRN3       & 1.141980e-04 & 2.089783e-04 & 2.663890 & 0.1500973 & -0.03147051 & 16p\\\\\n",
       "\t2 & BT127\\_L & BT127\\_L\\_C1 & AC018647.3 & 1.634589e-05 & 3.445490e-05 & 2.621798 & 0.1284946 &          NA & 7p \\\\\n",
       "\t3 & BT127\\_L & BT127\\_L\\_C1 & URB1-AS1   & 3.916856e-06 & 9.095238e-06 & 2.496798 & 0.1441513 &          NA & 21q\\\\\n",
       "\t4 & BT127\\_L & BT127\\_L\\_C1 & CHRDL1     & 2.031436e-04 & 3.555372e-04 & 2.451286 & 0.1632105 &          NA & NA \\\\\n",
       "\t5 & BT127\\_L & BT127\\_L\\_C1 & AC093323.3 & 1.283159e-05 & 2.742872e-05 & 2.313600 & 0.1389256 &          NA & 4p \\\\\n",
       "\t6 & BT127\\_L & BT127\\_L\\_C1 & CHST8      & 8.040535e-05 & 1.510856e-04 & 2.291269 & 0.1695806 & -0.15921131 & 19q\\\\\n",
       "\\end{tabular}\n"
      ],
      "text/markdown": [
       "\n",
       "A data.frame: 6 × 9\n",
       "\n",
       "| <!--/--> | Sample &lt;fct&gt; | Cluster &lt;fct&gt; | Gene &lt;fct&gt; | pValue &lt;dbl&gt; | FDR &lt;dbl&gt; | logFC &lt;dbl&gt; | AverageExpression &lt;dbl&gt; | AverageCNV &lt;dbl&gt; | ChromosomeArm &lt;chr&gt; |\n",
       "|---|---|---|---|---|---|---|---|---|---|\n",
       "| 1 | BT127_L | BT127_L_C1 | RRN3       | 1.141980e-04 | 2.089783e-04 | 2.663890 | 0.1500973 | -0.03147051 | 16p |\n",
       "| 2 | BT127_L | BT127_L_C1 | AC018647.3 | 1.634589e-05 | 3.445490e-05 | 2.621798 | 0.1284946 |          NA | 7p  |\n",
       "| 3 | BT127_L | BT127_L_C1 | URB1-AS1   | 3.916856e-06 | 9.095238e-06 | 2.496798 | 0.1441513 |          NA | 21q |\n",
       "| 4 | BT127_L | BT127_L_C1 | CHRDL1     | 2.031436e-04 | 3.555372e-04 | 2.451286 | 0.1632105 |          NA | NA  |\n",
       "| 5 | BT127_L | BT127_L_C1 | AC093323.3 | 1.283159e-05 | 2.742872e-05 | 2.313600 | 0.1389256 |          NA | 4p  |\n",
       "| 6 | BT127_L | BT127_L_C1 | CHST8      | 8.040535e-05 | 1.510856e-04 | 2.291269 | 0.1695806 | -0.15921131 | 19q |\n",
       "\n"
      ],
      "text/plain": [
       "  Sample  Cluster    Gene       pValue       FDR          logFC   \n",
       "1 BT127_L BT127_L_C1 RRN3       1.141980e-04 2.089783e-04 2.663890\n",
       "2 BT127_L BT127_L_C1 AC018647.3 1.634589e-05 3.445490e-05 2.621798\n",
       "3 BT127_L BT127_L_C1 URB1-AS1   3.916856e-06 9.095238e-06 2.496798\n",
       "4 BT127_L BT127_L_C1 CHRDL1     2.031436e-04 3.555372e-04 2.451286\n",
       "5 BT127_L BT127_L_C1 AC093323.3 1.283159e-05 2.742872e-05 2.313600\n",
       "6 BT127_L BT127_L_C1 CHST8      8.040535e-05 1.510856e-04 2.291269\n",
       "  AverageExpression AverageCNV  ChromosomeArm\n",
       "1 0.1500973         -0.03147051 16p          \n",
       "2 0.1284946                  NA 7p           \n",
       "3 0.1441513                  NA 21q          \n",
       "4 0.1632105                  NA NA           \n",
       "5 0.1389256                  NA 4p           \n",
       "6 0.1695806         -0.15921131 19q          "
      ]
     },
     "metadata": {},
     "output_type": "display_data"
    }
   ],
   "source": [
    "### read in gene position\n",
    "readRDS(\"\")\n",
    "\n",
    "### read in marker genes\n",
    "markergenes <- readRDS(\"Markers_Exp_CNVs.rds\")\n",
    "head(markergenes)"
   ]
  },
  {
   "cell_type": "markdown",
   "metadata": {},
   "source": [
    "### Figure out which regions are variable across clusters"
   ]
  },
  {
   "cell_type": "code",
   "execution_count": 52,
   "metadata": {},
   "outputs": [
    {
     "data": {
      "text/html": [
       "<style>\n",
       ".list-inline {list-style: none; margin:0; padding: 0}\n",
       ".list-inline>li {display: inline-block}\n",
       ".list-inline>li:not(:last-child)::after {content: \"\\00b7\"; padding: 0 .5ex}\n",
       "</style>\n",
       "<ol class=list-inline><li>'BT127_L'</li><li>'BT147_L'</li><li>'BT48_L'</li><li>'BT67_L'</li><li>'BT73_L'</li><li>'BT84_L'</li><li>'BT89_L'</li><li>'BT94_L'</li><li>'G523_L'</li><li>'G549_L'</li><li>'G564_L'</li><li>'G566_L'</li><li>'G583_L'</li><li>'G620_L'</li><li>'G637_L'</li><li>'G729_L'</li><li>'G797_L'</li><li>'G799_L'</li><li>'G800_L'</li><li>'G837_L'</li><li>'G851_L'</li><li>'G876_L'</li><li>'G885_L'</li><li>'G895_L'</li><li>'G945-I_L'</li><li>'G945-J_L'</li><li>'G945-K_L'</li><li>'G946-J_L'</li><li>'G946-K_L'</li></ol>\n"
      ],
      "text/latex": [
       "\\begin{enumerate*}\n",
       "\\item 'BT127\\_L'\n",
       "\\item 'BT147\\_L'\n",
       "\\item 'BT48\\_L'\n",
       "\\item 'BT67\\_L'\n",
       "\\item 'BT73\\_L'\n",
       "\\item 'BT84\\_L'\n",
       "\\item 'BT89\\_L'\n",
       "\\item 'BT94\\_L'\n",
       "\\item 'G523\\_L'\n",
       "\\item 'G549\\_L'\n",
       "\\item 'G564\\_L'\n",
       "\\item 'G566\\_L'\n",
       "\\item 'G583\\_L'\n",
       "\\item 'G620\\_L'\n",
       "\\item 'G637\\_L'\n",
       "\\item 'G729\\_L'\n",
       "\\item 'G797\\_L'\n",
       "\\item 'G799\\_L'\n",
       "\\item 'G800\\_L'\n",
       "\\item 'G837\\_L'\n",
       "\\item 'G851\\_L'\n",
       "\\item 'G876\\_L'\n",
       "\\item 'G885\\_L'\n",
       "\\item 'G895\\_L'\n",
       "\\item 'G945-I\\_L'\n",
       "\\item 'G945-J\\_L'\n",
       "\\item 'G945-K\\_L'\n",
       "\\item 'G946-J\\_L'\n",
       "\\item 'G946-K\\_L'\n",
       "\\end{enumerate*}\n"
      ],
      "text/markdown": [
       "1. 'BT127_L'\n",
       "2. 'BT147_L'\n",
       "3. 'BT48_L'\n",
       "4. 'BT67_L'\n",
       "5. 'BT73_L'\n",
       "6. 'BT84_L'\n",
       "7. 'BT89_L'\n",
       "8. 'BT94_L'\n",
       "9. 'G523_L'\n",
       "10. 'G549_L'\n",
       "11. 'G564_L'\n",
       "12. 'G566_L'\n",
       "13. 'G583_L'\n",
       "14. 'G620_L'\n",
       "15. 'G637_L'\n",
       "16. 'G729_L'\n",
       "17. 'G797_L'\n",
       "18. 'G799_L'\n",
       "19. 'G800_L'\n",
       "20. 'G837_L'\n",
       "21. 'G851_L'\n",
       "22. 'G876_L'\n",
       "23. 'G885_L'\n",
       "24. 'G895_L'\n",
       "25. 'G945-I_L'\n",
       "26. 'G945-J_L'\n",
       "27. 'G945-K_L'\n",
       "28. 'G946-J_L'\n",
       "29. 'G946-K_L'\n",
       "\n",
       "\n"
      ],
      "text/plain": [
       " [1] \"BT127_L\"  \"BT147_L\"  \"BT48_L\"   \"BT67_L\"   \"BT73_L\"   \"BT84_L\"  \n",
       " [7] \"BT89_L\"   \"BT94_L\"   \"G523_L\"   \"G549_L\"   \"G564_L\"   \"G566_L\"  \n",
       "[13] \"G583_L\"   \"G620_L\"   \"G637_L\"   \"G729_L\"   \"G797_L\"   \"G799_L\"  \n",
       "[19] \"G800_L\"   \"G837_L\"   \"G851_L\"   \"G876_L\"   \"G885_L\"   \"G895_L\"  \n",
       "[25] \"G945-I_L\" \"G945-J_L\" \"G945-K_L\" \"G946-J_L\" \"G946-K_L\""
      ]
     },
     "metadata": {},
     "output_type": "display_data"
    }
   ],
   "source": [
    "samples <- as.character(unique(markergenes$Sample))\n",
    "samples"
   ]
  },
  {
   "cell_type": "code",
   "execution_count": 53,
   "metadata": {
    "collapsed": true
   },
   "outputs": [],
   "source": [
    "i <- 1\n"
   ]
  },
  {
   "cell_type": "code",
   "execution_count": 77,
   "metadata": {},
   "outputs": [
    {
     "data": {
      "text/html": [
       "<table>\n",
       "<caption>A matrix: 4 × 2 of type dbl</caption>\n",
       "<thead>\n",
       "\t<tr><th></th><th scope=col>BT127_L_C2</th><th scope=col>BT127_L_C1</th></tr>\n",
       "</thead>\n",
       "<tbody>\n",
       "\t<tr><th scope=row>7p</th><td>0</td><td>1</td></tr>\n",
       "\t<tr><th scope=row>8q</th><td>0</td><td>1</td></tr>\n",
       "\t<tr><th scope=row>9p</th><td>0</td><td>1</td></tr>\n",
       "\t<tr><th scope=row>9q</th><td>0</td><td>1</td></tr>\n",
       "</tbody>\n",
       "</table>\n"
      ],
      "text/latex": [
       "A matrix: 4 × 2 of type dbl\n",
       "\\begin{tabular}{r|ll}\n",
       "  & BT127\\_L\\_C2 & BT127\\_L\\_C1\\\\\n",
       "\\hline\n",
       "\t7p & 0 & 1\\\\\n",
       "\t8q & 0 & 1\\\\\n",
       "\t9p & 0 & 1\\\\\n",
       "\t9q & 0 & 1\\\\\n",
       "\\end{tabular}\n"
      ],
      "text/markdown": [
       "\n",
       "A matrix: 4 × 2 of type dbl\n",
       "\n",
       "| <!--/--> | BT127_L_C2 | BT127_L_C1 |\n",
       "|---|---|---|\n",
       "| 7p | 0 | 1 |\n",
       "| 8q | 0 | 1 |\n",
       "| 9p | 0 | 1 |\n",
       "| 9q | 0 | 1 |\n",
       "\n"
      ],
      "text/plain": [
       "   BT127_L_C2 BT127_L_C1\n",
       "7p 0          1         \n",
       "8q 0          1         \n",
       "9p 0          1         \n",
       "9q 0          1         "
      ]
     },
     "metadata": {},
     "output_type": "display_data"
    }
   ],
   "source": [
    "sub <- dat[ ,grep(samples[i], colnames(dat))]\n",
    "\n",
    "### define variable regions\n",
    "### those with false\n",
    "var.reg <- c()\n",
    "for (j in 1:nrow(sub)){\n",
    "    var.reg[j] <- AllEqual(sub[j, ])\n",
    "}\n",
    "\n",
    "sub <- sub[!var.reg, ]"
   ]
  },
  {
   "cell_type": "code",
   "execution_count": 81,
   "metadata": {
    "collapsed": true
   },
   "outputs": [
    {
     "data": {
      "text/html": [
       "<table>\n",
       "<caption>A data.frame: 100 × 9</caption>\n",
       "<thead>\n",
       "\t<tr><th></th><th scope=col>Sample</th><th scope=col>Cluster</th><th scope=col>Gene</th><th scope=col>pValue</th><th scope=col>FDR</th><th scope=col>logFC</th><th scope=col>AverageExpression</th><th scope=col>AverageCNV</th><th scope=col>ChromosomeArm</th></tr>\n",
       "\t<tr><th></th><th scope=col>&lt;fct&gt;</th><th scope=col>&lt;fct&gt;</th><th scope=col>&lt;fct&gt;</th><th scope=col>&lt;dbl&gt;</th><th scope=col>&lt;dbl&gt;</th><th scope=col>&lt;dbl&gt;</th><th scope=col>&lt;dbl&gt;</th><th scope=col>&lt;dbl&gt;</th><th scope=col>&lt;chr&gt;</th></tr>\n",
       "</thead>\n",
       "<tbody>\n",
       "\t<tr><th scope=row>1</th><td>BT127_L</td><td>BT127_L_C1</td><td>RRN3       </td><td>1.141980e-04</td><td>2.089783e-04</td><td>2.663890</td><td>0.1500973</td><td>-0.03147051</td><td>16p</td></tr>\n",
       "\t<tr><th scope=row>2</th><td>BT127_L</td><td>BT127_L_C1</td><td>AC018647.3 </td><td>1.634589e-05</td><td>3.445490e-05</td><td>2.621798</td><td>0.1284946</td><td>         NA</td><td>7p </td></tr>\n",
       "\t<tr><th scope=row>3</th><td>BT127_L</td><td>BT127_L_C1</td><td>URB1-AS1   </td><td>3.916856e-06</td><td>9.095238e-06</td><td>2.496798</td><td>0.1441513</td><td>         NA</td><td>21q</td></tr>\n",
       "\t<tr><th scope=row>4</th><td>BT127_L</td><td>BT127_L_C1</td><td>CHRDL1     </td><td>2.031436e-04</td><td>3.555372e-04</td><td>2.451286</td><td>0.1632105</td><td>         NA</td><td>NA </td></tr>\n",
       "\t<tr><th scope=row>5</th><td>BT127_L</td><td>BT127_L_C1</td><td>AC093323.3 </td><td>1.283159e-05</td><td>2.742872e-05</td><td>2.313600</td><td>0.1389256</td><td>         NA</td><td>4p </td></tr>\n",
       "\t<tr><th scope=row>6</th><td>BT127_L</td><td>BT127_L_C1</td><td>CHST8      </td><td>8.040535e-05</td><td>1.510856e-04</td><td>2.291269</td><td>0.1695806</td><td>-0.15921131</td><td>19q</td></tr>\n",
       "\t<tr><th scope=row>7</th><td>BT127_L</td><td>BT127_L_C1</td><td>GSC        </td><td>1.738014e-04</td><td>3.073706e-04</td><td>2.287583</td><td>0.1251451</td><td>         NA</td><td>14q</td></tr>\n",
       "\t<tr><th scope=row>8</th><td>BT127_L</td><td>BT127_L_C1</td><td>DHX32      </td><td>5.355136e-05</td><td>1.036415e-04</td><td>2.236207</td><td>0.1860388</td><td>         NA</td><td>10q</td></tr>\n",
       "\t<tr><th scope=row>9</th><td>BT127_L</td><td>BT127_L_C1</td><td>CTC-524C5.2</td><td>3.933531e-04</td><td>6.521635e-04</td><td>2.160250</td><td>0.1631163</td><td> 0.04121195</td><td>17p</td></tr>\n",
       "\t<tr><th scope=row>10</th><td>BT127_L</td><td>BT127_L_C1</td><td>LYSMD2     </td><td>2.962125e-05</td><td>5.995295e-05</td><td>2.159908</td><td>0.1495586</td><td>-0.04881743</td><td>15q</td></tr>\n",
       "\t<tr><th scope=row>11</th><td>BT127_L</td><td>BT127_L_C1</td><td>PPCS       </td><td>4.424366e-06</td><td>1.019719e-05</td><td>2.144887</td><td>0.1519406</td><td>-0.02933458</td><td>1p </td></tr>\n",
       "\t<tr><th scope=row>12</th><td>BT127_L</td><td>BT127_L_C1</td><td>GEMIN8     </td><td>1.058026e-04</td><td>1.949603e-04</td><td>2.117610</td><td>0.1343353</td><td>         NA</td><td>NA </td></tr>\n",
       "\t<tr><th scope=row>13</th><td>BT127_L</td><td>BT127_L_C1</td><td>GALNT18    </td><td>3.791721e-05</td><td>7.548880e-05</td><td>2.049208</td><td>0.1973936</td><td>         NA</td><td>11p</td></tr>\n",
       "\t<tr><th scope=row>14</th><td>BT127_L</td><td>BT127_L_C1</td><td>SP100      </td><td>2.132961e-03</td><td>3.064300e-03</td><td>2.043260</td><td>0.1355120</td><td>         NA</td><td>2q </td></tr>\n",
       "\t<tr><th scope=row>15</th><td>BT127_L</td><td>BT127_L_C1</td><td>RNF14      </td><td>1.212810e-04</td><td>2.207433e-04</td><td>2.008674</td><td>0.1457754</td><td> 0.03722534</td><td>5q </td></tr>\n",
       "\t<tr><th scope=row>16</th><td>BT127_L</td><td>BT127_L_C1</td><td>PCGF3      </td><td>2.859443e-05</td><td>5.798531e-05</td><td>1.993511</td><td>0.1737513</td><td>         NA</td><td>4p </td></tr>\n",
       "\t<tr><th scope=row>17</th><td>BT127_L</td><td>BT127_L_C1</td><td>FEM1B      </td><td>1.054614e-05</td><td>2.281808e-05</td><td>1.991905</td><td>0.1806050</td><td> 0.04625653</td><td>15q</td></tr>\n",
       "\t<tr><th scope=row>18</th><td>BT127_L</td><td>BT127_L_C1</td><td>FAHD2B     </td><td>1.092825e-05</td><td>2.361163e-05</td><td>1.990485</td><td>0.1261587</td><td> 0.00295866</td><td>2q </td></tr>\n",
       "\t<tr><th scope=row>19</th><td>BT127_L</td><td>BT127_L_C1</td><td>GCFC2      </td><td>1.022839e-04</td><td>1.888515e-04</td><td>1.988276</td><td>0.1377648</td><td> 0.02222636</td><td>2p </td></tr>\n",
       "\t<tr><th scope=row>20</th><td>BT127_L</td><td>BT127_L_C1</td><td>DHX16      </td><td>3.240203e-04</td><td>5.477293e-04</td><td>1.949635</td><td>0.1615955</td><td>-0.03855663</td><td>6p </td></tr>\n",
       "\t<tr><th scope=row>21</th><td>BT127_L</td><td>BT127_L_C1</td><td>TMEM57     </td><td>1.996618e-04</td><td>3.496083e-04</td><td>1.947608</td><td>0.2151099</td><td>-0.04517572</td><td>1p </td></tr>\n",
       "\t<tr><th scope=row>22</th><td>BT127_L</td><td>BT127_L_C1</td><td>IL13RA1    </td><td>2.081028e-05</td><td>4.314269e-05</td><td>1.943249</td><td>0.2019713</td><td>         NA</td><td>NA </td></tr>\n",
       "\t<tr><th scope=row>23</th><td>BT127_L</td><td>BT127_L_C1</td><td>DLAT       </td><td>1.593590e-04</td><td>2.841214e-04</td><td>1.943047</td><td>0.1512141</td><td>-0.09955710</td><td>11q</td></tr>\n",
       "\t<tr><th scope=row>24</th><td>BT127_L</td><td>BT127_L_C1</td><td>PPP2R5A    </td><td>1.508128e-03</td><td>2.230060e-03</td><td>1.941249</td><td>0.1438949</td><td>-0.14457515</td><td>1q </td></tr>\n",
       "\t<tr><th scope=row>25</th><td>BT127_L</td><td>BT127_L_C1</td><td>NUFIP1     </td><td>1.323405e-04</td><td>2.394641e-04</td><td>1.912151</td><td>0.1614804</td><td>-0.17893820</td><td>13q</td></tr>\n",
       "\t<tr><th scope=row>26</th><td>BT127_L</td><td>BT127_L_C1</td><td>LYRM1      </td><td>5.230320e-06</td><td>1.188505e-05</td><td>1.904049</td><td>0.1788678</td><td>-0.04793318</td><td>16p</td></tr>\n",
       "\t<tr><th scope=row>27</th><td>BT127_L</td><td>BT127_L_C1</td><td>PPIC       </td><td>1.312273e-06</td><td>3.255911e-06</td><td>1.898418</td><td>0.2202210</td><td>-0.09788059</td><td>5q </td></tr>\n",
       "\t<tr><th scope=row>28</th><td>BT127_L</td><td>BT127_L_C1</td><td>GLI3       </td><td>4.053668e-06</td><td>9.389439e-06</td><td>1.894549</td><td>0.2471875</td><td> 0.18164321</td><td>7p </td></tr>\n",
       "\t<tr><th scope=row>29</th><td>BT127_L</td><td>BT127_L_C1</td><td>ZNF275     </td><td>5.758687e-04</td><td>9.282398e-04</td><td>1.889367</td><td>0.1158652</td><td>         NA</td><td>NA </td></tr>\n",
       "\t<tr><th scope=row>30</th><td>BT127_L</td><td>BT127_L_C1</td><td>C11orf74   </td><td>4.495435e-05</td><td>8.826161e-05</td><td>1.873814</td><td>0.1631541</td><td> 0.05109992</td><td>11p</td></tr>\n",
       "\t<tr><th scope=row>⋮</th><td>⋮</td><td>⋮</td><td>⋮</td><td>⋮</td><td>⋮</td><td>⋮</td><td>⋮</td><td>⋮</td><td>⋮</td></tr>\n",
       "\t<tr><th scope=row>71</th><td>BT127_L</td><td>BT127_L_C2</td><td>SPOCD1       </td><td>0.0363500196</td><td>0.0411019128</td><td>1.0181280</td><td>4.8635919</td><td>-0.084741954</td><td>1p </td></tr>\n",
       "\t<tr><th scope=row>72</th><td>BT127_L</td><td>BT127_L_C2</td><td>GPATCH2      </td><td>0.0235254894</td><td>0.0270767250</td><td>0.9413863</td><td>0.8624646</td><td>-0.109357895</td><td>1q </td></tr>\n",
       "\t<tr><th scope=row>73</th><td>BT127_L</td><td>BT127_L_C2</td><td>IRF3         </td><td>0.0251020924</td><td>0.0288068529</td><td>0.9276267</td><td>0.9723036</td><td>-0.033267586</td><td>19q</td></tr>\n",
       "\t<tr><th scope=row>74</th><td>BT127_L</td><td>BT127_L_C2</td><td>FAM212B      </td><td>0.0084967293</td><td>0.0101537758</td><td>0.9242601</td><td>1.5937400</td><td> 0.013475855</td><td>1p </td></tr>\n",
       "\t<tr><th scope=row>75</th><td>BT127_L</td><td>BT127_L_C2</td><td>CEP68        </td><td>0.0432831826</td><td>0.0487308292</td><td>0.8949364</td><td>0.6540800</td><td>-0.050904239</td><td>2p </td></tr>\n",
       "\t<tr><th scope=row>76</th><td>BT127_L</td><td>BT127_L_C2</td><td>RNMT         </td><td>0.0271143584</td><td>0.0310344351</td><td>0.8877371</td><td>1.4250282</td><td>          NA</td><td>18p</td></tr>\n",
       "\t<tr><th scope=row>77</th><td>BT127_L</td><td>BT127_L_C2</td><td>WDR60        </td><td>0.0005500164</td><td>0.0007462369</td><td>0.8725421</td><td>1.2624348</td><td>          NA</td><td>7q </td></tr>\n",
       "\t<tr><th scope=row>78</th><td>BT127_L</td><td>BT127_L_C2</td><td>COMMD2       </td><td>0.0326672068</td><td>0.0371624985</td><td>0.8696125</td><td>1.1341036</td><td>-0.037434017</td><td>3q </td></tr>\n",
       "\t<tr><th scope=row>79</th><td>BT127_L</td><td>BT127_L_C2</td><td>SUPT20H      </td><td>0.0333507404</td><td>0.0378906696</td><td>0.8554135</td><td>0.5170059</td><td>          NA</td><td>13q</td></tr>\n",
       "\t<tr><th scope=row>80</th><td>BT127_L</td><td>BT127_L_C2</td><td>SPG7         </td><td>0.0241786541</td><td>0.0278019988</td><td>0.8536885</td><td>1.3417498</td><td>          NA</td><td>16q</td></tr>\n",
       "\t<tr><th scope=row>81</th><td>BT127_L</td><td>BT127_L_C2</td><td>ZNF638       </td><td>0.0113562761</td><td>0.0134481541</td><td>0.8353357</td><td>1.2247719</td><td> 0.013349413</td><td>2p </td></tr>\n",
       "\t<tr><th scope=row>82</th><td>BT127_L</td><td>BT127_L_C2</td><td>SPSB3        </td><td>0.0064773859</td><td>0.0078083760</td><td>0.8321711</td><td>0.7490102</td><td>          NA</td><td>16p</td></tr>\n",
       "\t<tr><th scope=row>83</th><td>BT127_L</td><td>BT127_L_C2</td><td>RUNDC1       </td><td>0.0344639688</td><td>0.0390960218</td><td>0.8232739</td><td>0.7754118</td><td> 0.036230413</td><td>17q</td></tr>\n",
       "\t<tr><th scope=row>84</th><td>BT127_L</td><td>BT127_L_C2</td><td>UBAP2        </td><td>0.0248783207</td><td>0.0285688506</td><td>0.8230222</td><td>1.1650206</td><td> 0.156651355</td><td>9p </td></tr>\n",
       "\t<tr><th scope=row>85</th><td>BT127_L</td><td>BT127_L_C2</td><td>MTRF1L       </td><td>0.0069650647</td><td>0.0083711952</td><td>0.8213945</td><td>1.2845756</td><td>          NA</td><td>6q </td></tr>\n",
       "\t<tr><th scope=row>86</th><td>BT127_L</td><td>BT127_L_C2</td><td>ARHGEF40     </td><td>0.0022978068</td><td>0.0029058538</td><td>0.8204136</td><td>1.0241372</td><td>          NA</td><td>14q</td></tr>\n",
       "\t<tr><th scope=row>87</th><td>BT127_L</td><td>BT127_L_C2</td><td>TTC19        </td><td>0.0020268215</td><td>0.0025787398</td><td>0.8180036</td><td>1.7552567</td><td> 0.009959353</td><td>17p</td></tr>\n",
       "\t<tr><th scope=row>88</th><td>BT127_L</td><td>BT127_L_C2</td><td>ZCCHC11      </td><td>0.0142654233</td><td>0.0167679605</td><td>0.8137628</td><td>1.1862098</td><td>-0.057969491</td><td>1p </td></tr>\n",
       "\t<tr><th scope=row>89</th><td>BT127_L</td><td>BT127_L_C2</td><td>ETV5         </td><td>0.0074094320</td><td>0.0088889403</td><td>0.8131091</td><td>1.4518420</td><td>          NA</td><td>3q </td></tr>\n",
       "\t<tr><th scope=row>90</th><td>BT127_L</td><td>BT127_L_C2</td><td>RNF24        </td><td>0.0137953255</td><td>0.0162372781</td><td>0.8054343</td><td>1.4305563</td><td>          NA</td><td>20p</td></tr>\n",
       "\t<tr><th scope=row>91</th><td>BT127_L</td><td>BT127_L_C2</td><td>USP8         </td><td>0.0023818702</td><td>0.0030078009</td><td>0.8040516</td><td>1.7738821</td><td>-0.034481539</td><td>15q</td></tr>\n",
       "\t<tr><th scope=row>92</th><td>BT127_L</td><td>BT127_L_C2</td><td>GCC2         </td><td>0.0158399686</td><td>0.0185686729</td><td>0.7996520</td><td>0.9000918</td><td> 0.003456374</td><td>2q </td></tr>\n",
       "\t<tr><th scope=row>93</th><td>BT127_L</td><td>BT127_L_C2</td><td>ZNF608       </td><td>0.0208884357</td><td>0.0242102291</td><td>0.7981137</td><td>0.6113865</td><td>-0.085944217</td><td>5q </td></tr>\n",
       "\t<tr><th scope=row>94</th><td>BT127_L</td><td>BT127_L_C2</td><td>TMEM80       </td><td>0.0032935609</td><td>0.0040899867</td><td>0.7947220</td><td>0.8104632</td><td>          NA</td><td>11p</td></tr>\n",
       "\t<tr><th scope=row>95</th><td>BT127_L</td><td>BT127_L_C2</td><td>LUC7L        </td><td>0.0057255684</td><td>0.0069404446</td><td>0.7926702</td><td>0.9593690</td><td>          NA</td><td>16p</td></tr>\n",
       "\t<tr><th scope=row>96</th><td>BT127_L</td><td>BT127_L_C2</td><td>OSGEP        </td><td>0.0351126347</td><td>0.0397973614</td><td>0.7917373</td><td>0.6760692</td><td>          NA</td><td>14q</td></tr>\n",
       "\t<tr><th scope=row>97</th><td>BT127_L</td><td>BT127_L_C2</td><td>RP11-12G12.7 </td><td>0.0194523324</td><td>0.0226058306</td><td>0.7839369</td><td>0.5528538</td><td>          NA</td><td>13q</td></tr>\n",
       "\t<tr><th scope=row>98</th><td>BT127_L</td><td>BT127_L_C2</td><td>RP11-315A16.1</td><td>0.0020810018</td><td>0.0026451014</td><td>0.7837572</td><td>1.2661045</td><td>          NA</td><td>5p </td></tr>\n",
       "\t<tr><th scope=row>99</th><td>BT127_L</td><td>BT127_L_C2</td><td>DDX17        </td><td>0.0012097110</td><td>0.0015751226</td><td>0.7719059</td><td>2.8514899</td><td>-0.078594571</td><td>22q</td></tr>\n",
       "\t<tr><th scope=row>100</th><td>BT127_L</td><td>BT127_L_C2</td><td>SPATA13      </td><td>0.0265614683</td><td>0.0304282320</td><td>0.7709214</td><td>0.9387493</td><td>          NA</td><td>13q</td></tr>\n",
       "</tbody>\n",
       "</table>\n"
      ],
      "text/latex": [
       "A data.frame: 100 × 9\n",
       "\\begin{tabular}{r|lllllllll}\n",
       "  & Sample & Cluster & Gene & pValue & FDR & logFC & AverageExpression & AverageCNV & ChromosomeArm\\\\\n",
       "  & <fct> & <fct> & <fct> & <dbl> & <dbl> & <dbl> & <dbl> & <dbl> & <chr>\\\\\n",
       "\\hline\n",
       "\t1 & BT127\\_L & BT127\\_L\\_C1 & RRN3        & 1.141980e-04 & 2.089783e-04 & 2.663890 & 0.1500973 & -0.03147051 & 16p\\\\\n",
       "\t2 & BT127\\_L & BT127\\_L\\_C1 & AC018647.3  & 1.634589e-05 & 3.445490e-05 & 2.621798 & 0.1284946 &          NA & 7p \\\\\n",
       "\t3 & BT127\\_L & BT127\\_L\\_C1 & URB1-AS1    & 3.916856e-06 & 9.095238e-06 & 2.496798 & 0.1441513 &          NA & 21q\\\\\n",
       "\t4 & BT127\\_L & BT127\\_L\\_C1 & CHRDL1      & 2.031436e-04 & 3.555372e-04 & 2.451286 & 0.1632105 &          NA & NA \\\\\n",
       "\t5 & BT127\\_L & BT127\\_L\\_C1 & AC093323.3  & 1.283159e-05 & 2.742872e-05 & 2.313600 & 0.1389256 &          NA & 4p \\\\\n",
       "\t6 & BT127\\_L & BT127\\_L\\_C1 & CHST8       & 8.040535e-05 & 1.510856e-04 & 2.291269 & 0.1695806 & -0.15921131 & 19q\\\\\n",
       "\t7 & BT127\\_L & BT127\\_L\\_C1 & GSC         & 1.738014e-04 & 3.073706e-04 & 2.287583 & 0.1251451 &          NA & 14q\\\\\n",
       "\t8 & BT127\\_L & BT127\\_L\\_C1 & DHX32       & 5.355136e-05 & 1.036415e-04 & 2.236207 & 0.1860388 &          NA & 10q\\\\\n",
       "\t9 & BT127\\_L & BT127\\_L\\_C1 & CTC-524C5.2 & 3.933531e-04 & 6.521635e-04 & 2.160250 & 0.1631163 &  0.04121195 & 17p\\\\\n",
       "\t10 & BT127\\_L & BT127\\_L\\_C1 & LYSMD2      & 2.962125e-05 & 5.995295e-05 & 2.159908 & 0.1495586 & -0.04881743 & 15q\\\\\n",
       "\t11 & BT127\\_L & BT127\\_L\\_C1 & PPCS        & 4.424366e-06 & 1.019719e-05 & 2.144887 & 0.1519406 & -0.02933458 & 1p \\\\\n",
       "\t12 & BT127\\_L & BT127\\_L\\_C1 & GEMIN8      & 1.058026e-04 & 1.949603e-04 & 2.117610 & 0.1343353 &          NA & NA \\\\\n",
       "\t13 & BT127\\_L & BT127\\_L\\_C1 & GALNT18     & 3.791721e-05 & 7.548880e-05 & 2.049208 & 0.1973936 &          NA & 11p\\\\\n",
       "\t14 & BT127\\_L & BT127\\_L\\_C1 & SP100       & 2.132961e-03 & 3.064300e-03 & 2.043260 & 0.1355120 &          NA & 2q \\\\\n",
       "\t15 & BT127\\_L & BT127\\_L\\_C1 & RNF14       & 1.212810e-04 & 2.207433e-04 & 2.008674 & 0.1457754 &  0.03722534 & 5q \\\\\n",
       "\t16 & BT127\\_L & BT127\\_L\\_C1 & PCGF3       & 2.859443e-05 & 5.798531e-05 & 1.993511 & 0.1737513 &          NA & 4p \\\\\n",
       "\t17 & BT127\\_L & BT127\\_L\\_C1 & FEM1B       & 1.054614e-05 & 2.281808e-05 & 1.991905 & 0.1806050 &  0.04625653 & 15q\\\\\n",
       "\t18 & BT127\\_L & BT127\\_L\\_C1 & FAHD2B      & 1.092825e-05 & 2.361163e-05 & 1.990485 & 0.1261587 &  0.00295866 & 2q \\\\\n",
       "\t19 & BT127\\_L & BT127\\_L\\_C1 & GCFC2       & 1.022839e-04 & 1.888515e-04 & 1.988276 & 0.1377648 &  0.02222636 & 2p \\\\\n",
       "\t20 & BT127\\_L & BT127\\_L\\_C1 & DHX16       & 3.240203e-04 & 5.477293e-04 & 1.949635 & 0.1615955 & -0.03855663 & 6p \\\\\n",
       "\t21 & BT127\\_L & BT127\\_L\\_C1 & TMEM57      & 1.996618e-04 & 3.496083e-04 & 1.947608 & 0.2151099 & -0.04517572 & 1p \\\\\n",
       "\t22 & BT127\\_L & BT127\\_L\\_C1 & IL13RA1     & 2.081028e-05 & 4.314269e-05 & 1.943249 & 0.2019713 &          NA & NA \\\\\n",
       "\t23 & BT127\\_L & BT127\\_L\\_C1 & DLAT        & 1.593590e-04 & 2.841214e-04 & 1.943047 & 0.1512141 & -0.09955710 & 11q\\\\\n",
       "\t24 & BT127\\_L & BT127\\_L\\_C1 & PPP2R5A     & 1.508128e-03 & 2.230060e-03 & 1.941249 & 0.1438949 & -0.14457515 & 1q \\\\\n",
       "\t25 & BT127\\_L & BT127\\_L\\_C1 & NUFIP1      & 1.323405e-04 & 2.394641e-04 & 1.912151 & 0.1614804 & -0.17893820 & 13q\\\\\n",
       "\t26 & BT127\\_L & BT127\\_L\\_C1 & LYRM1       & 5.230320e-06 & 1.188505e-05 & 1.904049 & 0.1788678 & -0.04793318 & 16p\\\\\n",
       "\t27 & BT127\\_L & BT127\\_L\\_C1 & PPIC        & 1.312273e-06 & 3.255911e-06 & 1.898418 & 0.2202210 & -0.09788059 & 5q \\\\\n",
       "\t28 & BT127\\_L & BT127\\_L\\_C1 & GLI3        & 4.053668e-06 & 9.389439e-06 & 1.894549 & 0.2471875 &  0.18164321 & 7p \\\\\n",
       "\t29 & BT127\\_L & BT127\\_L\\_C1 & ZNF275      & 5.758687e-04 & 9.282398e-04 & 1.889367 & 0.1158652 &          NA & NA \\\\\n",
       "\t30 & BT127\\_L & BT127\\_L\\_C1 & C11orf74    & 4.495435e-05 & 8.826161e-05 & 1.873814 & 0.1631541 &  0.05109992 & 11p\\\\\n",
       "\t⋮ & ⋮ & ⋮ & ⋮ & ⋮ & ⋮ & ⋮ & ⋮ & ⋮ & ⋮\\\\\n",
       "\t71 & BT127\\_L & BT127\\_L\\_C2 & SPOCD1        & 0.0363500196 & 0.0411019128 & 1.0181280 & 4.8635919 & -0.084741954 & 1p \\\\\n",
       "\t72 & BT127\\_L & BT127\\_L\\_C2 & GPATCH2       & 0.0235254894 & 0.0270767250 & 0.9413863 & 0.8624646 & -0.109357895 & 1q \\\\\n",
       "\t73 & BT127\\_L & BT127\\_L\\_C2 & IRF3          & 0.0251020924 & 0.0288068529 & 0.9276267 & 0.9723036 & -0.033267586 & 19q\\\\\n",
       "\t74 & BT127\\_L & BT127\\_L\\_C2 & FAM212B       & 0.0084967293 & 0.0101537758 & 0.9242601 & 1.5937400 &  0.013475855 & 1p \\\\\n",
       "\t75 & BT127\\_L & BT127\\_L\\_C2 & CEP68         & 0.0432831826 & 0.0487308292 & 0.8949364 & 0.6540800 & -0.050904239 & 2p \\\\\n",
       "\t76 & BT127\\_L & BT127\\_L\\_C2 & RNMT          & 0.0271143584 & 0.0310344351 & 0.8877371 & 1.4250282 &           NA & 18p\\\\\n",
       "\t77 & BT127\\_L & BT127\\_L\\_C2 & WDR60         & 0.0005500164 & 0.0007462369 & 0.8725421 & 1.2624348 &           NA & 7q \\\\\n",
       "\t78 & BT127\\_L & BT127\\_L\\_C2 & COMMD2        & 0.0326672068 & 0.0371624985 & 0.8696125 & 1.1341036 & -0.037434017 & 3q \\\\\n",
       "\t79 & BT127\\_L & BT127\\_L\\_C2 & SUPT20H       & 0.0333507404 & 0.0378906696 & 0.8554135 & 0.5170059 &           NA & 13q\\\\\n",
       "\t80 & BT127\\_L & BT127\\_L\\_C2 & SPG7          & 0.0241786541 & 0.0278019988 & 0.8536885 & 1.3417498 &           NA & 16q\\\\\n",
       "\t81 & BT127\\_L & BT127\\_L\\_C2 & ZNF638        & 0.0113562761 & 0.0134481541 & 0.8353357 & 1.2247719 &  0.013349413 & 2p \\\\\n",
       "\t82 & BT127\\_L & BT127\\_L\\_C2 & SPSB3         & 0.0064773859 & 0.0078083760 & 0.8321711 & 0.7490102 &           NA & 16p\\\\\n",
       "\t83 & BT127\\_L & BT127\\_L\\_C2 & RUNDC1        & 0.0344639688 & 0.0390960218 & 0.8232739 & 0.7754118 &  0.036230413 & 17q\\\\\n",
       "\t84 & BT127\\_L & BT127\\_L\\_C2 & UBAP2         & 0.0248783207 & 0.0285688506 & 0.8230222 & 1.1650206 &  0.156651355 & 9p \\\\\n",
       "\t85 & BT127\\_L & BT127\\_L\\_C2 & MTRF1L        & 0.0069650647 & 0.0083711952 & 0.8213945 & 1.2845756 &           NA & 6q \\\\\n",
       "\t86 & BT127\\_L & BT127\\_L\\_C2 & ARHGEF40      & 0.0022978068 & 0.0029058538 & 0.8204136 & 1.0241372 &           NA & 14q\\\\\n",
       "\t87 & BT127\\_L & BT127\\_L\\_C2 & TTC19         & 0.0020268215 & 0.0025787398 & 0.8180036 & 1.7552567 &  0.009959353 & 17p\\\\\n",
       "\t88 & BT127\\_L & BT127\\_L\\_C2 & ZCCHC11       & 0.0142654233 & 0.0167679605 & 0.8137628 & 1.1862098 & -0.057969491 & 1p \\\\\n",
       "\t89 & BT127\\_L & BT127\\_L\\_C2 & ETV5          & 0.0074094320 & 0.0088889403 & 0.8131091 & 1.4518420 &           NA & 3q \\\\\n",
       "\t90 & BT127\\_L & BT127\\_L\\_C2 & RNF24         & 0.0137953255 & 0.0162372781 & 0.8054343 & 1.4305563 &           NA & 20p\\\\\n",
       "\t91 & BT127\\_L & BT127\\_L\\_C2 & USP8          & 0.0023818702 & 0.0030078009 & 0.8040516 & 1.7738821 & -0.034481539 & 15q\\\\\n",
       "\t92 & BT127\\_L & BT127\\_L\\_C2 & GCC2          & 0.0158399686 & 0.0185686729 & 0.7996520 & 0.9000918 &  0.003456374 & 2q \\\\\n",
       "\t93 & BT127\\_L & BT127\\_L\\_C2 & ZNF608        & 0.0208884357 & 0.0242102291 & 0.7981137 & 0.6113865 & -0.085944217 & 5q \\\\\n",
       "\t94 & BT127\\_L & BT127\\_L\\_C2 & TMEM80        & 0.0032935609 & 0.0040899867 & 0.7947220 & 0.8104632 &           NA & 11p\\\\\n",
       "\t95 & BT127\\_L & BT127\\_L\\_C2 & LUC7L         & 0.0057255684 & 0.0069404446 & 0.7926702 & 0.9593690 &           NA & 16p\\\\\n",
       "\t96 & BT127\\_L & BT127\\_L\\_C2 & OSGEP         & 0.0351126347 & 0.0397973614 & 0.7917373 & 0.6760692 &           NA & 14q\\\\\n",
       "\t97 & BT127\\_L & BT127\\_L\\_C2 & RP11-12G12.7  & 0.0194523324 & 0.0226058306 & 0.7839369 & 0.5528538 &           NA & 13q\\\\\n",
       "\t98 & BT127\\_L & BT127\\_L\\_C2 & RP11-315A16.1 & 0.0020810018 & 0.0026451014 & 0.7837572 & 1.2661045 &           NA & 5p \\\\\n",
       "\t99 & BT127\\_L & BT127\\_L\\_C2 & DDX17         & 0.0012097110 & 0.0015751226 & 0.7719059 & 2.8514899 & -0.078594571 & 22q\\\\\n",
       "\t100 & BT127\\_L & BT127\\_L\\_C2 & SPATA13       & 0.0265614683 & 0.0304282320 & 0.7709214 & 0.9387493 &           NA & 13q\\\\\n",
       "\\end{tabular}\n"
      ],
      "text/markdown": [
       "\n",
       "A data.frame: 100 × 9\n",
       "\n",
       "| <!--/--> | Sample &lt;fct&gt; | Cluster &lt;fct&gt; | Gene &lt;fct&gt; | pValue &lt;dbl&gt; | FDR &lt;dbl&gt; | logFC &lt;dbl&gt; | AverageExpression &lt;dbl&gt; | AverageCNV &lt;dbl&gt; | ChromosomeArm &lt;chr&gt; |\n",
       "|---|---|---|---|---|---|---|---|---|---|\n",
       "| 1 | BT127_L | BT127_L_C1 | RRN3        | 1.141980e-04 | 2.089783e-04 | 2.663890 | 0.1500973 | -0.03147051 | 16p |\n",
       "| 2 | BT127_L | BT127_L_C1 | AC018647.3  | 1.634589e-05 | 3.445490e-05 | 2.621798 | 0.1284946 |          NA | 7p  |\n",
       "| 3 | BT127_L | BT127_L_C1 | URB1-AS1    | 3.916856e-06 | 9.095238e-06 | 2.496798 | 0.1441513 |          NA | 21q |\n",
       "| 4 | BT127_L | BT127_L_C1 | CHRDL1      | 2.031436e-04 | 3.555372e-04 | 2.451286 | 0.1632105 |          NA | NA  |\n",
       "| 5 | BT127_L | BT127_L_C1 | AC093323.3  | 1.283159e-05 | 2.742872e-05 | 2.313600 | 0.1389256 |          NA | 4p  |\n",
       "| 6 | BT127_L | BT127_L_C1 | CHST8       | 8.040535e-05 | 1.510856e-04 | 2.291269 | 0.1695806 | -0.15921131 | 19q |\n",
       "| 7 | BT127_L | BT127_L_C1 | GSC         | 1.738014e-04 | 3.073706e-04 | 2.287583 | 0.1251451 |          NA | 14q |\n",
       "| 8 | BT127_L | BT127_L_C1 | DHX32       | 5.355136e-05 | 1.036415e-04 | 2.236207 | 0.1860388 |          NA | 10q |\n",
       "| 9 | BT127_L | BT127_L_C1 | CTC-524C5.2 | 3.933531e-04 | 6.521635e-04 | 2.160250 | 0.1631163 |  0.04121195 | 17p |\n",
       "| 10 | BT127_L | BT127_L_C1 | LYSMD2      | 2.962125e-05 | 5.995295e-05 | 2.159908 | 0.1495586 | -0.04881743 | 15q |\n",
       "| 11 | BT127_L | BT127_L_C1 | PPCS        | 4.424366e-06 | 1.019719e-05 | 2.144887 | 0.1519406 | -0.02933458 | 1p  |\n",
       "| 12 | BT127_L | BT127_L_C1 | GEMIN8      | 1.058026e-04 | 1.949603e-04 | 2.117610 | 0.1343353 |          NA | NA  |\n",
       "| 13 | BT127_L | BT127_L_C1 | GALNT18     | 3.791721e-05 | 7.548880e-05 | 2.049208 | 0.1973936 |          NA | 11p |\n",
       "| 14 | BT127_L | BT127_L_C1 | SP100       | 2.132961e-03 | 3.064300e-03 | 2.043260 | 0.1355120 |          NA | 2q  |\n",
       "| 15 | BT127_L | BT127_L_C1 | RNF14       | 1.212810e-04 | 2.207433e-04 | 2.008674 | 0.1457754 |  0.03722534 | 5q  |\n",
       "| 16 | BT127_L | BT127_L_C1 | PCGF3       | 2.859443e-05 | 5.798531e-05 | 1.993511 | 0.1737513 |          NA | 4p  |\n",
       "| 17 | BT127_L | BT127_L_C1 | FEM1B       | 1.054614e-05 | 2.281808e-05 | 1.991905 | 0.1806050 |  0.04625653 | 15q |\n",
       "| 18 | BT127_L | BT127_L_C1 | FAHD2B      | 1.092825e-05 | 2.361163e-05 | 1.990485 | 0.1261587 |  0.00295866 | 2q  |\n",
       "| 19 | BT127_L | BT127_L_C1 | GCFC2       | 1.022839e-04 | 1.888515e-04 | 1.988276 | 0.1377648 |  0.02222636 | 2p  |\n",
       "| 20 | BT127_L | BT127_L_C1 | DHX16       | 3.240203e-04 | 5.477293e-04 | 1.949635 | 0.1615955 | -0.03855663 | 6p  |\n",
       "| 21 | BT127_L | BT127_L_C1 | TMEM57      | 1.996618e-04 | 3.496083e-04 | 1.947608 | 0.2151099 | -0.04517572 | 1p  |\n",
       "| 22 | BT127_L | BT127_L_C1 | IL13RA1     | 2.081028e-05 | 4.314269e-05 | 1.943249 | 0.2019713 |          NA | NA  |\n",
       "| 23 | BT127_L | BT127_L_C1 | DLAT        | 1.593590e-04 | 2.841214e-04 | 1.943047 | 0.1512141 | -0.09955710 | 11q |\n",
       "| 24 | BT127_L | BT127_L_C1 | PPP2R5A     | 1.508128e-03 | 2.230060e-03 | 1.941249 | 0.1438949 | -0.14457515 | 1q  |\n",
       "| 25 | BT127_L | BT127_L_C1 | NUFIP1      | 1.323405e-04 | 2.394641e-04 | 1.912151 | 0.1614804 | -0.17893820 | 13q |\n",
       "| 26 | BT127_L | BT127_L_C1 | LYRM1       | 5.230320e-06 | 1.188505e-05 | 1.904049 | 0.1788678 | -0.04793318 | 16p |\n",
       "| 27 | BT127_L | BT127_L_C1 | PPIC        | 1.312273e-06 | 3.255911e-06 | 1.898418 | 0.2202210 | -0.09788059 | 5q  |\n",
       "| 28 | BT127_L | BT127_L_C1 | GLI3        | 4.053668e-06 | 9.389439e-06 | 1.894549 | 0.2471875 |  0.18164321 | 7p  |\n",
       "| 29 | BT127_L | BT127_L_C1 | ZNF275      | 5.758687e-04 | 9.282398e-04 | 1.889367 | 0.1158652 |          NA | NA  |\n",
       "| 30 | BT127_L | BT127_L_C1 | C11orf74    | 4.495435e-05 | 8.826161e-05 | 1.873814 | 0.1631541 |  0.05109992 | 11p |\n",
       "| ⋮ | ⋮ | ⋮ | ⋮ | ⋮ | ⋮ | ⋮ | ⋮ | ⋮ | ⋮ |\n",
       "| 71 | BT127_L | BT127_L_C2 | SPOCD1        | 0.0363500196 | 0.0411019128 | 1.0181280 | 4.8635919 | -0.084741954 | 1p  |\n",
       "| 72 | BT127_L | BT127_L_C2 | GPATCH2       | 0.0235254894 | 0.0270767250 | 0.9413863 | 0.8624646 | -0.109357895 | 1q  |\n",
       "| 73 | BT127_L | BT127_L_C2 | IRF3          | 0.0251020924 | 0.0288068529 | 0.9276267 | 0.9723036 | -0.033267586 | 19q |\n",
       "| 74 | BT127_L | BT127_L_C2 | FAM212B       | 0.0084967293 | 0.0101537758 | 0.9242601 | 1.5937400 |  0.013475855 | 1p  |\n",
       "| 75 | BT127_L | BT127_L_C2 | CEP68         | 0.0432831826 | 0.0487308292 | 0.8949364 | 0.6540800 | -0.050904239 | 2p  |\n",
       "| 76 | BT127_L | BT127_L_C2 | RNMT          | 0.0271143584 | 0.0310344351 | 0.8877371 | 1.4250282 |           NA | 18p |\n",
       "| 77 | BT127_L | BT127_L_C2 | WDR60         | 0.0005500164 | 0.0007462369 | 0.8725421 | 1.2624348 |           NA | 7q  |\n",
       "| 78 | BT127_L | BT127_L_C2 | COMMD2        | 0.0326672068 | 0.0371624985 | 0.8696125 | 1.1341036 | -0.037434017 | 3q  |\n",
       "| 79 | BT127_L | BT127_L_C2 | SUPT20H       | 0.0333507404 | 0.0378906696 | 0.8554135 | 0.5170059 |           NA | 13q |\n",
       "| 80 | BT127_L | BT127_L_C2 | SPG7          | 0.0241786541 | 0.0278019988 | 0.8536885 | 1.3417498 |           NA | 16q |\n",
       "| 81 | BT127_L | BT127_L_C2 | ZNF638        | 0.0113562761 | 0.0134481541 | 0.8353357 | 1.2247719 |  0.013349413 | 2p  |\n",
       "| 82 | BT127_L | BT127_L_C2 | SPSB3         | 0.0064773859 | 0.0078083760 | 0.8321711 | 0.7490102 |           NA | 16p |\n",
       "| 83 | BT127_L | BT127_L_C2 | RUNDC1        | 0.0344639688 | 0.0390960218 | 0.8232739 | 0.7754118 |  0.036230413 | 17q |\n",
       "| 84 | BT127_L | BT127_L_C2 | UBAP2         | 0.0248783207 | 0.0285688506 | 0.8230222 | 1.1650206 |  0.156651355 | 9p  |\n",
       "| 85 | BT127_L | BT127_L_C2 | MTRF1L        | 0.0069650647 | 0.0083711952 | 0.8213945 | 1.2845756 |           NA | 6q  |\n",
       "| 86 | BT127_L | BT127_L_C2 | ARHGEF40      | 0.0022978068 | 0.0029058538 | 0.8204136 | 1.0241372 |           NA | 14q |\n",
       "| 87 | BT127_L | BT127_L_C2 | TTC19         | 0.0020268215 | 0.0025787398 | 0.8180036 | 1.7552567 |  0.009959353 | 17p |\n",
       "| 88 | BT127_L | BT127_L_C2 | ZCCHC11       | 0.0142654233 | 0.0167679605 | 0.8137628 | 1.1862098 | -0.057969491 | 1p  |\n",
       "| 89 | BT127_L | BT127_L_C2 | ETV5          | 0.0074094320 | 0.0088889403 | 0.8131091 | 1.4518420 |           NA | 3q  |\n",
       "| 90 | BT127_L | BT127_L_C2 | RNF24         | 0.0137953255 | 0.0162372781 | 0.8054343 | 1.4305563 |           NA | 20p |\n",
       "| 91 | BT127_L | BT127_L_C2 | USP8          | 0.0023818702 | 0.0030078009 | 0.8040516 | 1.7738821 | -0.034481539 | 15q |\n",
       "| 92 | BT127_L | BT127_L_C2 | GCC2          | 0.0158399686 | 0.0185686729 | 0.7996520 | 0.9000918 |  0.003456374 | 2q  |\n",
       "| 93 | BT127_L | BT127_L_C2 | ZNF608        | 0.0208884357 | 0.0242102291 | 0.7981137 | 0.6113865 | -0.085944217 | 5q  |\n",
       "| 94 | BT127_L | BT127_L_C2 | TMEM80        | 0.0032935609 | 0.0040899867 | 0.7947220 | 0.8104632 |           NA | 11p |\n",
       "| 95 | BT127_L | BT127_L_C2 | LUC7L         | 0.0057255684 | 0.0069404446 | 0.7926702 | 0.9593690 |           NA | 16p |\n",
       "| 96 | BT127_L | BT127_L_C2 | OSGEP         | 0.0351126347 | 0.0397973614 | 0.7917373 | 0.6760692 |           NA | 14q |\n",
       "| 97 | BT127_L | BT127_L_C2 | RP11-12G12.7  | 0.0194523324 | 0.0226058306 | 0.7839369 | 0.5528538 |           NA | 13q |\n",
       "| 98 | BT127_L | BT127_L_C2 | RP11-315A16.1 | 0.0020810018 | 0.0026451014 | 0.7837572 | 1.2661045 |           NA | 5p  |\n",
       "| 99 | BT127_L | BT127_L_C2 | DDX17         | 0.0012097110 | 0.0015751226 | 0.7719059 | 2.8514899 | -0.078594571 | 22q |\n",
       "| 100 | BT127_L | BT127_L_C2 | SPATA13       | 0.0265614683 | 0.0304282320 | 0.7709214 | 0.9387493 |           NA | 13q |\n",
       "\n"
      ],
      "text/plain": [
       "    Sample  Cluster    Gene          pValue       FDR          logFC    \n",
       "1   BT127_L BT127_L_C1 RRN3          1.141980e-04 2.089783e-04 2.663890 \n",
       "2   BT127_L BT127_L_C1 AC018647.3    1.634589e-05 3.445490e-05 2.621798 \n",
       "3   BT127_L BT127_L_C1 URB1-AS1      3.916856e-06 9.095238e-06 2.496798 \n",
       "4   BT127_L BT127_L_C1 CHRDL1        2.031436e-04 3.555372e-04 2.451286 \n",
       "5   BT127_L BT127_L_C1 AC093323.3    1.283159e-05 2.742872e-05 2.313600 \n",
       "6   BT127_L BT127_L_C1 CHST8         8.040535e-05 1.510856e-04 2.291269 \n",
       "7   BT127_L BT127_L_C1 GSC           1.738014e-04 3.073706e-04 2.287583 \n",
       "8   BT127_L BT127_L_C1 DHX32         5.355136e-05 1.036415e-04 2.236207 \n",
       "9   BT127_L BT127_L_C1 CTC-524C5.2   3.933531e-04 6.521635e-04 2.160250 \n",
       "10  BT127_L BT127_L_C1 LYSMD2        2.962125e-05 5.995295e-05 2.159908 \n",
       "11  BT127_L BT127_L_C1 PPCS          4.424366e-06 1.019719e-05 2.144887 \n",
       "12  BT127_L BT127_L_C1 GEMIN8        1.058026e-04 1.949603e-04 2.117610 \n",
       "13  BT127_L BT127_L_C1 GALNT18       3.791721e-05 7.548880e-05 2.049208 \n",
       "14  BT127_L BT127_L_C1 SP100         2.132961e-03 3.064300e-03 2.043260 \n",
       "15  BT127_L BT127_L_C1 RNF14         1.212810e-04 2.207433e-04 2.008674 \n",
       "16  BT127_L BT127_L_C1 PCGF3         2.859443e-05 5.798531e-05 1.993511 \n",
       "17  BT127_L BT127_L_C1 FEM1B         1.054614e-05 2.281808e-05 1.991905 \n",
       "18  BT127_L BT127_L_C1 FAHD2B        1.092825e-05 2.361163e-05 1.990485 \n",
       "19  BT127_L BT127_L_C1 GCFC2         1.022839e-04 1.888515e-04 1.988276 \n",
       "20  BT127_L BT127_L_C1 DHX16         3.240203e-04 5.477293e-04 1.949635 \n",
       "21  BT127_L BT127_L_C1 TMEM57        1.996618e-04 3.496083e-04 1.947608 \n",
       "22  BT127_L BT127_L_C1 IL13RA1       2.081028e-05 4.314269e-05 1.943249 \n",
       "23  BT127_L BT127_L_C1 DLAT          1.593590e-04 2.841214e-04 1.943047 \n",
       "24  BT127_L BT127_L_C1 PPP2R5A       1.508128e-03 2.230060e-03 1.941249 \n",
       "25  BT127_L BT127_L_C1 NUFIP1        1.323405e-04 2.394641e-04 1.912151 \n",
       "26  BT127_L BT127_L_C1 LYRM1         5.230320e-06 1.188505e-05 1.904049 \n",
       "27  BT127_L BT127_L_C1 PPIC          1.312273e-06 3.255911e-06 1.898418 \n",
       "28  BT127_L BT127_L_C1 GLI3          4.053668e-06 9.389439e-06 1.894549 \n",
       "29  BT127_L BT127_L_C1 ZNF275        5.758687e-04 9.282398e-04 1.889367 \n",
       "30  BT127_L BT127_L_C1 C11orf74      4.495435e-05 8.826161e-05 1.873814 \n",
       "⋮   ⋮       ⋮          ⋮             ⋮            ⋮            ⋮        \n",
       "71  BT127_L BT127_L_C2 SPOCD1        0.0363500196 0.0411019128 1.0181280\n",
       "72  BT127_L BT127_L_C2 GPATCH2       0.0235254894 0.0270767250 0.9413863\n",
       "73  BT127_L BT127_L_C2 IRF3          0.0251020924 0.0288068529 0.9276267\n",
       "74  BT127_L BT127_L_C2 FAM212B       0.0084967293 0.0101537758 0.9242601\n",
       "75  BT127_L BT127_L_C2 CEP68         0.0432831826 0.0487308292 0.8949364\n",
       "76  BT127_L BT127_L_C2 RNMT          0.0271143584 0.0310344351 0.8877371\n",
       "77  BT127_L BT127_L_C2 WDR60         0.0005500164 0.0007462369 0.8725421\n",
       "78  BT127_L BT127_L_C2 COMMD2        0.0326672068 0.0371624985 0.8696125\n",
       "79  BT127_L BT127_L_C2 SUPT20H       0.0333507404 0.0378906696 0.8554135\n",
       "80  BT127_L BT127_L_C2 SPG7          0.0241786541 0.0278019988 0.8536885\n",
       "81  BT127_L BT127_L_C2 ZNF638        0.0113562761 0.0134481541 0.8353357\n",
       "82  BT127_L BT127_L_C2 SPSB3         0.0064773859 0.0078083760 0.8321711\n",
       "83  BT127_L BT127_L_C2 RUNDC1        0.0344639688 0.0390960218 0.8232739\n",
       "84  BT127_L BT127_L_C2 UBAP2         0.0248783207 0.0285688506 0.8230222\n",
       "85  BT127_L BT127_L_C2 MTRF1L        0.0069650647 0.0083711952 0.8213945\n",
       "86  BT127_L BT127_L_C2 ARHGEF40      0.0022978068 0.0029058538 0.8204136\n",
       "87  BT127_L BT127_L_C2 TTC19         0.0020268215 0.0025787398 0.8180036\n",
       "88  BT127_L BT127_L_C2 ZCCHC11       0.0142654233 0.0167679605 0.8137628\n",
       "89  BT127_L BT127_L_C2 ETV5          0.0074094320 0.0088889403 0.8131091\n",
       "90  BT127_L BT127_L_C2 RNF24         0.0137953255 0.0162372781 0.8054343\n",
       "91  BT127_L BT127_L_C2 USP8          0.0023818702 0.0030078009 0.8040516\n",
       "92  BT127_L BT127_L_C2 GCC2          0.0158399686 0.0185686729 0.7996520\n",
       "93  BT127_L BT127_L_C2 ZNF608        0.0208884357 0.0242102291 0.7981137\n",
       "94  BT127_L BT127_L_C2 TMEM80        0.0032935609 0.0040899867 0.7947220\n",
       "95  BT127_L BT127_L_C2 LUC7L         0.0057255684 0.0069404446 0.7926702\n",
       "96  BT127_L BT127_L_C2 OSGEP         0.0351126347 0.0397973614 0.7917373\n",
       "97  BT127_L BT127_L_C2 RP11-12G12.7  0.0194523324 0.0226058306 0.7839369\n",
       "98  BT127_L BT127_L_C2 RP11-315A16.1 0.0020810018 0.0026451014 0.7837572\n",
       "99  BT127_L BT127_L_C2 DDX17         0.0012097110 0.0015751226 0.7719059\n",
       "100 BT127_L BT127_L_C2 SPATA13       0.0265614683 0.0304282320 0.7709214\n",
       "    AverageExpression AverageCNV   ChromosomeArm\n",
       "1   0.1500973         -0.03147051  16p          \n",
       "2   0.1284946                  NA  7p           \n",
       "3   0.1441513                  NA  21q          \n",
       "4   0.1632105                  NA  NA           \n",
       "5   0.1389256                  NA  4p           \n",
       "6   0.1695806         -0.15921131  19q          \n",
       "7   0.1251451                  NA  14q          \n",
       "8   0.1860388                  NA  10q          \n",
       "9   0.1631163          0.04121195  17p          \n",
       "10  0.1495586         -0.04881743  15q          \n",
       "11  0.1519406         -0.02933458  1p           \n",
       "12  0.1343353                  NA  NA           \n",
       "13  0.1973936                  NA  11p          \n",
       "14  0.1355120                  NA  2q           \n",
       "15  0.1457754          0.03722534  5q           \n",
       "16  0.1737513                  NA  4p           \n",
       "17  0.1806050          0.04625653  15q          \n",
       "18  0.1261587          0.00295866  2q           \n",
       "19  0.1377648          0.02222636  2p           \n",
       "20  0.1615955         -0.03855663  6p           \n",
       "21  0.2151099         -0.04517572  1p           \n",
       "22  0.2019713                  NA  NA           \n",
       "23  0.1512141         -0.09955710  11q          \n",
       "24  0.1438949         -0.14457515  1q           \n",
       "25  0.1614804         -0.17893820  13q          \n",
       "26  0.1788678         -0.04793318  16p          \n",
       "27  0.2202210         -0.09788059  5q           \n",
       "28  0.2471875          0.18164321  7p           \n",
       "29  0.1158652                  NA  NA           \n",
       "30  0.1631541          0.05109992  11p          \n",
       "⋮   ⋮                 ⋮            ⋮            \n",
       "71  4.8635919         -0.084741954 1p           \n",
       "72  0.8624646         -0.109357895 1q           \n",
       "73  0.9723036         -0.033267586 19q          \n",
       "74  1.5937400          0.013475855 1p           \n",
       "75  0.6540800         -0.050904239 2p           \n",
       "76  1.4250282                   NA 18p          \n",
       "77  1.2624348                   NA 7q           \n",
       "78  1.1341036         -0.037434017 3q           \n",
       "79  0.5170059                   NA 13q          \n",
       "80  1.3417498                   NA 16q          \n",
       "81  1.2247719          0.013349413 2p           \n",
       "82  0.7490102                   NA 16p          \n",
       "83  0.7754118          0.036230413 17q          \n",
       "84  1.1650206          0.156651355 9p           \n",
       "85  1.2845756                   NA 6q           \n",
       "86  1.0241372                   NA 14q          \n",
       "87  1.7552567          0.009959353 17p          \n",
       "88  1.1862098         -0.057969491 1p           \n",
       "89  1.4518420                   NA 3q           \n",
       "90  1.4305563                   NA 20p          \n",
       "91  1.7738821         -0.034481539 15q          \n",
       "92  0.9000918          0.003456374 2q           \n",
       "93  0.6113865         -0.085944217 5q           \n",
       "94  0.8104632                   NA 11p          \n",
       "95  0.9593690                   NA 16p          \n",
       "96  0.6760692                   NA 14q          \n",
       "97  0.5528538                   NA 13q          \n",
       "98  1.2661045                   NA 5p           \n",
       "99  2.8514899         -0.078594571 22q          \n",
       "100 0.9387493                   NA 13q          "
      ]
     },
     "metadata": {},
     "output_type": "display_data"
    }
   ],
   "source": [
    "marker.sub <- markergenes[markergenes$Sample == samples[i], ]\n",
    "marker.sub"
   ]
  },
  {
   "cell_type": "code",
   "execution_count": 97,
   "metadata": {
    "scrolled": true
   },
   "outputs": [
    {
     "data": {
      "text/html": [
       "100"
      ],
      "text/latex": [
       "100"
      ],
      "text/markdown": [
       "100"
      ],
      "text/plain": [
       "[1] 100"
      ]
     },
     "metadata": {},
     "output_type": "display_data"
    },
    {
     "data": {
      "text/html": [
       "0"
      ],
      "text/latex": [
       "0"
      ],
      "text/markdown": [
       "0"
      ],
      "text/plain": [
       "[1] 0"
      ]
     },
     "metadata": {},
     "output_type": "display_data"
    },
    {
     "data": {
      "text/html": [
       "100"
      ],
      "text/latex": [
       "100"
      ],
      "text/markdown": [
       "100"
      ],
      "text/plain": [
       "[1] 100"
      ]
     },
     "metadata": {},
     "output_type": "display_data"
    }
   ],
   "source": [
    "### how many in variable regions\n",
    "yes <- sum(marker.sub$ChromosomeArm %in% var.reg == TRUE)\n",
    "no <- sum(marker.sub$ChromosomeArm %in% var.reg == FALSE)\n",
    "total <- nrow(marker.sub)\n",
    "\n",
    "### how many non marker genes in regions\n"
   ]
  },
  {
   "cell_type": "code",
   "execution_count": 101,
   "metadata": {},
   "outputs": [
    {
     "data": {
      "text/html": [
       "0"
      ],
      "text/latex": [
       "0"
      ],
      "text/markdown": [
       "0"
      ],
      "text/plain": [
       "[1] 0"
      ]
     },
     "metadata": {},
     "output_type": "display_data"
    }
   ],
   "source": [
    "### prop.test\n",
    "\n"
   ]
  },
  {
   "cell_type": "code",
   "execution_count": null,
   "metadata": {
    "collapsed": true
   },
   "outputs": [],
   "source": []
  }
 ],
 "metadata": {
  "kernelspec": {
   "display_name": "R",
   "language": "R",
   "name": "ir"
  },
  "language_info": {
   "codemirror_mode": "r",
   "file_extension": ".r",
   "mimetype": "text/x-r-source",
   "name": "R",
   "pygments_lexer": "r",
   "version": "3.6.3"
  }
 },
 "nbformat": 4,
 "nbformat_minor": 2
}
