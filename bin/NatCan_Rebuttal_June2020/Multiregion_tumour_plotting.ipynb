{
 "cells": [
  {
   "cell_type": "markdown",
   "metadata": {},
   "source": [
    "---\n",
    "# Plot multiregional data\n",
    "---\n",
    "\n",
    "...to demonstrate that there is not batch effect\n",
    "\n",
    "/cluster/projects/pughlab/projects/BTSCs_scRNAseq/Manuscript_G607removed/NatCan_Rebuttal/Multiregion_plotting"
   ]
  },
  {
   "cell_type": "code",
   "execution_count": 26,
   "metadata": {
    "collapsed": true
   },
   "outputs": [],
   "source": [
    "library(ggplot2)\n",
    "library(ggpubr)\n",
    "setwd(\"~/Desktop/H4H/pughlab/projects/BTSCs_scRNAseq/Manuscript_G607removed/NatCan_Rebuttal/Multiregion_plotting/\")"
   ]
  },
  {
   "cell_type": "code",
   "execution_count": 20,
   "metadata": {
    "collapsed": true
   },
   "outputs": [],
   "source": [
    "load(\"SU2C_TumourCellsOnly_tSNE_UMAP.Rdata\")"
   ]
  },
  {
   "cell_type": "code",
   "execution_count": 21,
   "metadata": {},
   "outputs": [
    {
     "data": {
      "text/html": [
       "<table>\n",
       "<caption>A data.frame: 6 × 14</caption>\n",
       "<thead>\n",
       "\t<tr><th></th><th scope=col>nGene</th><th scope=col>nUMI</th><th scope=col>SampleID</th><th scope=col>PatientID</th><th scope=col>SampleType</th><th scope=col>Pathology</th><th scope=col>Stage</th><th scope=col>CellType</th><th scope=col>orig.ident</th><th scope=col>percent.mito</th><th scope=col>UMAP1</th><th scope=col>UMAP2</th><th scope=col>tSNE_1</th><th scope=col>tSNE_2</th></tr>\n",
       "\t<tr><th></th><th scope=col>&lt;dbl&gt;</th><th scope=col>&lt;dbl&gt;</th><th scope=col>&lt;fct&gt;</th><th scope=col>&lt;fct&gt;</th><th scope=col>&lt;fct&gt;</th><th scope=col>&lt;fct&gt;</th><th scope=col>&lt;fct&gt;</th><th scope=col>&lt;chr&gt;</th><th scope=col>&lt;fct&gt;</th><th scope=col>&lt;dbl&gt;</th><th scope=col>&lt;dbl&gt;</th><th scope=col>&lt;dbl&gt;</th><th scope=col>&lt;dbl&gt;</th><th scope=col>&lt;dbl&gt;</th></tr>\n",
       "</thead>\n",
       "<tbody>\n",
       "\t<tr><th scope=row>G1003-A_T_AAACCTGAGTATCGAA</th><td>2351</td><td> 6651</td><td>G1003-A_T</td><td>G1003</td><td>Tumour</td><td>GLIOBLASTOMA (GRADE IV)</td><td>PRIMARY</td><td>Tumour</td><td>G1003-A</td><td>0.03202526</td><td> 3.6809216</td><td>-4.554072</td><td>  4.891892</td><td>31.663005</td></tr>\n",
       "\t<tr><th scope=row>G1003-A_T_AAACCTGCAGTCCTTC</th><td>3601</td><td>14555</td><td>G1003-A_T</td><td>G1003</td><td>Tumour</td><td>GLIOBLASTOMA (GRADE IV)</td><td>PRIMARY</td><td>Tumour</td><td>G1003-A</td><td>0.04136036</td><td> 4.0233397</td><td> 2.071832</td><td>-32.409796</td><td>-7.523589</td></tr>\n",
       "\t<tr><th scope=row>G1003-A_T_AAACCTGTCAGTTTGG</th><td>3888</td><td>13083</td><td>G1003-A_T</td><td>G1003</td><td>Tumour</td><td>GLIOBLASTOMA (GRADE IV)</td><td>PRIMARY</td><td>Tumour</td><td>G1003-A</td><td>0.09149278</td><td>-0.3066602</td><td>-3.168972</td><td> 17.017831</td><td>14.002138</td></tr>\n",
       "\t<tr><th scope=row>G1003-A_T_AAACCTGTCGGAATCT</th><td>3086</td><td> 8865</td><td>G1003-A_T</td><td>G1003</td><td>Tumour</td><td>GLIOBLASTOMA (GRADE IV)</td><td>PRIMARY</td><td>Tumour</td><td>G1003-A</td><td>0.10908065</td><td> 6.7005978</td><td>-1.569443</td><td>-20.488795</td><td>26.963288</td></tr>\n",
       "\t<tr><th scope=row>G1003-A_T_AAACCTGTCGTTTAGG</th><td>3198</td><td> 9008</td><td>G1003-A_T</td><td>G1003</td><td>Tumour</td><td>GLIOBLASTOMA (GRADE IV)</td><td>PRIMARY</td><td>Tumour</td><td>G1003-A</td><td>0.08781083</td><td> 8.0476875</td><td>-3.459314</td><td>-20.352799</td><td>36.003442</td></tr>\n",
       "\t<tr><th scope=row>G1003-A_T_AAACGGGAGAAACCGC</th><td>2492</td><td> 5486</td><td>G1003-A_T</td><td>G1003</td><td>Tumour</td><td>GLIOBLASTOMA (GRADE IV)</td><td>PRIMARY</td><td>Tumour</td><td>G1003-A</td><td>0.06689756</td><td> 7.7452693</td><td>-3.006396</td><td>-17.472060</td><td>37.074894</td></tr>\n",
       "</tbody>\n",
       "</table>\n"
      ],
      "text/latex": [
       "A data.frame: 6 × 14\n",
       "\\begin{tabular}{r|llllllllllllll}\n",
       "  & nGene & nUMI & SampleID & PatientID & SampleType & Pathology & Stage & CellType & orig.ident & percent.mito & UMAP1 & UMAP2 & tSNE\\_1 & tSNE\\_2\\\\\n",
       "  & <dbl> & <dbl> & <fct> & <fct> & <fct> & <fct> & <fct> & <chr> & <fct> & <dbl> & <dbl> & <dbl> & <dbl> & <dbl>\\\\\n",
       "\\hline\n",
       "\tG1003-A\\_T\\_AAACCTGAGTATCGAA & 2351 &  6651 & G1003-A\\_T & G1003 & Tumour & GLIOBLASTOMA (GRADE IV) & PRIMARY & Tumour & G1003-A & 0.03202526 &  3.6809216 & -4.554072 &   4.891892 & 31.663005\\\\\n",
       "\tG1003-A\\_T\\_AAACCTGCAGTCCTTC & 3601 & 14555 & G1003-A\\_T & G1003 & Tumour & GLIOBLASTOMA (GRADE IV) & PRIMARY & Tumour & G1003-A & 0.04136036 &  4.0233397 &  2.071832 & -32.409796 & -7.523589\\\\\n",
       "\tG1003-A\\_T\\_AAACCTGTCAGTTTGG & 3888 & 13083 & G1003-A\\_T & G1003 & Tumour & GLIOBLASTOMA (GRADE IV) & PRIMARY & Tumour & G1003-A & 0.09149278 & -0.3066602 & -3.168972 &  17.017831 & 14.002138\\\\\n",
       "\tG1003-A\\_T\\_AAACCTGTCGGAATCT & 3086 &  8865 & G1003-A\\_T & G1003 & Tumour & GLIOBLASTOMA (GRADE IV) & PRIMARY & Tumour & G1003-A & 0.10908065 &  6.7005978 & -1.569443 & -20.488795 & 26.963288\\\\\n",
       "\tG1003-A\\_T\\_AAACCTGTCGTTTAGG & 3198 &  9008 & G1003-A\\_T & G1003 & Tumour & GLIOBLASTOMA (GRADE IV) & PRIMARY & Tumour & G1003-A & 0.08781083 &  8.0476875 & -3.459314 & -20.352799 & 36.003442\\\\\n",
       "\tG1003-A\\_T\\_AAACGGGAGAAACCGC & 2492 &  5486 & G1003-A\\_T & G1003 & Tumour & GLIOBLASTOMA (GRADE IV) & PRIMARY & Tumour & G1003-A & 0.06689756 &  7.7452693 & -3.006396 & -17.472060 & 37.074894\\\\\n",
       "\\end{tabular}\n"
      ],
      "text/markdown": [
       "\n",
       "A data.frame: 6 × 14\n",
       "\n",
       "| <!--/--> | nGene &lt;dbl&gt; | nUMI &lt;dbl&gt; | SampleID &lt;fct&gt; | PatientID &lt;fct&gt; | SampleType &lt;fct&gt; | Pathology &lt;fct&gt; | Stage &lt;fct&gt; | CellType &lt;chr&gt; | orig.ident &lt;fct&gt; | percent.mito &lt;dbl&gt; | UMAP1 &lt;dbl&gt; | UMAP2 &lt;dbl&gt; | tSNE_1 &lt;dbl&gt; | tSNE_2 &lt;dbl&gt; |\n",
       "|---|---|---|---|---|---|---|---|---|---|---|---|---|---|---|\n",
       "| G1003-A_T_AAACCTGAGTATCGAA | 2351 |  6651 | G1003-A_T | G1003 | Tumour | GLIOBLASTOMA (GRADE IV) | PRIMARY | Tumour | G1003-A | 0.03202526 |  3.6809216 | -4.554072 |   4.891892 | 31.663005 |\n",
       "| G1003-A_T_AAACCTGCAGTCCTTC | 3601 | 14555 | G1003-A_T | G1003 | Tumour | GLIOBLASTOMA (GRADE IV) | PRIMARY | Tumour | G1003-A | 0.04136036 |  4.0233397 |  2.071832 | -32.409796 | -7.523589 |\n",
       "| G1003-A_T_AAACCTGTCAGTTTGG | 3888 | 13083 | G1003-A_T | G1003 | Tumour | GLIOBLASTOMA (GRADE IV) | PRIMARY | Tumour | G1003-A | 0.09149278 | -0.3066602 | -3.168972 |  17.017831 | 14.002138 |\n",
       "| G1003-A_T_AAACCTGTCGGAATCT | 3086 |  8865 | G1003-A_T | G1003 | Tumour | GLIOBLASTOMA (GRADE IV) | PRIMARY | Tumour | G1003-A | 0.10908065 |  6.7005978 | -1.569443 | -20.488795 | 26.963288 |\n",
       "| G1003-A_T_AAACCTGTCGTTTAGG | 3198 |  9008 | G1003-A_T | G1003 | Tumour | GLIOBLASTOMA (GRADE IV) | PRIMARY | Tumour | G1003-A | 0.08781083 |  8.0476875 | -3.459314 | -20.352799 | 36.003442 |\n",
       "| G1003-A_T_AAACGGGAGAAACCGC | 2492 |  5486 | G1003-A_T | G1003 | Tumour | GLIOBLASTOMA (GRADE IV) | PRIMARY | Tumour | G1003-A | 0.06689756 |  7.7452693 | -3.006396 | -17.472060 | 37.074894 |\n",
       "\n"
      ],
      "text/plain": [
       "                           nGene nUMI  SampleID  PatientID SampleType\n",
       "G1003-A_T_AAACCTGAGTATCGAA 2351   6651 G1003-A_T G1003     Tumour    \n",
       "G1003-A_T_AAACCTGCAGTCCTTC 3601  14555 G1003-A_T G1003     Tumour    \n",
       "G1003-A_T_AAACCTGTCAGTTTGG 3888  13083 G1003-A_T G1003     Tumour    \n",
       "G1003-A_T_AAACCTGTCGGAATCT 3086   8865 G1003-A_T G1003     Tumour    \n",
       "G1003-A_T_AAACCTGTCGTTTAGG 3198   9008 G1003-A_T G1003     Tumour    \n",
       "G1003-A_T_AAACGGGAGAAACCGC 2492   5486 G1003-A_T G1003     Tumour    \n",
       "                           Pathology               Stage   CellType orig.ident\n",
       "G1003-A_T_AAACCTGAGTATCGAA GLIOBLASTOMA (GRADE IV) PRIMARY Tumour   G1003-A   \n",
       "G1003-A_T_AAACCTGCAGTCCTTC GLIOBLASTOMA (GRADE IV) PRIMARY Tumour   G1003-A   \n",
       "G1003-A_T_AAACCTGTCAGTTTGG GLIOBLASTOMA (GRADE IV) PRIMARY Tumour   G1003-A   \n",
       "G1003-A_T_AAACCTGTCGGAATCT GLIOBLASTOMA (GRADE IV) PRIMARY Tumour   G1003-A   \n",
       "G1003-A_T_AAACCTGTCGTTTAGG GLIOBLASTOMA (GRADE IV) PRIMARY Tumour   G1003-A   \n",
       "G1003-A_T_AAACGGGAGAAACCGC GLIOBLASTOMA (GRADE IV) PRIMARY Tumour   G1003-A   \n",
       "                           percent.mito UMAP1      UMAP2     tSNE_1    \n",
       "G1003-A_T_AAACCTGAGTATCGAA 0.03202526    3.6809216 -4.554072   4.891892\n",
       "G1003-A_T_AAACCTGCAGTCCTTC 0.04136036    4.0233397  2.071832 -32.409796\n",
       "G1003-A_T_AAACCTGTCAGTTTGG 0.09149278   -0.3066602 -3.168972  17.017831\n",
       "G1003-A_T_AAACCTGTCGGAATCT 0.10908065    6.7005978 -1.569443 -20.488795\n",
       "G1003-A_T_AAACCTGTCGTTTAGG 0.08781083    8.0476875 -3.459314 -20.352799\n",
       "G1003-A_T_AAACGGGAGAAACCGC 0.06689756    7.7452693 -3.006396 -17.472060\n",
       "                           tSNE_2   \n",
       "G1003-A_T_AAACCTGAGTATCGAA 31.663005\n",
       "G1003-A_T_AAACCTGCAGTCCTTC -7.523589\n",
       "G1003-A_T_AAACCTGTCAGTTTGG 14.002138\n",
       "G1003-A_T_AAACCTGTCGGAATCT 26.963288\n",
       "G1003-A_T_AAACCTGTCGTTTAGG 36.003442\n",
       "G1003-A_T_AAACGGGAGAAACCGC 37.074894"
      ]
     },
     "metadata": {},
     "output_type": "display_data"
    }
   ],
   "source": [
    "head(dimReduc.dat)"
   ]
  },
  {
   "cell_type": "code",
   "execution_count": 32,
   "metadata": {
    "collapsed": true
   },
   "outputs": [],
   "source": [
    "### load tumour only data\n",
    "\n",
    "patient.cols <- c(\"#1b9e77\", \n",
    "                  \"#d95f02\",\n",
    "                  \"#7570b3\",\n",
    "                  \"#e7298a\",\n",
    "                  \"#66a61e\",\n",
    "                  \"#e6ab02\",\n",
    "                  \"#666666\")\n",
    "\n",
    "number_ticks <- function(n) {function(limits) pretty(limits, n)}\n",
    "\n",
    "\n",
    "sample_UMAP <- ggplot(dimReduc.dat, aes(x=UMAP1, y=UMAP2, color=PatientID)) + \n",
    "                   geom_point(alpha = 0.55, size = 0.8, pch = 16) +  \n",
    "                   labs(x = \"UMAP 1\", y = \"UMAP 2\") +\n",
    "                   scale_colour_manual(values = patient.cols) + \n",
    "                   theme_bw() + \n",
    "                   theme(axis.text.x = element_blank(), axis.text.y = element_blank(), \n",
    "                         axis.ticks = element_blank(),\n",
    "                        panel.border = element_rect(linetype = \"solid\", fill = NA, size = 1),\n",
    "                        panel.grid.major = element_blank(), panel.grid.minor = element_blank(),\n",
    "                        panel.background = element_blank())  +\n",
    "                    guides(colour = guide_legend(override.aes = list(size=4, alpha = 1)))\n",
    "\n",
    "G1003 <- dimReduc.dat[grep(\"G1003\", dimReduc.dat$SampleID), ]                    \n",
    "G1003 <- ggplot(G1003, aes(x=UMAP1, y=UMAP2, color=SampleID)) + \n",
    "                   geom_point(alpha = 0.3, size = 1, pch = 16) +  \n",
    "                   labs(x = \"UMAP1\", y = \"UMAP2\") +\n",
    "                   #scale_colour_manual(values = patient.cols) + \n",
    "                   theme_bw() + \n",
    "                   theme(axis.text.x = element_blank(), axis.text.y = element_blank(), \n",
    "                         axis.ticks = element_blank(),\n",
    "                        panel.border = element_rect(linetype = \"solid\", fill = NA, size = 1),\n",
    "                        panel.grid.major = element_blank(), panel.grid.minor = element_blank(),\n",
    "                        panel.background = element_blank())  +\n",
    "                    guides(colour = guide_legend(override.aes = list(size=4, alpha = 1))) + \n",
    "                             ggtitle(\"G1003_T (4 regions)\")\n",
    "                             \n",
    "G910 <- dimReduc.dat[grep(\"G910\", dimReduc.dat$SampleID), ]                    \n",
    "G910<- ggplot(G910, aes(x=UMAP1, y=UMAP2, color=SampleID)) + \n",
    "                   geom_point(alpha = 0.3, size = 1, pch = 16) +  \n",
    "                   labs(x = \"UMAP1\", y = \"UMAP2\") +\n",
    "                   #scale_colour_manual(values = patient.cols) + \n",
    "                   theme_bw() + \n",
    "                   theme(axis.text.x = element_blank(), axis.text.y = element_blank(), \n",
    "                         axis.ticks = element_blank(),\n",
    "                        panel.border = element_rect(linetype = \"solid\", fill = NA, size = 1),\n",
    "                        panel.grid.major = element_blank(), panel.grid.minor = element_blank(),\n",
    "                        panel.background = element_blank())  +\n",
    "                    guides(colour = guide_legend(override.aes = list(size=4, alpha = 1))) + \n",
    "                             ggtitle(\"G910_T (5 regions)\")\n",
    "\n",
    "G945 <- dimReduc.dat[grep(\"G945\", dimReduc.dat$SampleID), ]                    \n",
    "G945 <- ggplot(G945, aes(x=UMAP1, y=UMAP2, color=SampleID)) + \n",
    "                   geom_point(alpha = 0.3, size = 1, pch = 16) +  \n",
    "                   labs(x = \"UMAP1\", y = \"UMAP2\") +\n",
    "                   #scale_colour_manual(values = patient.cols) + \n",
    "                   theme_bw() + \n",
    "                   theme(axis.text.x = element_blank(), axis.text.y = element_blank(), \n",
    "                         axis.ticks = element_blank(),\n",
    "                        panel.border = element_rect(linetype = \"solid\", fill = NA, size = 1),\n",
    "                        panel.grid.major = element_blank(), panel.grid.minor = element_blank(),\n",
    "                        panel.background = element_blank())  +\n",
    "                    guides(colour = guide_legend(override.aes = list(size=4, alpha = 1))) + \n",
    "                             ggtitle(\"G945_T (3 regions)\")\n",
    "                             \n",
    "G946 <- dimReduc.dat[grep(\"G946\", dimReduc.dat$SampleID), ]                    \n",
    "G946 <- ggplot(G946, aes(x=UMAP1, y=UMAP2, color=SampleID)) + \n",
    "                   geom_point(alpha = 0.3, size = 1, pch = 16) +  \n",
    "                   labs(x = \"UMAP1\", y = \"UMAP2\") +\n",
    "                   #scale_colour_manual(values = patient.cols) + \n",
    "                   theme_bw() + \n",
    "                   theme(axis.text.x = element_blank(), axis.text.y = element_blank(), \n",
    "                         axis.ticks = element_blank(),\n",
    "                        panel.border = element_rect(linetype = \"solid\", fill = NA, size = 1),\n",
    "                        panel.grid.major = element_blank(), panel.grid.minor = element_blank(),\n",
    "                        panel.background = element_blank())  +\n",
    "                    guides(colour = guide_legend(override.aes = list(size=4, alpha = 1))) + \n",
    "                             ggtitle(\"G946_T (3 regions)\")\n",
    "                             \n",
    "                             \n",
    "                                                          \n",
    "G967 <- dimReduc.dat[grep(\"G967\", dimReduc.dat$SampleID), ]                    \n",
    "G967 <- ggplot(G967, aes(x=UMAP1, y=UMAP2, color=SampleID)) + \n",
    "                   geom_point(alpha = 0.3, size = 1, pch = 16) +  \n",
    "                   labs(x = \"UMAP1\", y = \"UMAP2\") +\n",
    "                   #scale_colour_manual(values = patient.cols) + \n",
    "                   theme_bw() + \n",
    "                   theme(axis.text.x = element_blank(), axis.text.y = element_blank(), \n",
    "                         axis.ticks = element_blank(),\n",
    "                        panel.border = element_rect(linetype = \"solid\", fill = NA, size = 1),\n",
    "                        panel.grid.major = element_blank(), panel.grid.minor = element_blank(),\n",
    "                        panel.background = element_blank())  +\n",
    "                    guides(colour = guide_legend(override.aes = list(size=4, alpha = 1))) + \n",
    "                             ggtitle(\"G967_T (3 regions)\")\n",
    "                             \n",
    "                             \n",
    "G983 <- dimReduc.dat[grep(\"G983\", dimReduc.dat$SampleID), ]                    \n",
    "G983 <- ggplot(G983, aes(x=UMAP1, y=UMAP2, color=SampleID)) + \n",
    "                   geom_point(alpha = 0.3     , size = 1, pch = 16) +  \n",
    "                   labs(x = \"UMAP1\", y = \"UMAP2\") +\n",
    "                   #scale_colour_manual(values = patient.cols) + \n",
    "                   theme_bw() + \n",
    "                   theme(axis.text.x = element_blank(), axis.text.y = element_blank(), \n",
    "                         axis.ticks = element_blank(),\n",
    "                        panel.border = element_rect(linetype = \"solid\", fill = NA, size = 1),\n",
    "                        panel.grid.major = element_blank(), panel.grid.minor = element_blank(),\n",
    "                        panel.background = element_blank())  +\n",
    "                    guides(colour = guide_legend(override.aes = list(size=4, alpha = 1))) + \n",
    "                             ggtitle(\"G983_T (3 regions)\")"
   ]
  },
  {
   "cell_type": "code",
   "execution_count": 33,
   "metadata": {},
   "outputs": [
    {
     "data": {
      "text/html": [
       "<strong>pdf:</strong> 2"
      ],
      "text/latex": [
       "\\textbf{pdf:} 2"
      ],
      "text/markdown": [
       "**pdf:** 2"
      ],
      "text/plain": [
       "pdf \n",
       "  2 "
      ]
     },
     "metadata": {},
     "output_type": "display_data"
    }
   ],
   "source": [
    "pdf(\"MultiRegion_GBM.pdf\", width = 12, height = 6)\n",
    "ggarrange(G1003, G910, G945, G946, G967, G983)\n",
    "dev.off()"
   ]
  },
  {
   "cell_type": "code",
   "execution_count": null,
   "metadata": {
    "collapsed": true
   },
   "outputs": [],
   "source": []
  },
  {
   "cell_type": "code",
   "execution_count": null,
   "metadata": {
    "collapsed": true
   },
   "outputs": [],
   "source": []
  },
  {
   "cell_type": "code",
   "execution_count": null,
   "metadata": {
    "collapsed": true
   },
   "outputs": [],
   "source": []
  },
  {
   "cell_type": "code",
   "execution_count": null,
   "metadata": {
    "collapsed": true
   },
   "outputs": [],
   "source": []
  },
  {
   "cell_type": "code",
   "execution_count": null,
   "metadata": {
    "collapsed": true
   },
   "outputs": [],
   "source": []
  },
  {
   "cell_type": "code",
   "execution_count": null,
   "metadata": {
    "collapsed": true
   },
   "outputs": [],
   "source": []
  }
 ],
 "metadata": {
  "kernelspec": {
   "display_name": "R",
   "language": "R",
   "name": "ir"
  },
  "language_info": {
   "codemirror_mode": "r",
   "file_extension": ".r",
   "mimetype": "text/x-r-source",
   "name": "R",
   "pygments_lexer": "r",
   "version": "3.6.3"
  }
 },
 "nbformat": 4,
 "nbformat_minor": 2
}
