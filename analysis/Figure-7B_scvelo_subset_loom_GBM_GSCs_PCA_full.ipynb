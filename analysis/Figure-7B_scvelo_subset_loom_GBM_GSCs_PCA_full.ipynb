{
 "cells": [
  {
   "cell_type": "code",
   "execution_count": 1,
   "metadata": {},
   "outputs": [
    {
     "name": "stderr",
     "output_type": "stream",
     "text": [
      "/home/owenwhitley/anaconda3/envs/scvelo_conda/lib/python3.8/site-packages/numba/np/ufunc/parallel.py:355: NumbaWarning: The TBB threading layer requires TBB version 2019.5 or later i.e., TBB_INTERFACE_VERSION >= 11005. Found TBB_INTERFACE_VERSION = 9002. The TBB threading layer is disabled.\n",
      "  warnings.warn(problem)\n"
     ]
    }
   ],
   "source": [
    "import loompy\n",
    "import os\n",
    "import pandas as pd\n",
    "import numpy as np\n",
    "import re\n",
    "import gc\n",
    "from matplotlib import pyplot as plt"
   ]
  },
  {
   "cell_type": "code",
   "execution_count": 2,
   "metadata": {},
   "outputs": [],
   "source": [
    "top_dir = \"/home/owenwhitley/projects/su2c_v2\"\n",
    "data_dir = os.path.join(top_dir, 'data/preprocessed/scRNA/velocyto_GBM_GSCs_split_by_sample_no_G800_L')\n",
    "merged_file = os.path.join(data_dir, 'GBM_GSCs_combined.loom')"
   ]
  },
  {
   "cell_type": "code",
   "execution_count": 3,
   "metadata": {},
   "outputs": [
    {
     "data": {
      "text/plain": [
       "(60675, 79862)"
      ]
     },
     "execution_count": 3,
     "metadata": {},
     "output_type": "execute_result"
    }
   ],
   "source": [
    "merged_con = loompy.connect(merged_file)\n",
    "merged_con.shape"
   ]
  },
  {
   "cell_type": "code",
   "execution_count": 4,
   "metadata": {},
   "outputs": [
    {
     "data": {
      "text/html": [
       "<div>\n",
       "<style scoped>\n",
       "    .dataframe tbody tr th:only-of-type {\n",
       "        vertical-align: middle;\n",
       "    }\n",
       "\n",
       "    .dataframe tbody tr th {\n",
       "        vertical-align: top;\n",
       "    }\n",
       "\n",
       "    .dataframe thead th {\n",
       "        text-align: right;\n",
       "    }\n",
       "</style>\n",
       "<table border=\"1\" class=\"dataframe\">\n",
       "  <thead>\n",
       "    <tr style=\"text-align: right;\">\n",
       "      <th></th>\n",
       "      <th>Unnamed: 0</th>\n",
       "      <th>nGene</th>\n",
       "      <th>nUMI</th>\n",
       "      <th>orig.ident</th>\n",
       "      <th>percent.mito</th>\n",
       "      <th>S.Score</th>\n",
       "      <th>G2M.Score</th>\n",
       "      <th>Phase</th>\n",
       "      <th>CC.Difference</th>\n",
       "      <th>Zhong_NPCs_upreg_AUC</th>\n",
       "      <th>...</th>\n",
       "      <th>Neftel_NPC2_AUC</th>\n",
       "      <th>Neftel_G1.S_AUC</th>\n",
       "      <th>Neftel_G2.M_AUC</th>\n",
       "      <th>Dev_IR_Diff</th>\n",
       "      <th>Stem_Astro_Diff</th>\n",
       "      <th>Dev_IR_Diff_zscore</th>\n",
       "      <th>Stem_Astro_Diff_zscore</th>\n",
       "      <th>PC1</th>\n",
       "      <th>PC2</th>\n",
       "      <th>unique_id</th>\n",
       "    </tr>\n",
       "  </thead>\n",
       "  <tbody>\n",
       "    <tr>\n",
       "      <th>0</th>\n",
       "      <td>BTSC_BT127_L_AAACCTGCACGGACAA</td>\n",
       "      <td>640</td>\n",
       "      <td>875</td>\n",
       "      <td>BTSC</td>\n",
       "      <td>0.043429</td>\n",
       "      <td>0.095786</td>\n",
       "      <td>0.073037</td>\n",
       "      <td>S</td>\n",
       "      <td>0.022749</td>\n",
       "      <td>0.106631</td>\n",
       "      <td>...</td>\n",
       "      <td>0.085013</td>\n",
       "      <td>0.120975</td>\n",
       "      <td>0.071752</td>\n",
       "      <td>0.014217</td>\n",
       "      <td>0.190099</td>\n",
       "      <td>1.190880</td>\n",
       "      <td>2.364037</td>\n",
       "      <td>-12.728937</td>\n",
       "      <td>-0.553863</td>\n",
       "      <td>BT127_L_AAACCTGCACGGACAA</td>\n",
       "    </tr>\n",
       "    <tr>\n",
       "      <th>1</th>\n",
       "      <td>BTSC_BT127_L_AAACCTGCATCCGGGT</td>\n",
       "      <td>1036</td>\n",
       "      <td>2408</td>\n",
       "      <td>BTSC</td>\n",
       "      <td>0.002076</td>\n",
       "      <td>0.053588</td>\n",
       "      <td>0.308728</td>\n",
       "      <td>G2M</td>\n",
       "      <td>-0.255140</td>\n",
       "      <td>0.193112</td>\n",
       "      <td>...</td>\n",
       "      <td>0.070254</td>\n",
       "      <td>0.109481</td>\n",
       "      <td>0.120565</td>\n",
       "      <td>-0.033552</td>\n",
       "      <td>0.087178</td>\n",
       "      <td>0.663390</td>\n",
       "      <td>0.532745</td>\n",
       "      <td>0.942554</td>\n",
       "      <td>1.607986</td>\n",
       "      <td>BT127_L_AAACCTGCATCCGGGT</td>\n",
       "    </tr>\n",
       "    <tr>\n",
       "      <th>2</th>\n",
       "      <td>BTSC_BT127_L_AAACCTGGTACAGTTC</td>\n",
       "      <td>3240</td>\n",
       "      <td>10058</td>\n",
       "      <td>BTSC</td>\n",
       "      <td>0.078047</td>\n",
       "      <td>0.211906</td>\n",
       "      <td>-0.220823</td>\n",
       "      <td>S</td>\n",
       "      <td>0.432729</td>\n",
       "      <td>0.109561</td>\n",
       "      <td>...</td>\n",
       "      <td>0.110740</td>\n",
       "      <td>0.048511</td>\n",
       "      <td>0.034879</td>\n",
       "      <td>-0.012893</td>\n",
       "      <td>0.056218</td>\n",
       "      <td>0.891514</td>\n",
       "      <td>-0.018122</td>\n",
       "      <td>4.223721</td>\n",
       "      <td>17.356634</td>\n",
       "      <td>BT127_L_AAACCTGGTACAGTTC</td>\n",
       "    </tr>\n",
       "    <tr>\n",
       "      <th>3</th>\n",
       "      <td>BTSC_BT127_L_AAACCTGTCTACGAGT</td>\n",
       "      <td>3337</td>\n",
       "      <td>10798</td>\n",
       "      <td>BTSC</td>\n",
       "      <td>0.061863</td>\n",
       "      <td>-0.132267</td>\n",
       "      <td>-0.204643</td>\n",
       "      <td>G1</td>\n",
       "      <td>0.072376</td>\n",
       "      <td>0.071328</td>\n",
       "      <td>...</td>\n",
       "      <td>0.192393</td>\n",
       "      <td>0.005676</td>\n",
       "      <td>0.063777</td>\n",
       "      <td>-0.012814</td>\n",
       "      <td>0.051267</td>\n",
       "      <td>0.892394</td>\n",
       "      <td>-0.106222</td>\n",
       "      <td>-14.364698</td>\n",
       "      <td>12.167306</td>\n",
       "      <td>BT127_L_AAACCTGTCTACGAGT</td>\n",
       "    </tr>\n",
       "    <tr>\n",
       "      <th>4</th>\n",
       "      <td>BTSC_BT127_L_AAACGGGAGTGGTAAT</td>\n",
       "      <td>4140</td>\n",
       "      <td>14601</td>\n",
       "      <td>BTSC</td>\n",
       "      <td>0.081501</td>\n",
       "      <td>0.408264</td>\n",
       "      <td>0.401880</td>\n",
       "      <td>S</td>\n",
       "      <td>0.006384</td>\n",
       "      <td>0.258219</td>\n",
       "      <td>...</td>\n",
       "      <td>0.082766</td>\n",
       "      <td>0.263047</td>\n",
       "      <td>0.104503</td>\n",
       "      <td>-0.032299</td>\n",
       "      <td>0.132094</td>\n",
       "      <td>0.677231</td>\n",
       "      <td>1.331939</td>\n",
       "      <td>7.017834</td>\n",
       "      <td>23.335836</td>\n",
       "      <td>BT127_L_AAACGGGAGTGGTAAT</td>\n",
       "    </tr>\n",
       "    <tr>\n",
       "      <th>...</th>\n",
       "      <td>...</td>\n",
       "      <td>...</td>\n",
       "      <td>...</td>\n",
       "      <td>...</td>\n",
       "      <td>...</td>\n",
       "      <td>...</td>\n",
       "      <td>...</td>\n",
       "      <td>...</td>\n",
       "      <td>...</td>\n",
       "      <td>...</td>\n",
       "      <td>...</td>\n",
       "      <td>...</td>\n",
       "      <td>...</td>\n",
       "      <td>...</td>\n",
       "      <td>...</td>\n",
       "      <td>...</td>\n",
       "      <td>...</td>\n",
       "      <td>...</td>\n",
       "      <td>...</td>\n",
       "      <td>...</td>\n",
       "      <td>...</td>\n",
       "    </tr>\n",
       "    <tr>\n",
       "      <th>79857</th>\n",
       "      <td>GBM_G983-C_T_TTTACTGGTACCGGCT</td>\n",
       "      <td>5909</td>\n",
       "      <td>28721</td>\n",
       "      <td>GBM</td>\n",
       "      <td>0.024164</td>\n",
       "      <td>0.535013</td>\n",
       "      <td>0.184174</td>\n",
       "      <td>S</td>\n",
       "      <td>0.350839</td>\n",
       "      <td>0.235222</td>\n",
       "      <td>...</td>\n",
       "      <td>0.060627</td>\n",
       "      <td>0.321304</td>\n",
       "      <td>0.092630</td>\n",
       "      <td>-0.053835</td>\n",
       "      <td>0.050856</td>\n",
       "      <td>0.439408</td>\n",
       "      <td>-0.113518</td>\n",
       "      <td>-9.069733</td>\n",
       "      <td>4.801780</td>\n",
       "      <td>G983-C_T_TTTACTGGTACCGGCT</td>\n",
       "    </tr>\n",
       "    <tr>\n",
       "      <th>79858</th>\n",
       "      <td>GBM_G983-C_T_TTTACTGTCTTGCCGT</td>\n",
       "      <td>2848</td>\n",
       "      <td>7974</td>\n",
       "      <td>GBM</td>\n",
       "      <td>0.030223</td>\n",
       "      <td>-0.155864</td>\n",
       "      <td>-0.231969</td>\n",
       "      <td>G1</td>\n",
       "      <td>0.076105</td>\n",
       "      <td>0.078931</td>\n",
       "      <td>...</td>\n",
       "      <td>0.047578</td>\n",
       "      <td>0.001785</td>\n",
       "      <td>0.049754</td>\n",
       "      <td>-0.029568</td>\n",
       "      <td>-0.047580</td>\n",
       "      <td>0.707380</td>\n",
       "      <td>-1.865008</td>\n",
       "      <td>-25.734349</td>\n",
       "      <td>-8.234643</td>\n",
       "      <td>G983-C_T_TTTACTGTCTTGCCGT</td>\n",
       "    </tr>\n",
       "    <tr>\n",
       "      <th>79859</th>\n",
       "      <td>GBM_G983-C_T_TTTCCTCTCGCGCCAA</td>\n",
       "      <td>3829</td>\n",
       "      <td>14498</td>\n",
       "      <td>GBM</td>\n",
       "      <td>0.040419</td>\n",
       "      <td>-0.153784</td>\n",
       "      <td>-0.297173</td>\n",
       "      <td>G1</td>\n",
       "      <td>0.143389</td>\n",
       "      <td>0.061801</td>\n",
       "      <td>...</td>\n",
       "      <td>0.056710</td>\n",
       "      <td>0.004998</td>\n",
       "      <td>0.020520</td>\n",
       "      <td>-0.077667</td>\n",
       "      <td>-0.049551</td>\n",
       "      <td>0.176242</td>\n",
       "      <td>-1.900068</td>\n",
       "      <td>-20.632510</td>\n",
       "      <td>-11.647954</td>\n",
       "      <td>G983-C_T_TTTCCTCTCGCGCCAA</td>\n",
       "    </tr>\n",
       "    <tr>\n",
       "      <th>79860</th>\n",
       "      <td>GBM_G983-C_T_TTTGGTTAGAGTACAT</td>\n",
       "      <td>4815</td>\n",
       "      <td>20360</td>\n",
       "      <td>GBM</td>\n",
       "      <td>0.040815</td>\n",
       "      <td>0.046580</td>\n",
       "      <td>-0.285680</td>\n",
       "      <td>S</td>\n",
       "      <td>0.332260</td>\n",
       "      <td>0.077721</td>\n",
       "      <td>...</td>\n",
       "      <td>0.065162</td>\n",
       "      <td>0.019669</td>\n",
       "      <td>0.039091</td>\n",
       "      <td>-0.055244</td>\n",
       "      <td>-0.037691</td>\n",
       "      <td>0.423850</td>\n",
       "      <td>-1.689050</td>\n",
       "      <td>-19.543192</td>\n",
       "      <td>-0.826260</td>\n",
       "      <td>G983-C_T_TTTGGTTAGAGTACAT</td>\n",
       "    </tr>\n",
       "    <tr>\n",
       "      <th>79861</th>\n",
       "      <td>GBM_G983-C_T_TTTGGTTGTTACGACT</td>\n",
       "      <td>5437</td>\n",
       "      <td>21814</td>\n",
       "      <td>GBM</td>\n",
       "      <td>0.027139</td>\n",
       "      <td>0.572399</td>\n",
       "      <td>-0.000802</td>\n",
       "      <td>S</td>\n",
       "      <td>0.573201</td>\n",
       "      <td>0.211166</td>\n",
       "      <td>...</td>\n",
       "      <td>0.043620</td>\n",
       "      <td>0.274684</td>\n",
       "      <td>0.045228</td>\n",
       "      <td>-0.009118</td>\n",
       "      <td>0.074477</td>\n",
       "      <td>0.933208</td>\n",
       "      <td>0.306756</td>\n",
       "      <td>-4.735057</td>\n",
       "      <td>11.971642</td>\n",
       "      <td>G983-C_T_TTTGGTTGTTACGACT</td>\n",
       "    </tr>\n",
       "  </tbody>\n",
       "</table>\n",
       "<p>79862 rows × 128 columns</p>\n",
       "</div>"
      ],
      "text/plain": [
       "                          Unnamed: 0  nGene   nUMI orig.ident  percent.mito  \\\n",
       "0      BTSC_BT127_L_AAACCTGCACGGACAA    640    875       BTSC      0.043429   \n",
       "1      BTSC_BT127_L_AAACCTGCATCCGGGT   1036   2408       BTSC      0.002076   \n",
       "2      BTSC_BT127_L_AAACCTGGTACAGTTC   3240  10058       BTSC      0.078047   \n",
       "3      BTSC_BT127_L_AAACCTGTCTACGAGT   3337  10798       BTSC      0.061863   \n",
       "4      BTSC_BT127_L_AAACGGGAGTGGTAAT   4140  14601       BTSC      0.081501   \n",
       "...                              ...    ...    ...        ...           ...   \n",
       "79857  GBM_G983-C_T_TTTACTGGTACCGGCT   5909  28721        GBM      0.024164   \n",
       "79858  GBM_G983-C_T_TTTACTGTCTTGCCGT   2848   7974        GBM      0.030223   \n",
       "79859  GBM_G983-C_T_TTTCCTCTCGCGCCAA   3829  14498        GBM      0.040419   \n",
       "79860  GBM_G983-C_T_TTTGGTTAGAGTACAT   4815  20360        GBM      0.040815   \n",
       "79861  GBM_G983-C_T_TTTGGTTGTTACGACT   5437  21814        GBM      0.027139   \n",
       "\n",
       "        S.Score  G2M.Score Phase  CC.Difference  Zhong_NPCs_upreg_AUC  ...  \\\n",
       "0      0.095786   0.073037     S       0.022749              0.106631  ...   \n",
       "1      0.053588   0.308728   G2M      -0.255140              0.193112  ...   \n",
       "2      0.211906  -0.220823     S       0.432729              0.109561  ...   \n",
       "3     -0.132267  -0.204643    G1       0.072376              0.071328  ...   \n",
       "4      0.408264   0.401880     S       0.006384              0.258219  ...   \n",
       "...         ...        ...   ...            ...                   ...  ...   \n",
       "79857  0.535013   0.184174     S       0.350839              0.235222  ...   \n",
       "79858 -0.155864  -0.231969    G1       0.076105              0.078931  ...   \n",
       "79859 -0.153784  -0.297173    G1       0.143389              0.061801  ...   \n",
       "79860  0.046580  -0.285680     S       0.332260              0.077721  ...   \n",
       "79861  0.572399  -0.000802     S       0.573201              0.211166  ...   \n",
       "\n",
       "       Neftel_NPC2_AUC  Neftel_G1.S_AUC  Neftel_G2.M_AUC  Dev_IR_Diff  \\\n",
       "0             0.085013         0.120975         0.071752     0.014217   \n",
       "1             0.070254         0.109481         0.120565    -0.033552   \n",
       "2             0.110740         0.048511         0.034879    -0.012893   \n",
       "3             0.192393         0.005676         0.063777    -0.012814   \n",
       "4             0.082766         0.263047         0.104503    -0.032299   \n",
       "...                ...              ...              ...          ...   \n",
       "79857         0.060627         0.321304         0.092630    -0.053835   \n",
       "79858         0.047578         0.001785         0.049754    -0.029568   \n",
       "79859         0.056710         0.004998         0.020520    -0.077667   \n",
       "79860         0.065162         0.019669         0.039091    -0.055244   \n",
       "79861         0.043620         0.274684         0.045228    -0.009118   \n",
       "\n",
       "       Stem_Astro_Diff  Dev_IR_Diff_zscore  Stem_Astro_Diff_zscore        PC1  \\\n",
       "0             0.190099            1.190880                2.364037 -12.728937   \n",
       "1             0.087178            0.663390                0.532745   0.942554   \n",
       "2             0.056218            0.891514               -0.018122   4.223721   \n",
       "3             0.051267            0.892394               -0.106222 -14.364698   \n",
       "4             0.132094            0.677231                1.331939   7.017834   \n",
       "...                ...                 ...                     ...        ...   \n",
       "79857         0.050856            0.439408               -0.113518  -9.069733   \n",
       "79858        -0.047580            0.707380               -1.865008 -25.734349   \n",
       "79859        -0.049551            0.176242               -1.900068 -20.632510   \n",
       "79860        -0.037691            0.423850               -1.689050 -19.543192   \n",
       "79861         0.074477            0.933208                0.306756  -4.735057   \n",
       "\n",
       "             PC2                  unique_id  \n",
       "0      -0.553863   BT127_L_AAACCTGCACGGACAA  \n",
       "1       1.607986   BT127_L_AAACCTGCATCCGGGT  \n",
       "2      17.356634   BT127_L_AAACCTGGTACAGTTC  \n",
       "3      12.167306   BT127_L_AAACCTGTCTACGAGT  \n",
       "4      23.335836   BT127_L_AAACGGGAGTGGTAAT  \n",
       "...          ...                        ...  \n",
       "79857   4.801780  G983-C_T_TTTACTGGTACCGGCT  \n",
       "79858  -8.234643  G983-C_T_TTTACTGTCTTGCCGT  \n",
       "79859 -11.647954  G983-C_T_TTTCCTCTCGCGCCAA  \n",
       "79860  -0.826260  G983-C_T_TTTGGTTAGAGTACAT  \n",
       "79861  11.971642  G983-C_T_TTTGGTTGTTACGACT  \n",
       "\n",
       "[79862 rows x 128 columns]"
      ]
     },
     "execution_count": 4,
     "metadata": {},
     "output_type": "execute_result"
    }
   ],
   "source": [
    "# Load PCA coords + metadata\n",
    "plot_data = pd.read_csv(os.path.join(data_dir, 'scvelo_plot_data_GBM_GSCs_PCA_full.csv'))\n",
    "plot_data"
   ]
  },
  {
   "cell_type": "code",
   "execution_count": 5,
   "metadata": {},
   "outputs": [
    {
     "data": {
      "text/plain": [
       "<matplotlib.collections.PathCollection at 0x7f5bf8588e50>"
      ]
     },
     "execution_count": 5,
     "metadata": {},
     "output_type": "execute_result"
    },
    {
     "data": {
      "image/png": "[encoded data removed]",
      "text/plain": [
       "<Figure size 432x288 with 1 Axes>"
      ]
     },
     "metadata": {
      "needs_background": "light"
     },
     "output_type": "display_data"
    }
   ],
   "source": [
    "PCA_coords = plot_data.loc[:, ['PC1', 'PC2']].to_numpy()\n",
    "plt.scatter(PCA_coords[:, 0], PCA_coords[:, 1])"
   ]
  },
  {
   "cell_type": "code",
   "execution_count": 6,
   "metadata": {},
   "outputs": [
    {
     "data": {
      "text/plain": [
       "0         BT127_L_AAACCTGCACGGACAA\n",
       "1         BT127_L_AAACCTGCATCCGGGT\n",
       "2         BT127_L_AAACCTGGTACAGTTC\n",
       "3         BT127_L_AAACCTGTCTACGAGT\n",
       "4         BT127_L_AAACGGGAGTGGTAAT\n",
       "                   ...            \n",
       "79857    G983-C_T_TTTACTGGTACCGGCT\n",
       "79858    G983-C_T_TTTACTGTCTTGCCGT\n",
       "79859    G983-C_T_TTTCCTCTCGCGCCAA\n",
       "79860    G983-C_T_TTTGGTTAGAGTACAT\n",
       "79861    G983-C_T_TTTGGTTGTTACGACT\n",
       "Name: unique_id, Length: 79862, dtype: object"
      ]
     },
     "execution_count": 6,
     "metadata": {},
     "output_type": "execute_result"
    }
   ],
   "source": [
    "plot_data['unique_id']"
   ]
  },
  {
   "cell_type": "code",
   "execution_count": 7,
   "metadata": {},
   "outputs": [],
   "source": [
    "new_loom_ids = merged_con.ca['CellID']"
   ]
  },
  {
   "cell_type": "code",
   "execution_count": 8,
   "metadata": {},
   "outputs": [],
   "source": [
    "# filter cells not in loaded metadata\n",
    "in_PCA = np.isin(new_loom_ids, plot_data['unique_id'].to_numpy())"
   ]
  },
  {
   "cell_type": "code",
   "execution_count": 9,
   "metadata": {},
   "outputs": [
    {
     "data": {
      "text/plain": [
       "79862"
      ]
     },
     "execution_count": 9,
     "metadata": {},
     "output_type": "execute_result"
    }
   ],
   "source": [
    "sum(in_PCA)"
   ]
  },
  {
   "cell_type": "code",
   "execution_count": 10,
   "metadata": {},
   "outputs": [
    {
     "data": {
      "text/plain": [
       "79862"
      ]
     },
     "execution_count": 10,
     "metadata": {},
     "output_type": "execute_result"
    }
   ],
   "source": [
    "len(plot_data)"
   ]
  },
  {
   "cell_type": "code",
   "execution_count": 11,
   "metadata": {},
   "outputs": [],
   "source": [
    "plot_data = plot_data.rename(index = plot_data['unique_id'])"
   ]
  },
  {
   "cell_type": "code",
   "execution_count": 12,
   "metadata": {},
   "outputs": [
    {
     "data": {
      "text/plain": [
       "0"
      ]
     },
     "execution_count": 12,
     "metadata": {},
     "output_type": "execute_result"
    }
   ],
   "source": [
    "# create subsetted loom. note that subsetting through loompy API is way too slow.\n",
    "# Just load whole matrix into memory and subset\n",
    "gc.collect()\n",
    "subs_spl = merged_con.layers['spliced'][:, :]\n",
    "subs_spl = subs_spl[:, in_PCA]\n",
    "gc.collect()\n",
    "subs_uns = merged_con.layers['unspliced'][:, :]\n",
    "subs_uns = subs_uns[:, in_PCA]\n",
    "gc.collect()"
   ]
  },
  {
   "cell_type": "code",
   "execution_count": 13,
   "metadata": {},
   "outputs": [],
   "source": [
    "subs_ca = {}\n",
    "subs_ca['CellID'] = merged_con.ca['CellID'][np.where(in_PCA)]\n",
    "for k in plot_data.columns:\n",
    "    subs_ca[k] = plot_data[k].loc[subs_ca['CellID']].to_numpy()\n",
    "# subs_ca.keys()"
   ]
  },
  {
   "cell_type": "code",
   "execution_count": 14,
   "metadata": {
    "scrolled": true
   },
   "outputs": [],
   "source": [
    "subs_file = os.path.join(data_dir, 'GSCs_GBM_combined_PCA_full.loom')\n",
    "if os.path.exists(subs_file):\n",
    "    os.remove(subs_file)\n",
    "loompy.create(subs_file, {'' : subs_spl, 'spliced' : subs_spl, 'unspliced' : subs_uns}, merged_con.ra, subs_ca)"
   ]
  },
  {
   "cell_type": "code",
   "execution_count": 15,
   "metadata": {},
   "outputs": [
    {
     "data": {
      "text/plain": [
       "<matplotlib.collections.PathCollection at 0x7f5c69128400>"
      ]
     },
     "execution_count": 15,
     "metadata": {},
     "output_type": "execute_result"
    },
    {
     "data": {
      "image/png": "[encoded data removed]",
      "text/plain": [
       "<Figure size 432x288 with 1 Axes>"
      ]
     },
     "metadata": {
      "needs_background": "light"
     },
     "output_type": "display_data"
    }
   ],
   "source": [
    "plt.scatter(subs_ca['PC1'], subs_ca['PC2'])"
   ]
  },
  {
   "cell_type": "code",
   "execution_count": 16,
   "metadata": {},
   "outputs": [],
   "source": [
    "merged_con.close()"
   ]
  },
  {
   "cell_type": "code",
   "execution_count": 17,
   "metadata": {},
   "outputs": [],
   "source": [
    "subs_con = loompy.connect(subs_file)"
   ]
  },
  {
   "cell_type": "code",
   "execution_count": 18,
   "metadata": {},
   "outputs": [
    {
     "data": {
      "text/plain": [
       "<matplotlib.collections.PathCollection at 0x7f5bebef4490>"
      ]
     },
     "execution_count": 18,
     "metadata": {},
     "output_type": "execute_result"
    },
    {
     "data": {
      "image/png": "[encoded data removed]",
      "text/plain": [
       "<Figure size 432x288 with 1 Axes>"
      ]
     },
     "metadata": {
      "needs_background": "light"
     },
     "output_type": "display_data"
    }
   ],
   "source": [
    "plt.scatter(subs_con.ca['PC1'], subs_con.ca['PC2'])"
   ]
  },
  {
   "cell_type": "code",
   "execution_count": 19,
   "metadata": {},
   "outputs": [],
   "source": [
    "subs_con.close()"
   ]
  },
  {
   "cell_type": "code",
   "execution_count": null,
   "metadata": {},
   "outputs": [],
   "source": []
  }
 ],
 "metadata": {
  "kernelspec": {
   "display_name": "Python 3",
   "language": "python",
   "name": "python3"
  },
  "language_info": {
   "codemirror_mode": {
    "name": "ipython",
    "version": 3
   },
   "file_extension": ".py",
   "mimetype": "text/x-python",
   "name": "python",
   "nbconvert_exporter": "python",
   "pygments_lexer": "ipython3",
   "version": "3.8.5"
  }
 },
 "nbformat": 4,
 "nbformat_minor": 4
}
