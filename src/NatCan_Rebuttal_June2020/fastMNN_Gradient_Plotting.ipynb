{
 "cells": [
  {
   "cell_type": "markdown",
   "metadata": {},
   "source": [
    "---\n",
    "# Plot the fastMNN gradient \n",
    "---"
   ]
  },
  {
   "cell_type": "code",
   "execution_count": 59,
   "metadata": {
    "collapsed": true
   },
   "outputs": [],
   "source": [
    "library(ggplot2)\n",
    "library(ggpubr)\n",
    "setwd(\"~/Desktop/H4H/pughlab/projects/BTSCs_scRNAseq/Manuscript_G607removed/NatCan_Rebuttal/BatchCorrection/fastMNN/\")"
   ]
  },
  {
   "cell_type": "code",
   "execution_count": 37,
   "metadata": {},
   "outputs": [],
   "source": [
    "### load data\n",
    "dat <- readRDS(\"~/Desktop/H4H/pughlab/projects/BTSCs_scRNAseq/Manuscript_G607removed/NatCan_Rebuttal/BatchCorrection/fastMNN/fastMNN_DevIR_AUCell_GSCs.rds\")"
   ]
  },
  {
   "cell_type": "markdown",
   "metadata": {},
   "source": [
    "### Plot gradient"
   ]
  },
  {
   "cell_type": "code",
   "execution_count": 38,
   "metadata": {},
   "outputs": [
    {
     "data": {
      "text/html": [
       "<table>\n",
       "<caption>A data.frame: 6 × 3</caption>\n",
       "<thead>\n",
       "\t<tr><th></th><th scope=col>Score</th><th scope=col>SampleID</th><th scope=col>signature</th></tr>\n",
       "\t<tr><th></th><th scope=col>&lt;dbl[,1]&gt;</th><th scope=col>&lt;fct&gt;</th><th scope=col>&lt;chr&gt;</th></tr>\n",
       "</thead>\n",
       "<tbody>\n",
       "\t<tr><th scope=row>BT127_L_AAACCTGCACGGACAA</th><td> 2.7477693</td><td>BT127_L</td><td>Developmental</td></tr>\n",
       "\t<tr><th scope=row>BT127_L_AAACCTGCATCCGGGT</th><td>-0.4377524</td><td>BT127_L</td><td>Developmental</td></tr>\n",
       "\t<tr><th scope=row>BT127_L_AAACCTGGTACAGTTC</th><td> 0.8535018</td><td>BT127_L</td><td>Developmental</td></tr>\n",
       "\t<tr><th scope=row>BT127_L_AAACCTGTCTACGAGT</th><td> 0.0631048</td><td>BT127_L</td><td>Developmental</td></tr>\n",
       "\t<tr><th scope=row>BT127_L_AAACGGGAGTGGTAAT</th><td>-1.3552608</td><td>BT127_L</td><td>Developmental</td></tr>\n",
       "\t<tr><th scope=row>BT127_L_AAACGGGCAGGACGTA</th><td> 2.5307117</td><td>BT127_L</td><td>Developmental</td></tr>\n",
       "</tbody>\n",
       "</table>\n"
      ],
      "text/latex": [
       "A data.frame: 6 × 3\n",
       "\\begin{tabular}{r|lll}\n",
       "  & Score & SampleID & signature\\\\\n",
       "  & <dbl{[},1{]}> & <fct> & <chr>\\\\\n",
       "\\hline\n",
       "\tBT127\\_L\\_AAACCTGCACGGACAA &  2.7477693 & BT127\\_L & Developmental\\\\\n",
       "\tBT127\\_L\\_AAACCTGCATCCGGGT & -0.4377524 & BT127\\_L & Developmental\\\\\n",
       "\tBT127\\_L\\_AAACCTGGTACAGTTC &  0.8535018 & BT127\\_L & Developmental\\\\\n",
       "\tBT127\\_L\\_AAACCTGTCTACGAGT &  0.0631048 & BT127\\_L & Developmental\\\\\n",
       "\tBT127\\_L\\_AAACGGGAGTGGTAAT & -1.3552608 & BT127\\_L & Developmental\\\\\n",
       "\tBT127\\_L\\_AAACGGGCAGGACGTA &  2.5307117 & BT127\\_L & Developmental\\\\\n",
       "\\end{tabular}\n"
      ],
      "text/markdown": [
       "\n",
       "A data.frame: 6 × 3\n",
       "\n",
       "| <!--/--> | Score &lt;dbl[,1]&gt; | SampleID &lt;fct&gt; | signature &lt;chr&gt; |\n",
       "|---|---|---|---|\n",
       "| BT127_L_AAACCTGCACGGACAA |  2.7477693 | BT127_L | Developmental |\n",
       "| BT127_L_AAACCTGCATCCGGGT | -0.4377524 | BT127_L | Developmental |\n",
       "| BT127_L_AAACCTGGTACAGTTC |  0.8535018 | BT127_L | Developmental |\n",
       "| BT127_L_AAACCTGTCTACGAGT |  0.0631048 | BT127_L | Developmental |\n",
       "| BT127_L_AAACGGGAGTGGTAAT | -1.3552608 | BT127_L | Developmental |\n",
       "| BT127_L_AAACGGGCAGGACGTA |  2.5307117 | BT127_L | Developmental |\n",
       "\n"
      ],
      "text/plain": [
       "                         Score      SampleID signature    \n",
       "BT127_L_AAACCTGCACGGACAA  2.7477693 BT127_L  Developmental\n",
       "BT127_L_AAACCTGCATCCGGGT -0.4377524 BT127_L  Developmental\n",
       "BT127_L_AAACCTGGTACAGTTC  0.8535018 BT127_L  Developmental\n",
       "BT127_L_AAACCTGTCTACGAGT  0.0631048 BT127_L  Developmental\n",
       "BT127_L_AAACGGGAGTGGTAAT -1.3552608 BT127_L  Developmental\n",
       "BT127_L_AAACGGGCAGGACGTA  2.5307117 BT127_L  Developmental"
      ]
     },
     "metadata": {},
     "output_type": "display_data"
    }
   ],
   "source": [
    "IR <-  dat[ ,c(\"InjuryResponse_GSC_AUC\", \"SampleID\")]\n",
    "colnames(IR)[1] <- \"Score\"\n",
    "IR$signature <- \"InjuryResponse\"\n",
    "IR$Score <- scale(IR$Score, center = TRUE, scale = TRUE)\n",
    "IR$SampleID <- with(IR, reorder(SampleID, Score, median))\n",
    "\n",
    "\n",
    "\n",
    "Dev <- dat[ ,c(\"Developmental_GSC_AUC\", \"SampleID\")]\n",
    "colnames(Dev)[1] <- \"Score\"\n",
    "Dev$signature <- \"Developmental\"\n",
    "Dev$Score <- scale(Dev$Score, center = TRUE, scale = TRUE)\n",
    "Dev$SampleID <- with(IR, reorder(SampleID, Score, median))\n",
    "\n",
    "\n",
    "\n",
    "\n",
    "dat <- rbind(Dev, IR)\n",
    "head(dat)"
   ]
  },
  {
   "cell_type": "code",
   "execution_count": 42,
   "metadata": {},
   "outputs": [
    {
     "data": {
      "text/html": [
       "<strong>pdf:</strong> 2"
      ],
      "text/latex": [
       "\\textbf{pdf:} 2"
      ],
      "text/markdown": [
       "**pdf:** 2"
      ],
      "text/plain": [
       "pdf \n",
       "  2 "
      ]
     },
     "metadata": {},
     "output_type": "display_data"
    }
   ],
   "source": [
    "pdf(\"fastMNN_Corrected_Gradient.pdf\", width = 10, height = 3)\n",
    "\n",
    "p <- ggplot(dat, aes(x=SampleID, y=Score, fill = signature)) +theme_classic() + \n",
    "      geom_violin()  + ylab(\"Relative AUC Score (z-score)\") + \n",
    "      theme(axis.text.x = element_text(angle = 90, hjust = 1)) + \n",
    "      theme(panel.border = element_rect(linetype = \"solid\", fill = NA)) + \n",
    "scale_fill_manual(values=c(\"red\", \"black\")) + scale_x_discrete()  \n",
    "p\n",
    "\n",
    "dev.off()"
   ]
  },
  {
   "cell_type": "markdown",
   "metadata": {},
   "source": [
    "### Correlate medians between methods"
   ]
  },
  {
   "cell_type": "code",
   "execution_count": 51,
   "metadata": {},
   "outputs": [
    {
     "data": {
      "text/html": [
       "<table>\n",
       "<caption>A data.frame: 6 × 5</caption>\n",
       "<thead>\n",
       "\t<tr><th></th><th scope=col>Developmental_GSC_AUC</th><th scope=col>InjuryResponse_GSC_AUC</th><th scope=col>SampleID</th><th scope=col>Original_Developmental_GSC_AUC</th><th scope=col>Original_InjuryResponse_GSC_AUC</th></tr>\n",
       "\t<tr><th></th><th scope=col>&lt;dbl&gt;</th><th scope=col>&lt;dbl&gt;</th><th scope=col>&lt;chr&gt;</th><th scope=col>&lt;dbl&gt;</th><th scope=col>&lt;dbl&gt;</th></tr>\n",
       "</thead>\n",
       "<tbody>\n",
       "\t<tr><th scope=row>BT127_L_AAACCTGCACGGACAA</th><td>0.3543462</td><td>0.08754009</td><td>BT127_L</td><td>0.1877557</td><td>0.1704331</td></tr>\n",
       "\t<tr><th scope=row>BT127_L_AAACCTGCATCCGGGT</th><td>0.2138513</td><td>0.14121799</td><td>BT127_L</td><td>0.1262983</td><td>0.1621965</td></tr>\n",
       "\t<tr><th scope=row>BT127_L_AAACCTGGTACAGTTC</th><td>0.2708010</td><td>0.16961135</td><td>BT127_L</td><td>0.1389073</td><td>0.1508963</td></tr>\n",
       "\t<tr><th scope=row>BT127_L_AAACCTGTCTACGAGT</th><td>0.2359412</td><td>0.19577983</td><td>BT127_L</td><td>0.1516215</td><td>0.1646188</td></tr>\n",
       "\t<tr><th scope=row>BT127_L_AAACGGGAGTGGTAAT</th><td>0.1733853</td><td>0.16569369</td><td>BT127_L</td><td>0.1326554</td><td>0.1643399</td></tr>\n",
       "\t<tr><th scope=row>BT127_L_AAACGGGCAGGACGTA</th><td>0.3447731</td><td>0.14392559</td><td>BT127_L</td><td>0.1626407</td><td>0.2095603</td></tr>\n",
       "</tbody>\n",
       "</table>\n"
      ],
      "text/latex": [
       "A data.frame: 6 × 5\n",
       "\\begin{tabular}{r|lllll}\n",
       "  & Developmental\\_GSC\\_AUC & InjuryResponse\\_GSC\\_AUC & SampleID & Original\\_Developmental\\_GSC\\_AUC & Original\\_InjuryResponse\\_GSC\\_AUC\\\\\n",
       "  & <dbl> & <dbl> & <chr> & <dbl> & <dbl>\\\\\n",
       "\\hline\n",
       "\tBT127\\_L\\_AAACCTGCACGGACAA & 0.3543462 & 0.08754009 & BT127\\_L & 0.1877557 & 0.1704331\\\\\n",
       "\tBT127\\_L\\_AAACCTGCATCCGGGT & 0.2138513 & 0.14121799 & BT127\\_L & 0.1262983 & 0.1621965\\\\\n",
       "\tBT127\\_L\\_AAACCTGGTACAGTTC & 0.2708010 & 0.16961135 & BT127\\_L & 0.1389073 & 0.1508963\\\\\n",
       "\tBT127\\_L\\_AAACCTGTCTACGAGT & 0.2359412 & 0.19577983 & BT127\\_L & 0.1516215 & 0.1646188\\\\\n",
       "\tBT127\\_L\\_AAACGGGAGTGGTAAT & 0.1733853 & 0.16569369 & BT127\\_L & 0.1326554 & 0.1643399\\\\\n",
       "\tBT127\\_L\\_AAACGGGCAGGACGTA & 0.3447731 & 0.14392559 & BT127\\_L & 0.1626407 & 0.2095603\\\\\n",
       "\\end{tabular}\n"
      ],
      "text/markdown": [
       "\n",
       "A data.frame: 6 × 5\n",
       "\n",
       "| <!--/--> | Developmental_GSC_AUC &lt;dbl&gt; | InjuryResponse_GSC_AUC &lt;dbl&gt; | SampleID &lt;chr&gt; | Original_Developmental_GSC_AUC &lt;dbl&gt; | Original_InjuryResponse_GSC_AUC &lt;dbl&gt; |\n",
       "|---|---|---|---|---|---|\n",
       "| BT127_L_AAACCTGCACGGACAA | 0.3543462 | 0.08754009 | BT127_L | 0.1877557 | 0.1704331 |\n",
       "| BT127_L_AAACCTGCATCCGGGT | 0.2138513 | 0.14121799 | BT127_L | 0.1262983 | 0.1621965 |\n",
       "| BT127_L_AAACCTGGTACAGTTC | 0.2708010 | 0.16961135 | BT127_L | 0.1389073 | 0.1508963 |\n",
       "| BT127_L_AAACCTGTCTACGAGT | 0.2359412 | 0.19577983 | BT127_L | 0.1516215 | 0.1646188 |\n",
       "| BT127_L_AAACGGGAGTGGTAAT | 0.1733853 | 0.16569369 | BT127_L | 0.1326554 | 0.1643399 |\n",
       "| BT127_L_AAACGGGCAGGACGTA | 0.3447731 | 0.14392559 | BT127_L | 0.1626407 | 0.2095603 |\n",
       "\n"
      ],
      "text/plain": [
       "                         Developmental_GSC_AUC InjuryResponse_GSC_AUC SampleID\n",
       "BT127_L_AAACCTGCACGGACAA 0.3543462             0.08754009             BT127_L \n",
       "BT127_L_AAACCTGCATCCGGGT 0.2138513             0.14121799             BT127_L \n",
       "BT127_L_AAACCTGGTACAGTTC 0.2708010             0.16961135             BT127_L \n",
       "BT127_L_AAACCTGTCTACGAGT 0.2359412             0.19577983             BT127_L \n",
       "BT127_L_AAACGGGAGTGGTAAT 0.1733853             0.16569369             BT127_L \n",
       "BT127_L_AAACGGGCAGGACGTA 0.3447731             0.14392559             BT127_L \n",
       "                         Original_Developmental_GSC_AUC\n",
       "BT127_L_AAACCTGCACGGACAA 0.1877557                     \n",
       "BT127_L_AAACCTGCATCCGGGT 0.1262983                     \n",
       "BT127_L_AAACCTGGTACAGTTC 0.1389073                     \n",
       "BT127_L_AAACCTGTCTACGAGT 0.1516215                     \n",
       "BT127_L_AAACGGGAGTGGTAAT 0.1326554                     \n",
       "BT127_L_AAACGGGCAGGACGTA 0.1626407                     \n",
       "                         Original_InjuryResponse_GSC_AUC\n",
       "BT127_L_AAACCTGCACGGACAA 0.1704331                      \n",
       "BT127_L_AAACCTGCATCCGGGT 0.1621965                      \n",
       "BT127_L_AAACCTGGTACAGTTC 0.1508963                      \n",
       "BT127_L_AAACCTGTCTACGAGT 0.1646188                      \n",
       "BT127_L_AAACGGGAGTGGTAAT 0.1643399                      \n",
       "BT127_L_AAACGGGCAGGACGTA 0.2095603                      "
      ]
     },
     "metadata": {},
     "output_type": "display_data"
    }
   ],
   "source": [
    "### load dat for original\n",
    "dat <- readRDS(\"fastMNN_DevIR_AUCell_GSCs.rds\")\n",
    "orig <- readRDS(\"Original_DevIR_AUCell_GSCs.rds\")\n",
    "dat <- cbind(dat, orig)\n",
    "head(dat)"
   ]
  },
  {
   "cell_type": "code",
   "execution_count": 75,
   "metadata": {},
   "outputs": [
    {
     "data": {
      "text/html": [
       "<table>\n",
       "<caption>A data.frame: 6 × 3</caption>\n",
       "<thead>\n",
       "\t<tr><th></th><th scope=col>SampleID</th><th scope=col>Developmental_GSC_AUC</th><th scope=col>original</th></tr>\n",
       "\t<tr><th></th><th scope=col>&lt;chr&gt;</th><th scope=col>&lt;dbl&gt;</th><th scope=col>&lt;dbl&gt;</th></tr>\n",
       "</thead>\n",
       "<tbody>\n",
       "\t<tr><th scope=row>1</th><td>BT127_L</td><td>0.2609854</td><td>0.1566859</td></tr>\n",
       "\t<tr><th scope=row>2</th><td>BT147_L</td><td>0.2332861</td><td>0.1449265</td></tr>\n",
       "\t<tr><th scope=row>3</th><td>BT48_L </td><td>0.2287109</td><td>0.1686587</td></tr>\n",
       "\t<tr><th scope=row>4</th><td>BT67_L </td><td>0.2404907</td><td>0.1513844</td></tr>\n",
       "\t<tr><th scope=row>5</th><td>BT73_L </td><td>0.2727298</td><td>0.1165985</td></tr>\n",
       "\t<tr><th scope=row>6</th><td>BT84_L </td><td>0.2913912</td><td>0.1625484</td></tr>\n",
       "</tbody>\n",
       "</table>\n"
      ],
      "text/latex": [
       "A data.frame: 6 × 3\n",
       "\\begin{tabular}{r|lll}\n",
       "  & SampleID & Developmental\\_GSC\\_AUC & original\\\\\n",
       "  & <chr> & <dbl> & <dbl>\\\\\n",
       "\\hline\n",
       "\t1 & BT127\\_L & 0.2609854 & 0.1566859\\\\\n",
       "\t2 & BT147\\_L & 0.2332861 & 0.1449265\\\\\n",
       "\t3 & BT48\\_L  & 0.2287109 & 0.1686587\\\\\n",
       "\t4 & BT67\\_L  & 0.2404907 & 0.1513844\\\\\n",
       "\t5 & BT73\\_L  & 0.2727298 & 0.1165985\\\\\n",
       "\t6 & BT84\\_L  & 0.2913912 & 0.1625484\\\\\n",
       "\\end{tabular}\n"
      ],
      "text/markdown": [
       "\n",
       "A data.frame: 6 × 3\n",
       "\n",
       "| <!--/--> | SampleID &lt;chr&gt; | Developmental_GSC_AUC &lt;dbl&gt; | original &lt;dbl&gt; |\n",
       "|---|---|---|---|\n",
       "| 1 | BT127_L | 0.2609854 | 0.1566859 |\n",
       "| 2 | BT147_L | 0.2332861 | 0.1449265 |\n",
       "| 3 | BT48_L  | 0.2287109 | 0.1686587 |\n",
       "| 4 | BT67_L  | 0.2404907 | 0.1513844 |\n",
       "| 5 | BT73_L  | 0.2727298 | 0.1165985 |\n",
       "| 6 | BT84_L  | 0.2913912 | 0.1625484 |\n",
       "\n"
      ],
      "text/plain": [
       "  SampleID Developmental_GSC_AUC original \n",
       "1 BT127_L  0.2609854             0.1566859\n",
       "2 BT147_L  0.2332861             0.1449265\n",
       "3 BT48_L   0.2287109             0.1686587\n",
       "4 BT67_L   0.2404907             0.1513844\n",
       "5 BT73_L   0.2727298             0.1165985\n",
       "6 BT84_L   0.2913912             0.1625484"
      ]
     },
     "metadata": {},
     "output_type": "display_data"
    },
    {
     "data": {
      "text/html": [
       "<table>\n",
       "<caption>A data.frame: 6 × 3</caption>\n",
       "<thead>\n",
       "\t<tr><th></th><th scope=col>SampleID</th><th scope=col>InjuryResponse_GSC_AUC</th><th scope=col>original</th></tr>\n",
       "\t<tr><th></th><th scope=col>&lt;chr&gt;</th><th scope=col>&lt;dbl&gt;</th><th scope=col>&lt;dbl&gt;</th></tr>\n",
       "</thead>\n",
       "<tbody>\n",
       "\t<tr><th scope=row>1</th><td>BT127_L</td><td>0.1809427</td><td>0.1789142</td></tr>\n",
       "\t<tr><th scope=row>2</th><td>BT147_L</td><td>0.1584216</td><td>0.1411933</td></tr>\n",
       "\t<tr><th scope=row>3</th><td>BT48_L </td><td>0.1620228</td><td>0.1393815</td></tr>\n",
       "\t<tr><th scope=row>4</th><td>BT67_L </td><td>0.1613491</td><td>0.1494588</td></tr>\n",
       "\t<tr><th scope=row>5</th><td>BT73_L </td><td>0.1474356</td><td>0.1600811</td></tr>\n",
       "\t<tr><th scope=row>6</th><td>BT84_L </td><td>0.1580783</td><td>0.1555337</td></tr>\n",
       "</tbody>\n",
       "</table>\n"
      ],
      "text/latex": [
       "A data.frame: 6 × 3\n",
       "\\begin{tabular}{r|lll}\n",
       "  & SampleID & InjuryResponse\\_GSC\\_AUC & original\\\\\n",
       "  & <chr> & <dbl> & <dbl>\\\\\n",
       "\\hline\n",
       "\t1 & BT127\\_L & 0.1809427 & 0.1789142\\\\\n",
       "\t2 & BT147\\_L & 0.1584216 & 0.1411933\\\\\n",
       "\t3 & BT48\\_L  & 0.1620228 & 0.1393815\\\\\n",
       "\t4 & BT67\\_L  & 0.1613491 & 0.1494588\\\\\n",
       "\t5 & BT73\\_L  & 0.1474356 & 0.1600811\\\\\n",
       "\t6 & BT84\\_L  & 0.1580783 & 0.1555337\\\\\n",
       "\\end{tabular}\n"
      ],
      "text/markdown": [
       "\n",
       "A data.frame: 6 × 3\n",
       "\n",
       "| <!--/--> | SampleID &lt;chr&gt; | InjuryResponse_GSC_AUC &lt;dbl&gt; | original &lt;dbl&gt; |\n",
       "|---|---|---|---|\n",
       "| 1 | BT127_L | 0.1809427 | 0.1789142 |\n",
       "| 2 | BT147_L | 0.1584216 | 0.1411933 |\n",
       "| 3 | BT48_L  | 0.1620228 | 0.1393815 |\n",
       "| 4 | BT67_L  | 0.1613491 | 0.1494588 |\n",
       "| 5 | BT73_L  | 0.1474356 | 0.1600811 |\n",
       "| 6 | BT84_L  | 0.1580783 | 0.1555337 |\n",
       "\n"
      ],
      "text/plain": [
       "  SampleID InjuryResponse_GSC_AUC original \n",
       "1 BT127_L  0.1809427              0.1789142\n",
       "2 BT147_L  0.1584216              0.1411933\n",
       "3 BT48_L   0.1620228              0.1393815\n",
       "4 BT67_L   0.1613491              0.1494588\n",
       "5 BT73_L   0.1474356              0.1600811\n",
       "6 BT84_L   0.1580783              0.1555337"
      ]
     },
     "metadata": {},
     "output_type": "display_data"
    }
   ],
   "source": [
    "Dev <- aggregate(Developmental_GSC_AUC~SampleID, dat ,median)\n",
    "Dev$original <- aggregate(Original_Developmental_GSC_AUC~SampleID, dat ,median)$Original_Developmental_GSC_AUC\n",
    "head(Dev)\n",
    "\n",
    "IR <- aggregate(InjuryResponse_GSC_AUC~SampleID, dat ,median)\n",
    "IR$original <- aggregate(Original_InjuryResponse_GSC_AUC~SampleID, dat ,median)$Original_InjuryResponse_GSC_AUC\n",
    "head(IR)"
   ]
  },
  {
   "cell_type": "code",
   "execution_count": 80,
   "metadata": {},
   "outputs": [],
   "source": [
    "\n",
    "\n",
    "a <- ggscatter(Dev,\n",
    "          x= \"original\",\n",
    "          y = \"Developmental_GSC_AUC\",\n",
    "          xlab = \"Original (Median Raw AUC Score)\",\n",
    "          ylab = \"Corrected fastMNN Matrix (Median Raw AUC Score)\",\n",
    "          main = \"Developmental\",\n",
    "          shape = 21, \n",
    "          size = 3,\n",
    "          add = \"reg.line\",\n",
    "          add.params = list(color = \"blue\", fill = \"lightgray\"),\n",
    "          conf.int = TRUE,\n",
    "          cor.coef = TRUE,\n",
    "          cor.coeff.args = list(method = \"pearson\", \n",
    "                                #label.x = 0, \n",
    "                                label.sep = \"\\n\")\n",
    "          )\n",
    "\n",
    "cor.coeff.args = list(method = \"pearson\", label.x = 3, label.sep = \"\\n\")\n",
    "\n",
    "\n",
    "b <- ggscatter(IR,\n",
    "          x= \"original\",\n",
    "          y = \"InjuryResponse_GSC_AUC\",\n",
    "          xlab = \"Original (Median Raw AUC Score)\",\n",
    "          ylab = \"Corrected fastMNN Matrix (Median Raw AUC Score)\",\n",
    "          main = \"Injury Response\",\n",
    "          shape = 21, \n",
    "          size = 3,\n",
    "          add = \"reg.line\",\n",
    "          add.params = list(color = \"blue\", fill = \"lightgray\"),\n",
    "          conf.int = TRUE,\n",
    "          cor.coef = TRUE,\n",
    "          cor.coeff.args = list(method = \"pearson\", \n",
    "                                #label.x = 0, \n",
    "                                label.sep = \"\\n\")\n",
    "          )\n",
    "\n",
    "cor.coeff.args = list(method = \"pearson\", label.x = 3, label.sep = \"\\n\")"
   ]
  },
  {
   "cell_type": "code",
   "execution_count": 83,
   "metadata": {},
   "outputs": [
    {
     "name": "stderr",
     "output_type": "stream",
     "text": [
      "`geom_smooth()` using formula 'y ~ x'\n",
      "\n",
      "`geom_smooth()` using formula 'y ~ x'\n",
      "\n"
     ]
    },
    {
     "data": {
      "text/html": [
       "<strong>pdf:</strong> 2"
      ],
      "text/latex": [
       "\\textbf{pdf:} 2"
      ],
      "text/markdown": [
       "**pdf:** 2"
      ],
      "text/plain": [
       "pdf \n",
       "  2 "
      ]
     },
     "metadata": {},
     "output_type": "display_data"
    }
   ],
   "source": [
    "pdf(\"MedianCorrelation_fastMNN_Orig.pdf\", width = 10, height = 5 )\n",
    "ggarrange(a, b)\n",
    "dev.off()"
   ]
  },
  {
   "cell_type": "code",
   "execution_count": null,
   "metadata": {
    "collapsed": true
   },
   "outputs": [],
   "source": []
  }
 ],
 "metadata": {
  "kernelspec": {
   "display_name": "R",
   "language": "R",
   "name": "ir"
  },
  "language_info": {
   "codemirror_mode": "r",
   "file_extension": ".r",
   "mimetype": "text/x-r-source",
   "name": "R",
   "pygments_lexer": "r",
   "version": "3.6.3"
  }
 },
 "nbformat": 4,
 "nbformat_minor": 2
}
