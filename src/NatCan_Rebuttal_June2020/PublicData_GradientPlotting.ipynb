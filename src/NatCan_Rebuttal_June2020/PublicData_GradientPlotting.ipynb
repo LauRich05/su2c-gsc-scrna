{
 "cells": [
  {
   "cell_type": "markdown",
   "metadata": {},
   "source": [
    "---\n",
    "# Developmental x Injury Response axis in public data\n",
    "---"
   ]
  },
  {
   "cell_type": "code",
   "execution_count": 1,
   "metadata": {
    "collapsed": true
   },
   "outputs": [],
   "source": [
    "library(ggplot2)\n",
    "library(ggpubr)\n",
    "library(gridExtra)\n",
    "library(grid)\n",
    "library(RColorBrewer)\n",
    "\n",
    "setwd(\"~/Desktop/H4H/pughlab/projects/BTSCs_scRNAseq/Manuscript_G607removed/NatCan_Rebuttal/Public_Gradient/\")"
   ]
  },
  {
   "cell_type": "raw",
   "metadata": {
    "collapsed": true
   },
   "source": [
    "### extract metadata from each dataset\n",
    "library(Seurat)\n",
    "\n",
    "neftel_10x <- readRDS(\"./data/Neftel_2019_scRNA_filtered_10X.rds\")\n",
    "neftel_10x <- neftel_10x@meta.data[ ,c(\"Sample name\", \"Developmental_AUC\", \"Injury_Response_AUC\")]\n",
    "colnames(neftel_10x) <- c(\"Sample\", \"Developmental_AUC\", \"InjuryResponse_AUC\")\n",
    "neftel_10x$Dataset <- \"Neftel_10X_scRNA\"\n",
    "neftel_10x$Developmental_z <- as.numeric(scale(neftel_10x$Developmental_AUC))\n",
    "neftel_10x$InjuryResponse_z <- as.numeric(scale(neftel_10x$InjuryResponse_AUC))\n",
    "\n",
    "neftel_SS2 <- readRDS(\"./data/Neftel_AUCell_Scores_smartSeq2.rds\")\n",
    "neftel_SS2 <- neftel_SS2[ , c(\"Sample\", \"Developmental_GSC_AUC\", \"InjuryResponse_GSC_AUC\")]\n",
    "colnames(neftel_SS2) <- c(\"Sample\", \"Developmental_AUC\", \"InjuryResponse_AUC\")\n",
    "neftel_SS2$Dataset <- \"Neftel_Smartseq2_scRNA\"\n",
    "neftel_SS2$Developmental_z <- as.numeric(scale(neftel_SS2$Developmental_AUC))\n",
    "neftel_SS2$InjuryResponse_z <- as.numeric(scale(neftel_SS2$InjuryResponse_AUC))\n",
    "\n",
    "\n",
    "Darmanis <- readRDS(\"./data/Darmanis_AUCell_Scores.rds\")\n",
    "Darmanis <- Darmanis[ , c(\"SampleName\", \"Developmental_GSC_AUC\", \"InjuryResponse_GSC_AUC\")]\n",
    "colnames(Darmanis) <- c(\"Sample\", \"Developmental_AUC\", \"InjuryResponse_AUC\")\n",
    "Darmanis$Dataset <- \"Darmanis_Smartseq2_scRNA\"\n",
    "Darmanis$Developmental_z <- as.numeric(scale(Darmanis$Developmental_AUC))\n",
    "Darmanis$InjuryResponse_z <- as.numeric(scale(Darmanis$InjuryResponse_AUC))\n",
    "\n",
    "\n",
    "Wang_sc <- readRDS(\"./data/Wang_2019_scRNA_filtered.rds\")\n",
    "Wang_sc  <- Wang_sc@meta.data[ , c(\"SampleID\", \"Developmental_AUC\", \"Injury_Response_AUC\")]\n",
    "colnames(Wang_sc) <- c(\"Sample\", \"Developmental_AUC\", \"InjuryResponse_AUC\")\n",
    "Wang_sc$Dataset <- \"Wang_10X_scRNA\"\n",
    "Wang_sc$Developmental_z <- as.numeric(scale(Wang_sc$Developmental_AUC))\n",
    "Wang_sc$InjuryResponse_z <- as.numeric(scale(Wang_sc$InjuryResponse_AUC))\n",
    "\n",
    "\n",
    "Wang_sn <- readRDS(\"./data/Wang_2019_snRNA_filtered.rds\")\n",
    "Wang_sn  <- Wang_sn@meta.data[ , c(\"SampleID\", \"Developmental_AUC\", \"Injury_Response_AUC\")]\n",
    "colnames(Wang_sn) <- c(\"Sample\", \"Developmental_AUC\", \"InjuryResponse_AUC\")\n",
    "Wang_sn <- Wang_sn[!Wang_sn$Sample %in% \"GSM4119525\", ]\n",
    "Wang_sn$Dataset <- \"Wang_10X_snRNA\"\n",
    "Wang_sn$Developmental_z <- as.numeric(scale(Wang_sn$Developmental_AUC))\n",
    "Wang_sn$InjuryResponse_z <- as.numeric(scale(Wang_sn$InjuryResponse_AUC))\n",
    "\n",
    "Bhaduri <- readRDS(\"./data/bhaduri_2020_tumor_seurat_scored.rds\")\n",
    "Bhaduri  <- Bhaduri@meta.data[ , c(\"Sample_ID\", \"Developmental_AUC\", \"Injury_Response_AUC\")]\n",
    "colnames(Bhaduri) <- c(\"Sample\", \"Developmental_AUC\", \"InjuryResponse_AUC\")\n",
    "Bhaduri$Dataset <- \"Bhaduri_10X_snRNA\"\n",
    "Bhaduri$Developmental_z <- as.numeric(scale(Bhaduri$Developmental_AUC))\n",
    "Bhaduri$InjuryResponse_z <- as.numeric(scale(Bhaduri$InjuryResponse_AUC))\n",
    "\n",
    "\n",
    "## add in our dataset\n",
    "mnn <- readRDS(\"~/pughlab/projects/BTSCs_scRNAseq/Manuscript_G607removed/NatCan_Rebuttal/Nuclei_integration/fastmnn/GSCs_Tumour_LiveNuclei_fastMNN_meta.rds\")\n",
    "mnn$SampleTech <- paste(mnn$SampleType, mnn$Technology, sep = \"_\")\n",
    "\n",
    "GSCs <- scale(mnn[mnn$SampleTech == \"GSC_LiveCell\", ]$Developmental_AUC)\n",
    "Tumours <- scale(mnn[mnn$SampleTech == \"Tumour_LiveCell\", ]$Developmental_AUC)\n",
    "Nuclei <- scale(mnn[mnn$SampleTech == \"Tumour_Nuclei\", ]$Developmental_AUC)\n",
    "mnn$Developmental_cohort_z <- c(GSCs, Tumours, Nuclei)\n",
    "\n",
    "GSCs <- scale(mnn[mnn$SampleTech == \"GSC_LiveCell\", ]$InjuryResponse_AUC)\n",
    "Tumours <- scale(mnn[mnn$SampleTech == \"Tumour_LiveCell\", ]$InjuryResponse_AUC)\n",
    "Nuclei <- scale(mnn[mnn$SampleTech == \"Tumour_Nuclei\", ]$InjuryResponse_AUC)\n",
    "mnn$InjuryResponse_cohort_z <- c(GSCs, Tumours, Nuclei)\n",
    "\n",
    "dat <- mnn[ ,c(\"SampleID\", \n",
    "               \"Developmental_AUC\",\n",
    "               \"InjuryResponse_AUC\",\n",
    "               \"SampleTech\",\n",
    "               \"Developmental_cohort_z\", \n",
    "               \"InjuryResponse_cohort_z\"\n",
    "               )]\n",
    "\n",
    "colnames(dat) <- c(\"Sample\", \n",
    "                   \"Developmental_AUC\", \n",
    "                   \"InjuryResponse_AUC\",\n",
    "                   \"Dataset\",\n",
    "                   \"Developmental_z\",\n",
    "                   \"InjuryResponse_z\"\n",
    "                  )\n",
    "dat$Dataset <- gsub(\"GSC_LiveCell\", \"GSCs_10X_scRNA\", dat$Dataset)\n",
    "dat$Dataset <- gsub(\"Tumour_LiveCell\", \"Tumour_10X_scRNA\", dat$Dataset)\n",
    "dat$Dataset <- gsub(\"Tumour_Nuclei\", \"Tumour_10X_snRNA\", dat$Dataset)\n",
    "\n",
    "\n",
    "###merge everythin together\n",
    "merged <- rbind(dat,\n",
    "                neftel_10x,\n",
    "                neftel_SS2,\n",
    "                Darmanis,\n",
    "                Wang_sc,\n",
    "                Wang_sn,\n",
    "                Bhaduri\n",
    "               )\n",
    "table(merged$Dataset)\n",
    "\n",
    "merged$Color <- merged$Dataset\n",
    "merged$Color <- gsub(\"Darmanis_Smartseq2_scRNA\", \"#D95F02\", merged$Color)\n",
    "merged$Color <- gsub(\"Neftel_Smartseq2_scRNA\", \"#1B9E77\", merged$Color)\n",
    "merged$Color <- gsub(\"Bhaduri_10X_snRNA\", \"#7570B3\", merged$Color)\n",
    "merged$Color <- gsub(\"GSCs_10X_scRNA\", \"#225ea8\", merged$Color)\n",
    "merged$Color <- gsub(\"Neftel_10X_scRNA\", \"#1B9E77\", merged$Color)\n",
    "merged$Color <- gsub(\"Tumour_10X_scRNA\", \"black\", merged$Color)\n",
    "merged$Color <- gsub(\"Tumour_10X_snRNA\", \"darkred\", merged$Color)\n",
    "merged$Color <- gsub(\"Wang_10X_scRNA\", \"#E7298A\", merged$Color)\n",
    "merged$Color <- gsub(\"Wang_10X_snRNA\", \"#E7298A\", merged$Color)\n",
    "\n",
    "saveRDS(merged, file = \"PublicDatasets_Inhouse_AUCell.rds\")"
   ]
  },
  {
   "cell_type": "code",
   "execution_count": null,
   "metadata": {
    "collapsed": true
   },
   "outputs": [],
   "source": [
    "plots <- list()\n",
    "samples <- unique(merged$Dataset)\n",
    "\n",
    "#par(mfrow=c(2,2))\n",
    "pdf(\"Gradient_ByDataset.pdf\", width = 5, height = 5)\n",
    "\n",
    "for (i in 1:length(samples)){\n",
    "    \n",
    "    print(samples[i])\n",
    "    sub <- merged[merged$Dataset == samples[i], ]\n",
    "    main <- paste0(samples[i], \" (\", nrow(sub), \" cells)\") \n",
    "    \n",
    "    plots[[samples[i]]] <- ggscatterhist(sub, \n",
    "                      x = \"Developmental_z\", \n",
    "                      y = \"InjuryResponse_z\",\n",
    "                      palette = unique(sub$Color),\n",
    "                      color = \"Dataset\",\n",
    "                      xlab = \"Developmental Program Score (AUC; z-score)\",\n",
    "                      ylab = \"Injury Response Program Score (AUC; z-score)\",\n",
    "                      size = 0.5,\n",
    "                      alpha = 0.4,\n",
    "                      margin.params = list(fill = unique(sub$Color), color = \"black\", size = 0.2),\n",
    "                      ggtheme = theme_classic(),\n",
    "                      title = main,\n",
    "                      legend = \"none\",\n",
    "                      xlim = c(-5,5),\n",
    "                      ylim = c(-3.1,7)\n",
    "                     )\n",
    "}\n",
    "\n",
    "dev.off()\n",
    "\n",
    "pdf(\"Grid.pdf\", width = 8, height = 12)\n",
    "ggarrange(plots[[1]], plots[[2]], plots[[3]], nrow =3, ncol = 3)\n",
    "dev.off()"
   ]
  },
  {
   "cell_type": "code",
   "execution_count": null,
   "metadata": {
    "collapsed": true
   },
   "outputs": [],
   "source": [
    "max(mer)"
   ]
  },
  {
   "cell_type": "code",
   "execution_count": null,
   "metadata": {
    "collapsed": true
   },
   "outputs": [],
   "source": []
  },
  {
   "cell_type": "code",
   "execution_count": null,
   "metadata": {
    "collapsed": true
   },
   "outputs": [],
   "source": []
  },
  {
   "cell_type": "code",
   "execution_count": null,
   "metadata": {
    "collapsed": true
   },
   "outputs": [],
   "source": []
  },
  {
   "cell_type": "code",
   "execution_count": null,
   "metadata": {
    "collapsed": true
   },
   "outputs": [],
   "source": []
  },
  {
   "cell_type": "code",
   "execution_count": null,
   "metadata": {
    "collapsed": true
   },
   "outputs": [],
   "source": []
  }
 ],
 "metadata": {
  "kernelspec": {
   "display_name": "R",
   "language": "R",
   "name": "ir"
  },
  "language_info": {
   "codemirror_mode": "r",
   "file_extension": ".r",
   "mimetype": "text/x-r-source",
   "name": "R",
   "pygments_lexer": "r",
   "version": "3.6.3"
  }
 },
 "nbformat": 4,
 "nbformat_minor": 2
}
