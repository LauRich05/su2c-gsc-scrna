{
 "cells": [
  {
   "cell_type": "markdown",
   "metadata": {},
   "source": [
    "----\n",
    "# CNV enrichment analysis and Richards\n",
    "----\n",
    "\n",
    "/cluster/projects/pughlab/projects/BTSCs_scRNAseq/Manuscript_G607removed/NatCan_Rebuttal/CNV_public_scRNA/plotting\n"
   ]
  },
  {
   "cell_type": "code",
   "execution_count": null,
   "metadata": {
    "collapsed": true
   },
   "outputs": [],
   "source": [
    "library(ComplexHeatmap)\n",
    "library(data.table)\n",
    "library(pheatmap)\n",
    "library(RColorBrewer)\n",
    "library(grid)\n",
    "library(ggplot2)\n",
    "library(ggExtra)\n",
    "library(ggpubr)\n",
    "library(dplyr)"
   ]
  },
  {
   "cell_type": "markdown",
   "metadata": {},
   "source": [
    "---\n",
    "## 1.0 Plot CNV heatmap\n",
    "---"
   ]
  },
  {
   "cell_type": "markdown",
   "metadata": {},
   "source": [
    "### 1.1 Richards et al.,"
   ]
  },
  {
   "cell_type": "code",
   "execution_count": null,
   "metadata": {
    "collapsed": true
   },
   "outputs": [],
   "source": [
    "library(pheatmap)\n",
    "library(RColorBrewer)\n",
    "\n",
    "setwd(\"~/pughlab/projects/BTSCs_scRNAseq/Manuscript_G607removed/NatCan_Rebuttal/CNV_public_scRNA/Richards/cutoff_0.1/\")\n",
    "\n",
    "cnvs <- readRDS(\"Richards_Ordered_CNV_matrix.rds\")\n",
    "cnv.genes <- readRDS(\"Richards_CNVgenes.rds\")\n",
    "meta <- readRDS(\"../Richards_TumourOnly_meta.rds\")\n",
    "\n",
    "### make row annotations (sample)\n",
    "annotat.row <- data.frame(colnames(cnvs))\n",
    "colnames(annotat.row) <- \"Cell\"\n",
    "rownames(annotat.row) <- annotat.row$Cell\n",
    "annotat.row$Cell <- gsub(\"VIZ.\", \"\", annotat.row$Cell)\n",
    "annotat.row$Cell <- gsub(\"\\\\.\", \"-\", annotat.row$Cell)\n",
    "annotat.row$Sample <- NA\n",
    "annotat.row <- annotat.row[annotat.row$Cell %in% rownames(meta), ] \n",
    "annotat.row$Sample <- paste0(meta$PatientID, \"_T\")\n",
    "annotat.row$Cell <- NULL\n",
    "dim(annotat.row)\n",
    "#head(annotat.row)\n",
    "\n",
    "##subset cnvs\n",
    "cnvs <- cnvs[ ,rownames(annotat.row)]\n",
    "dim(cnvs)\n",
    "\n",
    "mat_colors <- list(Chromosome = c(rep(c(\"lightgrey\", \"darkgrey\"), 11)),\n",
    "                       Sample = brewer.pal(length(unique(annotat.row$Sample)), \"Set3\")\n",
    "                   )\n",
    "\n",
    "names(mat_colors$Chromosome) <- unique(cnv.genes$Chromosome)\n",
    "names(mat_colors$Sample) <- unique(annotat.row$Sample)\n",
    "mat_colors\n",
    "\n",
    "cols <- c(\"#67001f\",\n",
    "          \"#b2182b\",\n",
    "          \"#d6604d\",\n",
    "          \"#f4a582\",\n",
    "          \"#fddbc7\",\n",
    "          #\"#fddbc7\",\n",
    "          \"white\",\n",
    "          \"white\",\n",
    "          \"white\",\n",
    "          \"#92c5de\",\n",
    "          \"#4393c3\",\n",
    "          \"#2166ac\",\n",
    "          \"#053061\",\n",
    "          \"#053061\"\n",
    "          )\n",
    "colfunc <- colorRampPalette(cols)\n",
    "cnv.cols <- colfunc(50)\n",
    "\n",
    "### Plot heatmap\n",
    "\n",
    "print(\"Plotting\")\n",
    "print(Sys.time())\n",
    "\n",
    "pheatmap(t(cnvs),\n",
    "         color = rev(cnv.cols),\n",
    "         cluster_rows = TRUE,\n",
    "         cluster_cols = FALSE,\n",
    "         show_colnames = FALSE,\n",
    "         show_rownames = FALSE,\n",
    "         treeheight_row = 10,\n",
    "         annotation_col = cnv.genes,\n",
    "         annotation_row = annotat.row,\n",
    "         annotation_colors = mat_colors,\n",
    "         fontsize_row = 9,\n",
    "         border_color = \"black\",\n",
    "         annotation_legend = TRUE,\n",
    "         legend = TRUE,\n",
    "         height = 8,\n",
    "         width = 11,\n",
    "         filename = \"Richards_TumourCNVs_Clustered_AllCells.jpeg\"\n",
    "        )"
   ]
  },
  {
   "cell_type": "markdown",
   "metadata": {},
   "source": [
    "---\n",
    "## 2.0 Define Gain and Loss Thresholds\n",
    "---"
   ]
  },
  {
   "cell_type": "markdown",
   "metadata": {},
   "source": [
    "### 2.1 Richards"
   ]
  },
  {
   "cell_type": "code",
   "execution_count": null,
   "metadata": {
    "collapsed": true
   },
   "outputs": [],
   "source": [
    "setwd(\"~/Desktop/H4H/pughlab/projects/BTSCs_scRNAseq/Manuscript_G607removed/NatCan_Rebuttal/CNV_public_scRNA/Richards/cutoff_0.1/\")\n",
    "cnvs <- readRDS(\"Richards_Ordered_CNV_matrix.rds\")\n",
    "cnv.genes <- readRDS(\"Richards_CNVgenes.rds\")\n",
    "\n",
    "### average inferCNV scores across chromosomes\n",
    "chr7 <- colMeans(cnvs[rownames(cnv.genes)[cnv.genes$Chromosome == 7], ])\n",
    "chr10 <- colMeans(cnvs[rownames(cnv.genes)[cnv.genes$Chromosome == 10], ])\n",
    "\n",
    "pdf(\"Richards_Chr_Cutoffs.pdf\", width = 10, height = 4)\n",
    "par(mfrow=c(1,2))\n",
    "### plot inferCNV scores on chromosome 7 to define amplification\n",
    "d <- density(chr7)\n",
    "hist(chr7, prob=TRUE, breaks = 50, col = \"grey\", \n",
    "     main = \"Average Chromosome 7 Signal\\n(Richards et al.)\",\n",
    "     xlab = \"InferCNV Score\"\n",
    "    )\n",
    "lines(d, col=\"red\", lty=2, lwd = 2)\n",
    "v <- optimize(approxfun(d$x,d$y), interval =c(0,0.15))$minimum\n",
    "abline(v=v, col=\"blue\", lwd = 3)\n",
    "v\n",
    "\n",
    "### plot inferCNV scores on chromosome 10 to define loss threshold\n",
    "d <- density(chr10)\n",
    "hist(chr10, prob=TRUE, breaks = 50, col = \"grey\", \n",
    "     main = \"Average Chromosome 10 Signal\\n(Richards et al.)\",\n",
    "     xlab = \"InferCNV Score\"\n",
    "    )\n",
    "lines(d, col=\"red\", lty=2, lwd = 2)\n",
    "v <- optimize(approxfun(d$x,d$y), interval =c(-0.2,0))$minimum\n",
    "abline(v=v, col=\"blue\", lwd = 3)\n",
    "v\n",
    "\n",
    "dev.off()\n"
   ]
  }
 ],
 "metadata": {
  "kernelspec": {
   "display_name": "R",
   "language": "R",
   "name": "ir"
  },
  "language_info": {
   "codemirror_mode": "r",
   "file_extension": ".r",
   "mimetype": "text/x-r-source",
   "name": "R",
   "pygments_lexer": "r",
   "version": "3.6.3"
  }
 },
 "nbformat": 4,
 "nbformat_minor": 2
}
