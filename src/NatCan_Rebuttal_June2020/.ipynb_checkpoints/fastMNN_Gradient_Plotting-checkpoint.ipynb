{
 "cells": [
  {
   "cell_type": "markdown",
   "metadata": {},
   "source": [
    "---\n",
    "# Plot the fastMNN gradient \n",
    "---"
   ]
  },
  {
   "cell_type": "code",
   "execution_count": 41,
   "metadata": {
    "collapsed": true
   },
   "outputs": [],
   "source": [
    "library(ggplot2)\n",
    "setwd(\"~/Desktop/H4H/pughlab/projects/BTSCs_scRNAseq/Manuscript_G607removed/NatCan_Rebuttal/BatchCorrection/fastMNN/\")"
   ]
  },
  {
   "cell_type": "code",
   "execution_count": 37,
   "metadata": {},
   "outputs": [],
   "source": [
    "### load data\n",
    "dat <- readRDS(\"~/Desktop/H4H/pughlab/projects/BTSCs_scRNAseq/Manuscript_G607removed/NatCan_Rebuttal/BatchCorrection/fastMNN/fastMNN_DevIR_AUCell_GSCs.rds\")"
   ]
  },
  {
   "cell_type": "code",
   "execution_count": 38,
   "metadata": {},
   "outputs": [
    {
     "data": {
      "text/html": [
       "<table>\n",
       "<caption>A data.frame: 6 × 3</caption>\n",
       "<thead>\n",
       "\t<tr><th></th><th scope=col>Score</th><th scope=col>SampleID</th><th scope=col>signature</th></tr>\n",
       "\t<tr><th></th><th scope=col>&lt;dbl[,1]&gt;</th><th scope=col>&lt;fct&gt;</th><th scope=col>&lt;chr&gt;</th></tr>\n",
       "</thead>\n",
       "<tbody>\n",
       "\t<tr><th scope=row>BT127_L_AAACCTGCACGGACAA</th><td> 2.7477693</td><td>BT127_L</td><td>Developmental</td></tr>\n",
       "\t<tr><th scope=row>BT127_L_AAACCTGCATCCGGGT</th><td>-0.4377524</td><td>BT127_L</td><td>Developmental</td></tr>\n",
       "\t<tr><th scope=row>BT127_L_AAACCTGGTACAGTTC</th><td> 0.8535018</td><td>BT127_L</td><td>Developmental</td></tr>\n",
       "\t<tr><th scope=row>BT127_L_AAACCTGTCTACGAGT</th><td> 0.0631048</td><td>BT127_L</td><td>Developmental</td></tr>\n",
       "\t<tr><th scope=row>BT127_L_AAACGGGAGTGGTAAT</th><td>-1.3552608</td><td>BT127_L</td><td>Developmental</td></tr>\n",
       "\t<tr><th scope=row>BT127_L_AAACGGGCAGGACGTA</th><td> 2.5307117</td><td>BT127_L</td><td>Developmental</td></tr>\n",
       "</tbody>\n",
       "</table>\n"
      ],
      "text/latex": [
       "A data.frame: 6 × 3\n",
       "\\begin{tabular}{r|lll}\n",
       "  & Score & SampleID & signature\\\\\n",
       "  & <dbl{[},1{]}> & <fct> & <chr>\\\\\n",
       "\\hline\n",
       "\tBT127\\_L\\_AAACCTGCACGGACAA &  2.7477693 & BT127\\_L & Developmental\\\\\n",
       "\tBT127\\_L\\_AAACCTGCATCCGGGT & -0.4377524 & BT127\\_L & Developmental\\\\\n",
       "\tBT127\\_L\\_AAACCTGGTACAGTTC &  0.8535018 & BT127\\_L & Developmental\\\\\n",
       "\tBT127\\_L\\_AAACCTGTCTACGAGT &  0.0631048 & BT127\\_L & Developmental\\\\\n",
       "\tBT127\\_L\\_AAACGGGAGTGGTAAT & -1.3552608 & BT127\\_L & Developmental\\\\\n",
       "\tBT127\\_L\\_AAACGGGCAGGACGTA &  2.5307117 & BT127\\_L & Developmental\\\\\n",
       "\\end{tabular}\n"
      ],
      "text/markdown": [
       "\n",
       "A data.frame: 6 × 3\n",
       "\n",
       "| <!--/--> | Score &lt;dbl[,1]&gt; | SampleID &lt;fct&gt; | signature &lt;chr&gt; |\n",
       "|---|---|---|---|\n",
       "| BT127_L_AAACCTGCACGGACAA |  2.7477693 | BT127_L | Developmental |\n",
       "| BT127_L_AAACCTGCATCCGGGT | -0.4377524 | BT127_L | Developmental |\n",
       "| BT127_L_AAACCTGGTACAGTTC |  0.8535018 | BT127_L | Developmental |\n",
       "| BT127_L_AAACCTGTCTACGAGT |  0.0631048 | BT127_L | Developmental |\n",
       "| BT127_L_AAACGGGAGTGGTAAT | -1.3552608 | BT127_L | Developmental |\n",
       "| BT127_L_AAACGGGCAGGACGTA |  2.5307117 | BT127_L | Developmental |\n",
       "\n"
      ],
      "text/plain": [
       "                         Score      SampleID signature    \n",
       "BT127_L_AAACCTGCACGGACAA  2.7477693 BT127_L  Developmental\n",
       "BT127_L_AAACCTGCATCCGGGT -0.4377524 BT127_L  Developmental\n",
       "BT127_L_AAACCTGGTACAGTTC  0.8535018 BT127_L  Developmental\n",
       "BT127_L_AAACCTGTCTACGAGT  0.0631048 BT127_L  Developmental\n",
       "BT127_L_AAACGGGAGTGGTAAT -1.3552608 BT127_L  Developmental\n",
       "BT127_L_AAACGGGCAGGACGTA  2.5307117 BT127_L  Developmental"
      ]
     },
     "metadata": {},
     "output_type": "display_data"
    }
   ],
   "source": [
    "IR <-  dat[ ,c(\"InjuryResponse_GSC_AUC\", \"SampleID\")]\n",
    "colnames(IR)[1] <- \"Score\"\n",
    "IR$signature <- \"InjuryResponse\"\n",
    "IR$Score <- scale(IR$Score, center = TRUE, scale = TRUE)\n",
    "IR$SampleID <- with(IR, reorder(SampleID, Score, median))\n",
    "\n",
    "\n",
    "\n",
    "Dev <- dat[ ,c(\"Developmental_GSC_AUC\", \"SampleID\")]\n",
    "colnames(Dev)[1] <- \"Score\"\n",
    "Dev$signature <- \"Developmental\"\n",
    "Dev$Score <- scale(Dev$Score, center = TRUE, scale = TRUE)\n",
    "Dev$SampleID <- with(IR, reorder(SampleID, Score, median))\n",
    "\n",
    "\n",
    "\n",
    "\n",
    "dat <- rbind(Dev, IR)\n",
    "head(dat)"
   ]
  },
  {
   "cell_type": "code",
   "execution_count": 42,
   "metadata": {},
   "outputs": [
    {
     "data": {
      "text/html": [
       "<strong>pdf:</strong> 2"
      ],
      "text/latex": [
       "\\textbf{pdf:} 2"
      ],
      "text/markdown": [
       "**pdf:** 2"
      ],
      "text/plain": [
       "pdf \n",
       "  2 "
      ]
     },
     "metadata": {},
     "output_type": "display_data"
    }
   ],
   "source": [
    "pdf(\"fastMNN_Corrected_Gradient.pdf\", width = 10, height = 3)\n",
    "\n",
    "p <- ggplot(dat, aes(x=SampleID, y=Score, fill = signature)) +theme_classic() + \n",
    "      geom_violin()  + ylab(\"Relative AUC Score (z-score)\") + \n",
    "      theme(axis.text.x = element_text(angle = 90, hjust = 1)) + \n",
    "      theme(panel.border = element_rect(linetype = \"solid\", fill = NA)) + \n",
    "scale_fill_manual(values=c(\"red\", \"black\")) + scale_x_discrete()  \n",
    "p\n",
    "\n",
    "dev.off()"
   ]
  },
  {
   "cell_type": "code",
   "execution_count": null,
   "metadata": {
    "collapsed": true
   },
   "outputs": [],
   "source": []
  }
 ],
 "metadata": {
  "kernelspec": {
   "display_name": "R",
   "language": "R",
   "name": "ir"
  },
  "language_info": {
   "codemirror_mode": "r",
   "file_extension": ".r",
   "mimetype": "text/x-r-source",
   "name": "R",
   "pygments_lexer": "r",
   "version": "3.6.3"
  }
 },
 "nbformat": 4,
 "nbformat_minor": 2
}
