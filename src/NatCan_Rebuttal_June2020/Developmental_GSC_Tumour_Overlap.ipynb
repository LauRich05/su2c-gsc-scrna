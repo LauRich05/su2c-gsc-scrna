{
 "cells": [
  {
   "cell_type": "markdown",
   "metadata": {},
   "source": [
    "---\n",
    "# Compare Developmental Scores between GSCs and Tumours\n",
    "---\n",
    "\n",
    "/cluster/projects/pughlab/projects/BTSCs_scRNAseq/Manuscript_G607removed/NatCan_Rebuttal/DevelopmentalComparison_GSC_GBM"
   ]
  },
  {
   "cell_type": "raw",
   "metadata": {},
   "source": [
    "### format data on H4H\n",
    "\n",
    "x <- strsplit(rownames(BTSC_TumourCells@meta.data), \"_\")\n",
    "patient <- sapply( x, \"[\", 2 )\n",
    "patient <- strsplit(patient, \"-\")\n",
    "patient <- sapply(patient, \"[\", 1 )\n",
    "sample <- c()\n",
    "\n",
    "for (i in 1:length(patient)){\n",
    "    \n",
    "    sample[i] <- ifelse(BTSC_TumourCells@meta.data$orig.ident[i] == \"BTSC\",\n",
    "                 paste0(patient[i], \"_L\"),\n",
    "                 paste0(patient[i], \"_T\")\n",
    "                        )\n",
    "}\n",
    "\n",
    "BTSC_TumourCells@meta.data$Sample <- sample\n",
    "BTSC_TumourCells@meta.data$Patient <- patient\n",
    "\n",
    "meta <- BTSC_TumourCells@meta.data\n",
    "saveRDS(meta, file = \"SU2C_Live_GSC_GBM_AUCell_Scores.rds\")"
   ]
  },
  {
   "cell_type": "code",
   "execution_count": 1,
   "metadata": {
    "collapsed": true
   },
   "outputs": [],
   "source": [
    "library(ggplot2)\n",
    "setwd(\"~/Desktop/H4H/pughlab/projects/BTSCs_scRNAseq/Manuscript_G607removed/NatCan_Rebuttal/DevelopmentalComparison_GSC_GBM/\")"
   ]
  },
  {
   "cell_type": "code",
   "execution_count": 2,
   "metadata": {},
   "outputs": [
    {
     "data": {
      "text/html": [
       "<table>\n",
       "<caption>A data.frame: 6 × 122</caption>\n",
       "<thead>\n",
       "\t<tr><th></th><th scope=col>nGene</th><th scope=col>nUMI</th><th scope=col>orig.ident</th><th scope=col>percent.mito</th><th scope=col>S.Score</th><th scope=col>G2M.Score</th><th scope=col>Phase</th><th scope=col>CC.Difference</th><th scope=col>Zhong_NPCs_upreg_AUC</th><th scope=col>Zhong_Excitatory_neurons_upreg_AUC</th><th scope=col>⋯</th><th scope=col>Neftel_MES2_AUC</th><th scope=col>Neftel_MES1_AUC</th><th scope=col>Neftel_AC_AUC</th><th scope=col>Neftel_OPC_AUC</th><th scope=col>Neftel_NPC1_AUC</th><th scope=col>Neftel_NPC2_AUC</th><th scope=col>Neftel_G1.S_AUC</th><th scope=col>Neftel_G2.M_AUC</th><th scope=col>Sample</th><th scope=col>Patient</th></tr>\n",
       "\t<tr><th></th><th scope=col>&lt;dbl&gt;</th><th scope=col>&lt;dbl&gt;</th><th scope=col>&lt;fct&gt;</th><th scope=col>&lt;dbl&gt;</th><th scope=col>&lt;dbl&gt;</th><th scope=col>&lt;dbl&gt;</th><th scope=col>&lt;fct&gt;</th><th scope=col>&lt;dbl&gt;</th><th scope=col>&lt;dbl&gt;</th><th scope=col>&lt;dbl&gt;</th><th scope=col>⋯</th><th scope=col>&lt;dbl&gt;</th><th scope=col>&lt;dbl&gt;</th><th scope=col>&lt;dbl&gt;</th><th scope=col>&lt;dbl&gt;</th><th scope=col>&lt;dbl&gt;</th><th scope=col>&lt;dbl&gt;</th><th scope=col>&lt;dbl&gt;</th><th scope=col>&lt;dbl&gt;</th><th scope=col>&lt;chr&gt;</th><th scope=col>&lt;chr&gt;</th></tr>\n",
       "</thead>\n",
       "<tbody>\n",
       "\t<tr><th scope=row>BTSC_BT127_L_AAACCTGCACGGACAA</th><td> 640</td><td>  875</td><td>BTSC</td><td>0.043428571</td><td> 0.0957859</td><td> 0.07303696</td><td>S  </td><td> 0.022748941</td><td>0.10663091</td><td>0.000000000</td><td>⋯</td><td>0.05034014</td><td>0.05806973</td><td>0.09693621</td><td>0.05047956</td><td>0.03978561</td><td>0.08501340</td><td>0.120975227</td><td>0.07175179</td><td>BT127_L</td><td>BT127</td></tr>\n",
       "\t<tr><th scope=row>BTSC_BT127_L_AAACCTGCATCCGGGT</th><td>1036</td><td> 2408</td><td>BTSC</td><td>0.002076412</td><td> 0.0535880</td><td> 0.30872825</td><td>G2M</td><td>-0.255140251</td><td>0.19311215</td><td>0.095520701</td><td>⋯</td><td>0.07200577</td><td>0.12873168</td><td>0.11406593</td><td>0.02158001</td><td>0.09678417</td><td>0.07025356</td><td>0.109480974</td><td>0.12056452</td><td>BT127_L</td><td>BT127</td></tr>\n",
       "\t<tr><th scope=row>BTSC_BT127_L_AAACCTGGTACAGTTC</th><td>3240</td><td>10058</td><td>BTSC</td><td>0.078047326</td><td> 0.2119064</td><td>-0.22082262</td><td>S  </td><td> 0.432729024</td><td>0.10956094</td><td>0.007489049</td><td>⋯</td><td>0.12234591</td><td>0.16545730</td><td>0.17809088</td><td>0.11423103</td><td>0.15718409</td><td>0.11074005</td><td>0.048511459</td><td>0.03487903</td><td>BT127_L</td><td>BT127</td></tr>\n",
       "\t<tr><th scope=row>BTSC_BT127_L_AAACCTGTCTACGAGT</th><td>3337</td><td>10798</td><td>BTSC</td><td>0.061863308</td><td>-0.1322671</td><td>-0.20464285</td><td>G1 </td><td> 0.072375715</td><td>0.07132768</td><td>0.000000000</td><td>⋯</td><td>0.16720264</td><td>0.19417888</td><td>0.18160670</td><td>0.08821302</td><td>0.21583179</td><td>0.19239332</td><td>0.005675734</td><td>0.06377688</td><td>BT127_L</td><td>BT127</td></tr>\n",
       "\t<tr><th scope=row>BTSC_BT127_L_AAACGGGAGTGGTAAT</th><td>4140</td><td>14601</td><td>BTSC</td><td>0.081501267</td><td> 0.4082643</td><td> 0.40187978</td><td>S  </td><td> 0.006384479</td><td>0.25821914</td><td>0.007630352</td><td>⋯</td><td>0.14623789</td><td>0.18199090</td><td>0.17457506</td><td>0.06713781</td><td>0.09196042</td><td>0.08276644</td><td>0.263047048</td><td>0.10450269</td><td>BT127_L</td><td>BT127</td></tr>\n",
       "\t<tr><th scope=row>BTSC_BT127_L_AAACGGGCAGGACGTA</th><td> 543</td><td>  820</td><td>BTSC</td><td>0.108536585</td><td>-0.1085568</td><td>-0.14419756</td><td>G1 </td><td> 0.035640733</td><td>0.04803011</td><td>0.000000000</td><td>⋯</td><td>0.15947227</td><td>0.14025265</td><td>0.20820006</td><td>0.12483173</td><td>0.06507937</td><td>0.03673469</td><td>0.000000000</td><td>0.05219534</td><td>BT127_L</td><td>BT127</td></tr>\n",
       "</tbody>\n",
       "</table>\n"
      ],
      "text/latex": [
       "A data.frame: 6 × 122\n",
       "\\begin{tabular}{r|lllllllllllllllllllll}\n",
       "  & nGene & nUMI & orig.ident & percent.mito & S.Score & G2M.Score & Phase & CC.Difference & Zhong\\_NPCs\\_upreg\\_AUC & Zhong\\_Excitatory\\_neurons\\_upreg\\_AUC & ⋯ & Neftel\\_MES2\\_AUC & Neftel\\_MES1\\_AUC & Neftel\\_AC\\_AUC & Neftel\\_OPC\\_AUC & Neftel\\_NPC1\\_AUC & Neftel\\_NPC2\\_AUC & Neftel\\_G1.S\\_AUC & Neftel\\_G2.M\\_AUC & Sample & Patient\\\\\n",
       "  & <dbl> & <dbl> & <fct> & <dbl> & <dbl> & <dbl> & <fct> & <dbl> & <dbl> & <dbl> & ⋯ & <dbl> & <dbl> & <dbl> & <dbl> & <dbl> & <dbl> & <dbl> & <dbl> & <chr> & <chr>\\\\\n",
       "\\hline\n",
       "\tBTSC\\_BT127\\_L\\_AAACCTGCACGGACAA &  640 &   875 & BTSC & 0.043428571 &  0.0957859 &  0.07303696 & S   &  0.022748941 & 0.10663091 & 0.000000000 & ⋯ & 0.05034014 & 0.05806973 & 0.09693621 & 0.05047956 & 0.03978561 & 0.08501340 & 0.120975227 & 0.07175179 & BT127\\_L & BT127\\\\\n",
       "\tBTSC\\_BT127\\_L\\_AAACCTGCATCCGGGT & 1036 &  2408 & BTSC & 0.002076412 &  0.0535880 &  0.30872825 & G2M & -0.255140251 & 0.19311215 & 0.095520701 & ⋯ & 0.07200577 & 0.12873168 & 0.11406593 & 0.02158001 & 0.09678417 & 0.07025356 & 0.109480974 & 0.12056452 & BT127\\_L & BT127\\\\\n",
       "\tBTSC\\_BT127\\_L\\_AAACCTGGTACAGTTC & 3240 & 10058 & BTSC & 0.078047326 &  0.2119064 & -0.22082262 & S   &  0.432729024 & 0.10956094 & 0.007489049 & ⋯ & 0.12234591 & 0.16545730 & 0.17809088 & 0.11423103 & 0.15718409 & 0.11074005 & 0.048511459 & 0.03487903 & BT127\\_L & BT127\\\\\n",
       "\tBTSC\\_BT127\\_L\\_AAACCTGTCTACGAGT & 3337 & 10798 & BTSC & 0.061863308 & -0.1322671 & -0.20464285 & G1  &  0.072375715 & 0.07132768 & 0.000000000 & ⋯ & 0.16720264 & 0.19417888 & 0.18160670 & 0.08821302 & 0.21583179 & 0.19239332 & 0.005675734 & 0.06377688 & BT127\\_L & BT127\\\\\n",
       "\tBTSC\\_BT127\\_L\\_AAACGGGAGTGGTAAT & 4140 & 14601 & BTSC & 0.081501267 &  0.4082643 &  0.40187978 & S   &  0.006384479 & 0.25821914 & 0.007630352 & ⋯ & 0.14623789 & 0.18199090 & 0.17457506 & 0.06713781 & 0.09196042 & 0.08276644 & 0.263047048 & 0.10450269 & BT127\\_L & BT127\\\\\n",
       "\tBTSC\\_BT127\\_L\\_AAACGGGCAGGACGTA &  543 &   820 & BTSC & 0.108536585 & -0.1085568 & -0.14419756 & G1  &  0.035640733 & 0.04803011 & 0.000000000 & ⋯ & 0.15947227 & 0.14025265 & 0.20820006 & 0.12483173 & 0.06507937 & 0.03673469 & 0.000000000 & 0.05219534 & BT127\\_L & BT127\\\\\n",
       "\\end{tabular}\n"
      ],
      "text/markdown": [
       "\n",
       "A data.frame: 6 × 122\n",
       "\n",
       "| <!--/--> | nGene &lt;dbl&gt; | nUMI &lt;dbl&gt; | orig.ident &lt;fct&gt; | percent.mito &lt;dbl&gt; | S.Score &lt;dbl&gt; | G2M.Score &lt;dbl&gt; | Phase &lt;fct&gt; | CC.Difference &lt;dbl&gt; | Zhong_NPCs_upreg_AUC &lt;dbl&gt; | Zhong_Excitatory_neurons_upreg_AUC &lt;dbl&gt; | ⋯ ⋯ | Neftel_MES2_AUC &lt;dbl&gt; | Neftel_MES1_AUC &lt;dbl&gt; | Neftel_AC_AUC &lt;dbl&gt; | Neftel_OPC_AUC &lt;dbl&gt; | Neftel_NPC1_AUC &lt;dbl&gt; | Neftel_NPC2_AUC &lt;dbl&gt; | Neftel_G1.S_AUC &lt;dbl&gt; | Neftel_G2.M_AUC &lt;dbl&gt; | Sample &lt;chr&gt; | Patient &lt;chr&gt; |\n",
       "|---|---|---|---|---|---|---|---|---|---|---|---|---|---|---|---|---|---|---|---|---|---|\n",
       "| BTSC_BT127_L_AAACCTGCACGGACAA |  640 |   875 | BTSC | 0.043428571 |  0.0957859 |  0.07303696 | S   |  0.022748941 | 0.10663091 | 0.000000000 | ⋯ | 0.05034014 | 0.05806973 | 0.09693621 | 0.05047956 | 0.03978561 | 0.08501340 | 0.120975227 | 0.07175179 | BT127_L | BT127 |\n",
       "| BTSC_BT127_L_AAACCTGCATCCGGGT | 1036 |  2408 | BTSC | 0.002076412 |  0.0535880 |  0.30872825 | G2M | -0.255140251 | 0.19311215 | 0.095520701 | ⋯ | 0.07200577 | 0.12873168 | 0.11406593 | 0.02158001 | 0.09678417 | 0.07025356 | 0.109480974 | 0.12056452 | BT127_L | BT127 |\n",
       "| BTSC_BT127_L_AAACCTGGTACAGTTC | 3240 | 10058 | BTSC | 0.078047326 |  0.2119064 | -0.22082262 | S   |  0.432729024 | 0.10956094 | 0.007489049 | ⋯ | 0.12234591 | 0.16545730 | 0.17809088 | 0.11423103 | 0.15718409 | 0.11074005 | 0.048511459 | 0.03487903 | BT127_L | BT127 |\n",
       "| BTSC_BT127_L_AAACCTGTCTACGAGT | 3337 | 10798 | BTSC | 0.061863308 | -0.1322671 | -0.20464285 | G1  |  0.072375715 | 0.07132768 | 0.000000000 | ⋯ | 0.16720264 | 0.19417888 | 0.18160670 | 0.08821302 | 0.21583179 | 0.19239332 | 0.005675734 | 0.06377688 | BT127_L | BT127 |\n",
       "| BTSC_BT127_L_AAACGGGAGTGGTAAT | 4140 | 14601 | BTSC | 0.081501267 |  0.4082643 |  0.40187978 | S   |  0.006384479 | 0.25821914 | 0.007630352 | ⋯ | 0.14623789 | 0.18199090 | 0.17457506 | 0.06713781 | 0.09196042 | 0.08276644 | 0.263047048 | 0.10450269 | BT127_L | BT127 |\n",
       "| BTSC_BT127_L_AAACGGGCAGGACGTA |  543 |   820 | BTSC | 0.108536585 | -0.1085568 | -0.14419756 | G1  |  0.035640733 | 0.04803011 | 0.000000000 | ⋯ | 0.15947227 | 0.14025265 | 0.20820006 | 0.12483173 | 0.06507937 | 0.03673469 | 0.000000000 | 0.05219534 | BT127_L | BT127 |\n",
       "\n"
      ],
      "text/plain": [
       "                              nGene nUMI  orig.ident percent.mito S.Score   \n",
       "BTSC_BT127_L_AAACCTGCACGGACAA  640    875 BTSC       0.043428571   0.0957859\n",
       "BTSC_BT127_L_AAACCTGCATCCGGGT 1036   2408 BTSC       0.002076412   0.0535880\n",
       "BTSC_BT127_L_AAACCTGGTACAGTTC 3240  10058 BTSC       0.078047326   0.2119064\n",
       "BTSC_BT127_L_AAACCTGTCTACGAGT 3337  10798 BTSC       0.061863308  -0.1322671\n",
       "BTSC_BT127_L_AAACGGGAGTGGTAAT 4140  14601 BTSC       0.081501267   0.4082643\n",
       "BTSC_BT127_L_AAACGGGCAGGACGTA  543    820 BTSC       0.108536585  -0.1085568\n",
       "                              G2M.Score   Phase CC.Difference\n",
       "BTSC_BT127_L_AAACCTGCACGGACAA  0.07303696 S      0.022748941 \n",
       "BTSC_BT127_L_AAACCTGCATCCGGGT  0.30872825 G2M   -0.255140251 \n",
       "BTSC_BT127_L_AAACCTGGTACAGTTC -0.22082262 S      0.432729024 \n",
       "BTSC_BT127_L_AAACCTGTCTACGAGT -0.20464285 G1     0.072375715 \n",
       "BTSC_BT127_L_AAACGGGAGTGGTAAT  0.40187978 S      0.006384479 \n",
       "BTSC_BT127_L_AAACGGGCAGGACGTA -0.14419756 G1     0.035640733 \n",
       "                              Zhong_NPCs_upreg_AUC\n",
       "BTSC_BT127_L_AAACCTGCACGGACAA 0.10663091          \n",
       "BTSC_BT127_L_AAACCTGCATCCGGGT 0.19311215          \n",
       "BTSC_BT127_L_AAACCTGGTACAGTTC 0.10956094          \n",
       "BTSC_BT127_L_AAACCTGTCTACGAGT 0.07132768          \n",
       "BTSC_BT127_L_AAACGGGAGTGGTAAT 0.25821914          \n",
       "BTSC_BT127_L_AAACGGGCAGGACGTA 0.04803011          \n",
       "                              Zhong_Excitatory_neurons_upreg_AUC ⋯\n",
       "BTSC_BT127_L_AAACCTGCACGGACAA 0.000000000                        ⋯\n",
       "BTSC_BT127_L_AAACCTGCATCCGGGT 0.095520701                        ⋯\n",
       "BTSC_BT127_L_AAACCTGGTACAGTTC 0.007489049                        ⋯\n",
       "BTSC_BT127_L_AAACCTGTCTACGAGT 0.000000000                        ⋯\n",
       "BTSC_BT127_L_AAACGGGAGTGGTAAT 0.007630352                        ⋯\n",
       "BTSC_BT127_L_AAACGGGCAGGACGTA 0.000000000                        ⋯\n",
       "                              Neftel_MES2_AUC Neftel_MES1_AUC Neftel_AC_AUC\n",
       "BTSC_BT127_L_AAACCTGCACGGACAA 0.05034014      0.05806973      0.09693621   \n",
       "BTSC_BT127_L_AAACCTGCATCCGGGT 0.07200577      0.12873168      0.11406593   \n",
       "BTSC_BT127_L_AAACCTGGTACAGTTC 0.12234591      0.16545730      0.17809088   \n",
       "BTSC_BT127_L_AAACCTGTCTACGAGT 0.16720264      0.19417888      0.18160670   \n",
       "BTSC_BT127_L_AAACGGGAGTGGTAAT 0.14623789      0.18199090      0.17457506   \n",
       "BTSC_BT127_L_AAACGGGCAGGACGTA 0.15947227      0.14025265      0.20820006   \n",
       "                              Neftel_OPC_AUC Neftel_NPC1_AUC Neftel_NPC2_AUC\n",
       "BTSC_BT127_L_AAACCTGCACGGACAA 0.05047956     0.03978561      0.08501340     \n",
       "BTSC_BT127_L_AAACCTGCATCCGGGT 0.02158001     0.09678417      0.07025356     \n",
       "BTSC_BT127_L_AAACCTGGTACAGTTC 0.11423103     0.15718409      0.11074005     \n",
       "BTSC_BT127_L_AAACCTGTCTACGAGT 0.08821302     0.21583179      0.19239332     \n",
       "BTSC_BT127_L_AAACGGGAGTGGTAAT 0.06713781     0.09196042      0.08276644     \n",
       "BTSC_BT127_L_AAACGGGCAGGACGTA 0.12483173     0.06507937      0.03673469     \n",
       "                              Neftel_G1.S_AUC Neftel_G2.M_AUC Sample  Patient\n",
       "BTSC_BT127_L_AAACCTGCACGGACAA 0.120975227     0.07175179      BT127_L BT127  \n",
       "BTSC_BT127_L_AAACCTGCATCCGGGT 0.109480974     0.12056452      BT127_L BT127  \n",
       "BTSC_BT127_L_AAACCTGGTACAGTTC 0.048511459     0.03487903      BT127_L BT127  \n",
       "BTSC_BT127_L_AAACCTGTCTACGAGT 0.005675734     0.06377688      BT127_L BT127  \n",
       "BTSC_BT127_L_AAACGGGAGTGGTAAT 0.263047048     0.10450269      BT127_L BT127  \n",
       "BTSC_BT127_L_AAACGGGCAGGACGTA 0.000000000     0.05219534      BT127_L BT127  "
      ]
     },
     "metadata": {},
     "output_type": "display_data"
    }
   ],
   "source": [
    "### load GSC / GBM AUCell scores\n",
    "meta <- readRDS(\"SU2C_Live_GSC_GBM_AUCell_Scores.rds\")\n",
    "head(meta)"
   ]
  },
  {
   "cell_type": "code",
   "execution_count": 7,
   "metadata": {},
   "outputs": [
    {
     "name": "stderr",
     "output_type": "stream",
     "text": [
      "Warning message:\n",
      "“`fun.y` is deprecated. Use `fun` instead.”\n"
     ]
    },
    {
     "data": {
      "text/html": [
       "<strong>pdf:</strong> 2"
      ],
      "text/latex": [
       "\\textbf{pdf:} 2"
      ],
      "text/markdown": [
       "**pdf:** 2"
      ],
      "text/plain": [
       "pdf \n",
       "  2 "
      ]
     },
     "metadata": {},
     "output_type": "display_data"
    }
   ],
   "source": [
    "### plot vertical violin plot\n",
    "\n",
    "pdf(\"DevelopmentalProgramScore_Median.pdf\", height = 8, width = 5)\n",
    "p <- ggplot(meta, aes(x=reorder(Sample, RNA.GSC.c1_AUC), y=RNA.GSC.c1_AUC, fill = orig.ident)) + \n",
    "          geom_violin() + scale_fill_manual(values=c(\"grey\", \"red\")) +\n",
    "          stat_summary(fun.y=median, geom=\"point\", size=2, color=\"black\") +\n",
    "          theme_classic() + theme(legend.position=\"none\")  + coord_flip() +\n",
    "            ylab(\"Developmental Program Score (AUC)\") + xlab(\"\") +\n",
    "            geom_hline(yintercept=0.12, lty = 2)\n",
    "p\n",
    "dev.off()\n"
   ]
  },
  {
   "cell_type": "code",
   "execution_count": null,
   "metadata": {
    "collapsed": true
   },
   "outputs": [],
   "source": []
  },
  {
   "cell_type": "code",
   "execution_count": null,
   "metadata": {
    "collapsed": true
   },
   "outputs": [],
   "source": []
  }
 ],
 "metadata": {
  "kernelspec": {
   "display_name": "R",
   "language": "R",
   "name": "ir"
  },
  "language_info": {
   "codemirror_mode": "r",
   "file_extension": ".r",
   "mimetype": "text/x-r-source",
   "name": "R",
   "pygments_lexer": "r",
   "version": "3.6.3"
  }
 },
 "nbformat": 4,
 "nbformat_minor": 2
}
